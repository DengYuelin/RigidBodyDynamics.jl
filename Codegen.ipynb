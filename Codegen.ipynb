{
 "cells": [
  {
   "cell_type": "code",
   "execution_count": 1,
   "metadata": {
    "collapsed": false
   },
   "outputs": [],
   "source": [
    "using RigidBodyDynamics\n",
    "using StaticArrays\n",
    "using RigidBodyDynamics.TreeDataStructure\n",
    "import RigidBodyDynamics: VectorSegment\n",
    "import RigidBodyDynamics: num_positions, num_velocities\n",
    "using BenchmarkTools"
   ]
  },
  {
   "cell_type": "code",
   "execution_count": 2,
   "metadata": {
    "collapsed": false
   },
   "outputs": [
    {
     "data": {
      "text/plain": [
       "create_floating_atlas (generic function with 1 method)"
      ]
     },
     "execution_count": 2,
     "metadata": {},
     "output_type": "execute_result"
    }
   ],
   "source": [
    "const ScalarType = Float64\n",
    "# const ScalarType = Float32\n",
    "\n",
    "function create_floating_atlas()\n",
    "    atlasUrdfUrl = \"https://raw.githubusercontent.com/RobotLocomotion/drake/6e3ca768cbaabf15d0f2bed0fb5bd703fa022aa5/drake/examples/Atlas/urdf/atlas_minimal_contact.urdf\"\n",
    "    atlasUrdf = RigidBodyDynamics.cached_download(atlasUrdfUrl, \"atlas.urdf\")\n",
    "    atlas = parse_urdf(ScalarType, atlasUrdf)\n",
    "#     for child in children(root_vertex(atlas))\n",
    "#         joint = edge_to_parent_data(child)\n",
    "#         change_joint_type!(atlas, joint, QuaternionFloating{ScalarType}())\n",
    "#     end\n",
    "    atlas\n",
    "end"
   ]
  },
  {
   "cell_type": "code",
   "execution_count": 5,
   "metadata": {
    "collapsed": false
   },
   "outputs": [],
   "source": [
    "const mechanism = create_floating_atlas()\n",
    "remove_fixed_joints!(mechanism);"
   ]
  },
  {
   "cell_type": "code",
   "execution_count": 3,
   "metadata": {
    "collapsed": false
   },
   "outputs": [],
   "source": [
    "include(joinpath(Pkg.dir(\"RigidBodyDynamics\"), \"src\", \"codegen.jl\"))\n",
    "using RBDCodeGen"
   ]
  },
  {
   "cell_type": "code",
   "execution_count": 6,
   "metadata": {
    "collapsed": false
   },
   "outputs": [],
   "source": [
    "const state = RBDCodeGen.MechanismState(Float64, mechanism);"
   ]
  },
  {
   "cell_type": "code",
   "execution_count": 7,
   "metadata": {
    "collapsed": false
   },
   "outputs": [],
   "source": [
    "# @benchmark t1 * t2 setup = (element = state.elements[4]; t1 = element.beforeJointToParent; j = element.joint; q = element.q; t2 = joint_transform(j, q))\n",
    "# @benchmark X1 * X2 setup = (X1 = rand(SMatrix{4, 4}); X2 = rand(SMatrix{4, 4}))\n",
    "# @benchmark (R1 * R2, R1 * p2 + p1) setup = (R1 = rand(SMatrix{3, 3}); R2 = rand(SMatrix{3, 3}); p1 = rand(SVector{3}); p2 = rand(SVector{3}))"
   ]
  },
  {
   "cell_type": "code",
   "execution_count": 8,
   "metadata": {
    "collapsed": false
   },
   "outputs": [],
   "source": [
    "nv = num_velocities(mechanism)\n",
    "nq = num_positions(mechanism)\n",
    "const M = Symmetric(Matrix{Float64}(nv, nv), :L);"
   ]
  },
  {
   "cell_type": "code",
   "execution_count": 9,
   "metadata": {
    "collapsed": false
   },
   "outputs": [
    {
     "data": {
      "text/plain": [
       "BenchmarkTools.Trial: \n",
       "  memory estimate:  0.00 bytes\n",
       "  allocs estimate:  0\n",
       "  --------------\n",
       "  minimum time:     2.668 μs (0.00% GC)\n",
       "  median time:      2.794 μs (0.00% GC)\n",
       "  mean time:        2.843 μs (0.00% GC)\n",
       "  maximum time:     13.284 μs (0.00% GC)\n",
       "  --------------\n",
       "  samples:          10000\n",
       "  evals/sample:     9\n",
       "  time tolerance:   5.00%\n",
       "  memory tolerance: 1.00%"
      ]
     },
     "execution_count": 9,
     "metadata": {},
     "output_type": "execute_result"
    }
   ],
   "source": [
    "@benchmark update_joint_transforms($state) setup = (rand!(state.q); rand!(state.v))"
   ]
  },
  {
   "cell_type": "code",
   "execution_count": 11,
   "metadata": {
    "collapsed": false
   },
   "outputs": [
    {
     "data": {
      "text/plain": [
       "BenchmarkTools.Trial: \n",
       "  memory estimate:  0.00 bytes\n",
       "  allocs estimate:  0\n",
       "  --------------\n",
       "  minimum time:     2.074 μs (0.00% GC)\n",
       "  median time:      2.148 μs (0.00% GC)\n",
       "  mean time:        2.322 μs (0.00% GC)\n",
       "  maximum time:     10.789 μs (0.00% GC)\n",
       "  --------------\n",
       "  samples:          10000\n",
       "  evals/sample:     9\n",
       "  time tolerance:   5.00%\n",
       "  memory tolerance: 1.00%"
      ]
     },
     "execution_count": 11,
     "metadata": {},
     "output_type": "execute_result"
    }
   ],
   "source": [
    "@benchmark update_crb_inertias($state) setup = (rand!(state.q); rand!(state.v))"
   ]
  },
  {
   "cell_type": "code",
   "execution_count": 10,
   "metadata": {
    "collapsed": false
   },
   "outputs": [
    {
     "name": "stdout",
     "output_type": "stream",
     "text": [
      "  1.106989 seconds (660.34 k allocations: 25.622 MB, 1.08% gc time)\n"
     ]
    }
   ],
   "source": [
    "@time mass_matrix!(M, state)"
   ]
  },
  {
   "cell_type": "code",
   "execution_count": 12,
   "metadata": {
    "collapsed": false
   },
   "outputs": [
    {
     "data": {
      "text/plain": [
       "BenchmarkTools.Trial: \n",
       "  memory estimate:  0.00 bytes\n",
       "  allocs estimate:  0\n",
       "  --------------\n",
       "  minimum time:     19.451 μs (0.00% GC)\n",
       "  median time:      20.872 μs (0.00% GC)\n",
       "  mean time:        23.155 μs (0.00% GC)\n",
       "  maximum time:     126.257 μs (0.00% GC)\n",
       "  --------------\n",
       "  samples:          10000\n",
       "  evals/sample:     1\n",
       "  time tolerance:   5.00%\n",
       "  memory tolerance: 1.00%"
      ]
     },
     "execution_count": 12,
     "metadata": {},
     "output_type": "execute_result"
    }
   ],
   "source": [
    "@benchmark mass_matrix!($M, $state) setup = (rand!(state.q); rand!(state.v))"
   ]
  },
  {
   "cell_type": "code",
   "execution_count": 13,
   "metadata": {
    "collapsed": false
   },
   "outputs": [],
   "source": [
    "# test(n) = for i = 1 : n mass_matrix!(M, state) end\n",
    "# using ProfileView\n",
    "# test(1)\n",
    "# Profile.clear()\n",
    "# @profile test(100000)\n",
    "# ProfileView.view()"
   ]
  },
  {
   "cell_type": "code",
   "execution_count": 14,
   "metadata": {
    "collapsed": false
   },
   "outputs": [],
   "source": [
    "using ForwardDiff"
   ]
  },
  {
   "cell_type": "code",
   "execution_count": 15,
   "metadata": {
    "collapsed": false
   },
   "outputs": [
    {
     "data": {
      "text/plain": [
       "10"
      ]
     },
     "execution_count": 15,
     "metadata": {},
     "output_type": "execute_result"
    }
   ],
   "source": [
    "const chunk_size = 10"
   ]
  },
  {
   "cell_type": "code",
   "execution_count": 16,
   "metadata": {
    "collapsed": false
   },
   "outputs": [],
   "source": [
    "nv = num_velocities(mechanism)\n",
    "const state_autodiff = RBDCodeGen.MechanismState(ForwardDiff.Dual{chunk_size, Float64}, mechanism);\n",
    "const M_autodiff = Symmetric(Matrix{ForwardDiff.Dual{chunk_size, Float64}}(nv, nv), :U);"
   ]
  },
  {
   "cell_type": "code",
   "execution_count": 17,
   "metadata": {
    "collapsed": false
   },
   "outputs": [
    {
     "data": {
      "text/plain": [
       "f! (generic function with 1 method)"
      ]
     },
     "execution_count": 17,
     "metadata": {},
     "output_type": "execute_result"
    }
   ],
   "source": [
    "function f!(out, q)\n",
    "    copy!(state_autodiff.q, q)\n",
    "    mass_matrix!(M_autodiff, state_autodiff)\n",
    "    @simd for i in eachindex(out)\n",
    "        out[i] = M_autodiff[i]\n",
    "    end\n",
    "end"
   ]
  },
  {
   "cell_type": "code",
   "execution_count": 18,
   "metadata": {
    "collapsed": false
   },
   "outputs": [
    {
     "name": "stdout",
     "output_type": "stream",
     "text": [
      "216.093065 seconds (201.55 M allocations: 3.117 GB, 0.30% gc time)\n"
     ]
    }
   ],
   "source": [
    "const out = Matrix{Float64}(nv * nv, nq)\n",
    "const y = Vector{Float64}(nv * nv)\n",
    "@time ForwardDiff.jacobian!(out, f!, y, zeros(nv), ForwardDiff.JacobianConfig{chunk_size}(y, zeros(nq)));"
   ]
  },
  {
   "cell_type": "code",
   "execution_count": 15,
   "metadata": {
    "collapsed": false
   },
   "outputs": [
    {
     "data": {
      "text/plain": [
       "BenchmarkTools.Trial: \n",
       "  memory estimate:  0.00 bytes\n",
       "  allocs estimate:  0\n",
       "  --------------\n",
       "  minimum time:     898.840 μs (0.00% GC)\n",
       "  median time:      939.674 μs (0.00% GC)\n",
       "  mean time:        990.237 μs (0.00% GC)\n",
       "  maximum time:     1.688 ms (0.00% GC)\n",
       "  --------------\n",
       "  samples:          4972\n",
       "  evals/sample:     1\n",
       "  time tolerance:   5.00%\n",
       "  memory tolerance: 1.00%"
      ]
     },
     "execution_count": 15,
     "metadata": {},
     "output_type": "execute_result"
    }
   ],
   "source": [
    "@benchmark ForwardDiff.jacobian!($out, $f!, $y, q, config) setup = (q = rand(num_positions(mechanism)); config = ForwardDiff.JacobianConfig{chunk_size}(y, q))"
   ]
  },
  {
   "cell_type": "code",
   "execution_count": 19,
   "metadata": {
    "collapsed": false
   },
   "outputs": [
    {
     "data": {
      "text/plain": [
       "test2 (generic function with 1 method)"
      ]
     },
     "execution_count": 19,
     "metadata": {},
     "output_type": "execute_result"
    }
   ],
   "source": [
    "const q = rand(num_velocities(mechanism));\n",
    "const config = ForwardDiff.JacobianConfig{chunk_size}(y, q)\n",
    "test2(n) = for i = 1 : n ForwardDiff.jacobian!(out, f!, y, q, config) end"
   ]
  },
  {
   "cell_type": "code",
   "execution_count": 2,
   "metadata": {
    "collapsed": false
   },
   "outputs": [],
   "source": [
    "# using ProfileView\n",
    "# test2(1)\n",
    "# Profile.clear()\n",
    "# @profile test2(10000)\n",
    "# ProfileView.view()"
   ]
  },
  {
   "cell_type": "code",
   "execution_count": null,
   "metadata": {
    "collapsed": true
   },
   "outputs": [],
   "source": []
  }
 ],
 "metadata": {
  "kernelspec": {
   "display_name": "Julia 0.5.0 -O3 --check-bounds=no --math-mode=fast",
   "language": "julia",
   "name": "julia-0.5-for-benchmarking"
  },
  "language_info": {
   "file_extension": ".jl",
   "mimetype": "application/julia",
   "name": "julia",
   "version": "0.5.0"
  }
 },
 "nbformat": 4,
 "nbformat_minor": 1
}
