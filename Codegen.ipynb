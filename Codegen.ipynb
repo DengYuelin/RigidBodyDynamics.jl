{
 "cells": [
  {
   "cell_type": "code",
   "execution_count": 1,
   "metadata": {
    "collapsed": false
   },
   "outputs": [],
   "source": [
    "using RigidBodyDynamics\n",
    "using StaticArrays\n",
    "using RigidBodyDynamics.TreeDataStructure\n",
    "import RigidBodyDynamics: VectorSegment\n",
    "import RigidBodyDynamics: num_positions, num_velocities\n",
    "using BenchmarkTools"
   ]
  },
  {
   "cell_type": "code",
   "execution_count": 2,
   "metadata": {
    "collapsed": false
   },
   "outputs": [
    {
     "data": {
      "text/plain": [
       "create_floating_atlas (generic function with 1 method)"
      ]
     },
     "execution_count": 2,
     "metadata": {},
     "output_type": "execute_result"
    }
   ],
   "source": [
    "const ScalarType = Float64\n",
    "# const ScalarType = Float32\n",
    "\n",
    "function create_floating_atlas()\n",
    "    atlasUrdfUrl = \"https://raw.githubusercontent.com/RobotLocomotion/drake/6e3ca768cbaabf15d0f2bed0fb5bd703fa022aa5/drake/examples/Atlas/urdf/atlas_minimal_contact.urdf\"\n",
    "    atlasUrdf = RigidBodyDynamics.cached_download(atlasUrdfUrl, \"atlas.urdf\")\n",
    "    atlas = parse_urdf(ScalarType, atlasUrdf)\n",
    "#     for child in children(root_vertex(atlas))\n",
    "#         joint = edge_to_parent_data(child)\n",
    "#         change_joint_type!(atlas, joint, QuaternionFloating{ScalarType}())\n",
    "#     end\n",
    "    atlas\n",
    "end"
   ]
  },
  {
   "cell_type": "code",
   "execution_count": 3,
   "metadata": {
    "collapsed": false
   },
   "outputs": [],
   "source": [
    "const mechanism = create_floating_atlas()\n",
    "remove_fixed_joints!(mechanism);"
   ]
  },
  {
   "cell_type": "code",
   "execution_count": 4,
   "metadata": {
    "collapsed": false
   },
   "outputs": [
    {
     "data": {
      "text/plain": [
       "RBDCodeGen"
      ]
     },
     "execution_count": 4,
     "metadata": {},
     "output_type": "execute_result"
    }
   ],
   "source": [
    "module RBDCodeGen\n",
    "\n",
    "using RigidBodyDynamics\n",
    "using StaticArrays\n",
    "using RigidBodyDynamics.TreeDataStructure\n",
    "import RigidBodyDynamics: VectorSegment\n",
    "import RigidBodyDynamics: num_positions, num_velocities\n",
    "\n",
    "export\n",
    "    MechanismState,\n",
    "    update_joint_transforms,\n",
    "    update_crb_inertias,\n",
    "    mass_matrix!\n",
    "\n",
    "\n",
    "type StateElement{R<:RigidBody, J<:Joint, X<:Real, C<:Real}\n",
    "    body::R\n",
    "    joint::J\n",
    "    q::VectorSegment{X}\n",
    "    v::VectorSegment{X}\n",
    "    beforeJointToParent::Transform3D{C}\n",
    "    jointTransform::Transform3D{C}\n",
    "    transformToWorld::Transform3D{C}\n",
    "    jointTwist::Twist{C}\n",
    "    twistWrtWorld::Twist{C}\n",
    "    biasAcceleration::SpatialAcceleration{C}\n",
    "    crbInertia::SpatialInertia{C}\n",
    "    \n",
    "    function StateElement(body::R, joint::J, q::VectorSegment{X}, v::VectorSegment{X}, beforeJointToParent::Transform3D{C})\n",
    "        new(body, joint, q, v, beforeJointToParent)\n",
    "    end\n",
    "end\n",
    "\n",
    "function StateElement{R<:RigidBody, J<:Joint, X<:Real}(body::R, joint::J, q::VectorSegment{X}, v::VectorSegment{X}, parent::Int64, beforeJointToParent::Transform3D)\n",
    "    C = promote_type(eltype(R), eltype(J), X)\n",
    "    StateElement{R, J, X, C}(body, joint, q, v, convert(Transform3D{C}, beforeJointToParent))\n",
    "end\n",
    "\n",
    "# parent_index{R, J, X, Λ}(::Type{StateElement{R, J, X, Λ}}) = Λ\n",
    "velocity_range(element::StateElement) = first(parentindexes(element.v))\n",
    "\n",
    "type MechanismState{X <: Real, Es, Parents}\n",
    "    mechanism::Mechanism\n",
    "    q::Vector{X}\n",
    "    v::Vector{X}\n",
    "    elements::Es\n",
    "    parents::Parents\n",
    "end\n",
    "\n",
    "state_elements_type{X, Es, Parents}(::Type{MechanismState{X, Es, Parents}}) = Es\n",
    "num_elements{T<:MechanismState}(::Type{T}) = length(state_elements_type(T).parameters)\n",
    "Base.parent{X, Es, Parents}(::Type{MechanismState{X, Es, Parents}}, i::Int64) = Parents.parameters[i].parameters[1]\n",
    "\n",
    "function MechanismState{X <: Real}(::Type{X}, mechanism::Mechanism)\n",
    "    q = Vector{X}(num_positions(mechanism))\n",
    "    v = zeros(X, num_velocities(mechanism))\n",
    "    elements = StateElement[]\n",
    "    parents = Int64[]\n",
    "    \n",
    "    qStart, vStart = 1, 1\n",
    "    for vertex in filter(v -> !isroot(v), toposort(tree(mechanism)))\n",
    "        body = vertex_data(vertex)\n",
    "        joint = edge_to_parent_data(vertex)\n",
    "        parentIndex = findfirst(e -> e.body == vertex_data(parent(vertex)), elements)\n",
    "        push!(parents, parentIndex)\n",
    "        qEnd, vEnd = qStart + num_positions(joint) - 1, vStart + num_velocities(joint) - 1\n",
    "        beforeJointToParent = mechanism.jointToJointTransforms[joint]\n",
    "        element = StateElement(body, joint, view(q, qStart : qEnd), view(v, vStart : vEnd), parentIndex, beforeJointToParent)\n",
    "        push!(elements, element)\n",
    "        qStart, vStart = qEnd + 1, vEnd + 1\n",
    "        zero_configuration!(joint, element.q)\n",
    "    end\n",
    "    MechanismState(mechanism, q, v, tuple(elements...), tuple((Val{p}() for p in parents)...))\n",
    "end\n",
    "\n",
    "@generated function update_joint_transforms(state::MechanismState)\n",
    "    exprs = [quote\n",
    "        let\n",
    "            element = state.elements[$i]\n",
    "            element.jointTransform = element.beforeJointToParent * joint_transform(element.joint, element.q)\n",
    "        end\n",
    "    end for i = 1 : num_elements(state)]\n",
    "    push!(exprs, :(return nothing))\n",
    "    Expr(:block, exprs...)\n",
    "end\n",
    "\n",
    "@generated function update_crb_inertias(state::MechanismState)\n",
    "    exprs = [quote\n",
    "        let\n",
    "            element = state.elements[$i]\n",
    "            element.crbInertia = spatial_inertia(element.body)\n",
    "        end\n",
    "    end for i = 1 : num_elements(state)]\n",
    "    \n",
    "    for i = num_elements(state) : -1 : 1\n",
    "        j = parent(state, i)\n",
    "        if j != 0\n",
    "            push!(exprs, quote\n",
    "                toParent = state.elements[$i].jointTransform\n",
    "                state.elements[$j].crbInertia += transform(state.elements[$i].crbInertia, toParent)\n",
    "            end)\n",
    "        end\n",
    "    end\n",
    "    push!(exprs, :(return nothing))\n",
    "    Expr(:block, exprs...)\n",
    "end\n",
    "\n",
    "function set_submatrix!(mat::Symmetric, part::AbstractMatrix, rowStart::Int64, colStart::Int64)\n",
    "    for i = 1 : size(part, 1)\n",
    "        row = rowStart + i - 1\n",
    "        for j = 1 : size(part, 2)\n",
    "            col = colStart + j - 1\n",
    "            mat.data[row, col] = part[i, j]\n",
    "        end\n",
    "    end\n",
    "end\n",
    "\n",
    "@generated function _mass_matrix_inner_loop{i}(out::Symmetric, state::MechanismState, F::MomentumMatrix, ::Val{i})\n",
    "    exprs = Expr[]\n",
    "    push!(exprs, Expr(:meta, :noinline))\n",
    "    push!(exprs, :(irange = velocity_range(state.elements[$i])))\n",
    "    j = i    \n",
    "    while parent(state, j) != 0\n",
    "        push!(exprs, :(F = transform(F, state.elements[$j].jointTransform)))\n",
    "        j = parent(state, j)\n",
    "        push!(exprs, quote\n",
    "            let\n",
    "                Sj = motion_subspace(state.elements[$j].joint, state.elements[$j].q)\n",
    "                Hij = F.angular' * Sj.angular + F.linear' * Sj.linear\n",
    "                jrange = velocity_range(state.elements[$j])\n",
    "                set_submatrix!(out, Hij, start(irange), start(jrange))\n",
    "            end\n",
    "        end)\n",
    "    end\n",
    "    push!(exprs, :(return nothing))\n",
    "    Expr(:block, exprs...)\n",
    "end\n",
    "\n",
    "@generated function mass_matrix!(out::Symmetric, state::MechanismState)\n",
    "    exprs = Expr[]\n",
    "    push!(exprs, quote\n",
    "        update_joint_transforms(state)\n",
    "        update_crb_inertias(state)\n",
    "        fill!(out.data, zero(eltype(out)))\n",
    "    end)\n",
    "    \n",
    "    for i = 1 : num_elements(state)\n",
    "        ival = Val{i}()\n",
    "        push!(exprs, quote\n",
    "            let\n",
    "                elementi = state.elements[$i]\n",
    "                Ii = elementi.crbInertia\n",
    "                Si = motion_subspace(elementi.joint, elementi.q)\n",
    "                F = Ii * Si\n",
    "                Hii =  F.angular' * Si.angular + F.linear' * Si.linear\n",
    "                irange = velocity_range(elementi)\n",
    "                set_submatrix!(out, Hii, start(irange), start(irange))\n",
    "                _mass_matrix_inner_loop(out, state, F, $ival)\n",
    "            end\n",
    "        end)\n",
    "    end\n",
    "    push!(exprs, :(return nothing))\n",
    "    Expr(:block, exprs...)\n",
    "end\n",
    "\n",
    "end"
   ]
  },
  {
   "cell_type": "code",
   "execution_count": 5,
   "metadata": {
    "collapsed": true
   },
   "outputs": [],
   "source": [
    "using RBDCodeGen"
   ]
  },
  {
   "cell_type": "code",
   "execution_count": 6,
   "metadata": {
    "collapsed": false
   },
   "outputs": [],
   "source": [
    "const state = RBDCodeGen.MechanismState(Float64, mechanism);"
   ]
  },
  {
   "cell_type": "code",
   "execution_count": 7,
   "metadata": {
    "collapsed": false
   },
   "outputs": [],
   "source": [
    "# @benchmark t1 * t2 setup = (element = state.elements[4]; t1 = element.beforeJointToParent; j = element.joint; q = element.q; t2 = joint_transform(j, q))\n",
    "# @benchmark X1 * X2 setup = (X1 = rand(SMatrix{4, 4}); X2 = rand(SMatrix{4, 4}))\n",
    "# @benchmark (R1 * R2, R1 * p2 + p1) setup = (R1 = rand(SMatrix{3, 3}); R2 = rand(SMatrix{3, 3}); p1 = rand(SVector{3}); p2 = rand(SVector{3}))"
   ]
  },
  {
   "cell_type": "code",
   "execution_count": 8,
   "metadata": {
    "collapsed": false
   },
   "outputs": [],
   "source": [
    "nv = num_velocities(mechanism)\n",
    "const M = Symmetric(Matrix{Float64}(nv, nv), :L);"
   ]
  },
  {
   "cell_type": "code",
   "execution_count": 9,
   "metadata": {
    "collapsed": false
   },
   "outputs": [
    {
     "data": {
      "text/plain": [
       "BenchmarkTools.Trial: \n",
       "  memory estimate:  0.00 bytes\n",
       "  allocs estimate:  0\n",
       "  --------------\n",
       "  minimum time:     2.532 μs (0.00% GC)\n",
       "  median time:      2.768 μs (0.00% GC)\n",
       "  mean time:        2.871 μs (0.00% GC)\n",
       "  maximum time:     21.555 μs (0.00% GC)\n",
       "  --------------\n",
       "  samples:          10000\n",
       "  evals/sample:     9\n",
       "  time tolerance:   5.00%\n",
       "  memory tolerance: 1.00%"
      ]
     },
     "execution_count": 9,
     "metadata": {},
     "output_type": "execute_result"
    }
   ],
   "source": [
    "@benchmark update_joint_transforms($state) setup = (rand!(state.q); rand!(state.v))"
   ]
  },
  {
   "cell_type": "code",
   "execution_count": 10,
   "metadata": {
    "collapsed": false
   },
   "outputs": [
    {
     "data": {
      "text/plain": [
       "BenchmarkTools.Trial: \n",
       "  memory estimate:  0.00 bytes\n",
       "  allocs estimate:  0\n",
       "  --------------\n",
       "  minimum time:     2.086 μs (0.00% GC)\n",
       "  median time:      2.257 μs (0.00% GC)\n",
       "  mean time:        2.446 μs (0.00% GC)\n",
       "  maximum time:     16.677 μs (0.00% GC)\n",
       "  --------------\n",
       "  samples:          10000\n",
       "  evals/sample:     9\n",
       "  time tolerance:   5.00%\n",
       "  memory tolerance: 1.00%"
      ]
     },
     "execution_count": 10,
     "metadata": {},
     "output_type": "execute_result"
    }
   ],
   "source": [
    "@benchmark update_crb_inertias($state) setup = (rand!(state.q); rand!(state.v))"
   ]
  },
  {
   "cell_type": "code",
   "execution_count": 11,
   "metadata": {
    "collapsed": false
   },
   "outputs": [
    {
     "data": {
      "text/plain": [
       "BenchmarkTools.Trial: \n",
       "  memory estimate:  0.00 bytes\n",
       "  allocs estimate:  0\n",
       "  --------------\n",
       "  minimum time:     17.816 μs (0.00% GC)\n",
       "  median time:      19.166 μs (0.00% GC)\n",
       "  mean time:        20.204 μs (0.00% GC)\n",
       "  maximum time:     83.342 μs (0.00% GC)\n",
       "  --------------\n",
       "  samples:          10000\n",
       "  evals/sample:     1\n",
       "  time tolerance:   5.00%\n",
       "  memory tolerance: 1.00%"
      ]
     },
     "execution_count": 11,
     "metadata": {},
     "output_type": "execute_result"
    }
   ],
   "source": [
    "@benchmark mass_matrix!($M, $state) setup = (rand!(state.q); rand!(state.v))"
   ]
  },
  {
   "cell_type": "code",
   "execution_count": 12,
   "metadata": {
    "collapsed": false
   },
   "outputs": [],
   "source": [
    "# test(n) = for i = 1 : n mass_matrix!(M, state) end\n",
    "# using ProfileView\n",
    "# test(1)\n",
    "# Profile.clear()\n",
    "# @profile test(100000)\n",
    "# ProfileView.view()"
   ]
  },
  {
   "cell_type": "code",
   "execution_count": 13,
   "metadata": {
    "collapsed": false
   },
   "outputs": [],
   "source": [
    "using ForwardDiff"
   ]
  },
  {
   "cell_type": "code",
   "execution_count": 14,
   "metadata": {
    "collapsed": false
   },
   "outputs": [
    {
     "data": {
      "text/plain": [
       "3"
      ]
     },
     "execution_count": 14,
     "metadata": {},
     "output_type": "execute_result"
    }
   ],
   "source": [
    "const chunk_size = 3"
   ]
  },
  {
   "cell_type": "code",
   "execution_count": 15,
   "metadata": {
    "collapsed": false
   },
   "outputs": [],
   "source": [
    "nv = num_velocities(mechanism)\n",
    "const state_autodiff = RBDCodeGen.MechanismState(ForwardDiff.Dual{chunk_size, Float64}, mechanism);\n",
    "const M_autodiff = Symmetric(Matrix{ForwardDiff.Dual{chunk_size, Float64}}(nv, nv), :U);"
   ]
  },
  {
   "cell_type": "code",
   "execution_count": 16,
   "metadata": {
    "collapsed": false
   },
   "outputs": [
    {
     "data": {
      "text/plain": [
       "f! (generic function with 1 method)"
      ]
     },
     "execution_count": 16,
     "metadata": {},
     "output_type": "execute_result"
    }
   ],
   "source": [
    "function f!(out, q)\n",
    "    copy!(state_autodiff.q, q)\n",
    "    mass_matrix!(M_autodiff, state_autodiff)\n",
    "    @simd for i in eachindex(out)\n",
    "        out[i] = M_autodiff[i]\n",
    "    end\n",
    "end"
   ]
  },
  {
   "cell_type": "code",
   "execution_count": 17,
   "metadata": {
    "collapsed": false
   },
   "outputs": [],
   "source": [
    "const out = Matrix{Float64}(nv * nv, num_positions(mechanism))\n",
    "const y = Vector{Float64}(nv * nv)\n",
    "ForwardDiff.jacobian!(out, f!, y, rand(num_velocities(mechanism)), ForwardDiff.JacobianConfig{chunk_size}(y, rand(num_velocities(mechanism))));"
   ]
  },
  {
   "cell_type": "code",
   "execution_count": 18,
   "metadata": {
    "collapsed": false
   },
   "outputs": [
    {
     "data": {
      "text/plain": [
       "BenchmarkTools.Trial: \n",
       "  memory estimate:  0.00 bytes\n",
       "  allocs estimate:  0\n",
       "  --------------\n",
       "  minimum time:     910.381 μs (0.00% GC)\n",
       "  median time:      991.748 μs (0.00% GC)\n",
       "  mean time:        1.082 ms (0.00% GC)\n",
       "  maximum time:     3.040 ms (0.00% GC)\n",
       "  --------------\n",
       "  samples:          4525\n",
       "  evals/sample:     1\n",
       "  time tolerance:   5.00%\n",
       "  memory tolerance: 1.00%"
      ]
     },
     "execution_count": 18,
     "metadata": {},
     "output_type": "execute_result"
    }
   ],
   "source": [
    "@benchmark ForwardDiff.jacobian!($out, $f!, $y, q, config) setup = (q = rand(num_positions(mechanism)); config = ForwardDiff.JacobianConfig{chunk_size}(y, q))"
   ]
  },
  {
   "cell_type": "code",
   "execution_count": 19,
   "metadata": {
    "collapsed": false
   },
   "outputs": [
    {
     "data": {
      "text/plain": [
       "test2 (generic function with 1 method)"
      ]
     },
     "execution_count": 19,
     "metadata": {},
     "output_type": "execute_result"
    }
   ],
   "source": [
    "const q = rand(num_velocities(mechanism));\n",
    "const config = ForwardDiff.JacobianConfig{chunk_size}(y, q)\n",
    "test2(n) = for i = 1 : n ForwardDiff.jacobian!(out, f!, y, q, config) end"
   ]
  },
  {
   "cell_type": "code",
   "execution_count": 2,
   "metadata": {
    "collapsed": false
   },
   "outputs": [],
   "source": [
    "# using ProfileView\n",
    "# test2(1)\n",
    "# Profile.clear()\n",
    "# @profile test2(10000)\n",
    "# ProfileView.view()"
   ]
  },
  {
   "cell_type": "code",
   "execution_count": null,
   "metadata": {
    "collapsed": true
   },
   "outputs": [],
   "source": []
  }
 ],
 "metadata": {
  "kernelspec": {
   "display_name": "Julia 0.5.0 -O3 --check-bounds=no --math-mode=fast",
   "language": "julia",
   "name": "julia-0.5-for-benchmarking"
  },
  "language_info": {
   "file_extension": ".jl",
   "mimetype": "application/julia",
   "name": "julia",
   "version": "0.5.0"
  }
 },
 "nbformat": 4,
 "nbformat_minor": 1
}
