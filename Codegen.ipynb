{
 "cells": [
  {
   "cell_type": "code",
   "execution_count": 1,
   "metadata": {
    "collapsed": false
   },
   "outputs": [],
   "source": [
    "using RigidBodyDynamics\n",
    "using StaticArrays\n",
    "using RigidBodyDynamics.TreeDataStructure\n",
    "import RigidBodyDynamics: VectorSegment\n",
    "import RigidBodyDynamics: num_positions, num_velocities\n",
    "using BenchmarkTools"
   ]
  },
  {
   "cell_type": "code",
   "execution_count": 2,
   "metadata": {
    "collapsed": false
   },
   "outputs": [],
   "source": [
    "const ScalarType = Float64\n",
    "# const ScalarType = Float32\n",
    "function create_floating_atlas()\n",
    "    atlasUrdfUrl = \"https://raw.githubusercontent.com/RobotLocomotion/drake/6e3ca768cbaabf15d0f2bed0fb5bd703fa022aa5/drake/examples/Atlas/urdf/atlas_minimal_contact.urdf\"\n",
    "    atlasUrdf = RigidBodyDynamics.cached_download(atlasUrdfUrl, \"atlas.urdf\")\n",
    "    atlas = parse_urdf(ScalarType, atlasUrdf)\n",
    "#     for child in children(root_vertex(atlas))\n",
    "#         joint = edge_to_parent_data(child)\n",
    "#         change_joint_type!(atlas, joint, QuaternionFloating{ScalarType}())\n",
    "#     end\n",
    "    atlas\n",
    "end\n",
    "const mechanism = create_floating_atlas()\n",
    "remove_fixed_joints!(mechanism);"
   ]
  },
  {
   "cell_type": "code",
   "execution_count": 3,
   "metadata": {
    "collapsed": false
   },
   "outputs": [
    {
     "name": "stderr",
     "output_type": "stream",
     "text": [
      "WARNING: redefining constant mechanism\n"
     ]
    }
   ],
   "source": [
    "const mechanism = rand_tree_mechanism(Float64, [QuaternionFloating{Float64}; [Revolute{Float64} for i = 1 : 10]; [Prismatic{Float64} for i = 1 : 10]]...);"
   ]
  },
  {
   "cell_type": "code",
   "execution_count": 3,
   "metadata": {
    "collapsed": false
   },
   "outputs": [
    {
     "data": {
      "text/plain": [
       "joint_type_pairs (generic function with 1 method)"
      ]
     },
     "execution_count": 3,
     "metadata": {},
     "output_type": "execute_result"
    }
   ],
   "source": [
    "joint_types(mechanism::Mechanism) = unique(typeof(j) for j in joints(mechanism))\n",
    "    \n",
    "function joint_type_pairs(mechanism::Mechanism)\n",
    "    typepairs = []\n",
    "    for vertex in non_root_vertices(mechanism)\n",
    "        for child in children(vertex)\n",
    "            push!(typepairs, (typeof(edge_to_parent_data(vertex)), typeof(edge_to_parent_data(child))))\n",
    "        end\n",
    "    end\n",
    "    typepairs = unique(typepairs)\n",
    "    typepairs\n",
    "end"
   ]
  },
  {
   "cell_type": "code",
   "execution_count": 4,
   "metadata": {
    "collapsed": false
   },
   "outputs": [],
   "source": [
    "include(joinpath(Pkg.dir(\"RigidBodyDynamics\"), \"src\", \"codegen.jl\"))\n",
    "using RBDCodeGen"
   ]
  },
  {
   "cell_type": "code",
   "execution_count": 5,
   "metadata": {
    "collapsed": false
   },
   "outputs": [],
   "source": [
    "const state = RBDCodeGen.MechanismState(Float64, mechanism);"
   ]
  },
  {
   "cell_type": "code",
   "execution_count": 6,
   "metadata": {
    "collapsed": false
   },
   "outputs": [],
   "source": [
    "# @benchmark t1 * t2 setup = (element = state.elements[4]; t1 = element.beforeJointToParent; j = element.joint; q = element.q; t2 = joint_transform(j, q))\n",
    "# @benchmark X1 * X2 setup = (X1 = rand(SMatrix{4, 4}); X2 = rand(SMatrix{4, 4}))\n",
    "# @benchmark (R1 * R2, R1 * p2 + p1) setup = (R1 = rand(SMatrix{3, 3}); R2 = rand(SMatrix{3, 3}); p1 = rand(SVector{3}); p2 = rand(SVector{3}))"
   ]
  },
  {
   "cell_type": "code",
   "execution_count": 7,
   "metadata": {
    "collapsed": false
   },
   "outputs": [],
   "source": [
    "nv = num_velocities(mechanism)\n",
    "const M = Symmetric(Matrix{Float64}(nv, nv), :L);"
   ]
  },
  {
   "cell_type": "code",
   "execution_count": 10,
   "metadata": {
    "collapsed": false
   },
   "outputs": [
    {
     "data": {
      "text/plain": [
       "BenchmarkTools.Trial: \n",
       "  memory estimate:  0.00 bytes\n",
       "  allocs estimate:  0\n",
       "  --------------\n",
       "  minimum time:     2.417 μs (0.00% GC)\n",
       "  median time:      2.995 μs (0.00% GC)\n",
       "  mean time:        3.034 μs (0.00% GC)\n",
       "  maximum time:     6.424 μs (0.00% GC)\n",
       "  --------------\n",
       "  samples:          10000\n",
       "  evals/sample:     9\n",
       "  time tolerance:   5.00%\n",
       "  memory tolerance: 1.00%"
      ]
     },
     "execution_count": 10,
     "metadata": {},
     "output_type": "execute_result"
    }
   ],
   "source": [
    "@benchmark update_joint_transforms($state) setup = (rand!(state.q); rand!(state.v))"
   ]
  },
  {
   "cell_type": "code",
   "execution_count": 11,
   "metadata": {
    "collapsed": false
   },
   "outputs": [
    {
     "data": {
      "text/plain": [
       "BenchmarkTools.Trial: \n",
       "  memory estimate:  0.00 bytes\n",
       "  allocs estimate:  0\n",
       "  --------------\n",
       "  minimum time:     2.013 μs (0.00% GC)\n",
       "  median time:      2.152 μs (0.00% GC)\n",
       "  mean time:        2.158 μs (0.00% GC)\n",
       "  maximum time:     4.344 μs (0.00% GC)\n",
       "  --------------\n",
       "  samples:          10000\n",
       "  evals/sample:     10\n",
       "  time tolerance:   5.00%\n",
       "  memory tolerance: 1.00%"
      ]
     },
     "execution_count": 11,
     "metadata": {},
     "output_type": "execute_result"
    }
   ],
   "source": [
    "@benchmark update_crb_inertias($state) setup = (rand!(state.q); rand!(state.v))"
   ]
  },
  {
   "cell_type": "code",
   "execution_count": 11,
   "metadata": {
    "collapsed": false
   },
   "outputs": [
    {
     "data": {
      "text/plain": [
       "BenchmarkTools.Trial: \n",
       "  memory estimate:  0.00 bytes\n",
       "  allocs estimate:  0\n",
       "  --------------\n",
       "  minimum time:     17.816 μs (0.00% GC)\n",
       "  median time:      19.166 μs (0.00% GC)\n",
       "  mean time:        20.204 μs (0.00% GC)\n",
       "  maximum time:     83.342 μs (0.00% GC)\n",
       "  --------------\n",
       "  samples:          10000\n",
       "  evals/sample:     1\n",
       "  time tolerance:   5.00%\n",
       "  memory tolerance: 1.00%"
      ]
     },
     "execution_count": 11,
     "metadata": {},
     "output_type": "execute_result"
    }
   ],
   "source": [
    "@benchmark mass_matrix!($M, $state) setup = (rand!(state.q); rand!(state.v))"
   ]
  },
  {
   "cell_type": "code",
   "execution_count": 12,
   "metadata": {
    "collapsed": false
   },
   "outputs": [],
   "source": [
    "# test(n) = for i = 1 : n mass_matrix!(M, state) end\n",
    "# using ProfileView\n",
    "# test(1)\n",
    "# Profile.clear()\n",
    "# @profile test(100000)\n",
    "# ProfileView.view()"
   ]
  },
  {
   "cell_type": "code",
   "execution_count": 13,
   "metadata": {
    "collapsed": false
   },
   "outputs": [],
   "source": [
    "using ForwardDiff"
   ]
  },
  {
   "cell_type": "code",
   "execution_count": 14,
   "metadata": {
    "collapsed": false
   },
   "outputs": [
    {
     "data": {
      "text/plain": [
       "3"
      ]
     },
     "execution_count": 14,
     "metadata": {},
     "output_type": "execute_result"
    }
   ],
   "source": [
    "const chunk_size = 3"
   ]
  },
  {
   "cell_type": "code",
   "execution_count": 15,
   "metadata": {
    "collapsed": false
   },
   "outputs": [],
   "source": [
    "nv = num_velocities(mechanism)\n",
    "const state_autodiff = RBDCodeGen.MechanismState(ForwardDiff.Dual{chunk_size, Float64}, mechanism);\n",
    "const M_autodiff = Symmetric(Matrix{ForwardDiff.Dual{chunk_size, Float64}}(nv, nv), :U);"
   ]
  },
  {
   "cell_type": "code",
   "execution_count": 16,
   "metadata": {
    "collapsed": false
   },
   "outputs": [
    {
     "data": {
      "text/plain": [
       "f! (generic function with 1 method)"
      ]
     },
     "execution_count": 16,
     "metadata": {},
     "output_type": "execute_result"
    }
   ],
   "source": [
    "function f!(out, q)\n",
    "    copy!(state_autodiff.q, q)\n",
    "    mass_matrix!(M_autodiff, state_autodiff)\n",
    "    @simd for i in eachindex(out)\n",
    "        out[i] = M_autodiff[i]\n",
    "    end\n",
    "end"
   ]
  },
  {
   "cell_type": "code",
   "execution_count": 17,
   "metadata": {
    "collapsed": false
   },
   "outputs": [],
   "source": [
    "const out = Matrix{Float64}(nv * nv, num_positions(mechanism))\n",
    "const y = Vector{Float64}(nv * nv)\n",
    "ForwardDiff.jacobian!(out, f!, y, rand(num_velocities(mechanism)), ForwardDiff.JacobianConfig{chunk_size}(y, rand(num_velocities(mechanism))));"
   ]
  },
  {
   "cell_type": "code",
   "execution_count": 18,
   "metadata": {
    "collapsed": false
   },
   "outputs": [
    {
     "data": {
      "text/plain": [
       "BenchmarkTools.Trial: \n",
       "  memory estimate:  0.00 bytes\n",
       "  allocs estimate:  0\n",
       "  --------------\n",
       "  minimum time:     910.381 μs (0.00% GC)\n",
       "  median time:      991.748 μs (0.00% GC)\n",
       "  mean time:        1.082 ms (0.00% GC)\n",
       "  maximum time:     3.040 ms (0.00% GC)\n",
       "  --------------\n",
       "  samples:          4525\n",
       "  evals/sample:     1\n",
       "  time tolerance:   5.00%\n",
       "  memory tolerance: 1.00%"
      ]
     },
     "execution_count": 18,
     "metadata": {},
     "output_type": "execute_result"
    }
   ],
   "source": [
    "@benchmark ForwardDiff.jacobian!($out, $f!, $y, q, config) setup = (q = rand(num_positions(mechanism)); config = ForwardDiff.JacobianConfig{chunk_size}(y, q))"
   ]
  },
  {
   "cell_type": "code",
   "execution_count": 19,
   "metadata": {
    "collapsed": false
   },
   "outputs": [
    {
     "data": {
      "text/plain": [
       "test2 (generic function with 1 method)"
      ]
     },
     "execution_count": 19,
     "metadata": {},
     "output_type": "execute_result"
    }
   ],
   "source": [
    "const q = rand(num_velocities(mechanism));\n",
    "const config = ForwardDiff.JacobianConfig{chunk_size}(y, q)\n",
    "test2(n) = for i = 1 : n ForwardDiff.jacobian!(out, f!, y, q, config) end"
   ]
  },
  {
   "cell_type": "code",
   "execution_count": 2,
   "metadata": {
    "collapsed": false
   },
   "outputs": [],
   "source": [
    "# using ProfileView\n",
    "# test2(1)\n",
    "# Profile.clear()\n",
    "# @profile test2(10000)\n",
    "# ProfileView.view()"
   ]
  },
  {
   "cell_type": "code",
   "execution_count": null,
   "metadata": {
    "collapsed": true
   },
   "outputs": [],
   "source": []
  }
 ],
 "metadata": {
  "kernelspec": {
   "display_name": "Julia 0.5.0 -O3 --check-bounds=no",
   "language": "julia",
   "name": "julia-0.5-for-profiling"
  },
  "language_info": {
   "file_extension": ".jl",
   "mimetype": "application/julia",
   "name": "julia",
   "version": "0.5.0"
  }
 },
 "nbformat": 4,
 "nbformat_minor": 1
}
