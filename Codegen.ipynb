{
 "cells": [
  {
   "cell_type": "code",
   "execution_count": 1,
   "metadata": {
    "collapsed": false
   },
   "outputs": [],
   "source": [
    "using RigidBodyDynamics\n",
    "using StaticArrays\n",
    "using RigidBodyDynamics.TreeDataStructure\n",
    "import RigidBodyDynamics: VectorSegment\n",
    "import RigidBodyDynamics: num_positions, num_velocities\n",
    "using BenchmarkTools"
   ]
  },
  {
   "cell_type": "code",
   "execution_count": 2,
   "metadata": {
    "collapsed": false
   },
   "outputs": [],
   "source": [
    "const ScalarType = Float64\n",
    "# const ScalarType = Float32\n",
    "\n",
    "function create_floating_atlas()\n",
    "    atlasUrdfUrl = \"https://raw.githubusercontent.com/RobotLocomotion/drake/6e3ca768cbaabf15d0f2bed0fb5bd703fa022aa5/drake/examples/Atlas/urdf/atlas_minimal_contact.urdf\"\n",
    "    atlasUrdf = RigidBodyDynamics.cached_download(atlasUrdfUrl, \"atlas.urdf\")\n",
    "    atlas = parse_urdf(ScalarType, atlasUrdf)\n",
    "#     for child in children(root_vertex(atlas))\n",
    "#         joint = edge_to_parent_data(child)\n",
    "#         change_joint_type!(atlas, joint, QuaternionFloating{ScalarType}())\n",
    "#     end\n",
    "    atlas\n",
    "end\n",
    "const mechanism = create_floating_atlas()\n",
    "remove_fixed_joints!(mechanism);"
   ]
  },
  {
   "cell_type": "code",
   "execution_count": 3,
   "metadata": {
    "collapsed": false
   },
   "outputs": [
    {
     "name": "stderr",
     "output_type": "stream",
     "text": [
      "WARNING: redefining constant mechanism\n"
     ]
    }
   ],
   "source": [
    "const mechanism = rand_tree_mechanism(Float64, [QuaternionFloating{Float64}; [Revolute{Float64} for i = 1 : 15]; [Prismatic{Float64} for i = 1 : 15]]...);"
   ]
  },
  {
   "cell_type": "code",
   "execution_count": 4,
   "metadata": {
    "collapsed": false
   },
   "outputs": [],
   "source": [
    "include(joinpath(Pkg.dir(\"RigidBodyDynamics\"), \"src\", \"codegen.jl\"))\n",
    "using RBDCodeGen"
   ]
  },
  {
   "cell_type": "code",
   "execution_count": 5,
   "metadata": {
    "collapsed": false
   },
   "outputs": [],
   "source": [
    "const state = RBDCodeGen.MechanismState(Float64, mechanism);"
   ]
  },
  {
   "cell_type": "code",
   "execution_count": 6,
   "metadata": {
    "collapsed": false
   },
   "outputs": [],
   "source": [
    "# @benchmark t1 * t2 setup = (element = state.elements[4]; t1 = element.beforeJointToParent; j = element.joint; q = element.q; t2 = joint_transform(j, q))\n",
    "# @benchmark X1 * X2 setup = (X1 = rand(SMatrix{4, 4}); X2 = rand(SMatrix{4, 4}))\n",
    "# @benchmark (R1 * R2, R1 * p2 + p1) setup = (R1 = rand(SMatrix{3, 3}); R2 = rand(SMatrix{3, 3}); p1 = rand(SVector{3}); p2 = rand(SVector{3}))"
   ]
  },
  {
   "cell_type": "code",
   "execution_count": 7,
   "metadata": {
    "collapsed": false
   },
   "outputs": [],
   "source": [
    "nv = num_velocities(mechanism)\n",
    "nq = num_positions(mechanism)\n",
    "const M = Symmetric(Matrix{Float64}(nv, nv), :L);"
   ]
  },
  {
   "cell_type": "code",
   "execution_count": 8,
   "metadata": {
    "collapsed": false
   },
   "outputs": [
    {
     "data": {
      "text/plain": [
       "BenchmarkTools.Trial: \n",
       "  memory estimate:  0.00 bytes\n",
       "  allocs estimate:  0\n",
       "  --------------\n",
       "  minimum time:     2.625 μs (0.00% GC)\n",
       "  median time:      2.757 μs (0.00% GC)\n",
       "  mean time:        3.040 μs (0.00% GC)\n",
       "  maximum time:     9.794 μs (0.00% GC)\n",
       "  --------------\n",
       "  samples:          10000\n",
       "  evals/sample:     9\n",
       "  time tolerance:   5.00%\n",
       "  memory tolerance: 1.00%"
      ]
     },
     "execution_count": 8,
     "metadata": {},
     "output_type": "execute_result"
    }
   ],
   "source": [
    "@benchmark update_joint_transforms($state) setup = (rand!(state.q); rand!(state.v))"
   ]
  },
  {
   "cell_type": "code",
   "execution_count": 9,
   "metadata": {
    "collapsed": false
   },
   "outputs": [
    {
     "data": {
      "text/plain": [
       "BenchmarkTools.Trial: \n",
       "  memory estimate:  0.00 bytes\n",
       "  allocs estimate:  0\n",
       "  --------------\n",
       "  minimum time:     2.120 μs (0.00% GC)\n",
       "  median time:      2.207 μs (0.00% GC)\n",
       "  mean time:        2.414 μs (0.00% GC)\n",
       "  maximum time:     9.117 μs (0.00% GC)\n",
       "  --------------\n",
       "  samples:          10000\n",
       "  evals/sample:     10\n",
       "  time tolerance:   5.00%\n",
       "  memory tolerance: 1.00%"
      ]
     },
     "execution_count": 9,
     "metadata": {},
     "output_type": "execute_result"
    }
   ],
   "source": [
    "@benchmark update_crb_inertias($state) setup = (rand!(state.q); rand!(state.v))"
   ]
  },
  {
   "cell_type": "code",
   "execution_count": 10,
   "metadata": {
    "collapsed": false
   },
   "outputs": [
    {
     "name": "stdout",
     "output_type": "stream",
     "text": [
      "  1.094095 seconds (792.41 k allocations: 32.955 MB, 0.39% gc time)\n"
     ]
    }
   ],
   "source": [
    "@time mass_matrix!(M, state)"
   ]
  },
  {
   "cell_type": "code",
   "execution_count": 11,
   "metadata": {
    "collapsed": false
   },
   "outputs": [
    {
     "data": {
      "text/plain": [
       "BenchmarkTools.Trial: \n",
       "  memory estimate:  0.00 bytes\n",
       "  allocs estimate:  0\n",
       "  --------------\n",
       "  minimum time:     13.373 μs (0.00% GC)\n",
       "  median time:      14.137 μs (0.00% GC)\n",
       "  mean time:        15.089 μs (0.00% GC)\n",
       "  maximum time:     103.603 μs (0.00% GC)\n",
       "  --------------\n",
       "  samples:          10000\n",
       "  evals/sample:     1\n",
       "  time tolerance:   5.00%\n",
       "  memory tolerance: 1.00%"
      ]
     },
     "execution_count": 11,
     "metadata": {},
     "output_type": "execute_result"
    }
   ],
   "source": [
    "@benchmark mass_matrix!($M, $state) setup = (rand!(state.q); rand!(state.v))"
   ]
  },
  {
   "cell_type": "code",
   "execution_count": 12,
   "metadata": {
    "collapsed": false
   },
   "outputs": [],
   "source": [
    "# test(n) = for i = 1 : n mass_matrix!(M, state) end\n",
    "# # test(n) = for i = 1 : n update_joint_transforms(state) end\n",
    "# using ProfileView\n",
    "# test(1)\n",
    "# Profile.clear()\n",
    "# @profile test(100000)\n",
    "# ProfileView.view()"
   ]
  },
  {
   "cell_type": "code",
   "execution_count": 13,
   "metadata": {
    "collapsed": false
   },
   "outputs": [],
   "source": [
    "using ForwardDiff"
   ]
  },
  {
   "cell_type": "code",
   "execution_count": 14,
   "metadata": {
    "collapsed": false
   },
   "outputs": [
    {
     "data": {
      "text/plain": [
       "1"
      ]
     },
     "execution_count": 14,
     "metadata": {},
     "output_type": "execute_result"
    }
   ],
   "source": [
    "const chunk_size = 1"
   ]
  },
  {
   "cell_type": "code",
   "execution_count": 15,
   "metadata": {
    "collapsed": false
   },
   "outputs": [],
   "source": [
    "nv = num_velocities(mechanism)\n",
    "const state_autodiff = RBDCodeGen.MechanismState(ForwardDiff.Dual{chunk_size, Float64}, mechanism);\n",
    "const M_autodiff = Symmetric(Matrix{ForwardDiff.Dual{chunk_size, Float64}}(nv, nv), :U);"
   ]
  },
  {
   "cell_type": "code",
   "execution_count": 16,
   "metadata": {
    "collapsed": false
   },
   "outputs": [
    {
     "data": {
      "text/plain": [
       "f! (generic function with 1 method)"
      ]
     },
     "execution_count": 16,
     "metadata": {},
     "output_type": "execute_result"
    }
   ],
   "source": [
    "function f!(out, q)\n",
    "    copy!(state_autodiff.q, q)\n",
    "    mass_matrix!(M_autodiff, state_autodiff)\n",
    "    @simd for i in eachindex(out)\n",
    "        out[i] = M_autodiff[i]\n",
    "    end\n",
    "end"
   ]
  },
  {
   "cell_type": "code",
   "execution_count": 17,
   "metadata": {
    "collapsed": false
   },
   "outputs": [
    {
     "name": "stdout",
     "output_type": "stream",
     "text": [
      "  9.457854 seconds (10.18 M allocations: 234.928 MB, 0.57% gc time)\n"
     ]
    }
   ],
   "source": [
    "const out = Matrix{Float64}(nv * nv, nq)\n",
    "const y = Vector{Float64}(nv * nv)\n",
    "@time ForwardDiff.jacobian!(out, f!, y, zeros(nv), ForwardDiff.JacobianConfig{chunk_size}(y, zeros(nq)));"
   ]
  },
  {
   "cell_type": "code",
   "execution_count": 18,
   "metadata": {
    "collapsed": false
   },
   "outputs": [
    {
     "data": {
      "text/plain": [
       "BenchmarkTools.Trial: \n",
       "  memory estimate:  0.00 bytes\n",
       "  allocs estimate:  0\n",
       "  --------------\n",
       "  minimum time:     1.728 ms (0.00% GC)\n",
       "  median time:      1.898 ms (0.00% GC)\n",
       "  mean time:        1.980 ms (0.00% GC)\n",
       "  maximum time:     3.154 ms (0.00% GC)\n",
       "  --------------\n",
       "  samples:          2497\n",
       "  evals/sample:     1\n",
       "  time tolerance:   5.00%\n",
       "  memory tolerance: 1.00%"
      ]
     },
     "execution_count": 18,
     "metadata": {},
     "output_type": "execute_result"
    }
   ],
   "source": [
    "@benchmark ForwardDiff.jacobian!($out, $f!, $y, q, config) setup = (q = rand(num_positions(mechanism)); config = ForwardDiff.JacobianConfig{chunk_size}(y, q))"
   ]
  },
  {
   "cell_type": "code",
   "execution_count": 19,
   "metadata": {
    "collapsed": false
   },
   "outputs": [],
   "source": [
    "# const q = rand(num_velocities(mechanism));\n",
    "# const config = ForwardDiff.JacobianConfig{chunk_size}(y, q)\n",
    "# test2(n) = for i = 1 : n ForwardDiff.jacobian!(out, f!, y, q, config) end"
   ]
  },
  {
   "cell_type": "code",
   "execution_count": 20,
   "metadata": {
    "collapsed": false
   },
   "outputs": [],
   "source": [
    "# using ProfileView\n",
    "# test2(1)\n",
    "# Profile.clear()\n",
    "# @profile test2(10000)\n",
    "# ProfileView.view()"
   ]
  },
  {
   "cell_type": "code",
   "execution_count": null,
   "metadata": {
    "collapsed": true
   },
   "outputs": [],
   "source": []
  }
 ],
 "metadata": {
  "kernelspec": {
   "display_name": "Julia 0.5.0 -O3 --check-bounds=no --math-mode=fast",
   "language": "julia",
   "name": "julia-0.5-for-benchmarking"
  },
  "language_info": {
   "file_extension": ".jl",
   "mimetype": "application/julia",
   "name": "julia",
   "version": "0.5.0"
  }
 },
 "nbformat": 4,
 "nbformat_minor": 1
}
