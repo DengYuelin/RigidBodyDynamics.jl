{
 "cells": [
  {
   "cell_type": "markdown",
   "metadata": {},
   "source": [
    "# Jacobian Transpose Inverse Kinematics and Control\n",
    "\n",
    "In this notebook, we'll demonstrate an extremely simple approach for computing basic inverse kinematics (IK) and controlling the position of some point on our robot using the Jacobian transpose. "
   ]
  },
  {
   "cell_type": "code",
   "execution_count": 1,
   "metadata": {},
   "outputs": [],
   "source": [
    "using RigidBodyDynamics\n",
    "using RigidBodyDynamics.PDControl\n",
    "using StaticArrays"
   ]
  },
  {
   "cell_type": "markdown",
   "metadata": {},
   "source": [
    "First we'll load our double pendulum robot from URDF:"
   ]
  },
  {
   "cell_type": "code",
   "execution_count": 2,
   "metadata": {},
   "outputs": [
    {
     "data": {
      "text/plain": [
       "Spanning tree:\n",
       "Vertex: world (root)\n",
       "  Vertex: base_link, Edge: base_link_to_world\n",
       "    Vertex: upper_link, Edge: shoulder\n",
       "      Vertex: lower_link, Edge: elbow\n",
       "No non-tree joints."
      ]
     },
     "execution_count": 2,
     "metadata": {},
     "output_type": "execute_result"
    }
   ],
   "source": [
    "urdf = Pkg.dir(\"RigidBodyDynamics\", \"test\", \"urdf\", \"Acrobot.urdf\")\n",
    "mechanism = parse_urdf(Float64, urdf)\n",
    "state = MechanismState(mechanism)\n",
    "mechanism"
   ]
  },
  {
   "cell_type": "markdown",
   "metadata": {},
   "source": [
    "Now we choose a point on the robot to control. We'll pick the end of the second link, which is located 2m from the origin of the `lower_link` body:"
   ]
  },
  {
   "cell_type": "code",
   "execution_count": 3,
   "metadata": {},
   "outputs": [
    {
     "data": {
      "text/plain": [
       "Point3D in \"after_elbow\": [0.0, 0.0, -2.0]"
      ]
     },
     "execution_count": 3,
     "metadata": {},
     "output_type": "execute_result"
    }
   ],
   "source": [
    "body = findbody(mechanism, \"lower_link\")\n",
    "point = Point3D(default_frame(body), 0., 0, -2)"
   ]
  },
  {
   "cell_type": "markdown",
   "metadata": {},
   "source": [
    "Let's visualize the mechanism and its attached point. For visualization, we'll use [MeshCatMechanisms.jl](https://github.com/JuliaRobotics/MeshCatMechanisms.jl) with [Blink.jl](https://github.com/JunoLab/Blink.jl). \n",
    "\n",
    "(Note: the `#NBSKIP` comments are to skip these cells during `Pkg.test(\"RigidBodyDynamics\")`)"
   ]
  },
  {
   "cell_type": "code",
   "execution_count": 4,
   "metadata": {},
   "outputs": [
    {
     "data": {
      "text/html": [
       "    <script class='js-collapse-script'>\n",
       "        var curMatch =\n",
       "            window.location.href\n",
       "            .match(/(.*?)\\/notebooks\\/.*\\.ipynb/);\n",
       "\n",
       "        curMatch = curMatch ||\n",
       "            window.location.href\n",
       "            .match(/(.*?)\\/apps\\/.*\\.ipynb/);\n",
       "\n",
       "        if ( curMatch ) {\n",
       "            $('head').append('<base href=\"' + curMatch[1] + '/\">');\n",
       "        }\n",
       "    </script>\n"
      ],
      "text/plain": [
       "HTML{String}(\"    <script class='js-collapse-script'>\\n        var curMatch =\\n            window.location.href\\n            .match(/(.*?)\\\\/notebooks\\\\/.*\\\\.ipynb/);\\n\\n        curMatch = curMatch ||\\n            window.location.href\\n            .match(/(.*?)\\\\/apps\\\\/.*\\\\.ipynb/);\\n\\n        if ( curMatch ) {\\n            \\$('head').append('<base href=\\\"' + curMatch[1] + '/\\\">');\\n        }\\n    </script>\\n\")"
      ]
     },
     "metadata": {},
     "output_type": "display_data"
    },
    {
     "data": {
      "text/html": [
       "<script class='js-collapse-script' src='pkg/WebIO/webio/dist/bundle.js'></script>"
      ],
      "text/plain": [
       "HTML{String}(\"<script class='js-collapse-script' src='pkg/WebIO/webio/dist/bundle.js'></script>\")"
      ]
     },
     "metadata": {},
     "output_type": "display_data"
    },
    {
     "data": {
      "text/html": [
       "<script class='js-collapse-script' src='pkg/WebIO/providers/ijulia_setup.js'></script>"
      ],
      "text/plain": [
       "HTML{String}(\"<script class='js-collapse-script' src='pkg/WebIO/providers/ijulia_setup.js'></script>\")"
      ]
     },
     "metadata": {},
     "output_type": "display_data"
    },
    {
     "data": {
      "text/html": [
       "  <script class='js-collapse-script'>\n",
       "    $('.js-collapse-script').parent('.output_subarea').css('padding', '0');\n",
       "  </script>\n"
      ],
      "text/plain": [
       "HTML{String}(\"  <script class='js-collapse-script'>\\n    \\$('.js-collapse-script').parent('.output_subarea').css('padding', '0');\\n  </script>\\n\")"
      ]
     },
     "metadata": {},
     "output_type": "display_data"
    },
    {
     "name": "stderr",
     "output_type": "stream",
     "text": [
      "\u001b[1m\u001b[36mINFO: \u001b[39m\u001b[22m\u001b[36mLoading HttpServer methods...\n",
      "\u001b[39m"
     ]
    }
   ],
   "source": [
    "#NBSKIP\n",
    "using MeshCatMechanisms\n",
    "using Blink"
   ]
  },
  {
   "cell_type": "code",
   "execution_count": 5,
   "metadata": {},
   "outputs": [
    {
     "data": {
      "text/plain": [
       "Blink.AtomShell.Window(1, Blink.AtomShell.Electron(Process(`/home/rdeits/.julia/v0.6/Blink/deps/atom/electron /home/rdeits/.julia/v0.6/Blink/src/AtomShell/main.js port 2857`, ProcessRunning), TCPSocket(RawFD(54) active, 0 bytes waiting), Dict{String,Any}(Pair{String,Any}(\"callback\", Blink.#3))), Blink.Page(1, WebSockets.WebSocket{TCPSocket}(TCPSocket(RawFD(58) active, 0 bytes waiting), true, CONNECTED::WebSockets.ReadyState = 1), Dict{String,Any}(Pair{String,Any}(\"webio\", WebIO.#109),Pair{String,Any}(\"callback\", Blink.#3)), Future(1, 1, 1, Nullable{Any}(true))))"
      ]
     },
     "execution_count": 5,
     "metadata": {},
     "output_type": "execute_result"
    }
   ],
   "source": [
    "#NBSKIP\n",
    "# Create the visualizer\n",
    "vis = MechanismVisualizer(mechanism, URDFVisuals(urdf))\n",
    "# Render our target point attached to the robot as a sphere with radius 0.07\n",
    "setelement!(vis, point, 0.07)\n",
    "# Open the visualizer in a new Blink window\n",
    "open(vis, Window())"
   ]
  },
  {
   "cell_type": "markdown",
   "metadata": {},
   "source": [
    "## Inverse Kinematics\n",
    "\n",
    "First, let's use the point jacobian to solve a simple inverse kinematics problem. Given a target location `desired` expressed in world frame, we want to find the joint angles `q` such that the `point` attached to the robot is at the desired location. \n",
    "\n",
    "To do that, we'll iteratively update `q` by applying: \n",
    "\n",
    "\\begin{align}\n",
    "\\Delta q = \\alpha \\, J_p^\\top \\, \\Delta p\n",
    "\\end{align}\n",
    "\n",
    "where $\\alpha$ is our step size (equivalent to a learning rate in gradient descent) and $\\Delta p$ is the error in the position of our target point. "
   ]
  },
  {
   "cell_type": "code",
   "execution_count": 6,
   "metadata": {},
   "outputs": [
    {
     "data": {
      "text/plain": [
       "jacobian_transpose_ik! (generic function with 1 method)"
      ]
     },
     "execution_count": 6,
     "metadata": {},
     "output_type": "execute_result"
    }
   ],
   "source": [
    "function jacobian_transpose_ik!(state::MechanismState,\n",
    "                               body::RigidBody,\n",
    "                               point::Point3D,\n",
    "                               desired::Point3D;\n",
    "                               α=0.1,\n",
    "                               iterations=100)\n",
    "    mechanism = state.mechanism\n",
    "    world = root_frame(mechanism)\n",
    "    \n",
    "    # Compute the joint path from world to our target body\n",
    "    p = path(mechanism, root_body(mechanism), body)\n",
    "    # Allocate the point jacobian (we'll update this in-place later)\n",
    "    Jp = point_jacobian(state, p, transform(state, point, world))\n",
    "    \n",
    "    q = copy(configuration(state))\n",
    "    \n",
    "    for i in 1:iterations\n",
    "        # Update the position of the point\n",
    "        point_in_world = transform(state, point, world)\n",
    "        # Update the point's jacobian\n",
    "        point_jacobian!(Jp, state, p, point_in_world)\n",
    "        # Compute an update in joint coordinates using the jacobian transpose\n",
    "        Δq = α * Array(Jp)' * (transform(state, desired, world) - point_in_world).v\n",
    "        # Apply the update\n",
    "        q .= configuration(state) .+ Δq\n",
    "        set_configuration!(state, q)\n",
    "    end\n",
    "    state\n",
    "end"
   ]
  },
  {
   "cell_type": "markdown",
   "metadata": {},
   "source": [
    "To use our IK method, we just have to set our current state and choose a desired location for the tip of the robot's arm: "
   ]
  },
  {
   "cell_type": "code",
   "execution_count": 7,
   "metadata": {},
   "outputs": [
    {
     "data": {
      "text/plain": [
       "true"
      ]
     },
     "execution_count": 7,
     "metadata": {},
     "output_type": "execute_result"
    }
   ],
   "source": [
    "rand!(state)"
   ]
  },
  {
   "cell_type": "code",
   "execution_count": 8,
   "metadata": {},
   "outputs": [],
   "source": [
    "#NBSKIP\n",
    "set_configuration!(vis, configuration(state))"
   ]
  },
  {
   "cell_type": "code",
   "execution_count": 9,
   "metadata": {},
   "outputs": [
    {
     "data": {
      "text/plain": [
       "MechanismState{Float64, Float64, Float64, …}(…)"
      ]
     },
     "execution_count": 9,
     "metadata": {},
     "output_type": "execute_result"
    }
   ],
   "source": [
    "# Choose a desired location. We'll move the tip of the arm to\n",
    "# [1, 0, 2]\n",
    "desired = Point3D(root_frame(mechanism), 1., 0, 2)\n",
    "# Run the IK, updating `state` in place\n",
    "jacobian_transpose_ik!(state, body, point, desired)"
   ]
  },
  {
   "cell_type": "code",
   "execution_count": 10,
   "metadata": {},
   "outputs": [],
   "source": [
    "#NBSKIP\n",
    "set_configuration!(vis, configuration(state))"
   ]
  },
  {
   "cell_type": "code",
   "execution_count": 11,
   "metadata": {},
   "outputs": [
    {
     "data": {
      "text/plain": [
       "Point3D in \"world\": [0.997375, 0.25, 1.99007]"
      ]
     },
     "execution_count": 11,
     "metadata": {},
     "output_type": "execute_result"
    }
   ],
   "source": [
    "# We asked for our point to be close to [1, 0, 2], \n",
    "# but since the arm cannot move in the y direction at all\n",
    "# we end up near [1, 0.25, 2] instead\n",
    "transform(state, point, root_frame(mechanism))"
   ]
  },
  {
   "cell_type": "markdown",
   "metadata": {},
   "source": [
    "We can try varying the target and watching the IK solution change:"
   ]
  },
  {
   "cell_type": "code",
   "execution_count": 12,
   "metadata": {},
   "outputs": [],
   "source": [
    "qs = typeof(configuration(state))[]\n",
    "\n",
    "# Vary the desired x position from -1 to 1\n",
    "for x in linspace(-1, 1, 100)\n",
    "    desired = Point3D(root_frame(mechanism), x, 0, 2)\n",
    "    jacobian_transpose_ik!(state, body, point, desired)\n",
    "    push!(qs, copy(configuration(state)))\n",
    "end"
   ]
  },
  {
   "cell_type": "code",
   "execution_count": 13,
   "metadata": {},
   "outputs": [
    {
     "data": {
      "text/plain": [
       "true"
      ]
     },
     "execution_count": 13,
     "metadata": {},
     "output_type": "execute_result"
    }
   ],
   "source": [
    "#NBSKIP\n",
    "ts = collect(linspace(0, 1, length(qs)))\n",
    "setanimation!(vis, ts, qs)"
   ]
  },
  {
   "cell_type": "markdown",
   "metadata": {},
   "source": [
    "## Control\n",
    "\n",
    "Now let's use the same principle to generate torques and actually control the robot. To make things more interesting, let's get the end of the robot's arm to trace out a circle. "
   ]
  },
  {
   "cell_type": "code",
   "execution_count": 14,
   "metadata": {},
   "outputs": [
    {
     "data": {
      "text/plain": [
       "1.0"
      ]
     },
     "execution_count": 14,
     "metadata": {},
     "output_type": "execute_result"
    }
   ],
   "source": [
    "circle_origin = SVector(0., 0.25, 2)\n",
    "radius = 0.5\n",
    "ω = 1.0  # radians per second at which the point should move in its circle"
   ]
  },
  {
   "cell_type": "code",
   "execution_count": 15,
   "metadata": {},
   "outputs": [],
   "source": [
    "#NBSKIP\n",
    "using MeshCat\n",
    "using GeometryTypes: Point"
   ]
  },
  {
   "cell_type": "code",
   "execution_count": 16,
   "metadata": {},
   "outputs": [
    {
     "data": {
      "text/plain": [
       "MeshCat Visualizer with path /meshcat/circle"
      ]
     },
     "execution_count": 16,
     "metadata": {},
     "output_type": "execute_result"
    }
   ],
   "source": [
    "#NBSKIP\n",
    "\n",
    "# Draw the circle in the viewer\n",
    "θ = repeat(linspace(0, 2π, 100), inner=(2,))[2:end]\n",
    "cx, cy, cz = circle_origin\n",
    "geometry = PointCloud(Point.(cx .+ radius .* sin.(θ), cy, cz .+ 0.5 .* cos.(θ)))\n",
    "setobject!(vis[:circle], LineSegments(geometry, LineBasicMaterial()))"
   ]
  },
  {
   "cell_type": "code",
   "execution_count": 17,
   "metadata": {},
   "outputs": [
    {
     "data": {
      "text/plain": [
       "true"
      ]
     },
     "execution_count": 17,
     "metadata": {},
     "output_type": "execute_result"
    }
   ],
   "source": [
    "rand!(state)"
   ]
  },
  {
   "cell_type": "code",
   "execution_count": 18,
   "metadata": {},
   "outputs": [
    {
     "data": {
      "text/plain": [
       "RigidBodyDynamics.RigidBody{Float64}"
      ]
     },
     "execution_count": 18,
     "metadata": {},
     "output_type": "execute_result"
    }
   ],
   "source": [
    "typeof(body)"
   ]
  },
  {
   "cell_type": "code",
   "execution_count": 19,
   "metadata": {},
   "outputs": [
    {
     "data": {
      "text/plain": [
       "RigidBodyDynamics.Spatial.Point3D{StaticArrays.SArray{Tuple{3},Float64,1,3}}"
      ]
     },
     "execution_count": 19,
     "metadata": {},
     "output_type": "execute_result"
    }
   ],
   "source": [
    "typeof(point)"
   ]
  },
  {
   "cell_type": "code",
   "execution_count": 20,
   "metadata": {},
   "outputs": [
    {
     "data": {
      "text/plain": [
       "RigidBodyDynamics.Graphs.TreePath{RigidBodyDynamics.RigidBody{Float64},RigidBodyDynamics.Joint{Float64,JT} where JT<:RigidBodyDynamics.JointType{Float64}}"
      ]
     },
     "execution_count": 20,
     "metadata": {},
     "output_type": "execute_result"
    }
   ],
   "source": [
    "typeof(path(mechanism, root_body(mechanism), body))"
   ]
  },
  {
   "cell_type": "code",
   "execution_count": 21,
   "metadata": {},
   "outputs": [
    {
     "data": {
      "text/plain": [
       "RigidBodyDynamics.Spatial.PointJacobian{Array{Float64,2}}"
      ]
     },
     "execution_count": 21,
     "metadata": {},
     "output_type": "execute_result"
    }
   ],
   "source": [
    "typeof(point_jacobian(state, path(mechanism, root_body(mechanism), body), point))"
   ]
  },
  {
   "cell_type": "code",
   "execution_count": 22,
   "metadata": {},
   "outputs": [],
   "source": [
    "struct PointCircleController{P <: RigidBodyDynamics.TreePath, V <: AbstractVector}\n",
    "    body::RigidBody{Float64}\n",
    "    point::Point3D{SVector{3, Float64}}\n",
    "    circle_origin::SVector{3, Float64}\n",
    "    radius::Float64\n",
    "    ω::Float64\n",
    "    path::P\n",
    "    Jp::PointJacobian{Matrix{Float64}}\n",
    "    v̇::V\n",
    "end"
   ]
  },
  {
   "cell_type": "code",
   "execution_count": 28,
   "metadata": {},
   "outputs": [
    {
     "data": {
      "text/plain": [
       "PointCircleController{RigidBodyDynamics.Graphs.TreePath{RigidBodyDynamics.RigidBody{Float64},RigidBodyDynamics.Joint{Float64,JT} where JT<:RigidBodyDynamics.JointType{Float64}},RigidBodyDynamics.CustomCollections.SegmentedVector{RigidBodyDynamics.JointID,Float64,Base.OneTo{RigidBodyDynamics.JointID},Array{Float64,1}}}(RigidBody: \"lower_link\", Point3D in \"after_elbow\": [0.0, 0.0, -2.0], [0.0, 0.25, 2.0], 0.5, 1.0, Path from world to lower_link:\n",
       "↓ base_link_to_world\n",
       "↓ shoulder\n",
       "↓ elbow\n",
       ", RigidBodyDynamics.Spatial.PointJacobian{Array{Float64,2}}([-2.41087 -1.41834; 0.0 0.0; -1.5321 -1.41008], CartesianFrame3D: \"world\" (id = 0)), [6.95072e-310, 0.0])"
      ]
     },
     "execution_count": 28,
     "metadata": {},
     "output_type": "execute_result"
    }
   ],
   "source": [
    "p = path(mechanism, root_body(mechanism), body)\n",
    "controller = PointCircleController(\n",
    "    body,\n",
    "    point,\n",
    "    circle_origin,\n",
    "    radius,\n",
    "    ω,\n",
    "    p,\n",
    "    point_jacobian(state, p, transform(state, point, root_frame(mechanism))),\n",
    "    similar(velocity(state))\n",
    ")"
   ]
  },
  {
   "cell_type": "code",
   "execution_count": 42,
   "metadata": {},
   "outputs": [],
   "source": [
    "function (c::PointCircleController)(τ, t, state)\n",
    "    mechanism = state.mechanism\n",
    "    world = root_frame(mechanism)\n",
    "    desired = Point3D(world, \n",
    "                      c.circle_origin .+ c.radius .* SVector(sin(t / c.ω), 0, cos(t / c.ω)))\n",
    "    point_in_world = transform_to_root(state, c.body) * c.point\n",
    "    point_jacobian!(c.Jp, state, c.path, point_in_world)\n",
    "    Kp = 200\n",
    "    Kd = 20\n",
    "    Δp = desired - point_in_world\n",
    "    c.v̇ .= Kp * Array(c.Jp)' * Δp.v .- 20 .* velocity(state)\n",
    "    τ .= inverse_dynamics(state, c.v̇)\n",
    "end"
   ]
  },
  {
   "cell_type": "code",
   "execution_count": 43,
   "metadata": {},
   "outputs": [],
   "source": [
    "ts, qs, vs = simulate(state, 10, controller);"
   ]
  },
  {
   "cell_type": "code",
   "execution_count": 44,
   "metadata": {},
   "outputs": [
    {
     "data": {
      "text/plain": [
       "true"
      ]
     },
     "execution_count": 44,
     "metadata": {},
     "output_type": "execute_result"
    }
   ],
   "source": [
    "setanimation!(vis, ts, qs)"
   ]
  },
  {
   "cell_type": "code",
   "execution_count": 101,
   "metadata": {},
   "outputs": [
    {
     "data": {
      "text/plain": [
       "SpatialAcceleration of \"after_elbow\" w.r.t \"world\" in \"after_elbow\":\n",
       "angular: [0.0, 0.0, 0.0], linear: [8.81691, -2.5, -0.0578644]"
      ]
     },
     "execution_count": 101,
     "metadata": {},
     "output_type": "execute_result"
    }
   ],
   "source": [
    "gains = RigidBodyDynamics.PDControl.PDGains(10, 1)\n",
    "H = transform_to_root(state, effector_body)\n",
    "T = transform(twist_wrt_world(state, effector_body), inv(H))\n",
    "a = PDControl.pd(gains, translation(H) - [1, 0, 1], linear(T))\n",
    "\n",
    "Ṫ_desired = SpatialAcceleration(T.body, T.base, T.frame, zero(a), a)"
   ]
  },
  {
   "cell_type": "code",
   "execution_count": 102,
   "metadata": {},
   "outputs": [
    {
     "data": {
      "text/plain": [
       "point_acceleration (generic function with 1 method)"
      ]
     },
     "execution_count": 102,
     "metadata": {},
     "output_type": "execute_result"
    }
   ],
   "source": [
    "function point_acceleration(state, v̇, body)\n",
    "    p = path(state.mechanism, root_body(state.mechanism), body)\n",
    "    J = geometric_jacobian(state, p)\n",
    "    J̇v = -bias_acceleration(state, source(p)) + bias_acceleration(state, target(p))\n",
    "    SpatialAcceleration(J, v̇) + J̇v\n",
    "end"
   ]
  },
  {
   "cell_type": "code",
   "execution_count": null,
   "metadata": {},
   "outputs": [],
   "source": []
  },
  {
   "cell_type": "code",
   "execution_count": 103,
   "metadata": {},
   "outputs": [
    {
     "data": {
      "text/plain": [
       "SpatialAcceleration of \"after_elbow\" w.r.t \"after_elbow\" in \"after_elbow\":\n",
       "angular: [0.0, -1.0, 0.0], linear: [8.83602, -2.5, -0.0555152]"
      ]
     },
     "execution_count": 103,
     "metadata": {},
     "output_type": "execute_result"
    }
   ],
   "source": [
    "transform(state,\n",
    "          -point_acceleration(state, [0, 1], effector_body),\n",
    "          Ṫ_desired.frame) + Ṫ_desired"
   ]
  },
  {
   "cell_type": "code",
   "execution_count": 104,
   "metadata": {},
   "outputs": [],
   "source": [
    "using JuMP\n",
    "using OSQP"
   ]
  },
  {
   "cell_type": "code",
   "execution_count": 134,
   "metadata": {},
   "outputs": [
    {
     "data": {
      "text/plain": [
       "true"
      ]
     },
     "execution_count": 134,
     "metadata": {},
     "output_type": "execute_result"
    }
   ],
   "source": [
    "set_configuration!(state, randn(2))\n",
    "set_velocity!(state, randn(2))"
   ]
  },
  {
   "cell_type": "code",
   "execution_count": 133,
   "metadata": {},
   "outputs": [
    {
     "data": {
      "text/plain": [
       "controller! (generic function with 4 methods)"
      ]
     },
     "execution_count": 133,
     "metadata": {},
     "output_type": "execute_result"
    }
   ],
   "source": [
    "function controller!(τ::AbstractVector, state::MechanismState, body, target=[-1, 0, -1])\n",
    "    solver = OSQPMathProgBaseInterface.OSQPSolver(eps_abs = 1e-8, eps_rel = 1e-16, max_iter = 10000)\n",
    "    MathProgBase.setparameters!(solver, Silent = true)\n",
    "    model = JuMP.Model(solver=solver)\n",
    "    @variable model v̇[1:2]\n",
    "    obj = dot(v̇, v̇)\n",
    "    \n",
    "    gains = RigidBodyDynamics.PDControl.PDGains(1, 0.5)\n",
    "    H = transform_to_root(state, body)\n",
    "    T = transform(twist_wrt_world(state, body), inv(H))\n",
    "    a = PDControl.pd(gains, translation(H) - target, linear(T))\n",
    "\n",
    "    Ṫ_desired = SpatialAcceleration(T.body, T.base, T.frame, zero(a), a)\n",
    "\n",
    "    error = transform(state,\n",
    "              -point_acceleration(state, v̇, body),\n",
    "              Ṫ_desired.frame) + Ṫ_desired\n",
    "    obj += 10 * dot(error.linear, error.linear)\n",
    "    @objective model Min obj\n",
    "    solve(model)\n",
    "    v̇_out = similar(velocity(state))\n",
    "    v̇_out .= getvalue(v̇)\n",
    "    τ .= inverse_dynamics(state, v̇_out)\n",
    "end\n",
    "    "
   ]
  },
  {
   "cell_type": "code",
   "execution_count": 136,
   "metadata": {},
   "outputs": [
    {
     "data": {
      "text/plain": [
       "true"
      ]
     },
     "execution_count": 136,
     "metadata": {},
     "output_type": "execute_result"
    }
   ],
   "source": [
    "ts, qs, vs = simulate(state, \n",
    "    5, \n",
    "    (τ, t, state) -> controller!(τ, state, effector_body),\n",
    "    Δt=1e-3);\n",
    "\n",
    "setanimation!(vis, ts, qs)"
   ]
  },
  {
   "cell_type": "code",
   "execution_count": null,
   "metadata": {},
   "outputs": [],
   "source": []
  }
 ],
 "metadata": {
  "kernelspec": {
   "display_name": "Julia 0.6.3",
   "language": "julia",
   "name": "julia-0.6"
  },
  "language_info": {
   "file_extension": ".jl",
   "mimetype": "application/julia",
   "name": "julia",
   "version": "0.6.3"
  }
 },
 "nbformat": 4,
 "nbformat_minor": 2
}
