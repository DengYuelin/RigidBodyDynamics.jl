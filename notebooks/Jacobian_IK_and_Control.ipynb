{
 "cells": [
  {
   "cell_type": "markdown",
   "metadata": {},
   "source": [
    "# Jacobian Transpose Inverse Kinematics and Control\n",
    "\n",
    "In this notebook, we'll demonstrate an extremely simple approach for computing basic inverse kinematics (IK) and controlling the position of some point on our robot using the Jacobian transpose. \n",
    "\n",
    "For a brief technical introduction, see <https://groups.csail.mit.edu/drl/journal_club/papers/033005/buss-2004.pdf> or <https://homes.cs.washington.edu/~todorov/courses/cseP590/06_JacobianMethods.pdf>"
   ]
  },
  {
   "cell_type": "code",
   "execution_count": 1,
   "metadata": {},
   "outputs": [
    {
     "data": {
      "text/plain": [
       "MersenneTwister(UInt32[0x0000002a], Base.dSFMT.DSFMT_state(Int32[964434469, 1073036706, 1860149520, 1073503458, 1687169063, 1073083486, -399267803, 1072983952, -909620556, 1072836235  …  -293054293, 1073002412, -1300127419, 1073642642, 1917177374, -666058738, -337596527, 1830741494, 382, 0]), [1.73408, 1.63027, 1.93195, 1.91092, 1.70188, 1.39076, 1.34293, 1.09349, 1.68769, 1.49997  …  1.49857, 1.47215, 1.29587, 1.59695, 1.45917, 1.37511, 1.7363, 1.11385, 1.14541, 1.32263], 382)"
      ]
     },
     "execution_count": 1,
     "metadata": {},
     "output_type": "execute_result"
    }
   ],
   "source": [
    "using RigidBodyDynamics\n",
    "using StaticArrays\n",
    "\n",
    "# Fix the random seed, so we get repeatable results\n",
    "srand(42)"
   ]
  },
  {
   "cell_type": "markdown",
   "metadata": {},
   "source": [
    "First we'll load our double pendulum robot from URDF:"
   ]
  },
  {
   "cell_type": "code",
   "execution_count": 2,
   "metadata": {},
   "outputs": [
    {
     "data": {
      "text/plain": [
       "Spanning tree:\n",
       "Vertex: world (root)\n",
       "  Vertex: base_link, Edge: base_link_to_world\n",
       "    Vertex: upper_link, Edge: shoulder\n",
       "      Vertex: lower_link, Edge: elbow\n",
       "No non-tree joints."
      ]
     },
     "execution_count": 2,
     "metadata": {},
     "output_type": "execute_result"
    }
   ],
   "source": [
    "urdf = Pkg.dir(\"RigidBodyDynamics\", \"test\", \"urdf\", \"Acrobot.urdf\")\n",
    "\n",
    "mechanism = parse_urdf(Float64, urdf)\n",
    "state = MechanismState(mechanism)\n",
    "mechanism"
   ]
  },
  {
   "cell_type": "markdown",
   "metadata": {},
   "source": [
    "Now we choose a point on the robot to control. We'll pick the end of the second link, which is located 2m from the origin of the `lower_link` body:"
   ]
  },
  {
   "cell_type": "code",
   "execution_count": 3,
   "metadata": {},
   "outputs": [
    {
     "data": {
      "text/plain": [
       "Point3D in \"after_elbow\": [0.0, 0.0, -2.0]"
      ]
     },
     "execution_count": 3,
     "metadata": {},
     "output_type": "execute_result"
    }
   ],
   "source": [
    "const body = findbody(mechanism, \"lower_link\")\n",
    "const point = Point3D(default_frame(body), 0., 0, -2)"
   ]
  },
  {
   "cell_type": "markdown",
   "metadata": {},
   "source": [
    "Let's visualize the mechanism and its attached point. For visualization, we'll use [MeshCatMechanisms.jl](https://github.com/JuliaRobotics/MeshCatMechanisms.jl) with [Blink.jl](https://github.com/JunoLab/Blink.jl). \n",
    "\n",
    "(Note: the `#NBSKIP` comments are to skip these cells during `Pkg.test(\"RigidBodyDynamics\")`)"
   ]
  },
  {
   "cell_type": "code",
   "execution_count": 4,
   "metadata": {},
   "outputs": [
    {
     "data": {
      "text/html": [
       "    <script class='js-collapse-script'>\n",
       "        var curMatch =\n",
       "            window.location.href\n",
       "            .match(/(.*?)\\/notebooks\\/.*\\.ipynb/);\n",
       "\n",
       "        curMatch = curMatch ||\n",
       "            window.location.href\n",
       "            .match(/(.*?)\\/apps\\/.*\\.ipynb/);\n",
       "\n",
       "        if ( curMatch ) {\n",
       "            $('head').append('<base href=\"' + curMatch[1] + '/\">');\n",
       "        }\n",
       "    </script>\n"
      ],
      "text/plain": [
       "HTML{String}(\"    <script class='js-collapse-script'>\\n        var curMatch =\\n            window.location.href\\n            .match(/(.*?)\\\\/notebooks\\\\/.*\\\\.ipynb/);\\n\\n        curMatch = curMatch ||\\n            window.location.href\\n            .match(/(.*?)\\\\/apps\\\\/.*\\\\.ipynb/);\\n\\n        if ( curMatch ) {\\n            \\$('head').append('<base href=\\\"' + curMatch[1] + '/\\\">');\\n        }\\n    </script>\\n\")"
      ]
     },
     "metadata": {},
     "output_type": "display_data"
    },
    {
     "data": {
      "text/html": [
       "<script class='js-collapse-script' src='pkg/WebIO/webio/dist/bundle.js'></script>"
      ],
      "text/plain": [
       "HTML{String}(\"<script class='js-collapse-script' src='pkg/WebIO/webio/dist/bundle.js'></script>\")"
      ]
     },
     "metadata": {},
     "output_type": "display_data"
    },
    {
     "data": {
      "text/html": [
       "<script class='js-collapse-script' src='pkg/WebIO/providers/ijulia_setup.js'></script>"
      ],
      "text/plain": [
       "HTML{String}(\"<script class='js-collapse-script' src='pkg/WebIO/providers/ijulia_setup.js'></script>\")"
      ]
     },
     "metadata": {},
     "output_type": "display_data"
    },
    {
     "data": {
      "text/html": [
       "  <script class='js-collapse-script'>\n",
       "    $('.js-collapse-script').parent('.output_subarea').css('padding', '0');\n",
       "  </script>\n"
      ],
      "text/plain": [
       "HTML{String}(\"  <script class='js-collapse-script'>\\n    \\$('.js-collapse-script').parent('.output_subarea').css('padding', '0');\\n  </script>\\n\")"
      ]
     },
     "metadata": {},
     "output_type": "display_data"
    },
    {
     "name": "stderr",
     "output_type": "stream",
     "text": [
      "\u001b[1m\u001b[36mINFO: \u001b[39m\u001b[22m\u001b[36mLoading HttpServer methods...\n",
      "\u001b[39m"
     ]
    }
   ],
   "source": [
    "#NBSKIP\n",
    "using MeshCatMechanisms\n",
    "using Blink"
   ]
  },
  {
   "cell_type": "code",
   "execution_count": 5,
   "metadata": {},
   "outputs": [
    {
     "data": {
      "text/plain": [
       "Blink.AtomShell.Window(1, Blink.AtomShell.Electron(Process(`/home/rdeits/.julia/v0.6/Blink/deps/atom/electron /home/rdeits/.julia/v0.6/Blink/src/AtomShell/main.js port 4896`, ProcessRunning), TCPSocket(RawFD(54) active, 0 bytes waiting), Dict{String,Any}(Pair{String,Any}(\"callback\", Blink.#1))), Blink.Page(1, WebSockets.WebSocket{TCPSocket}(TCPSocket(RawFD(55) active, 0 bytes waiting), true, CONNECTED::WebSockets.ReadyState = 1), Dict{String,Any}(Pair{String,Any}(\"webio\", WebIO.#109),Pair{String,Any}(\"callback\", Blink.#1)), Future(1, 1, 1, Nullable{Any}(true))))"
      ]
     },
     "execution_count": 5,
     "metadata": {},
     "output_type": "execute_result"
    }
   ],
   "source": [
    "#NBSKIP\n",
    "# Create the visualizer\n",
    "const vis = MechanismVisualizer(mechanism, URDFVisuals(urdf))\n",
    "# Render our target point attached to the robot as a sphere with radius 0.07\n",
    "setelement!(vis, point, 0.07)\n",
    "# Open the visualizer in a new Blink window\n",
    "open(vis, Window())"
   ]
  },
  {
   "cell_type": "markdown",
   "metadata": {},
   "source": [
    "## Inverse Kinematics\n",
    "\n",
    "First, let's use the point jacobian to solve a simple inverse kinematics problem. Given a target location `desired` expressed in world frame, we want to find the joint angles `q` such that the `point` attached to the robot is at the desired location. \n",
    "\n",
    "To do that, we'll iteratively update `q` by applying: \n",
    "\n",
    "\\begin{align}\n",
    "\\Delta q = \\alpha \\, J_p^\\top \\, \\Delta p\n",
    "\\end{align}\n",
    "\n",
    "where $\\alpha$ is our step size (equivalent to a learning rate in gradient descent) and $\\Delta p$ is the error in the position of our target point. "
   ]
  },
  {
   "cell_type": "code",
   "execution_count": 6,
   "metadata": {},
   "outputs": [
    {
     "data": {
      "text/plain": [
       "jacobian_transpose_ik! (generic function with 1 method)"
      ]
     },
     "execution_count": 6,
     "metadata": {},
     "output_type": "execute_result"
    }
   ],
   "source": [
    "function jacobian_transpose_ik!(state::MechanismState,\n",
    "                               body::RigidBody,\n",
    "                               point::Point3D,\n",
    "                               desired::Point3D;\n",
    "                               α=0.1,\n",
    "                               iterations=100)\n",
    "    mechanism = state.mechanism\n",
    "    world = root_frame(mechanism)\n",
    "    \n",
    "    # Compute the joint path from world to our target body\n",
    "    p = path(mechanism, root_body(mechanism), body)\n",
    "    # Allocate the point jacobian (we'll update this in-place later)\n",
    "    Jp = point_jacobian(state, p, transform(state, point, world))\n",
    "    \n",
    "    q = copy(configuration(state))\n",
    "    \n",
    "    for i in 1:iterations\n",
    "        # Update the position of the point\n",
    "        point_in_world = transform(state, point, world)\n",
    "        # Update the point's jacobian\n",
    "        point_jacobian!(Jp, state, p, point_in_world)\n",
    "        # Compute an update in joint coordinates using the jacobian transpose\n",
    "        Δq = α * Array(Jp)' * (transform(state, desired, world) - point_in_world).v\n",
    "        # Apply the update\n",
    "        q .= configuration(state) .+ Δq\n",
    "        set_configuration!(state, q)\n",
    "    end\n",
    "    state\n",
    "end"
   ]
  },
  {
   "cell_type": "markdown",
   "metadata": {},
   "source": [
    "To use our IK method, we just have to set our current state and choose a desired location for the tip of the robot's arm: "
   ]
  },
  {
   "cell_type": "code",
   "execution_count": 7,
   "metadata": {},
   "outputs": [
    {
     "data": {
      "text/plain": [
       "true"
      ]
     },
     "execution_count": 7,
     "metadata": {},
     "output_type": "execute_result"
    }
   ],
   "source": [
    "rand!(state)"
   ]
  },
  {
   "cell_type": "code",
   "execution_count": 8,
   "metadata": {},
   "outputs": [],
   "source": [
    "#NBSKIP\n",
    "set_configuration!(vis, configuration(state))"
   ]
  },
  {
   "cell_type": "code",
   "execution_count": 9,
   "metadata": {},
   "outputs": [
    {
     "data": {
      "text/plain": [
       "MechanismState{Float64, Float64, Float64, …}(…)"
      ]
     },
     "execution_count": 9,
     "metadata": {},
     "output_type": "execute_result"
    }
   ],
   "source": [
    "# Choose a desired location. We'll move the tip of the arm to\n",
    "# [0.5, 0, 2]\n",
    "desired = Point3D(root_frame(mechanism), 0.5, 0, 2)\n",
    "# Run the IK, updating `state` in place\n",
    "jacobian_transpose_ik!(state, body, point, desired)"
   ]
  },
  {
   "cell_type": "code",
   "execution_count": 10,
   "metadata": {},
   "outputs": [],
   "source": [
    "#NBSKIP\n",
    "set_configuration!(vis, configuration(state))"
   ]
  },
  {
   "cell_type": "code",
   "execution_count": 11,
   "metadata": {},
   "outputs": [
    {
     "data": {
      "text/plain": [
       "Point3D in \"world\": [0.488494, 0.25, 1.97828]"
      ]
     },
     "execution_count": 11,
     "metadata": {},
     "output_type": "execute_result"
    }
   ],
   "source": [
    "# We asked for our point to be close to [0.5, 0, 2], \n",
    "# but since the arm cannot move in the y direction at all\n",
    "# we end up near [0.5, 0.25, 2] instead\n",
    "transform(state, point, root_frame(mechanism))"
   ]
  },
  {
   "cell_type": "markdown",
   "metadata": {},
   "source": [
    "We can try varying the target and watching the IK solution change:"
   ]
  },
  {
   "cell_type": "code",
   "execution_count": 12,
   "metadata": {},
   "outputs": [],
   "source": [
    "qs = typeof(configuration(state))[]\n",
    "\n",
    "# Vary the desired x position from -1 to 1\n",
    "for x in linspace(-1, 1, 100)\n",
    "    desired = Point3D(root_frame(mechanism), x, 0, 2)\n",
    "    jacobian_transpose_ik!(state, body, point, desired)\n",
    "    push!(qs, copy(configuration(state)))\n",
    "end"
   ]
  },
  {
   "cell_type": "code",
   "execution_count": 13,
   "metadata": {},
   "outputs": [
    {
     "data": {
      "text/plain": [
       "true"
      ]
     },
     "execution_count": 13,
     "metadata": {},
     "output_type": "execute_result"
    }
   ],
   "source": [
    "#NBSKIP\n",
    "ts = collect(linspace(0, 1, length(qs)))\n",
    "setanimation!(vis, ts, qs)"
   ]
  },
  {
   "cell_type": "markdown",
   "metadata": {},
   "source": [
    "## Control\n",
    "\n",
    "Now let's use the same principle to generate torques and actually control the robot. To make things more interesting, let's get the end of the robot's arm to trace out a circle. "
   ]
  },
  {
   "cell_type": "code",
   "execution_count": 14,
   "metadata": {},
   "outputs": [
    {
     "data": {
      "text/plain": [
       "1.0"
      ]
     },
     "execution_count": 14,
     "metadata": {},
     "output_type": "execute_result"
    }
   ],
   "source": [
    "circle_origin = SVector(0., 0.25, 2)\n",
    "radius = 0.5\n",
    "ω = 1.0  # radians per second at which the point should move in its circle"
   ]
  },
  {
   "cell_type": "code",
   "execution_count": 15,
   "metadata": {},
   "outputs": [],
   "source": [
    "#NBSKIP\n",
    "using MeshCat\n",
    "using GeometryTypes: Point"
   ]
  },
  {
   "cell_type": "code",
   "execution_count": 16,
   "metadata": {},
   "outputs": [
    {
     "data": {
      "text/plain": [
       "MeshCat Visualizer with path /meshcat/circle"
      ]
     },
     "execution_count": 16,
     "metadata": {},
     "output_type": "execute_result"
    }
   ],
   "source": [
    "#NBSKIP\n",
    "\n",
    "# Draw the circle in the viewer\n",
    "θ = repeat(linspace(0, 2π, 100), inner=(2,))[2:end]\n",
    "cx, cy, cz = circle_origin\n",
    "geometry = PointCloud(Point.(cx .+ radius .* sin.(θ), cy, cz .+ 0.5 .* cos.(θ)))\n",
    "setobject!(vis[:circle], LineSegments(geometry, LineBasicMaterial()))"
   ]
  },
  {
   "cell_type": "code",
   "execution_count": 17,
   "metadata": {},
   "outputs": [
    {
     "data": {
      "text/plain": [
       "make_circle_controller (generic function with 1 method)"
      ]
     },
     "execution_count": 17,
     "metadata": {},
     "output_type": "execute_result"
    }
   ],
   "source": [
    "# This function will take in the parameters of the circle\n",
    "# and the target point and return a function we can use\n",
    "# as the controller. By wrapping the construction of the \n",
    "# controller in this way, we avoie any issues with accessing\n",
    "# non-const global variables. \n",
    "function make_circle_controller(state::MechanismState,\n",
    "                                body::RigidBody,\n",
    "                                point::Point3D,\n",
    "                                circle_origin::AbstractVector,\n",
    "                                radius,\n",
    "                                ω)\n",
    "    mechanism = state.mechanism\n",
    "    world = root_frame(mechanism)\n",
    "    joint_path = path(mechanism, root_body(mechanism), body)\n",
    "    Jp = point_jacobian(state, joint_path, transform(state, point, root_frame(mechanism)))\n",
    "    v̇ = similar(velocity(state))\n",
    "    \n",
    "    function controller!(τ, t, state)\n",
    "        desired = Point3D(world, circle_origin .+ radius .* SVector(sin(t / ω), 0, cos(t / ω)))\n",
    "        point_in_world = transform_to_root(state, body) * point\n",
    "        point_jacobian!(Jp, state, joint_path, point_in_world)\n",
    "        Kp = 200\n",
    "        Kd = 20\n",
    "        Δp = desired - point_in_world\n",
    "        v̇ .= Kp * Array(Jp)' * Δp.v .- 20 .* velocity(state)\n",
    "        τ .= inverse_dynamics(state, v̇)\n",
    "    end\n",
    "end"
   ]
  },
  {
   "cell_type": "code",
   "execution_count": 18,
   "metadata": {},
   "outputs": [
    {
     "data": {
      "text/plain": [
       "controller! (generic function with 1 method)"
      ]
     },
     "execution_count": 18,
     "metadata": {},
     "output_type": "execute_result"
    }
   ],
   "source": [
    "controller! = make_circle_controller(state, body, point, circle_origin, radius, ω)"
   ]
  },
  {
   "cell_type": "code",
   "execution_count": 19,
   "metadata": {},
   "outputs": [],
   "source": [
    "ts, qs, vs = simulate(state, 10, controller!);"
   ]
  },
  {
   "cell_type": "code",
   "execution_count": 20,
   "metadata": {},
   "outputs": [
    {
     "data": {
      "text/plain": [
       "true"
      ]
     },
     "execution_count": 20,
     "metadata": {},
     "output_type": "execute_result"
    }
   ],
   "source": [
    "#NBSKIP\n",
    "\n",
    "# Animate the resulting trajectory\n",
    "setanimation!(vis, ts, qs)"
   ]
  },
  {
   "cell_type": "markdown",
   "metadata": {},
   "source": [
    "Now we can plot the behavior of the controller. The initial state is quite far from the target, so there's some significant overshoot early in the trajectory, but the controller eventually settles into tracking the desired circular path. This controller isn't very well-tuned, and we could certainly do better with a more advanced approach, but this is still a nice demonstration of a very simple control policy. "
   ]
  },
  {
   "cell_type": "code",
   "execution_count": 21,
   "metadata": {},
   "outputs": [
    {
     "data": {
      "text/plain": [
       "Plots.GRBackend()"
      ]
     },
     "execution_count": 21,
     "metadata": {},
     "output_type": "execute_result"
    }
   ],
   "source": [
    "#NBSKIP\n",
    "\n",
    "using Plots; gr()"
   ]
  },
  {
   "cell_type": "code",
   "execution_count": 23,
   "metadata": {},
   "outputs": [
    {
     "data": {
      "image/svg+xml": [
       "<?xml version=\"1.0\" encoding=\"utf-8\"?>\n",
       "<svg xmlns=\"http://www.w3.org/2000/svg\" xmlns:xlink=\"http://www.w3.org/1999/xlink\" width=\"600\" height=\"400\" viewBox=\"0 0 600 400\">\n",
       "<defs>\n",
       "  <clipPath id=\"clip4600\">\n",
       "    <rect x=\"0\" y=\"0\" width=\"600\" height=\"400\"/>\n",
       "  </clipPath>\n",
       "</defs>\n",
       "<polygon clip-path=\"url(#clip4600)\" points=\"\n",
       "0,400 600,400 600,0 0,0 \n",
       "  \" fill=\"#ffffff\" fill-opacity=\"1\"/>\n",
       "<defs>\n",
       "  <clipPath id=\"clip4601\">\n",
       "    <rect x=\"120\" y=\"0\" width=\"421\" height=\"400\"/>\n",
       "  </clipPath>\n",
       "</defs>\n",
       "<polygon clip-path=\"url(#clip4600)\" points=\"\n",
       "124.366,375.869 488.424,375.869 488.424,11.811 124.366,11.811 \n",
       "  \" fill=\"#ffffff\" fill-opacity=\"1\"/>\n",
       "<defs>\n",
       "  <clipPath id=\"clip4602\">\n",
       "    <rect x=\"124\" y=\"11\" width=\"365\" height=\"365\"/>\n",
       "  </clipPath>\n",
       "</defs>\n",
       "<polyline clip-path=\"url(#clip4602)\" style=\"stroke:#000000; stroke-width:0.5; stroke-opacity:0.1; fill:none\" points=\"\n",
       "  124.366,375.869 124.366,11.811 \n",
       "  \"/>\n",
       "<polyline clip-path=\"url(#clip4602)\" style=\"stroke:#000000; stroke-width:0.5; stroke-opacity:0.1; fill:none\" points=\"\n",
       "  215.38,375.869 215.38,11.811 \n",
       "  \"/>\n",
       "<polyline clip-path=\"url(#clip4602)\" style=\"stroke:#000000; stroke-width:0.5; stroke-opacity:0.1; fill:none\" points=\"\n",
       "  306.395,375.869 306.395,11.811 \n",
       "  \"/>\n",
       "<polyline clip-path=\"url(#clip4602)\" style=\"stroke:#000000; stroke-width:0.5; stroke-opacity:0.1; fill:none\" points=\"\n",
       "  397.409,375.869 397.409,11.811 \n",
       "  \"/>\n",
       "<polyline clip-path=\"url(#clip4602)\" style=\"stroke:#000000; stroke-width:0.5; stroke-opacity:0.1; fill:none\" points=\"\n",
       "  488.424,375.869 488.424,11.811 \n",
       "  \"/>\n",
       "<polyline clip-path=\"url(#clip4602)\" style=\"stroke:#000000; stroke-width:0.5; stroke-opacity:0.1; fill:none\" points=\"\n",
       "  124.366,375.869 488.424,375.869 \n",
       "  \"/>\n",
       "<polyline clip-path=\"url(#clip4602)\" style=\"stroke:#000000; stroke-width:0.5; stroke-opacity:0.1; fill:none\" points=\"\n",
       "  124.366,284.854 488.424,284.854 \n",
       "  \"/>\n",
       "<polyline clip-path=\"url(#clip4602)\" style=\"stroke:#000000; stroke-width:0.5; stroke-opacity:0.1; fill:none\" points=\"\n",
       "  124.366,193.84 488.424,193.84 \n",
       "  \"/>\n",
       "<polyline clip-path=\"url(#clip4602)\" style=\"stroke:#000000; stroke-width:0.5; stroke-opacity:0.1; fill:none\" points=\"\n",
       "  124.366,102.825 488.424,102.825 \n",
       "  \"/>\n",
       "<polyline clip-path=\"url(#clip4602)\" style=\"stroke:#000000; stroke-width:0.5; stroke-opacity:0.1; fill:none\" points=\"\n",
       "  124.366,11.811 488.424,11.811 \n",
       "  \"/>\n",
       "<polyline clip-path=\"url(#clip4600)\" style=\"stroke:#000000; stroke-width:1; stroke-opacity:1; fill:none\" points=\"\n",
       "  124.366,375.869 488.424,375.869 \n",
       "  \"/>\n",
       "<polyline clip-path=\"url(#clip4600)\" style=\"stroke:#000000; stroke-width:1; stroke-opacity:1; fill:none\" points=\"\n",
       "  124.366,375.869 124.366,11.811 \n",
       "  \"/>\n",
       "<polyline clip-path=\"url(#clip4600)\" style=\"stroke:#000000; stroke-width:1; stroke-opacity:1; fill:none\" points=\"\n",
       "  124.366,375.869 124.366,370.408 \n",
       "  \"/>\n",
       "<polyline clip-path=\"url(#clip4600)\" style=\"stroke:#000000; stroke-width:1; stroke-opacity:1; fill:none\" points=\"\n",
       "  215.38,375.869 215.38,370.408 \n",
       "  \"/>\n",
       "<polyline clip-path=\"url(#clip4600)\" style=\"stroke:#000000; stroke-width:1; stroke-opacity:1; fill:none\" points=\"\n",
       "  306.395,375.869 306.395,370.408 \n",
       "  \"/>\n",
       "<polyline clip-path=\"url(#clip4600)\" style=\"stroke:#000000; stroke-width:1; stroke-opacity:1; fill:none\" points=\"\n",
       "  397.409,375.869 397.409,370.408 \n",
       "  \"/>\n",
       "<polyline clip-path=\"url(#clip4600)\" style=\"stroke:#000000; stroke-width:1; stroke-opacity:1; fill:none\" points=\"\n",
       "  488.424,375.869 488.424,370.408 \n",
       "  \"/>\n",
       "<polyline clip-path=\"url(#clip4600)\" style=\"stroke:#000000; stroke-width:1; stroke-opacity:1; fill:none\" points=\"\n",
       "  124.366,375.869 129.827,375.869 \n",
       "  \"/>\n",
       "<polyline clip-path=\"url(#clip4600)\" style=\"stroke:#000000; stroke-width:1; stroke-opacity:1; fill:none\" points=\"\n",
       "  124.366,284.854 129.827,284.854 \n",
       "  \"/>\n",
       "<polyline clip-path=\"url(#clip4600)\" style=\"stroke:#000000; stroke-width:1; stroke-opacity:1; fill:none\" points=\"\n",
       "  124.366,193.84 129.827,193.84 \n",
       "  \"/>\n",
       "<polyline clip-path=\"url(#clip4600)\" style=\"stroke:#000000; stroke-width:1; stroke-opacity:1; fill:none\" points=\"\n",
       "  124.366,102.825 129.827,102.825 \n",
       "  \"/>\n",
       "<polyline clip-path=\"url(#clip4600)\" style=\"stroke:#000000; stroke-width:1; stroke-opacity:1; fill:none\" points=\"\n",
       "  124.366,11.811 129.827,11.811 \n",
       "  \"/>\n",
       "<g clip-path=\"url(#clip4600)\">\n",
       "<text style=\"fill:#000000; fill-opacity:1; font-family:Arial,Helvetica Neue,Helvetica,sans-serif; font-size:12; text-anchor:middle;\" transform=\"rotate(0, 124.366, 389.669)\" x=\"124.366\" y=\"389.669\">-1.0</text>\n",
       "</g>\n",
       "<g clip-path=\"url(#clip4600)\">\n",
       "<text style=\"fill:#000000; fill-opacity:1; font-family:Arial,Helvetica Neue,Helvetica,sans-serif; font-size:12; text-anchor:middle;\" transform=\"rotate(0, 215.38, 389.669)\" x=\"215.38\" y=\"389.669\">-0.5</text>\n",
       "</g>\n",
       "<g clip-path=\"url(#clip4600)\">\n",
       "<text style=\"fill:#000000; fill-opacity:1; font-family:Arial,Helvetica Neue,Helvetica,sans-serif; font-size:12; text-anchor:middle;\" transform=\"rotate(0, 306.395, 389.669)\" x=\"306.395\" y=\"389.669\">0.0</text>\n",
       "</g>\n",
       "<g clip-path=\"url(#clip4600)\">\n",
       "<text style=\"fill:#000000; fill-opacity:1; font-family:Arial,Helvetica Neue,Helvetica,sans-serif; font-size:12; text-anchor:middle;\" transform=\"rotate(0, 397.409, 389.669)\" x=\"397.409\" y=\"389.669\">0.5</text>\n",
       "</g>\n",
       "<g clip-path=\"url(#clip4600)\">\n",
       "<text style=\"fill:#000000; fill-opacity:1; font-family:Arial,Helvetica Neue,Helvetica,sans-serif; font-size:12; text-anchor:middle;\" transform=\"rotate(0, 488.424, 389.669)\" x=\"488.424\" y=\"389.669\">1.0</text>\n",
       "</g>\n",
       "<g clip-path=\"url(#clip4600)\">\n",
       "<text style=\"fill:#000000; fill-opacity:1; font-family:Arial,Helvetica Neue,Helvetica,sans-serif; font-size:12; text-anchor:end;\" transform=\"rotate(0, 118.366, 380.369)\" x=\"118.366\" y=\"380.369\">1.0</text>\n",
       "</g>\n",
       "<g clip-path=\"url(#clip4600)\">\n",
       "<text style=\"fill:#000000; fill-opacity:1; font-family:Arial,Helvetica Neue,Helvetica,sans-serif; font-size:12; text-anchor:end;\" transform=\"rotate(0, 118.366, 289.354)\" x=\"118.366\" y=\"289.354\">1.5</text>\n",
       "</g>\n",
       "<g clip-path=\"url(#clip4600)\">\n",
       "<text style=\"fill:#000000; fill-opacity:1; font-family:Arial,Helvetica Neue,Helvetica,sans-serif; font-size:12; text-anchor:end;\" transform=\"rotate(0, 118.366, 198.34)\" x=\"118.366\" y=\"198.34\">2.0</text>\n",
       "</g>\n",
       "<g clip-path=\"url(#clip4600)\">\n",
       "<text style=\"fill:#000000; fill-opacity:1; font-family:Arial,Helvetica Neue,Helvetica,sans-serif; font-size:12; text-anchor:end;\" transform=\"rotate(0, 118.366, 107.325)\" x=\"118.366\" y=\"107.325\">2.5</text>\n",
       "</g>\n",
       "<g clip-path=\"url(#clip4600)\">\n",
       "<text style=\"fill:#000000; fill-opacity:1; font-family:Arial,Helvetica Neue,Helvetica,sans-serif; font-size:12; text-anchor:end;\" transform=\"rotate(0, 118.366, 16.311)\" x=\"118.366\" y=\"16.311\">3.0</text>\n",
       "</g>\n",
       "<polyline clip-path=\"url(#clip4602)\" style=\"stroke:#009af9; stroke-width:1; stroke-opacity:1; fill:none\" points=\"\n",
       "  488.412,193.855 477.337,186.224 443.607,164.959 392.709,140.556 333.753,122.029 278.564,112.85 237.649,110.699 216.854,111.001 216.758,110.813 233.809,110.134 \n",
       "  261.836,110.591 293.683,113.346 322.915,117.964 345.071,122.77 358.03,125.98 361.662,126.632 357.273,124.854 347.126,121.549 334.021,117.828 320.847,114.551 \n",
       "  310.09,112.132 303.424,110.624 301.501,109.92 303.992,109.896 309.815,110.446 317.486,111.429 325.467,112.629 332.469,113.777 337.625,114.616 340.555,114.986 \n",
       "  341.328,114.856 340.365,114.318 338.304,113.536 335.856,112.692 333.676,111.939 332.256,111.381 331.87,111.068 332.558,111.005 334.165,111.163 336.401,111.484 \n",
       "  338.919,111.897 341.388,112.327 343.544,112.707 345.228,112.993 346.391,113.165 347.08,113.232 347.417,113.221 347.558,113.172 347.666,113.127 347.878,113.121 \n",
       "  348.29,113.177 348.941,113.308 349.825,113.512 350.893,113.779 352.075,114.089 353.293,114.424 354.474,114.763 355.568,115.093 356.545,115.403 357.402,115.691 \n",
       "  358.155,115.963 358.834,116.224 359.475,116.487 360.113,116.759 360.777,117.05 361.485,117.365 362.243,117.705 363.046,118.071 363.883,118.458 364.737,118.861 \n",
       "  365.59,119.277 366.428,119.699 367.241,120.124 368.023,120.551 368.773,120.979 369.497,121.409 370.2,121.844 370.892,122.286 371.579,122.736 372.267,123.198 \n",
       "  372.959,123.671 373.658,124.157 374.36,124.655 375.065,125.165 375.768,125.684 376.464,126.211 377.152,126.746 377.829,127.288 378.494,127.836 379.146,128.389 \n",
       "  379.787,128.949 380.418,129.516 381.04,130.089 381.655,130.67 382.265,131.259 382.869,131.857 383.469,132.462 384.063,133.076 384.652,133.697 385.234,134.326 \n",
       "  385.809,134.962 386.376,135.605 386.935,136.254 387.484,136.91 388.024,137.571 388.556,138.239 389.078,138.913 389.593,139.594 390.099,140.28 390.597,140.973 \n",
       "  391.087,141.672 391.57,142.377 392.045,143.089 392.512,143.806 392.97,144.529 393.421,145.258 393.863,145.993 394.296,146.732 394.72,147.477 395.135,148.228 \n",
       "  395.542,148.983 395.939,149.743 396.328,150.508 396.708,151.278 397.079,152.053 397.441,152.832 397.794,153.616 398.138,154.405 398.473,155.197 398.8,155.994 \n",
       "  399.117,156.795 399.426,157.6 399.725,158.409 400.015,159.222 400.295,160.039 400.567,160.859 400.829,161.682 401.082,162.509 401.325,163.339 401.559,164.172 \n",
       "  401.784,165.008 401.999,165.847 402.205,166.688 402.402,167.533 402.59,168.38 402.767,169.229 402.936,170.081 403.095,170.935 403.244,171.791 403.384,172.649 \n",
       "  403.515,173.508 403.636,174.37 403.748,175.233 403.849,176.098 403.942,176.964 404.025,177.831 404.098,178.7 404.162,179.569 404.217,180.44 404.261,181.311 \n",
       "  404.297,182.184 404.322,183.056 404.339,183.929 404.345,184.803 404.342,185.677 404.33,186.551 404.308,187.425 404.277,188.299 404.236,189.172 404.185,190.046 \n",
       "  404.125,190.919 404.056,191.791 403.977,192.663 403.889,193.534 403.791,194.405 403.684,195.274 403.567,196.142 403.441,197.009 403.306,197.875 403.161,198.739 \n",
       "  403.007,199.602 402.843,200.464 402.67,201.323 402.488,202.181 402.297,203.037 402.096,203.891 401.886,204.743 401.666,205.592 401.438,206.439 401.2,207.284 \n",
       "  400.953,208.127 400.697,208.967 400.432,209.804 400.158,210.638 399.875,211.469 399.582,212.298 399.281,213.123 398.971,213.945 398.651,214.764 398.323,215.58 \n",
       "  397.986,216.392 397.639,217.201 397.284,218.006 396.92,218.808 396.548,219.605 396.166,220.399 395.776,221.189 395.377,221.975 394.969,222.757 394.553,223.534 \n",
       "  394.128,224.308 393.694,225.077 393.252,225.842 392.801,226.602 392.342,227.357 391.874,228.108 391.398,228.855 390.913,229.596 390.42,230.333 389.919,231.065 \n",
       "  389.409,231.792 388.892,232.514 388.365,233.231 387.831,233.943 387.289,234.649 386.738,235.351 386.18,236.047 385.613,236.737 385.038,237.423 384.455,238.102 \n",
       "  383.865,238.777 383.266,239.445 382.66,240.108 382.046,240.766 381.424,241.418 380.794,242.064 380.157,242.704 379.512,243.338 378.86,243.967 378.2,244.59 \n",
       "  377.532,245.206 376.857,245.817 376.175,246.422 375.485,247.021 374.788,247.614 374.084,248.2 373.372,248.781 372.654,249.355 371.928,249.924 371.195,250.486 \n",
       "  370.456,251.042 369.709,251.592 368.955,252.135 368.195,252.673 367.428,253.204 366.654,253.729 365.873,254.248 365.086,254.76 364.292,255.266 363.492,255.766 \n",
       "  362.686,256.26 361.873,256.748 361.054,257.229 360.229,257.704 359.397,258.172 358.56,258.635 357.716,259.091 356.867,259.541 356.012,259.985 355.151,260.423 \n",
       "  354.284,260.854 353.412,261.279 352.534,261.698 351.651,262.111 350.763,262.518 349.869,262.919 348.97,263.314 348.066,263.702 347.157,264.085 346.243,264.461 \n",
       "  345.325,264.832 344.401,265.196 343.473,265.555 342.541,265.907 341.604,266.254 340.663,266.595 339.718,266.93 338.769,267.259 337.815,267.583 336.858,267.9 \n",
       "  335.897,268.212 334.933,268.518 333.965,268.818 332.994,269.113 332.019,269.402 331.041,269.685 330.061,269.963 329.077,270.235 328.091,270.502 327.102,270.763 \n",
       "  326.111,271.018 325.117,271.268 324.121,271.513 323.123,271.752 322.123,271.985 321.121,272.213 320.118,272.436 319.113,272.653 318.106,272.865 317.099,273.071 \n",
       "  316.09,273.272 315.081,273.467 314.07,273.657 313.059,273.842 312.048,274.021 311.036,274.195 310.024,274.363 309.012,274.526 308,274.683 306.988,274.835 \n",
       "  305.977,274.981 304.966,275.122 303.956,275.258 302.946,275.388 301.938,275.512 300.931,275.631 299.925,275.744 298.921,275.851 297.918,275.953 296.917,276.049 \n",
       "  295.918,276.139 294.921,276.223 293.926,276.301 292.933,276.374 291.943,276.441 290.955,276.501 289.97,276.556 288.988,276.604 288.01,276.646 287.034,276.682 \n",
       "  286.061,276.712 285.092,276.735 284.127,276.752 283.165,276.763 282.207,276.767 281.253,276.764 280.303,276.754 279.357,276.738 278.415,276.715 277.478,276.685 \n",
       "  276.545,276.648 275.617,276.604 274.694,276.553 273.776,276.495 272.862,276.429 271.954,276.356 271.051,276.276 270.153,276.188 269.26,276.092 268.373,275.989 \n",
       "  267.491,275.878 266.615,275.759 265.745,275.632 264.88,275.497 264.022,275.354 263.169,275.203 262.322,275.044 261.482,274.876 260.647,274.7 259.819,274.516 \n",
       "  258.998,274.323 258.182,274.121 257.373,273.911 256.571,273.692 255.775,273.465 254.986,273.228 254.204,272.983 253.428,272.729 252.659,272.465 251.897,272.193 \n",
       "  251.142,271.911 250.394,271.621 249.653,271.321 248.919,271.012 248.192,270.694 247.472,270.366 246.76,270.029 246.054,269.683 245.356,269.327 244.665,268.962 \n",
       "  243.982,268.587 243.306,268.204 242.637,267.81 241.976,267.407 241.322,266.995 240.676,266.574 240.037,266.143 239.406,265.702 238.783,265.252 238.167,264.793 \n",
       "  237.559,264.324 236.958,263.846 236.366,263.359 235.781,262.862 235.203,262.356 234.634,261.841 234.072,261.317 233.518,260.784 232.973,260.242 232.434,259.69 \n",
       "  231.904,259.13 231.382,258.561 230.868,257.983 230.362,257.396 229.864,256.801 229.373,256.197 228.891,255.584 228.417,254.964 227.951,254.334 227.494,253.697 \n",
       "  227.044,253.052 226.602,252.398 226.169,251.737 225.744,251.067 225.327,250.39 224.918,249.705 224.518,249.013 224.126,248.314 223.742,247.607 223.366,246.893 \n",
       "  222.999,246.171 222.64,245.443 222.29,244.709 221.948,243.967 221.614,243.219 221.289,242.464 220.972,241.704 220.664,240.937 220.364,240.164 220.073,239.385 \n",
       "  219.79,238.6 219.516,237.81 219.25,237.014 218.993,236.213 218.745,235.407 218.505,234.595 218.273,233.779 218.051,232.957 217.836,232.132 217.631,231.301 \n",
       "  217.434,230.466 217.246,229.627 217.067,228.784 216.896,227.937 216.734,227.086 216.581,226.231 216.437,225.372 216.301,224.511 216.174,223.645 216.056,222.777 \n",
       "  215.946,221.906 215.845,221.031 215.754,220.154 215.67,219.275 215.596,218.393 215.531,217.508 215.474,216.621 215.426,215.732 215.387,214.841 215.357,213.948 \n",
       "  215.335,213.054 215.323,212.158 215.319,211.26 215.324,210.361 215.338,209.46 215.36,208.559 215.392,207.656 215.432,206.753 215.481,205.849 215.539,204.944 \n",
       "  215.606,204.039 215.681,203.133 215.765,202.227 215.858,201.32 215.96,200.414 216.071,199.507 216.19,198.601 216.318,197.695 216.454,196.789 216.6,195.884 \n",
       "  216.754,194.979 216.917,194.075 217.088,193.171 217.268,192.269 217.457,191.367 217.654,190.467 217.86,189.567 218.075,188.669 218.298,187.772 218.53,186.877 \n",
       "  218.77,185.983 219.018,185.091 219.275,184.2 219.541,183.312 219.815,182.425 220.097,181.54 220.388,180.658 220.687,179.777 220.995,178.899 221.31,178.023 \n",
       "  221.634,177.15 221.966,176.279 222.307,175.411 222.655,174.545 223.012,173.682 223.377,172.822 223.75,171.966 224.13,171.112 224.519,170.261 224.916,169.413 \n",
       "  225.321,168.569 225.734,167.728 226.154,166.89 226.582,166.056 227.019,165.226 227.462,164.399 227.914,163.576 228.373,162.756 228.84,161.941 229.314,161.129 \n",
       "  229.796,160.322 230.285,159.518 230.782,158.719 231.286,157.924 231.798,157.133 232.316,156.347 232.843,155.565 233.376,154.788 233.916,154.015 234.464,153.247 \n",
       "  235.018,152.483 235.58,151.725 236.148,150.971 236.723,150.222 237.305,149.478 237.894,148.738 238.49,148.004 239.092,147.276 239.701,146.552 240.317,145.834 \n",
       "  240.939,145.12 241.568,144.413 242.202,143.71 242.844,143.014 243.491,142.322 244.145,141.637 244.805,140.957 245.471,140.282 246.143,139.614 246.821,138.951 \n",
       "  247.505,138.294 248.195,137.643 248.89,136.998 249.592,136.359 250.299,135.726 251.011,135.1 251.729,134.479 252.453,133.865 253.182,133.256 253.916,132.654 \n",
       "  254.656,132.059 255.401,131.47 256.151,130.887 256.906,130.311 257.666,129.741 258.431,129.178 259.201,128.622 259.976,128.072 260.755,127.529 261.539,126.992 \n",
       "  262.328,126.463 263.121,125.94 263.919,125.424 264.721,124.915 265.527,124.413 266.338,123.917 267.152,123.429 267.971,122.948 268.794,122.474 269.621,122.007 \n",
       "  270.452,121.547 271.286,121.095 272.124,120.649 272.966,120.211 273.811,119.78 274.66,119.357 275.513,118.941 276.368,118.532 277.227,118.131 278.089,117.737 \n",
       "  278.954,117.35 279.823,116.971 280.694,116.6 281.568,116.236 282.445,115.879 283.324,115.53 284.207,115.189 285.091,114.856 285.979,114.53 286.868,114.212 \n",
       "  287.761,113.902 288.655,113.599 289.551,113.304 290.45,113.017 291.35,112.738 292.253,112.467 293.157,112.203 294.063,111.948 294.971,111.7 295.881,111.46 \n",
       "  296.791,111.229 297.704,111.005 298.618,110.789 299.532,110.581 300.449,110.381 301.366,110.19 302.284,110.006 303.204,109.831 304.124,109.663 305.045,109.504 \n",
       "  305.966,109.353 306.888,109.21 307.811,109.075 308.734,108.948 309.658,108.83 310.582,108.72 311.505,108.618 312.43,108.524 313.354,108.438 314.278,108.361 \n",
       "  315.202,108.292 316.125,108.231 317.048,108.179 317.971,108.135 318.894,108.099 319.816,108.072 320.737,108.053 321.657,108.042 322.577,108.04 323.495,108.046 \n",
       "  324.413,108.06 325.329,108.083 326.245,108.114 327.159,108.154 328.071,108.202 328.982,108.258 329.892,108.323 330.8,108.396 331.706,108.478 332.611,108.568 \n",
       "  333.514,108.667 334.414,108.774 335.313,108.889 336.209,109.013 337.103,109.145 337.995,109.286 338.885,109.435 339.771,109.593 340.656,109.759 341.537,109.934 \n",
       "  342.416,110.117 343.292,110.308 344.165,110.508 345.035,110.716 345.902,110.933 346.766,111.158 347.626,111.391 348.483,111.633 349.336,111.883 350.186,112.142 \n",
       "  351.033,112.409 351.875,112.685 352.714,112.968 353.548,113.261 354.379,113.561 355.206,113.87 356.028,114.187 356.846,114.512 357.66,114.846 358.469,115.188 \n",
       "  359.274,115.538 360.074,115.896 360.87,116.263 361.661,116.637 362.446,117.02 363.227,117.411 364.003,117.81 364.774,118.218 365.539,118.633 366.299,119.056 \n",
       "  367.054,119.487 367.803,119.927 368.547,120.374 369.285,120.829 370.017,121.292 370.744,121.763 371.464,122.241 372.179,122.727 372.888,123.221 373.59,123.723 \n",
       "  374.286,124.233 374.976,124.75 375.66,125.274 376.337,125.806 377.008,126.346 377.672,126.893 378.329,127.447 378.98,128.009 379.624,128.578 380.26,129.154 \n",
       "  380.89,129.737 381.513,130.327 382.129,130.925 382.738,131.529 383.339,132.141 383.933,132.759 384.519,133.384 385.099,134.015 385.67,134.654 386.234,135.299 \n",
       "  386.79,135.95 387.339,136.608 387.88,137.273 388.413,137.944 388.938,138.62 389.455,139.304 389.964,139.993 390.465,140.688 390.958,141.389 391.442,142.096 \n",
       "  391.919,142.809 392.387,143.527 392.846,144.251 393.298,144.981 393.741,145.716 394.175,146.456 394.601,147.202 395.018,147.952 395.426,148.708 395.826,149.469 \n",
       "  396.217,150.234 396.599,151.005 396.973,151.78 397.337,152.559 397.693,153.343 398.039,154.132 398.377,154.924 398.706,155.721 399.025,156.522 399.336,157.327 \n",
       "  399.637,158.136 399.93,158.948 400.213,159.764 400.487,160.584 400.752,161.407 401.007,162.234 401.253,163.063 401.49,163.896 401.718,164.732 401.936,165.57 \n",
       "  402.145,166.412 402.344,167.256 402.534,168.102 402.715,168.952 402.886,169.803 403.048,170.657 403.2,171.512 403.343,172.37 403.477,173.23 403.601,174.091 \n",
       "  403.715,174.954 403.82,175.818 403.915,176.684 404.001,177.552 404.077,178.42 404.144,179.29 404.202,180.16 404.249,181.031 404.288,181.903 404.316,182.776 \n",
       "  404.335,183.649 404.345,184.523 404.345,185.397 404.336,186.271 404.317,187.145 404.288,188.019 404.25,188.893 404.203,189.766 404.146,190.64 404.08,191.512 \n",
       "  404.004,192.385 403.918,193.256 403.824,194.127 403.719,194.996 403.606,195.865 403.483,196.732 403.35,197.599 403.208,198.464 403.057,199.327 402.896,200.189 \n",
       "  402.727,201.049 402.547,201.908 402.359,202.764 402.161,203.619 401.954,204.471 401.737,205.322 401.512,206.17 401.277,207.015 401.033,207.858 400.78,208.699 \n",
       "  400.518,209.537 400.247,210.372 399.966,211.205 399.677,212.034 399.378,212.861 399.07,213.684 398.754,214.504 398.428,215.321 398.094,216.134 397.751,216.944 \n",
       "  397.398,217.75 397.037,218.553 396.667,219.352 396.289,220.147 395.901,220.938 395.505,221.725 395.1,222.508 394.686,223.287 394.264,224.062 393.833,224.832 \n",
       "  393.394,225.598 392.946,226.36 392.489,227.117 392.024,227.87 391.55,228.618 391.069,229.361 390.578,230.099 390.08,230.833 389.573,231.561 389.057,232.285 \n",
       "  388.534,233.003 388.002,233.717 387.462,234.425 386.914,235.128 386.358,235.826 385.794,236.518 385.222,237.205 384.642,237.886 384.054,238.562 383.458,239.233 \n",
       "  382.854,239.898 382.242,240.557 381.623,241.211 380.996,241.859 380.361,242.501 379.719,243.137 379.068,243.767 378.411,244.392 377.746,245.011 377.073,245.623 \n",
       "  376.393,246.23 375.706,246.831 375.011,247.425 374.309,248.014 373.6,248.597 372.884,249.173 372.16,249.743 371.43,250.308 370.692,250.866 369.947,251.417 \n",
       "  369.196,251.963 368.438,252.502 367.673,253.036 366.901,253.562 366.123,254.083 365.338,254.598 364.546,255.106 363.748,255.608 362.943,256.103 362.133,256.593 \n",
       "  361.315,257.076 360.492,257.553 359.663,258.024 358.827,258.488 357.986,258.946 357.138,259.398 356.285,259.844 355.426,260.284 354.561,260.717 353.69,261.144 \n",
       "  352.814,261.566 351.933,261.98 351.046,262.389 350.154,262.792 349.257,263.188 348.355,263.579 347.447,263.963 346.535,264.342 345.618,264.714 344.696,265.081 \n",
       "  343.769,265.441 342.838,265.796 341.903,266.144 340.963,266.487 340.019,266.824 339.071,267.155 338.119,267.48 337.163,267.8 336.204,268.113 335.24,268.421 \n",
       "  334.274,268.723 333.303,269.02 332.33,269.311 331.353,269.596 330.373,269.875 329.391,270.149 328.405,270.418 327.417,270.68 326.427,270.938 325.434,271.189 \n",
       "  324.438,271.435 323.441,271.676 322.442,271.911 321.44,272.141 320.438,272.365 319.433,272.584 318.427,272.798 317.42,273.006 316.412,273.208 315.402,273.405 \n",
       "  314.392,273.597 313.381,273.784 312.37,273.964 311.358,274.14 310.346,274.31 309.334,274.474 308.322,274.634 307.31,274.787 306.299,274.935 305.288,275.078 \n",
       "  304.277,275.215 303.268,275.347 302.259,275.473 301.252,275.593 300.245,275.708 299.24,275.817 298.237,275.921 297.236,276.019 296.236,276.111 295.238,276.197 \n",
       "  294.242,276.277 293.249,276.352 292.258,276.42 291.27,276.483 290.284,276.539 289.301,276.589 288.321,276.634 287.344,276.672 286.371,276.703 285.401,276.729 \n",
       "  284.434,276.748 283.471,276.76 282.512,276.766 281.556,276.766 280.605,276.758 279.658,276.744 278.715,276.723 277.776,276.696 276.842,276.661 275.913,276.619 \n",
       "  274.988,276.57 274.068,276.514 273.153,276.451 272.243,276.38 271.338,276.302 270.438,276.217 269.544,276.123 268.655,276.023 267.771,275.914 266.894,275.798 \n",
       "  266.021,275.673 265.155,275.541 264.294,275.401 263.44,275.252 262.591,275.095 261.749,274.931 260.913,274.757 260.082,274.576 259.259,274.385 258.441,274.187 \n",
       "  257.63,273.979 \n",
       "  \"/>\n",
       "<polygon clip-path=\"url(#clip4600)\" points=\"\n",
       "397.716,62.931 470.424,62.931 470.424,32.691 397.716,32.691 \n",
       "  \" fill=\"#ffffff\" fill-opacity=\"1\"/>\n",
       "<polyline clip-path=\"url(#clip4600)\" style=\"stroke:#000000; stroke-width:1; stroke-opacity:1; fill:none\" points=\"\n",
       "  397.716,62.931 470.424,62.931 470.424,32.691 397.716,32.691 397.716,62.931 \n",
       "  \"/>\n",
       "<polyline clip-path=\"url(#clip4600)\" style=\"stroke:#009af9; stroke-width:1; stroke-opacity:1; fill:none\" points=\"\n",
       "  403.716,47.811 439.716,47.811 \n",
       "  \"/>\n",
       "<g clip-path=\"url(#clip4600)\">\n",
       "<text style=\"fill:#000000; fill-opacity:1; font-family:Arial,Helvetica Neue,Helvetica,sans-serif; font-size:12; text-anchor:start;\" transform=\"rotate(0, 445.716, 52.311)\" x=\"445.716\" y=\"52.311\">y1</text>\n",
       "</g>\n",
       "</svg>\n"
      ]
     },
     "execution_count": 23,
     "metadata": {},
     "output_type": "execute_result"
    }
   ],
   "source": [
    "#NBSKIP\n",
    "\n",
    "xs = Float64[]\n",
    "zs = Float64[]\n",
    "for q in qs[1:100:end]  # Downsample by 100 just so the plot doesn't become a huge file\n",
    "    set_configuration!(state, q)\n",
    "    p = transform(state, point, root_frame(mechanism))\n",
    "    push!(xs, p.v[1])\n",
    "    push!(zs, p.v[3])\n",
    "end\n",
    "\n",
    "plot(xs, zs, xlim=(-1, 1), ylim=(1, 3), aspect_ratio=:equal)"
   ]
  },
  {
   "cell_type": "code",
   "execution_count": null,
   "metadata": {},
   "outputs": [],
   "source": []
  }
 ],
 "metadata": {
  "kernelspec": {
   "display_name": "Julia 0.6.3",
   "language": "julia",
   "name": "julia-0.6"
  },
  "language_info": {
   "file_extension": ".jl",
   "mimetype": "application/julia",
   "name": "julia",
   "version": "0.6.3"
  }
 },
 "nbformat": 4,
 "nbformat_minor": 2
}
