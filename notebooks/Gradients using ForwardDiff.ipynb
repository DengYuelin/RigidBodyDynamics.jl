{
 "cells": [
  {
   "cell_type": "markdown",
   "metadata": {},
   "source": [
    "# Setup"
   ]
  },
  {
   "cell_type": "code",
   "execution_count": 1,
   "metadata": {},
   "outputs": [],
   "source": [
    "using RigidBodyDynamics\n",
    "using ForwardDiff\n",
    "using Compat.Test"
   ]
  },
  {
   "cell_type": "markdown",
   "metadata": {},
   "source": [
    "# Jacobians with respect to $q$ and $v$ - the simple way"
   ]
  },
  {
   "cell_type": "markdown",
   "metadata": {},
   "source": [
    "First, we'll load our trusty double pendulum from a URDF:"
   ]
  },
  {
   "cell_type": "code",
   "execution_count": 2,
   "metadata": {},
   "outputs": [
    {
     "data": {
      "text/plain": [
       "Spanning tree:\n",
       "Vertex: world (root)\n",
       "  Vertex: upper_link, Edge: shoulder\n",
       "    Vertex: lower_link, Edge: elbow\n",
       "No non-tree joints."
      ]
     },
     "execution_count": 2,
     "metadata": {},
     "output_type": "execute_result"
    }
   ],
   "source": [
    "const mechanism = parse_urdf(Float64, \"../test/urdf/Acrobot.urdf\")\n",
    "remove_fixed_tree_joints!(mechanism)\n",
    "mechanism"
   ]
  },
  {
   "cell_type": "markdown",
   "metadata": {},
   "source": [
    "Of course, we can create a `MechanismState` for the double pendulum, and compute its momentum in some random state:"
   ]
  },
  {
   "cell_type": "code",
   "execution_count": 3,
   "metadata": {},
   "outputs": [
    {
     "data": {
      "text/plain": [
       "Momentum expressed in \"world\":\n",
       "angular: [0.499266, 5.82916, -0.541888], linear: [2.22847, 0.0, 2.1849]"
      ]
     },
     "execution_count": 3,
     "metadata": {},
     "output_type": "execute_result"
    }
   ],
   "source": [
    "float64state = MechanismState(mechanism)\n",
    "rand!(float64state)\n",
    "const q = configuration(float64state) # for future use\n",
    "const v = velocity(float64state) # for future use\n",
    "momentum(float64state)"
   ]
  },
  {
   "cell_type": "markdown",
   "metadata": {},
   "source": [
    "But now suppose we want the Jacobian of momentum with respect to the joint velocity vector $v$. We can do this using the `ForwardDiff.Dual` type and the `ForwardDiff.jacobian` function. The ForwardDiff package implements forward-mode [automatic differentiation](https://en.wikipedia.org/wiki/Automatic_differentiation)."
   ]
  },
  {
   "cell_type": "markdown",
   "metadata": {},
   "source": [
    "To use `ForwardDiff.jacobian` we need to create a function that maps `v` (as a `Vector`) to momentum (as a `Vector`):"
   ]
  },
  {
   "cell_type": "code",
   "execution_count": 4,
   "metadata": {},
   "outputs": [
    {
     "data": {
      "text/plain": [
       "mom (generic function with 1 method)"
      ]
     },
     "execution_count": 4,
     "metadata": {},
     "output_type": "execute_result"
    }
   ],
   "source": [
    "function mom(v::AbstractVector{T}) where T\n",
    "    # create a `MechanismState` that can handle the element type of `v` (which will be some `ForwardDiff.Dual`):\n",
    "    state = MechanismState{T}(mechanism)\n",
    "    \n",
    "    # set the state variables:\n",
    "    set_configuration!(state, q)\n",
    "    set_velocity!(state, v)\n",
    "    \n",
    "    # return momentum converted to an `Array` (as this is the format that ForwardDiff expects)\n",
    "    Array(momentum(state))\n",
    "end"
   ]
  },
  {
   "cell_type": "markdown",
   "metadata": {},
   "source": [
    "Let's first check that the function returns the same thing we got from `float64state`:"
   ]
  },
  {
   "cell_type": "code",
   "execution_count": 5,
   "metadata": {},
   "outputs": [
    {
     "data": {
      "text/plain": [
       "\u001b[1m\u001b[32mTest Passed\u001b[39m\u001b[22m"
      ]
     },
     "execution_count": 5,
     "metadata": {},
     "output_type": "execute_result"
    }
   ],
   "source": [
    "@test mom(v) == Array(momentum(float64state))"
   ]
  },
  {
   "cell_type": "markdown",
   "metadata": {},
   "source": [
    "That works, so now let's compute the Jacobian with `ForwardDiff`:"
   ]
  },
  {
   "cell_type": "code",
   "execution_count": 6,
   "metadata": {},
   "outputs": [
    {
     "data": {
      "text/plain": [
       "6×2 Array{Float64,2}:\n",
       "  0.409469   0.100318\n",
       "  3.99151    1.99425 \n",
       " -0.329244  -0.22899 \n",
       "  1.37867    0.915959\n",
       "  0.0        0.0     \n",
       "  1.82812    0.401272"
      ]
     },
     "execution_count": 6,
     "metadata": {},
     "output_type": "execute_result"
    }
   ],
   "source": [
    "J = ForwardDiff.jacobian(mom, v)"
   ]
  },
  {
   "cell_type": "markdown",
   "metadata": {},
   "source": [
    "At this point we note that the matrix `J` is simply the momentum matrix (in world frame) of the `Mechanism`. In this case, RigidBodyDynamics.jl has a specialized algorithm for computing this matrix, so let's verify the results:"
   ]
  },
  {
   "cell_type": "code",
   "execution_count": 7,
   "metadata": {},
   "outputs": [
    {
     "data": {
      "text/plain": [
       "MomentumMatrix expressed in \"world\":\n",
       "[0.409469 0.100318; 3.99151 1.99425; -0.329244 -0.22899; 1.37867 0.915959; 0.0 0.0; 1.82812 0.401272]"
      ]
     },
     "execution_count": 7,
     "metadata": {},
     "output_type": "execute_result"
    }
   ],
   "source": [
    "A = momentum_matrix(float64state)"
   ]
  },
  {
   "cell_type": "code",
   "execution_count": 8,
   "metadata": {},
   "outputs": [
    {
     "data": {
      "text/plain": [
       "\u001b[1m\u001b[32mTest Passed\u001b[39m\u001b[22m"
      ]
     },
     "execution_count": 8,
     "metadata": {},
     "output_type": "execute_result"
    }
   ],
   "source": [
    "@test J ≈ Array(A) atol = 1e-12"
   ]
  },
  {
   "cell_type": "markdown",
   "metadata": {},
   "source": [
    "Gradients with respect to $q$ can be computed in similar fashion."
   ]
  },
  {
   "cell_type": "markdown",
   "metadata": {},
   "source": [
    "# Improving performance"
   ]
  },
  {
   "cell_type": "markdown",
   "metadata": {},
   "source": [
    "Ignoring the fact that we have a specialized method available, let's look at the performance of using `ForwardDiff.jacobian`."
   ]
  },
  {
   "cell_type": "code",
   "execution_count": 9,
   "metadata": {},
   "outputs": [
    {
     "data": {
      "text/plain": [
       "BenchmarkTools.Trial: \n",
       "  memory estimate:  45.50 KiB\n",
       "  allocs estimate:  673\n",
       "  --------------\n",
       "  minimum time:     152.988 μs (0.00% GC)\n",
       "  median time:      176.875 μs (0.00% GC)\n",
       "  mean time:        201.309 μs (5.15% GC)\n",
       "  maximum time:     6.627 ms (93.72% GC)\n",
       "  --------------\n",
       "  samples:          10000\n",
       "  evals/sample:     1"
      ]
     },
     "execution_count": 9,
     "metadata": {},
     "output_type": "execute_result"
    }
   ],
   "source": [
    "using BenchmarkTools\n",
    "@benchmark ForwardDiff.jacobian($mom, $v)"
   ]
  },
  {
   "cell_type": "markdown",
   "metadata": {},
   "source": [
    "That's not great. Note all the allocations. We can do better by making the following modifications:\n",
    "\n",
    "1. use an in-place version of the `jacobian` function, `ForwardDiff.jacobian!`\n",
    "2. reimplement our `mom` function to be in-place as well\n",
    "3. don't create a new `MechanismState` every time\n",
    "\n",
    "The third point is especially important; creating a `MechanismState` is expensive!"
   ]
  },
  {
   "cell_type": "markdown",
   "metadata": {},
   "source": [
    "To facillitate reuse of `MechanismState`s while keeping the code nice and generic, we can use a `StateCache` object.\n",
    "`StateCache` is a container that stores `MechanismState`s of various types (associated with one `Mechanism`), and will ease the process of using `ForwardDiff`.\n",
    "Creating one is easy:"
   ]
  },
  {
   "cell_type": "code",
   "execution_count": 10,
   "metadata": {},
   "outputs": [
    {
     "data": {
      "text/plain": [
       "StateCache{…}(…)"
      ]
     },
     "execution_count": 10,
     "metadata": {},
     "output_type": "execute_result"
    }
   ],
   "source": [
    "const statecache = StateCache(mechanism)"
   ]
  },
  {
   "cell_type": "markdown",
   "metadata": {},
   "source": [
    "`MechanismState`s of a given type can be accessed as follows (note that if a `MechanismState` of a certain type is already available, it will be reused):"
   ]
  },
  {
   "cell_type": "code",
   "execution_count": 11,
   "metadata": {},
   "outputs": [
    {
     "data": {
      "text/plain": [
       "MechanismState{Float32, Float64, Float64, …}(…)"
      ]
     },
     "execution_count": 11,
     "metadata": {},
     "output_type": "execute_result"
    }
   ],
   "source": [
    "float32state = statecache[Float32]"
   ]
  },
  {
   "cell_type": "code",
   "execution_count": 12,
   "metadata": {},
   "outputs": [
    {
     "data": {
      "text/plain": [
       "\u001b[1m\u001b[32mTest Passed\u001b[39m\u001b[22m"
      ]
     },
     "execution_count": 12,
     "metadata": {},
     "output_type": "execute_result"
    }
   ],
   "source": [
    "@test float32state === statecache[Float32]"
   ]
  },
  {
   "cell_type": "markdown",
   "metadata": {},
   "source": [
    "Now we'll use the `StateCache` to reimplement `mom`, making it in-place as well:"
   ]
  },
  {
   "cell_type": "code",
   "execution_count": 13,
   "metadata": {},
   "outputs": [
    {
     "data": {
      "text/plain": [
       "mom! (generic function with 1 method)"
      ]
     },
     "execution_count": 13,
     "metadata": {},
     "output_type": "execute_result"
    }
   ],
   "source": [
    "function mom!(out::AbstractVector, v::AbstractVector{T}) where T\n",
    "    # retrieve a `MechanismState` that can handle the element type of `v`:\n",
    "    state = statecache[T]\n",
    "    \n",
    "    # set the state variables:\n",
    "    set_configuration!(state, q)\n",
    "    set_velocity!(state, v)\n",
    "    \n",
    "    # compute momentum and store it in `out`\n",
    "    m = momentum(state)\n",
    "    copy!(out, [angular(m); linear(m)])\n",
    "end"
   ]
  },
  {
   "cell_type": "markdown",
   "metadata": {},
   "source": [
    "Check that the in-place version works as expected on `Float64` inputs:"
   ]
  },
  {
   "cell_type": "code",
   "execution_count": 14,
   "metadata": {},
   "outputs": [
    {
     "data": {
      "text/plain": [
       "\u001b[1m\u001b[32mTest Passed\u001b[39m\u001b[22m"
      ]
     },
     "execution_count": 14,
     "metadata": {},
     "output_type": "execute_result"
    }
   ],
   "source": [
    "const out = zeros(6) # where we'll be storing our results\n",
    "mom!(out, v)\n",
    "@test out == Array(momentum(float64state))"
   ]
  },
  {
   "cell_type": "markdown",
   "metadata": {},
   "source": [
    "And use `ForwardDiff.jacobian!` to compute the Jacobian:"
   ]
  },
  {
   "cell_type": "code",
   "execution_count": 15,
   "metadata": {},
   "outputs": [
    {
     "data": {
      "text/plain": [
       "\u001b[1m\u001b[32mTest Passed\u001b[39m\u001b[22m"
      ]
     },
     "execution_count": 15,
     "metadata": {},
     "output_type": "execute_result"
    }
   ],
   "source": [
    "const result = DiffResults.JacobianResult(out, v)\n",
    "const config = ForwardDiff.JacobianConfig(mom!, out, v)\n",
    "ForwardDiff.jacobian!(result, mom!, out, v, config)\n",
    "J = DiffResults.jacobian(result)\n",
    "@test J ≈ Array(A) atol = 1e-12"
   ]
  },
  {
   "cell_type": "markdown",
   "metadata": {},
   "source": [
    "Let's check the performance again:"
   ]
  },
  {
   "cell_type": "code",
   "execution_count": 16,
   "metadata": {},
   "outputs": [
    {
     "data": {
      "text/plain": [
       "BenchmarkTools.Trial: \n",
       "  memory estimate:  0 bytes\n",
       "  allocs estimate:  0\n",
       "  --------------\n",
       "  minimum time:     2.775 μs (0.00% GC)\n",
       "  median time:      2.846 μs (0.00% GC)\n",
       "  mean time:        2.956 μs (0.00% GC)\n",
       "  maximum time:     10.426 μs (0.00% GC)\n",
       "  --------------\n",
       "  samples:          10000\n",
       "  evals/sample:     9"
      ]
     },
     "execution_count": 16,
     "metadata": {},
     "output_type": "execute_result"
    }
   ],
   "source": [
    "@benchmark ForwardDiff.jacobian!($result, $mom!, $out, $v, $config)"
   ]
  },
  {
   "cell_type": "markdown",
   "metadata": {},
   "source": [
    "That's much better. Do note that the specialized algorithm is still faster:"
   ]
  },
  {
   "cell_type": "code",
   "execution_count": 17,
   "metadata": {},
   "outputs": [
    {
     "data": {
      "text/plain": [
       "BenchmarkTools.Trial: \n",
       "  memory estimate:  0 bytes\n",
       "  allocs estimate:  0\n",
       "  --------------\n",
       "  minimum time:     558.333 ns (0.00% GC)\n",
       "  median time:      596.293 ns (0.00% GC)\n",
       "  mean time:        646.622 ns (0.00% GC)\n",
       "  maximum time:     1.943 μs (0.00% GC)\n",
       "  --------------\n",
       "  samples:          10000\n",
       "  evals/sample:     186"
      ]
     },
     "execution_count": 17,
     "metadata": {},
     "output_type": "execute_result"
    }
   ],
   "source": [
    "A2 = momentum_matrix(float64state)\n",
    "@benchmark begin\n",
    "    set_configuration!($float64state, $q)\n",
    "    set_velocity!($float64state, $v)\n",
    "    momentum_matrix!($A2, $float64state)\n",
    "end"
   ]
  },
  {
   "cell_type": "code",
   "execution_count": null,
   "metadata": {},
   "outputs": [],
   "source": []
  }
 ],
 "metadata": {
  "kernelspec": {
   "display_name": "Julia 0.6.0 -O3 --check-bounds=no",
   "language": "julia",
   "name": "julia-0.6-for-benchmarking"
  },
  "language_info": {
   "file_extension": ".jl",
   "mimetype": "application/julia",
   "name": "julia",
   "version": "0.6.2"
  }
 },
 "nbformat": 4,
 "nbformat_minor": 2
}
