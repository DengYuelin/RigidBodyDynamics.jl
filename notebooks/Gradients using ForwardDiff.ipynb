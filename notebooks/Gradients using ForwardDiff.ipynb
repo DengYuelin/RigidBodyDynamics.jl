{
 "cells": [
  {
   "cell_type": "markdown",
   "metadata": {},
   "source": [
    "# Setup"
   ]
  },
  {
   "cell_type": "code",
   "execution_count": 1,
   "metadata": {},
   "outputs": [],
   "source": [
    "using RigidBodyDynamics\n",
    "using ForwardDiff\n",
    "using Compat.Test"
   ]
  },
  {
   "cell_type": "markdown",
   "metadata": {},
   "source": [
    "# Jacobians with respect to $q$ and $v$ - the simple way"
   ]
  },
  {
   "cell_type": "markdown",
   "metadata": {},
   "source": [
    "First, we'll load our trusty double pendulum from a URDF:"
   ]
  },
  {
   "cell_type": "code",
   "execution_count": 2,
   "metadata": {},
   "outputs": [
    {
     "data": {
      "text/plain": [
       "Spanning tree:\n",
       "Vertex: world (root)\n",
       "  Vertex: upper_link, Edge: shoulder\n",
       "    Vertex: lower_link, Edge: elbow\n",
       "No non-tree joints."
      ]
     },
     "execution_count": 2,
     "metadata": {},
     "output_type": "execute_result"
    }
   ],
   "source": [
    "const mechanism = parse_urdf(Float64, \"../test/urdf/Acrobot.urdf\")\n",
    "remove_fixed_tree_joints!(mechanism)\n",
    "mechanism"
   ]
  },
  {
   "cell_type": "markdown",
   "metadata": {},
   "source": [
    "Of course, we can create a `MechanismState` for the double pendulum, and compute its momentum in some random state:"
   ]
  },
  {
   "cell_type": "code",
   "execution_count": 3,
   "metadata": {},
   "outputs": [
    {
     "data": {
      "text/plain": [
       "Momentum expressed in \"world\":\n",
       "angular: [0.169009, 4.67555, 0.530531], linear: [-2.2641, 0.0, 0.711318]"
      ]
     },
     "execution_count": 3,
     "metadata": {},
     "output_type": "execute_result"
    }
   ],
   "source": [
    "float64state = MechanismState(mechanism)\n",
    "rand!(float64state)\n",
    "const q = configuration(float64state) # for future use\n",
    "const v = velocity(float64state) # for future use\n",
    "momentum(float64state)"
   ]
  },
  {
   "cell_type": "markdown",
   "metadata": {},
   "source": [
    "But now suppose we want the Jacobian of momentum with respect to the joint velocity vector $v$. We can do this using the `ForwardDiff.Dual` type and the `ForwardDiff.jacobian` function. The ForwardDiff package implements forward-mode [automatic differentiation](https://en.wikipedia.org/wiki/Automatic_differentiation)."
   ]
  },
  {
   "cell_type": "markdown",
   "metadata": {},
   "source": [
    "To use `ForwardDiff.jacobian` we need to create a function that maps `v` (as a `Vector`) to momentum (as a `Vector`):"
   ]
  },
  {
   "cell_type": "code",
   "execution_count": 4,
   "metadata": {},
   "outputs": [
    {
     "data": {
      "text/plain": [
       "mom (generic function with 1 method)"
      ]
     },
     "execution_count": 4,
     "metadata": {},
     "output_type": "execute_result"
    }
   ],
   "source": [
    "function mom(v::AbstractVector{T}) where T\n",
    "    # create a `MechanismState` that can handle the element type of `v` (which will be some `ForwardDiff.Dual`):\n",
    "    state = MechanismState{T}(mechanism)\n",
    "    \n",
    "    # set the state variables:\n",
    "    set_configuration!(state, q)\n",
    "    set_velocity!(state, v)\n",
    "    \n",
    "    # return momentum converted to an `Array` (as this is the format that ForwardDiff expects)\n",
    "    Array(momentum(state))\n",
    "end"
   ]
  },
  {
   "cell_type": "markdown",
   "metadata": {},
   "source": [
    "Let's first check that the function returns the same thing we got from `float64state`:"
   ]
  },
  {
   "cell_type": "code",
   "execution_count": 5,
   "metadata": {},
   "outputs": [
    {
     "data": {
      "text/plain": [
       "\u001b[1m\u001b[32mTest Passed\u001b[39m\u001b[22m"
      ]
     },
     "execution_count": 5,
     "metadata": {},
     "output_type": "execute_result"
    }
   ],
   "source": [
    "@test mom(v) == Array(momentum(float64state))"
   ]
  },
  {
   "cell_type": "markdown",
   "metadata": {},
   "source": [
    "That works, so now let's compute the Jacobian with `ForwardDiff`:"
   ]
  },
  {
   "cell_type": "code",
   "execution_count": 6,
   "metadata": {},
   "outputs": [
    {
     "data": {
      "text/plain": [
       "6×2 Array{Float64,2}:\n",
       "  0.165641   0.0872659\n",
       "  4.65024    2.32362  \n",
       "  0.549683   0.234275 \n",
       " -2.39283   -0.937099 \n",
       "  0.0        0.0      \n",
       "  0.710797   0.349064 "
      ]
     },
     "execution_count": 6,
     "metadata": {},
     "output_type": "execute_result"
    }
   ],
   "source": [
    "J = ForwardDiff.jacobian(mom, v)"
   ]
  },
  {
   "cell_type": "markdown",
   "metadata": {},
   "source": [
    "At this point we note that the matrix `J` is simply the momentum matrix (in world frame) of the `Mechanism`. In this case, RigidBodyDynamics.jl has a specialized algorithm for computing this matrix, so let's verify the results:"
   ]
  },
  {
   "cell_type": "code",
   "execution_count": 7,
   "metadata": {},
   "outputs": [
    {
     "data": {
      "text/plain": [
       "MomentumMatrix expressed in \"world\":\n",
       "[0.165641 0.0872659; 4.65024 2.32362; 0.549683 0.234275; -2.39283 -0.937099; 0.0 0.0; 0.710797 0.349064]"
      ]
     },
     "execution_count": 7,
     "metadata": {},
     "output_type": "execute_result"
    }
   ],
   "source": [
    "A = momentum_matrix(float64state)"
   ]
  },
  {
   "cell_type": "code",
   "execution_count": 8,
   "metadata": {},
   "outputs": [
    {
     "data": {
      "text/plain": [
       "\u001b[1m\u001b[32mTest Passed\u001b[39m\u001b[22m"
      ]
     },
     "execution_count": 8,
     "metadata": {},
     "output_type": "execute_result"
    }
   ],
   "source": [
    "@test J ≈ Array(A) atol = 1e-12"
   ]
  },
  {
   "cell_type": "markdown",
   "metadata": {},
   "source": [
    "Gradients with respect to $q$ can be computed in similar fashion."
   ]
  },
  {
   "cell_type": "markdown",
   "metadata": {},
   "source": [
    "# Improving performance"
   ]
  },
  {
   "cell_type": "markdown",
   "metadata": {},
   "source": [
    "Ignoring the fact that we have a specialized method available, let's look at the performance of using `ForwardDiff.jacobian`."
   ]
  },
  {
   "cell_type": "code",
   "execution_count": 9,
   "metadata": {},
   "outputs": [
    {
     "data": {
      "text/plain": [
       "BenchmarkTools.Trial: \n",
       "  memory estimate:  46.44 KiB\n",
       "  allocs estimate:  691\n",
       "  --------------\n",
       "  minimum time:     154.166 μs (0.00% GC)\n",
       "  median time:      183.721 μs (0.00% GC)\n",
       "  mean time:        209.067 μs (5.10% GC)\n",
       "  maximum time:     6.600 ms (94.67% GC)\n",
       "  --------------\n",
       "  samples:          10000\n",
       "  evals/sample:     1"
      ]
     },
     "execution_count": 9,
     "metadata": {},
     "output_type": "execute_result"
    }
   ],
   "source": [
    "using BenchmarkTools\n",
    "@benchmark ForwardDiff.jacobian($mom, $v)"
   ]
  },
  {
   "cell_type": "markdown",
   "metadata": {},
   "source": [
    "That's not great. Note all the allocations. We can do better by making the following modifications:\n",
    "\n",
    "1. use an in-place version of the `jacobian` function, `ForwardDiff.jacobian!`\n",
    "2. reimplement our `mom` function to be in-place as well\n",
    "3. don't create a new `MechanismState` every time\n",
    "\n",
    "The third point is especially important; creating a `MechanismState` is expensive!"
   ]
  },
  {
   "cell_type": "markdown",
   "metadata": {},
   "source": [
    "To facillitate reuse of `MechanismState`s while keeping the code nice and generic, we can use a `StateCache` object.\n",
    "`StateCache` is a container that stores `MechanismState`s of various types (associated with one `Mechanism`), and will ease the process of using `ForwardDiff`.\n",
    "Creating one is easy:"
   ]
  },
  {
   "cell_type": "code",
   "execution_count": 10,
   "metadata": {},
   "outputs": [
    {
     "data": {
      "text/plain": [
       "StateCache{…}(…)"
      ]
     },
     "execution_count": 10,
     "metadata": {},
     "output_type": "execute_result"
    }
   ],
   "source": [
    "const statecache = StateCache(mechanism)"
   ]
  },
  {
   "cell_type": "markdown",
   "metadata": {},
   "source": [
    "`MechanismState`s of a given type can be accessed as follows (note that if a `MechanismState` of a certain type is already available, it will be reused):"
   ]
  },
  {
   "cell_type": "code",
   "execution_count": 11,
   "metadata": {},
   "outputs": [
    {
     "data": {
      "text/plain": [
       "MechanismState{Float32, Float64, Float64, …}(…)"
      ]
     },
     "execution_count": 11,
     "metadata": {},
     "output_type": "execute_result"
    }
   ],
   "source": [
    "float32state = statecache[Float32]"
   ]
  },
  {
   "cell_type": "code",
   "execution_count": 12,
   "metadata": {},
   "outputs": [
    {
     "data": {
      "text/plain": [
       "\u001b[1m\u001b[32mTest Passed\u001b[39m\u001b[22m"
      ]
     },
     "execution_count": 12,
     "metadata": {},
     "output_type": "execute_result"
    }
   ],
   "source": [
    "@test float32state === statecache[Float32]"
   ]
  },
  {
   "cell_type": "markdown",
   "metadata": {},
   "source": [
    "Now we'll use the `StateCache` to reimplement `mom`, making it in-place as well:"
   ]
  },
  {
   "cell_type": "code",
   "execution_count": 13,
   "metadata": {},
   "outputs": [
    {
     "data": {
      "text/plain": [
       "mom! (generic function with 1 method)"
      ]
     },
     "execution_count": 13,
     "metadata": {},
     "output_type": "execute_result"
    }
   ],
   "source": [
    "function mom!(out::AbstractVector, v::AbstractVector{T}) where T\n",
    "    # retrieve a `MechanismState` that can handle the element type of `v`:\n",
    "    state = statecache[T]\n",
    "    \n",
    "    # set the state variables:\n",
    "    set_configuration!(state, q)\n",
    "    set_velocity!(state, v)\n",
    "    \n",
    "    # compute momentum and store it in `out`\n",
    "    m = momentum(state)\n",
    "    copy!(out, [angular(m); linear(m)])\n",
    "end"
   ]
  },
  {
   "cell_type": "markdown",
   "metadata": {},
   "source": [
    "Check that the in-place version works as expected on `Float64` inputs:"
   ]
  },
  {
   "cell_type": "code",
   "execution_count": 14,
   "metadata": {},
   "outputs": [
    {
     "data": {
      "text/plain": [
       "\u001b[1m\u001b[32mTest Passed\u001b[39m\u001b[22m"
      ]
     },
     "execution_count": 14,
     "metadata": {},
     "output_type": "execute_result"
    }
   ],
   "source": [
    "const out = zeros(6) # where we'll be storing our results\n",
    "mom!(out, v)\n",
    "@test out == Array(momentum(float64state))"
   ]
  },
  {
   "cell_type": "markdown",
   "metadata": {},
   "source": [
    "And use `ForwardDiff.jacobian!` to compute the Jacobian:"
   ]
  },
  {
   "cell_type": "code",
   "execution_count": 15,
   "metadata": {},
   "outputs": [
    {
     "data": {
      "text/plain": [
       "\u001b[1m\u001b[32mTest Passed\u001b[39m\u001b[22m"
      ]
     },
     "execution_count": 15,
     "metadata": {},
     "output_type": "execute_result"
    }
   ],
   "source": [
    "const result = DiffResults.JacobianResult(out, v)\n",
    "const config = ForwardDiff.JacobianConfig(mom!, out, v)\n",
    "ForwardDiff.jacobian!(result, mom!, out, v, config)\n",
    "J = DiffResults.jacobian(result)\n",
    "@test J ≈ Array(A) atol = 1e-12"
   ]
  },
  {
   "cell_type": "markdown",
   "metadata": {},
   "source": [
    "Let's check the performance again:"
   ]
  },
  {
   "cell_type": "code",
   "execution_count": 16,
   "metadata": {},
   "outputs": [
    {
     "data": {
      "text/plain": [
       "BenchmarkTools.Trial: \n",
       "  memory estimate:  0 bytes\n",
       "  allocs estimate:  0\n",
       "  --------------\n",
       "  minimum time:     2.705 μs (0.00% GC)\n",
       "  median time:      2.922 μs (0.00% GC)\n",
       "  mean time:        3.199 μs (0.00% GC)\n",
       "  maximum time:     14.215 μs (0.00% GC)\n",
       "  --------------\n",
       "  samples:          10000\n",
       "  evals/sample:     9"
      ]
     },
     "execution_count": 16,
     "metadata": {},
     "output_type": "execute_result"
    }
   ],
   "source": [
    "@benchmark ForwardDiff.jacobian!($result, $mom!, $out, $v, $config)"
   ]
  },
  {
   "cell_type": "markdown",
   "metadata": {},
   "source": [
    "That's much better. Do note that the specialized algorithm is still faster:"
   ]
  },
  {
   "cell_type": "code",
   "execution_count": 17,
   "metadata": {},
   "outputs": [
    {
     "data": {
      "text/plain": [
       "BenchmarkTools.Trial: \n",
       "  memory estimate:  0 bytes\n",
       "  allocs estimate:  0\n",
       "  --------------\n",
       "  minimum time:     548.749 ns (0.00% GC)\n",
       "  median time:      557.556 ns (0.00% GC)\n",
       "  mean time:        590.454 ns (0.00% GC)\n",
       "  maximum time:     1.403 μs (0.00% GC)\n",
       "  --------------\n",
       "  samples:          10000\n",
       "  evals/sample:     187"
      ]
     },
     "execution_count": 17,
     "metadata": {},
     "output_type": "execute_result"
    }
   ],
   "source": [
    "A2 = momentum_matrix(float64state)\n",
    "@benchmark begin\n",
    "    set_configuration!($float64state, $q)\n",
    "    set_velocity!($float64state, $v)\n",
    "    momentum_matrix!($A2, $float64state)\n",
    "end"
   ]
  },
  {
   "cell_type": "code",
   "execution_count": null,
   "metadata": {},
   "outputs": [],
   "source": []
  }
 ],
 "metadata": {
  "kernelspec": {
   "display_name": "Julia 0.6.0 -O3 --check-bounds=no",
   "language": "julia",
   "name": "julia-0.6-for-benchmarking"
  },
  "language_info": {
   "file_extension": ".jl",
   "mimetype": "application/julia",
   "name": "julia",
   "version": "0.6.2"
  }
 },
 "nbformat": 4,
 "nbformat_minor": 2
}
