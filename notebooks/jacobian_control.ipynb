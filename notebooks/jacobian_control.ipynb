{
 "cells": [
  {
   "cell_type": "code",
   "execution_count": 1,
   "metadata": {},
   "outputs": [],
   "source": [
    "using Revise"
   ]
  },
  {
   "cell_type": "code",
   "execution_count": 2,
   "metadata": {},
   "outputs": [],
   "source": [
    "using RigidBodyDynamics\n",
    "using RigidBodyDynamics: source, target\n",
    "using RigidBodyDynamics.PDControl\n",
    "using StaticArrays"
   ]
  },
  {
   "cell_type": "code",
   "execution_count": 3,
   "metadata": {},
   "outputs": [
    {
     "data": {
      "text/plain": [
       "true"
      ]
     },
     "execution_count": 3,
     "metadata": {},
     "output_type": "execute_result"
    }
   ],
   "source": [
    "urdf = Pkg.dir(\"RigidBodyDynamics\", \"test\", \"urdf\", \"Acrobot.urdf\")\n",
    "robot = parse_urdf(Float64, urdf)\n",
    "\n",
    "state = MechanismState(robot)\n",
    "set_velocity!(state, randn(2))\n",
    "set_configuration!(state, randn(2))"
   ]
  },
  {
   "cell_type": "code",
   "execution_count": 4,
   "metadata": {},
   "outputs": [
    {
     "data": {
      "text/plain": [
       "Point3D in \"after_elbow\": [0.0, 0.0, -2.0]"
      ]
     },
     "execution_count": 4,
     "metadata": {},
     "output_type": "execute_result"
    }
   ],
   "source": [
    "effector_body = findbody(robot, \"lower_link\")\n",
    "effector_pt = Point3D(default_frame(effector_body), 0., 0, -2)"
   ]
  },
  {
   "cell_type": "code",
   "execution_count": 5,
   "metadata": {},
   "outputs": [
    {
     "data": {
      "text/plain": [
       "Path from world to lower_link:\n",
       "↓ base_link_to_world\n",
       "↓ shoulder\n",
       "↓ elbow\n"
      ]
     },
     "execution_count": 5,
     "metadata": {},
     "output_type": "execute_result"
    }
   ],
   "source": [
    "p = path(robot, root_body(robot), effector_body)"
   ]
  },
  {
   "cell_type": "code",
   "execution_count": 6,
   "metadata": {},
   "outputs": [
    {
     "data": {
      "text/html": [
       "    <script class='js-collapse-script'>\n",
       "        var curMatch =\n",
       "            window.location.href\n",
       "            .match(/(.*?)\\/notebooks\\/.*\\.ipynb/);\n",
       "\n",
       "        curMatch = curMatch ||\n",
       "            window.location.href\n",
       "            .match(/(.*?)\\/apps\\/.*\\.ipynb/);\n",
       "\n",
       "        if ( curMatch ) {\n",
       "            $('head').append('<base href=\"' + curMatch[1] + '/\">');\n",
       "        }\n",
       "    </script>\n"
      ],
      "text/plain": [
       "HTML{String}(\"    <script class='js-collapse-script'>\\n        var curMatch =\\n            window.location.href\\n            .match(/(.*?)\\\\/notebooks\\\\/.*\\\\.ipynb/);\\n\\n        curMatch = curMatch ||\\n            window.location.href\\n            .match(/(.*?)\\\\/apps\\\\/.*\\\\.ipynb/);\\n\\n        if ( curMatch ) {\\n            \\$('head').append('<base href=\\\"' + curMatch[1] + '/\\\">');\\n        }\\n    </script>\\n\")"
      ]
     },
     "metadata": {},
     "output_type": "display_data"
    },
    {
     "data": {
      "text/html": [
       "<script class='js-collapse-script' src='pkg/WebIO/webio/dist/bundle.js'></script>"
      ],
      "text/plain": [
       "HTML{String}(\"<script class='js-collapse-script' src='pkg/WebIO/webio/dist/bundle.js'></script>\")"
      ]
     },
     "metadata": {},
     "output_type": "display_data"
    },
    {
     "data": {
      "text/html": [
       "<script class='js-collapse-script' src='pkg/WebIO/providers/ijulia_setup.js'></script>"
      ],
      "text/plain": [
       "HTML{String}(\"<script class='js-collapse-script' src='pkg/WebIO/providers/ijulia_setup.js'></script>\")"
      ]
     },
     "metadata": {},
     "output_type": "display_data"
    },
    {
     "data": {
      "text/html": [
       "  <script class='js-collapse-script'>\n",
       "    $('.js-collapse-script').parent('.output_subarea').css('padding', '0');\n",
       "  </script>\n"
      ],
      "text/plain": [
       "HTML{String}(\"  <script class='js-collapse-script'>\\n    \\$('.js-collapse-script').parent('.output_subarea').css('padding', '0');\\n  </script>\\n\")"
      ]
     },
     "metadata": {},
     "output_type": "display_data"
    },
    {
     "name": "stderr",
     "output_type": "stream",
     "text": [
      "\u001b[1m\u001b[36mINFO: \u001b[39m\u001b[22m\u001b[36mLoading HttpServer methods...\n",
      "\u001b[39m"
     ]
    }
   ],
   "source": [
    "using MeshCatMechanisms\n",
    "using Blink"
   ]
  },
  {
   "cell_type": "code",
   "execution_count": 7,
   "metadata": {},
   "outputs": [
    {
     "data": {
      "text/plain": [
       "Blink.AtomShell.Window(1, Blink.AtomShell.Electron(Process(`/home/rdeits/.julia/v0.6/Blink/deps/atom/electron /home/rdeits/.julia/v0.6/Blink/src/AtomShell/main.js port 4091`, ProcessRunning), TCPSocket(RawFD(51) active, 0 bytes waiting), Dict{String,Any}(Pair{String,Any}(\"callback\", Blink.#3))), Blink.Page(1, WebSockets.WebSocket{TCPSocket}(TCPSocket(RawFD(56) active, 0 bytes waiting), true, CONNECTED::WebSockets.ReadyState = 1), Dict{String,Any}(Pair{String,Any}(\"webio\", WebIO.#109),Pair{String,Any}(\"callback\", Blink.#3)), Future(1, 1, 1, Nullable{Any}(true))))"
      ]
     },
     "execution_count": 7,
     "metadata": {},
     "output_type": "execute_result"
    }
   ],
   "source": [
    "vis = MechanismVisualizer(robot, URDFVisuals(urdf))\n",
    "\n",
    "setelement!(vis, effector_pt, 0.07)\n",
    "set_configuration!(vis, configuration(state))\n",
    "\n",
    "open(vis, Window())"
   ]
  },
  {
   "cell_type": "code",
   "execution_count": 8,
   "metadata": {},
   "outputs": [],
   "source": [
    "using MeshCat\n",
    "using GeometryTypes: Point"
   ]
  },
  {
   "cell_type": "code",
   "execution_count": 9,
   "metadata": {},
   "outputs": [
    {
     "data": {
      "text/plain": [
       "MeshCat Visualizer with path /meshcat/circle"
      ]
     },
     "execution_count": 9,
     "metadata": {},
     "output_type": "execute_result"
    }
   ],
   "source": [
    "θ = repeat(linspace(0, 2π, 100), inner=(2,))[2:end]\n",
    "geometry = PointCloud(Point.(0.5 .* sin.(θ), 0.25, 2 .+ 0.5 .* cos.(θ)))\n",
    "delete!(vis[:circle])\n",
    "setobject!(vis[:circle], LineSegments(geometry, LineBasicMaterial()))"
   ]
  },
  {
   "cell_type": "code",
   "execution_count": 10,
   "metadata": {},
   "outputs": [],
   "source": [
    "Jp = point_jacobian(state, p, Point3D(root_frame(robot), 0, 0, 0))\n",
    "α = 100\n",
    "dt = 1e-3\n",
    "for i in 1:5000\n",
    "    desired = [0.5 * sin(i / 300), 0, 2 + 0.5 * cos(i / 300)]\n",
    "    effector_pt_in_world = transform(state, effector_pt, root_frame(robot))\n",
    "    point_jacobian!(Jp, state, p, effector_pt_in_world)\n",
    "    vdes = α * Array(Jp)' * (desired - effector_pt_in_world.v)\n",
    "    set_velocity!(state, vdes)\n",
    "    set_configuration!(state, configuration(state) + dt * velocity(state))\n",
    "    set_configuration!(vis, configuration(state))\n",
    "    sleep(dt)\n",
    "end"
   ]
  },
  {
   "cell_type": "code",
   "execution_count": 11,
   "metadata": {},
   "outputs": [
    {
     "data": {
      "text/plain": [
       "true"
      ]
     },
     "execution_count": 11,
     "metadata": {},
     "output_type": "execute_result"
    }
   ],
   "source": [
    "rand!(state)"
   ]
  },
  {
   "cell_type": "code",
   "execution_count": 12,
   "metadata": {},
   "outputs": [
    {
     "data": {
      "text/plain": [
       "controller! (generic function with 1 method)"
      ]
     },
     "execution_count": 12,
     "metadata": {},
     "output_type": "execute_result"
    }
   ],
   "source": [
    "function controller!(τ, t, state)\n",
    "    desired = [0.5 * sin(t), 0, 2 + 0.5 * cos(t)]\n",
    "    effector_pt_in_world = transform(state, effector_pt, root_frame(robot))\n",
    "    point_jacobian!(Jp, state, p, effector_pt_in_world)\n",
    "    v̇ = similar(velocity(state))\n",
    "    v̇ .= 200 * Array(Jp)' * (desired - effector_pt_in_world.v) .- 20 .* velocity(state)\n",
    "    τ .= inverse_dynamics(state, v̇)\n",
    "end"
   ]
  },
  {
   "cell_type": "code",
   "execution_count": 13,
   "metadata": {},
   "outputs": [],
   "source": [
    "ts, qs, vs = simulate(state, 10, controller!);"
   ]
  },
  {
   "cell_type": "code",
   "execution_count": 14,
   "metadata": {},
   "outputs": [
    {
     "data": {
      "text/plain": [
       "true"
      ]
     },
     "execution_count": 14,
     "metadata": {},
     "output_type": "execute_result"
    }
   ],
   "source": [
    "setanimation!(vis, ts, qs)"
   ]
  },
  {
   "cell_type": "code",
   "execution_count": null,
   "metadata": {},
   "outputs": [],
   "source": []
  },
  {
   "cell_type": "code",
   "execution_count": 101,
   "metadata": {},
   "outputs": [
    {
     "data": {
      "text/plain": [
       "SpatialAcceleration of \"after_elbow\" w.r.t \"world\" in \"after_elbow\":\n",
       "angular: [0.0, 0.0, 0.0], linear: [8.81691, -2.5, -0.0578644]"
      ]
     },
     "execution_count": 101,
     "metadata": {},
     "output_type": "execute_result"
    }
   ],
   "source": [
    "gains = RigidBodyDynamics.PDControl.PDGains(10, 1)\n",
    "H = transform_to_root(state, effector_body)\n",
    "T = transform(twist_wrt_world(state, effector_body), inv(H))\n",
    "a = PDControl.pd(gains, translation(H) - [1, 0, 1], linear(T))\n",
    "\n",
    "Ṫ_desired = SpatialAcceleration(T.body, T.base, T.frame, zero(a), a)"
   ]
  },
  {
   "cell_type": "code",
   "execution_count": 102,
   "metadata": {},
   "outputs": [
    {
     "data": {
      "text/plain": [
       "point_acceleration (generic function with 1 method)"
      ]
     },
     "execution_count": 102,
     "metadata": {},
     "output_type": "execute_result"
    }
   ],
   "source": [
    "function point_acceleration(state, v̇, body)\n",
    "    p = path(state.mechanism, root_body(state.mechanism), body)\n",
    "    J = geometric_jacobian(state, p)\n",
    "    J̇v = -bias_acceleration(state, source(p)) + bias_acceleration(state, target(p))\n",
    "    SpatialAcceleration(J, v̇) + J̇v\n",
    "end"
   ]
  },
  {
   "cell_type": "code",
   "execution_count": null,
   "metadata": {},
   "outputs": [],
   "source": []
  },
  {
   "cell_type": "code",
   "execution_count": 103,
   "metadata": {},
   "outputs": [
    {
     "data": {
      "text/plain": [
       "SpatialAcceleration of \"after_elbow\" w.r.t \"after_elbow\" in \"after_elbow\":\n",
       "angular: [0.0, -1.0, 0.0], linear: [8.83602, -2.5, -0.0555152]"
      ]
     },
     "execution_count": 103,
     "metadata": {},
     "output_type": "execute_result"
    }
   ],
   "source": [
    "transform(state,\n",
    "          -point_acceleration(state, [0, 1], effector_body),\n",
    "          Ṫ_desired.frame) + Ṫ_desired"
   ]
  },
  {
   "cell_type": "code",
   "execution_count": 104,
   "metadata": {},
   "outputs": [],
   "source": [
    "using JuMP\n",
    "using OSQP"
   ]
  },
  {
   "cell_type": "code",
   "execution_count": 134,
   "metadata": {},
   "outputs": [
    {
     "data": {
      "text/plain": [
       "true"
      ]
     },
     "execution_count": 134,
     "metadata": {},
     "output_type": "execute_result"
    }
   ],
   "source": [
    "set_configuration!(state, randn(2))\n",
    "set_velocity!(state, randn(2))"
   ]
  },
  {
   "cell_type": "code",
   "execution_count": 133,
   "metadata": {},
   "outputs": [
    {
     "data": {
      "text/plain": [
       "controller! (generic function with 4 methods)"
      ]
     },
     "execution_count": 133,
     "metadata": {},
     "output_type": "execute_result"
    }
   ],
   "source": [
    "function controller!(τ::AbstractVector, state::MechanismState, body, target=[-1, 0, -1])\n",
    "    solver = OSQPMathProgBaseInterface.OSQPSolver(eps_abs = 1e-8, eps_rel = 1e-16, max_iter = 10000)\n",
    "    MathProgBase.setparameters!(solver, Silent = true)\n",
    "    model = JuMP.Model(solver=solver)\n",
    "    @variable model v̇[1:2]\n",
    "    obj = dot(v̇, v̇)\n",
    "    \n",
    "    gains = RigidBodyDynamics.PDControl.PDGains(1, 0.5)\n",
    "    H = transform_to_root(state, body)\n",
    "    T = transform(twist_wrt_world(state, body), inv(H))\n",
    "    a = PDControl.pd(gains, translation(H) - target, linear(T))\n",
    "\n",
    "    Ṫ_desired = SpatialAcceleration(T.body, T.base, T.frame, zero(a), a)\n",
    "\n",
    "    error = transform(state,\n",
    "              -point_acceleration(state, v̇, body),\n",
    "              Ṫ_desired.frame) + Ṫ_desired\n",
    "    obj += 10 * dot(error.linear, error.linear)\n",
    "    @objective model Min obj\n",
    "    solve(model)\n",
    "    v̇_out = similar(velocity(state))\n",
    "    v̇_out .= getvalue(v̇)\n",
    "    τ .= inverse_dynamics(state, v̇_out)\n",
    "end\n",
    "    "
   ]
  },
  {
   "cell_type": "code",
   "execution_count": 136,
   "metadata": {},
   "outputs": [
    {
     "data": {
      "text/plain": [
       "true"
      ]
     },
     "execution_count": 136,
     "metadata": {},
     "output_type": "execute_result"
    }
   ],
   "source": [
    "ts, qs, vs = simulate(state, \n",
    "    5, \n",
    "    (τ, t, state) -> controller!(τ, state, effector_body),\n",
    "    Δt=1e-3);\n",
    "\n",
    "setanimation!(vis, ts, qs)"
   ]
  },
  {
   "cell_type": "code",
   "execution_count": null,
   "metadata": {},
   "outputs": [],
   "source": []
  }
 ],
 "metadata": {
  "kernelspec": {
   "display_name": "Julia 0.6.3",
   "language": "julia",
   "name": "julia-0.6"
  },
  "language_info": {
   "file_extension": ".jl",
   "mimetype": "application/julia",
   "name": "julia",
   "version": "0.6.3"
  }
 },
 "nbformat": 4,
 "nbformat_minor": 2
}
