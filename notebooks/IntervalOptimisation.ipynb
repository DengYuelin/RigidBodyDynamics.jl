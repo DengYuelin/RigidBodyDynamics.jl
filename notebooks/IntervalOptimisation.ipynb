{
 "cells": [
  {
   "cell_type": "code",
   "execution_count": 1,
   "metadata": {
    "collapsed": false
   },
   "outputs": [
    {
     "name": "stderr",
     "output_type": "stream",
     "text": [
      "\n",
      "WARNING: deprecated syntax \"inner constructor SortedVector(...) around /Users/twan/code/julia/RigidBodyDynamics/v0.6/IntervalOptimisation/src/SortedVectors.jl:16\".\n",
      "Use \"SortedVector{T,F}(...) where {T,F}\" instead.\n"
     ]
    }
   ],
   "source": [
    "using RigidBodyDynamics\n",
    "using StaticArrays\n",
    "using IntervalArithmetic, IntervalOptimisation"
   ]
  },
  {
   "cell_type": "code",
   "execution_count": 2,
   "metadata": {
    "collapsed": false
   },
   "outputs": [],
   "source": [
    "# filename = \"../test/urdf/Acrobot.urdf\"\n",
    "# mechanism = parse_urdf(Float64, filename)\n",
    "# remove_fixed_tree_joints!(mechanism)"
   ]
  },
  {
   "cell_type": "code",
   "execution_count": 3,
   "metadata": {
    "collapsed": false
   },
   "outputs": [
    {
     "data": {
      "text/plain": [
       "Spanning tree:\n",
       "Vertex: world (root)\n",
       "  Vertex: body1, Edge: joint1\n",
       "    Vertex: body2, Edge: joint2\n",
       "      Vertex: body3, Edge: joint3\n",
       "No non-tree joints."
      ]
     },
     "execution_count": 3,
     "metadata": {},
     "output_type": "execute_result"
    }
   ],
   "source": [
    "mechanism = rand_chain_mechanism(Float64, [Revolute{Float64} for i = 1 : 3]...)"
   ]
  },
  {
   "cell_type": "code",
   "execution_count": 4,
   "metadata": {
    "collapsed": false
   },
   "outputs": [
    {
     "data": {
      "text/plain": [
       "IntervalArithmetic.Interval{Float64}"
      ]
     },
     "execution_count": 4,
     "metadata": {},
     "output_type": "execute_result"
    }
   ],
   "source": [
    "const T = IntervalArithmetic.Interval{Float64}"
   ]
  },
  {
   "cell_type": "code",
   "execution_count": 5,
   "metadata": {
    "collapsed": false
   },
   "outputs": [],
   "source": [
    "# g = -9.81 # gravitational acceleration in z-direction\n",
    "# world = RigidBody{Float64}(\"world\")\n",
    "# mechanism = Mechanism(world; gravity = SVector(0, 0, g))\n",
    "# axis = SVector(0., 1., 0.) # joint axis\n",
    "# I_1 = 0.333 # moment of inertia about joint axis\n",
    "# c_1 = -0.5 # center of mass location with respect to joint axis\n",
    "# m_1 = 1. # mass\n",
    "# frame1 = CartesianFrame3D(\"upper_link\") # the reference frame in which the spatial inertia will be expressed\n",
    "# inertia1 = SpatialInertia(frame1, I_1 * axis * axis.', m_1 * SVector(0, 0, c_1), m_1)\n",
    "# upperlink = RigidBody(inertia1)\n",
    "# shoulder = Joint(\"shoulder\", Revolute(axis))\n",
    "# beforeShoulderToWorld = eye(Transform3D, frame_before(shoulder), default_frame(world))\n",
    "# attach!(mechanism, world, shoulder, beforeShoulderToWorld, upperlink)"
   ]
  },
  {
   "cell_type": "code",
   "execution_count": 6,
   "metadata": {
    "collapsed": false
   },
   "outputs": [
    {
     "data": {
      "text/plain": [
       "MechanismState{IntervalArithmetic.Interval{Float64}, Float64, IntervalArithmetic.Interval{Float64}}(…)"
      ]
     },
     "execution_count": 6,
     "metadata": {},
     "output_type": "execute_result"
    }
   ],
   "source": [
    "const state = MechanismState(T, mechanism)"
   ]
  },
  {
   "cell_type": "code",
   "execution_count": 7,
   "metadata": {
    "collapsed": false
   },
   "outputs": [
    {
     "data": {
      "text/plain": [
       "Point3D in \"after_joint3\": IntervalArithmetic.Interval{Float64}[[1, 1], [0, 0], [0, 0]]"
      ]
     },
     "execution_count": 7,
     "metadata": {},
     "output_type": "execute_result"
    }
   ],
   "source": [
    "joint = last(joints(mechanism))\n",
    "const tip = Point3D(frame_after(joint), T(1.), T(0.), T(0.))"
   ]
  },
  {
   "cell_type": "code",
   "execution_count": 8,
   "metadata": {
    "collapsed": false
   },
   "outputs": [
    {
     "data": {
      "text/plain": [
       "tip_position_x_error (generic function with 1 method)"
      ]
     },
     "execution_count": 8,
     "metadata": {},
     "output_type": "execute_result"
    }
   ],
   "source": [
    "function tip_position_x_error(q)\n",
    "    set_configuration!(state, q)\n",
    "    tf = transform_to_root(state, tip.frame)\n",
    "    tip_world = tf * tip\n",
    "    tip_world.v[3]\n",
    "end"
   ]
  },
  {
   "cell_type": "code",
   "execution_count": 9,
   "metadata": {
    "collapsed": false
   },
   "outputs": [
    {
     "data": {
      "text/plain": [
       "cartesian_product (generic function with 1 method)"
      ]
     },
     "execution_count": 9,
     "metadata": {},
     "output_type": "execute_result"
    }
   ],
   "source": [
    "cartesian_product(X, n) = n == 1 ? X : X × cartesian_product(X, n-1)"
   ]
  },
  {
   "cell_type": "code",
   "execution_count": 12,
   "metadata": {
    "collapsed": false
   },
   "outputs": [
    {
     "data": {
      "text/plain": [
       "([-4.0742, -1.48336], IntervalArithmetic.IntervalBox{3,Float64}[[-3.927, -3.53429] × [-3.927, -3.53429] × [2.35619, 2.7489], [-3.927, -3.53429] × [-3.927, -3.53429] × [-3.927, -3.53429], [-3.927, -3.53429] × [2.35619, 2.7489] × [2.35619, 2.7489], [-3.927, -3.53429] × [2.35619, 2.7489] × [-3.927, -3.53429], [2.35619, 2.7489] × [-3.927, -3.53429] × [2.35619, 2.7489], [2.35619, 2.7489] × [-3.927, -3.53429] × [-3.927, -3.53429], [2.35619, 2.7489] × [2.35619, 2.7489] × [2.35619, 2.7489], [2.35619, 2.7489] × [2.35619, 2.7489] × [-3.927, -3.53429], [-3.927, -3.53429] × [-3.927, -3.53429] × [2.74889, 3.1416], [-3.927, -3.53429] × [-3.927, -3.53429] × [-3.5343, -3.14159]  …  [5.89048, 6.28319] × [0, 0.3927] × [-3.927, -3.53429], [5.89048, 6.28319] × [0, 0.3927] × [2.35619, 2.7489], [-0.785399, -0.392699] × [-5.49779, -5.10508] × [-2.3562, -1.96349], [5.49778, 5.89049] × [-5.49779, -5.10508] × [-2.3562, -1.96349], [-0.785399, -0.392699] × [-5.49779, -5.10508] × [3.92699, 4.31969], [5.49778, 5.89049] × [-5.49779, -5.10508] × [3.92699, 4.31969], [-0.785399, -0.392699] × [0.785398, 1.1781] × [-2.3562, -1.96349], [-0.785399, -0.392699] × [0.785398, 1.1781] × [3.92699, 4.31969], [5.49778, 5.89049] × [0.785398, 1.1781] × [-2.3562, -1.96349], [5.49778, 5.89049] × [0.785398, 1.1781] × [3.92699, 4.31969]])"
      ]
     },
     "execution_count": 12,
     "metadata": {},
     "output_type": "execute_result"
    }
   ],
   "source": [
    "globalmin, minimizers = minimise(tip_position_x_error, cartesian_product(-2π..2π, num_positions(mechanism)), 0.7)"
   ]
  },
  {
   "cell_type": "code",
   "execution_count": 13,
   "metadata": {
    "collapsed": false
   },
   "outputs": [
    {
     "data": {
      "text/plain": [
       "19240"
      ]
     },
     "execution_count": 13,
     "metadata": {},
     "output_type": "execute_result"
    }
   ],
   "source": [
    "length(minimizers)"
   ]
  },
  {
   "cell_type": "code",
   "execution_count": 11,
   "metadata": {
    "collapsed": false
   },
   "outputs": [],
   "source": [
    "# using BenchmarkTools\n",
    "# @benchmark globalmin, minimizers = minimise(tip_position_x_error, cartesian_product(-2π..2π, num_positions(mechanism)), 1e-1)"
   ]
  },
  {
   "cell_type": "code",
   "execution_count": 12,
   "metadata": {
    "collapsed": false
   },
   "outputs": [],
   "source": [
    "# using Plots\n",
    "# surface(linspace(-2π, 2π, 50), linspace(-2π, 2π, 50), (q1, q2) -> mid(tip_position_x_error([T(q1); T(q2)])))"
   ]
  },
  {
   "cell_type": "code",
   "execution_count": 13,
   "metadata": {
    "collapsed": false
   },
   "outputs": [
    {
     "name": "stderr",
     "output_type": "stream",
     "text": [
      "\u001b[91mERROR (unhandled task failure): \u001b[91mInterruptException:\u001b[39m\n",
      "Stacktrace:\u001b[39m\u001b[91mERROR (unhandled task failure): \u001b[91mInterruptException:\u001b[39m\n",
      "\u001b[39m\u001b[91mERROR (unhandled task failure): \u001b[91mInterruptException:\u001b[39m\n",
      "Stacktrace:\n",
      " [1] \u001b[1mprocess_events\u001b[22m\u001b[22m at \u001b[1m./libuv.jl:82\u001b[22m\u001b[22m [inlined]\n",
      " [2] \u001b[1mwait\u001b[22m\u001b[22m\u001b[1m(\u001b[22m\u001b[22m\u001b[1m)\u001b[22m\u001b[22m at \u001b[1m./event.jl:216\u001b[22m\u001b[22m\n",
      " [3] \u001b[1mwait\u001b[22m\u001b[22m\u001b[1m(\u001b[22m\u001b[22m\u001b[39m\u001b[91mERROR (unhandled task failure): \u001b[91mInterruptException:\u001b[39m\n",
      "\u001b[39m"
     ]
    }
   ],
   "source": [
    "# using BenchmarkTools\n",
    "# @benchmark sin(x) setup = x = T(1.)"
   ]
  },
  {
   "cell_type": "code",
   "execution_count": null,
   "metadata": {
    "collapsed": true
   },
   "outputs": [],
   "source": []
  }
 ],
 "metadata": {
  "kernelspec": {
   "display_name": "Julia 0.6.0 -O3 --check-bounds=no",
   "language": "julia",
   "name": "julia-0.6-for-benchmarking"
  },
  "language_info": {
   "file_extension": ".jl",
   "mimetype": "application/julia",
   "name": "julia",
   "version": "0.6.0"
  }
 },
 "nbformat": 4,
 "nbformat_minor": 2
}
