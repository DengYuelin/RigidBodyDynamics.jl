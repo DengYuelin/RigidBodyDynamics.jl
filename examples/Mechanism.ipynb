{
 "cells": [
  {
   "cell_type": "code",
   "execution_count": 1,
   "metadata": {
    "collapsed": false
   },
   "outputs": [],
   "source": [
    "importall Base\n",
    "using DataStructures"
   ]
  },
  {
   "cell_type": "code",
   "execution_count": 2,
   "metadata": {
    "collapsed": false
   },
   "outputs": [
    {
     "data": {
      "text/plain": [
       "center_of_mass (generic function with 2 methods)"
      ]
     },
     "execution_count": 2,
     "metadata": {},
     "output_type": "execute_result"
    }
   ],
   "source": [
    "include(\"frames.jl\")\n",
    "include(\"spatial_inertia.jl\")\n",
    "include(\"rigid_body.jl\")\n",
    "include(\"spatial_motion_force.jl\")\n",
    "include(\"joint.jl\")\n",
    "include(\"tree.jl\")\n",
    "include(\"cache_element.jl\")\n",
    "include(\"frame_cache.jl\")\n",
    "include(\"mechanism.jl\")"
   ]
  },
  {
   "cell_type": "code",
   "execution_count": 3,
   "metadata": {
    "collapsed": false
   },
   "outputs": [
    {
     "data": {
      "text/plain": [
       "RigidBody{Float64}(CartesianFrame3D(\"world\"),Nullable{SpatialInertia{Float64}}())"
      ]
     },
     "execution_count": 3,
     "metadata": {},
     "output_type": "execute_result"
    }
   ],
   "source": [
    "mechanism = Mechanism{Float64}(\"world\");\n",
    "world = root(mechanism)"
   ]
  },
  {
   "cell_type": "code",
   "execution_count": 4,
   "metadata": {
    "collapsed": false
   },
   "outputs": [],
   "source": [
    "J = rand(Mat{3, 3, Float64}); J = J * J'\n",
    "c = rand(Vec{3, Float64})\n",
    "m = rand()\n",
    "inertia1 = SpatialInertia(CartesianFrame3D(\"body1\"), J, c, m)\n",
    "body1 = RigidBody(inertia1);\n",
    "joint1 = Joint(\"1\", QuaternionFloating());\n",
    "joint1ToWorld = Transform3D(joint1.frameBefore, world.frame, nquatrand(), rand(Vec{3, Float64}))\n",
    "body1ToJoint1 = Transform3D(inertia1.frame, joint1.frameAfter, nquatrand(), rand(Vec{3, Float64}))\n",
    "attach!(mechanism, world, joint1, joint1ToWorld, body1, body1ToJoint1);"
   ]
  },
  {
   "cell_type": "code",
   "execution_count": 5,
   "metadata": {
    "collapsed": false
   },
   "outputs": [],
   "source": [
    "joint2 = Joint(\"2\", Revolute(rand(Vec{3, Float64})));\n",
    "inertia2 = SpatialInertia(joint2.frameAfter, J, c, m)\n",
    "body2 = RigidBody(inertia2)\n",
    "joint2ToBody1 = Transform3D(joint2.frameBefore, body1.frame, nquatrand(), rand(Vec{3, Float64}))\n",
    "attach!(mechanism, body1, joint2, joint2ToBody1, body2);"
   ]
  },
  {
   "cell_type": "code",
   "execution_count": 6,
   "metadata": {
    "collapsed": false
   },
   "outputs": [],
   "source": [
    "x = MechanismState{Float64}(mechanism);"
   ]
  },
  {
   "cell_type": "code",
   "execution_count": 7,
   "metadata": {
    "collapsed": false
   },
   "outputs": [
    {
     "data": {
      "text/plain": [
       "7"
      ]
     },
     "execution_count": 7,
     "metadata": {},
     "output_type": "execute_result"
    }
   ],
   "source": [
    "num_velocities(x)"
   ]
  },
  {
   "cell_type": "code",
   "execution_count": 8,
   "metadata": {
    "collapsed": false
   },
   "outputs": [
    {
     "data": {
      "text/plain": [
       "8-element Array{Float64,1}:\n",
       " 2.26467e-314\n",
       " 2.2686e-314 \n",
       " 2.26467e-314\n",
       " 2.26467e-314\n",
       " 2.26467e-314\n",
       " 2.26467e-314\n",
       " 2.26467e-314\n",
       " 2.3034e-314 "
      ]
     },
     "execution_count": 8,
     "metadata": {},
     "output_type": "execute_result"
    }
   ],
   "source": [
    "configuration_vector(x)"
   ]
  },
  {
   "cell_type": "code",
   "execution_count": 9,
   "metadata": {
    "collapsed": false
   },
   "outputs": [
    {
     "data": {
      "text/plain": [
       "7-element Array{Float64,1}:\n",
       " 1.0\n",
       " 0.0\n",
       " 0.0\n",
       " 0.0\n",
       " 0.0\n",
       " 0.0\n",
       " 0.0"
      ]
     },
     "execution_count": 9,
     "metadata": {},
     "output_type": "execute_result"
    }
   ],
   "source": [
    "zero_configuration!(joint1, x.q[joint1])"
   ]
  },
  {
   "cell_type": "code",
   "execution_count": 10,
   "metadata": {
    "collapsed": false
   },
   "outputs": [
    {
     "data": {
      "text/plain": [
       "DataStructures.OrderedDict{Joint,Array{Float64,1}} with 2 entries:\n",
       "  Joint(\"1\",CartesianFram… => [1.0,0.0,0.0,0.0,0.0,0.0,0.0]\n",
       "  Joint(\"2\",CartesianFram… => [2.303401036e-314]"
      ]
     },
     "execution_count": 10,
     "metadata": {},
     "output_type": "execute_result"
    }
   ],
   "source": [
    "x.q"
   ]
  },
  {
   "cell_type": "code",
   "execution_count": 11,
   "metadata": {
    "collapsed": false
   },
   "outputs": [],
   "source": [
    "zero_configuration!(x)"
   ]
  },
  {
   "cell_type": "code",
   "execution_count": 12,
   "metadata": {
    "collapsed": false
   },
   "outputs": [],
   "source": [
    "cache = FrameCache(mechanism, x);"
   ]
  },
  {
   "cell_type": "code",
   "execution_count": 13,
   "metadata": {
    "collapsed": false
   },
   "outputs": [
    {
     "data": {
      "text/plain": [
       "Transform3D{Float64}(CartesianFrame3D(\"after_2\"),CartesianFrame3D(\"body1\"),0.06880000269351419 + 0.6643778862981892im + 0.4380953054358256jm + 0.6016153980596022km,FixedSizeArrays.Vec{3,Float64}((0.18572969833561245,0.3053994904689805,0.9631195215820516)))"
      ]
     },
     "execution_count": 13,
     "metadata": {},
     "output_type": "execute_result"
    }
   ],
   "source": [
    "relative_transform(cache, joint2.frameAfter, body1.frame)"
   ]
  },
  {
   "cell_type": "code",
   "execution_count": 14,
   "metadata": {
    "collapsed": false
   },
   "outputs": [
    {
     "data": {
      "text/plain": [
       "Point3D{Float64}(CartesianFrame3D(\"world\"),FixedSizeArrays.Vec{3,Float64}((0.3534036068039646,1.3345302890861634,-1.5280298844622402)))"
      ]
     },
     "execution_count": 14,
     "metadata": {},
     "output_type": "execute_result"
    }
   ],
   "source": [
    "center_of_mass(mechanism, cache)"
   ]
  },
  {
   "cell_type": "code",
   "execution_count": 15,
   "metadata": {
    "collapsed": false
   },
   "outputs": [
    {
     "data": {
      "text/plain": [
       "1.5827602387776496"
      ]
     },
     "execution_count": 15,
     "metadata": {},
     "output_type": "execute_result"
    }
   ],
   "source": [
    "mass(mechanism)"
   ]
  },
  {
   "cell_type": "code",
   "execution_count": 16,
   "metadata": {
    "collapsed": false
   },
   "outputs": [
    {
     "data": {
      "text/plain": [
       "1.5827602387776496"
      ]
     },
     "execution_count": 16,
     "metadata": {},
     "output_type": "execute_result"
    }
   ],
   "source": [
    "sum([isnull(body.inertia) ? 0. : get(body.inertia).mass for body in bodies(mechanism)])"
   ]
  },
  {
   "cell_type": "code",
   "execution_count": 21,
   "metadata": {
    "collapsed": false
   },
   "outputs": [
    {
     "data": {
      "text/plain": [
       "Point3D{Float64}(CartesianFrame3D(\"world\"),FixedSizeArrays.Vec{3,Float64}((0.5868542946486377,1.2549468941339792,-0.8213181620394061)))"
      ]
     },
     "execution_count": 21,
     "metadata": {},
     "output_type": "execute_result"
    }
   ],
   "source": [
    "transform(cache, Point3D{Float64}(joint2.frameAfter), root(mechanism).frame)"
   ]
  },
  {
   "cell_type": "code",
   "execution_count": null,
   "metadata": {
    "collapsed": true
   },
   "outputs": [],
   "source": []
  }
 ],
 "metadata": {
  "kernelspec": {
   "display_name": "Julia 0.4.5",
   "language": "julia",
   "name": "julia-0.4"
  },
  "language_info": {
   "file_extension": ".jl",
   "mimetype": "application/julia",
   "name": "julia",
   "version": "0.4.5"
  }
 },
 "nbformat": 4,
 "nbformat_minor": 0
}
