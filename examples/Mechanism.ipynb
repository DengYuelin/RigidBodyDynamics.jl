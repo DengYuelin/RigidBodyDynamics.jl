{
 "cells": [
  {
   "cell_type": "code",
   "execution_count": 1,
   "metadata": {
    "collapsed": false
   },
   "outputs": [],
   "source": [
    "push!(LOAD_PATH, \"../src\")\n",
    "using Quaternions\n",
    "using FixedSizeArrays\n",
    "using RigidBodyDynamics"
   ]
  },
  {
   "cell_type": "code",
   "execution_count": 2,
   "metadata": {
    "collapsed": false
   },
   "outputs": [
    {
     "data": {
      "text/plain": [
       "RigidBody: \"world\""
      ]
     },
     "execution_count": 2,
     "metadata": {},
     "output_type": "execute_result"
    }
   ],
   "source": [
    "mechanism = Mechanism{Float64}(\"world\")\n",
    "world = root_body(mechanism)"
   ]
  },
  {
   "cell_type": "code",
   "execution_count": 3,
   "metadata": {
    "collapsed": false
   },
   "outputs": [],
   "source": [
    "body1 = RigidBody(rand(SpatialInertia{Float64}, CartesianFrame3D(\"body1\")));\n",
    "joint1 = Joint(\"joint1\", QuaternionFloating());\n",
    "joint1ToWorld = rand(Transform3D{Float64}, joint1.frameBefore, world.frame)\n",
    "body1ToJoint1 = rand(Transform3D{Float64}, body1.frame, joint1.frameAfter)\n",
    "attach!(mechanism, world, joint1, joint1ToWorld, body1, body1ToJoint1);"
   ]
  },
  {
   "cell_type": "code",
   "execution_count": 4,
   "metadata": {
    "collapsed": false
   },
   "outputs": [],
   "source": [
    "joint2 = Joint(\"joint2\", Revolute(rand(Vec{3, Float64})));\n",
    "joint2ToBody1 = rand(Transform3D{Float64}, joint2.frameBefore, body1.frame)\n",
    "body2frame = CartesianFrame3D(\"body2\")\n",
    "body2 = RigidBody(rand(SpatialInertia{Float64}, body2frame));\n",
    "body2ToJoint2 = rand(Transform3D{Float64}, body2frame, joint2.frameAfter)\n",
    "attach!(mechanism, body1, joint2, joint2ToBody1, body2, body2ToJoint2);"
   ]
  },
  {
   "cell_type": "code",
   "execution_count": 5,
   "metadata": {
    "collapsed": false
   },
   "outputs": [
    {
     "data": {
      "text/plain": [
       "Vertex: world (root)\n",
       "  Vertex: body1, Edge: joint1\n",
       "    Vertex: body2, Edge: joint2"
      ]
     },
     "execution_count": 5,
     "metadata": {},
     "output_type": "execute_result"
    }
   ],
   "source": [
    "mechanism"
   ]
  },
  {
   "cell_type": "code",
   "execution_count": 6,
   "metadata": {
    "collapsed": false
   },
   "outputs": [],
   "source": [
    "x = MechanismState(Float64, mechanism);"
   ]
  },
  {
   "cell_type": "code",
   "execution_count": 7,
   "metadata": {
    "collapsed": false
   },
   "outputs": [
    {
     "data": {
      "text/plain": [
       "7-element Array{Float64,1}:\n",
       "  0.279752 \n",
       "  0.341751 \n",
       " -0.869452 \n",
       "  0.221356 \n",
       "  0.0925629\n",
       "  0.385457 \n",
       "  0.224419 "
      ]
     },
     "execution_count": 7,
     "metadata": {},
     "output_type": "execute_result"
    }
   ],
   "source": [
    "rand!(x)\n",
    "setdirty!(x)\n",
    "x.q[joint1]"
   ]
  },
  {
   "cell_type": "code",
   "execution_count": 8,
   "metadata": {
    "collapsed": false
   },
   "outputs": [
    {
     "data": {
      "text/plain": [
       "8"
      ]
     },
     "execution_count": 8,
     "metadata": {},
     "output_type": "execute_result"
    }
   ],
   "source": [
    "num_positions(x)"
   ]
  },
  {
   "cell_type": "code",
   "execution_count": 9,
   "metadata": {
    "collapsed": false
   },
   "outputs": [
    {
     "data": {
      "text/plain": [
       "7"
      ]
     },
     "execution_count": 9,
     "metadata": {},
     "output_type": "execute_result"
    }
   ],
   "source": [
    "num_velocities(x)"
   ]
  },
  {
   "cell_type": "code",
   "execution_count": 10,
   "metadata": {
    "collapsed": false
   },
   "outputs": [
    {
     "data": {
      "text/plain": [
       "Transform3D from \"after_joint2\" to \"body1\":\n",
       "rotation: 3.7533655654172486 rad about [-0.016907547855919466,0.2173819525446583,-0.9759401731322325], translation: Vec(0.7202320682909007,0.3538792910032498,0.3276280127708483)\n"
      ]
     },
     "execution_count": 10,
     "metadata": {},
     "output_type": "execute_result"
    }
   ],
   "source": [
    "relative_transform(x, joint2.frameAfter, body1.frame)"
   ]
  },
  {
   "cell_type": "code",
   "execution_count": 11,
   "metadata": {
    "collapsed": false
   },
   "outputs": [
    {
     "data": {
      "text/plain": [
       "Point3D in \"world\": Vec(-0.35933380333107917,1.9178204805394363,0.6534809126528677)"
      ]
     },
     "execution_count": 11,
     "metadata": {},
     "output_type": "execute_result"
    }
   ],
   "source": [
    "center_of_mass(x)"
   ]
  },
  {
   "cell_type": "code",
   "execution_count": 12,
   "metadata": {
    "collapsed": false
   },
   "outputs": [
    {
     "data": {
      "text/plain": [
       "0.9431674736504114"
      ]
     },
     "execution_count": 12,
     "metadata": {},
     "output_type": "execute_result"
    }
   ],
   "source": [
    "mass(mechanism)"
   ]
  },
  {
   "cell_type": "code",
   "execution_count": 13,
   "metadata": {
    "collapsed": false
   },
   "outputs": [
    {
     "data": {
      "text/plain": [
       "Point3D in \"world\": Vec(0.037915035757811744,1.4589610697611022,0.9043336596874957)"
      ]
     },
     "execution_count": 13,
     "metadata": {},
     "output_type": "execute_result"
    }
   ],
   "source": [
    "transform(x, Point3D{Float64}(joint2.frameAfter), root_frame(mechanism))"
   ]
  },
  {
   "cell_type": "code",
   "execution_count": 14,
   "metadata": {
    "collapsed": false
   },
   "outputs": [
    {
     "data": {
      "text/plain": [
       "Twist of \"after_joint2\" w.r.t \"after_joint1\" in \"world\":\n",
       "angular: Vec(0.034130556579783033,0.10570053550349046,-0.0873033887001578), linear: Vec(-0.2229607974745511,0.03417552224331094,-0.04578751375594736)"
      ]
     },
     "execution_count": 14,
     "metadata": {},
     "output_type": "execute_result"
    }
   ],
   "source": [
    "relative_twist(x, body2, body1)"
   ]
  },
  {
   "cell_type": "code",
   "execution_count": 15,
   "metadata": {
    "collapsed": false
   },
   "outputs": [
    {
     "data": {
      "text/plain": [
       "Twist of \"world\" w.r.t \"world\" in \"world\":\n",
       "angular: Vec(0.0,0.0,0.0), linear: Vec(0.0,0.0,0.0)"
      ]
     },
     "execution_count": 15,
     "metadata": {},
     "output_type": "execute_result"
    }
   ],
   "source": [
    "relative_twist(x, body1, world) + relative_twist(x, body2, body1) + relative_twist(x, world, body2)"
   ]
  },
  {
   "cell_type": "code",
   "execution_count": 16,
   "metadata": {
    "collapsed": false
   },
   "outputs": [
    {
     "data": {
      "text/plain": [
       "GeometricJacobian: body: \"world\", base: \"after_joint2\", expressed in \"world\":\n",
       "6x7 Array{Float64,2}:\n",
       " -0.166964   0.504557   0.60875   …  -0.0       -0.0       -0.0      \n",
       " -0.517079  -0.468627  -0.402481     -0.0       -0.0       -0.0      \n",
       "  0.427081   0.725128  -0.68369      -0.0       -0.0       -0.0      \n",
       "  1.09071    0.704884  -0.275223      0.504557   0.60875   -0.612246 \n",
       " -0.167184  -0.220738   0.708252     -0.468627  -0.402481  -0.786382 \n",
       "  0.223989  -0.633127  -0.661996  …   0.725128  -0.68369   -0.0822021"
      ]
     },
     "execution_count": 16,
     "metadata": {},
     "output_type": "execute_result"
    }
   ],
   "source": [
    "p = path(mechanism, body2, world)\n",
    "J = geometric_jacobian(x, p)"
   ]
  },
  {
   "cell_type": "code",
   "execution_count": 17,
   "metadata": {
    "collapsed": false
   },
   "outputs": [
    {
     "data": {
      "text/plain": [
       "Twist of \"world\" w.r.t \"after_joint2\" in \"world\":\n",
       "angular: Vec(0.6167448034242595,-0.6285106394933232,-0.14677992309855492), linear: Vec(0.7851308537638,-0.3780815690039123,-0.850639098931806)"
      ]
     },
     "execution_count": 17,
     "metadata": {},
     "output_type": "execute_result"
    }
   ],
   "source": [
    "Twist(J, velocity_vector(x, p))"
   ]
  },
  {
   "cell_type": "code",
   "execution_count": 18,
   "metadata": {
    "collapsed": false
   },
   "outputs": [
    {
     "data": {
      "text/plain": [
       "7x7 Array{Float64,2}:\n",
       "  1.05608      -1.12173      -0.623718     …   1.16149      -0.0364986 \n",
       " -1.12173       1.45323      -0.695614        -0.88679      -0.125493  \n",
       " -0.623718     -0.695614      1.82004          2.60209e-17   0.0831013 \n",
       " -8.32667e-17   0.368828     -1.16149         -4.16334e-17  -0.033382  \n",
       " -0.368828      1.66533e-16   0.88679         -1.38778e-16   0.0263229 \n",
       "  1.16149      -0.88679      -2.77556e-17  …   0.943167      0.043269  \n",
       " -0.0364986    -0.125493      0.0831013        0.043269      0.00514269"
      ]
     },
     "execution_count": 18,
     "metadata": {},
     "output_type": "execute_result"
    }
   ],
   "source": [
    "mass_matrix(x)"
   ]
  },
  {
   "cell_type": "code",
   "execution_count": 19,
   "metadata": {
    "collapsed": false
   },
   "outputs": [
    {
     "data": {
      "text/plain": [
       "MomentumMatrix expressed in \"world\":\n",
       "6x7 Array{Float64,2}:\n",
       " -0.690243   -0.732076   2.91525    …   0.98861   -0.335991    0.163169 \n",
       "  0.0824188  -0.611185  -0.0254677     -0.143487   0.405212   -0.0182823\n",
       " -1.73633     1.91319   -0.0220157      0.964717  -1.37396    -0.0527899\n",
       "  0.935641   -0.729029   0.0462037     -0.574153   0.577451    0.0273103\n",
       "  0.764927   -0.524513  -0.187389       0.379607   0.74169     0.0289768\n",
       " -0.156688   -0.340344   1.44852    …   0.644834   0.0775304   0.0457597"
      ]
     },
     "execution_count": 19,
     "metadata": {},
     "output_type": "execute_result"
    }
   ],
   "source": [
    "A = momentum_matrix(x)"
   ]
  },
  {
   "cell_type": "code",
   "execution_count": 20,
   "metadata": {
    "collapsed": false
   },
   "outputs": [
    {
     "data": {
      "text/plain": [
       "Momentum expressed in \"world\":\n",
       "angular: Vec(-0.964220503551722,-0.6906699102232732,1.352678428381408), linear: Vec(-0.6258239337305629,0.6521125475777928,-0.14529904348213904)"
      ]
     },
     "execution_count": 20,
     "metadata": {},
     "output_type": "execute_result"
    }
   ],
   "source": [
    "Momentum(A, velocity_vector(x))"
   ]
  },
  {
   "cell_type": "code",
   "execution_count": 21,
   "metadata": {
    "collapsed": false
   },
   "outputs": [
    {
     "data": {
      "text/plain": [
       "SpatialAcceleration of \"after_joint2\" w.r.t \"world\" in \"world\":\n",
       "angular: Vec(0.20161352191929097,0.8112094483080884,-0.8646920833648908), linear: Vec(-1.9961134866757866,0.46011802831961324,-0.7838663367259984)"
      ]
     },
     "execution_count": 21,
     "metadata": {},
     "output_type": "execute_result"
    }
   ],
   "source": [
    "accel = SpatialAcceleration(joint2.frameAfter, world.frame, joint2.frameAfter, rand(Vec{3, Float64}), rand(Vec{3, Float64}))\n",
    "transform(x, accel, world.frame)"
   ]
  },
  {
   "cell_type": "code",
   "execution_count": 22,
   "metadata": {
    "collapsed": false
   },
   "outputs": [
    {
     "data": {
      "text/plain": [
       "SpatialAcceleration of \"after_joint2\" w.r.t \"world\" in \"world\":\n",
       "angular: Vec(-0.07038582513454873,-0.04883423083205911,-0.08664167393316163), linear: Vec(-0.15671503053469849,-0.10047717808956447,0.0231627715889917)"
      ]
     },
     "execution_count": 22,
     "metadata": {},
     "output_type": "execute_result"
    }
   ],
   "source": [
    "bias_acceleration(x, body2)"
   ]
  },
  {
   "cell_type": "code",
   "execution_count": 23,
   "metadata": {
    "collapsed": false
   },
   "outputs": [
    {
     "data": {
      "text/plain": [
       "Dict{RigidBodyDynamics.Joint,Array{Float64,1}} with 2 entries:\n",
       "  Joint \"joint2\": Revolut… => [0.48046471812754654]\n",
       "  Joint \"joint1\": Quatern… => [-1.6894368715667403,-4.486933184949033,15.530955…"
      ]
     },
     "execution_count": 23,
     "metadata": {},
     "output_type": "execute_result"
    }
   ],
   "source": [
    "v̇ = [j::Joint => rand(num_velocities(j))::Vector{Float64} for j in joints(mechanism)]\n",
    "τ = inverse_dynamics(x, v̇)"
   ]
  },
  {
   "cell_type": "code",
   "execution_count": 24,
   "metadata": {
    "collapsed": false
   },
   "outputs": [
    {
     "data": {
      "text/plain": [
       "SpatialAcceleration of \"after_joint1\" w.r.t \"after_joint2\" in \"world\":\n",
       "angular: Vec(0.0011524886990566668,-0.16557776443729383,0.26373532512245557), linear: Vec(0.6089877576845621,0.03115262946115678,0.06971653253252282)"
      ]
     },
     "execution_count": 24,
     "metadata": {},
     "output_type": "execute_result"
    }
   ],
   "source": [
    "relative_acceleration(x, body1, body2, v̇)"
   ]
  },
  {
   "cell_type": "code",
   "execution_count": 25,
   "metadata": {
    "collapsed": false
   },
   "outputs": [
    {
     "data": {
      "text/plain": [
       "Vertex: world (root)\n",
       "  Vertex: body1, Edge: joint1\n",
       "    Vertex: body2, Edge: joint2\n",
       "      Vertex: body3, Edge: joint3"
      ]
     },
     "execution_count": 25,
     "metadata": {},
     "output_type": "execute_result"
    }
   ],
   "source": [
    "rand_chain_mechanism(Float64, QuaternionFloating, Revolute{Float64}, Revolute{Float64})"
   ]
  },
  {
   "cell_type": "code",
   "execution_count": 26,
   "metadata": {
    "collapsed": false
   },
   "outputs": [
    {
     "data": {
      "text/plain": [
       "Vertex: world (root)\n",
       "  Vertex: body1, Edge: joint1\n",
       "    Vertex: body2, Edge: joint2\n",
       "      Vertex: body3, Edge: joint3\n",
       "        Vertex: body4, Edge: joint4\n",
       "        Vertex: body6, Edge: joint6\n",
       "          Vertex: body7, Edge: joint7\n",
       "          Vertex: body8, Edge: joint8\n",
       "        Vertex: body11, Edge: joint11\n",
       "      Vertex: body5, Edge: joint5\n",
       "        Vertex: body9, Edge: joint9\n",
       "      Vertex: body10, Edge: joint10"
      ]
     },
     "execution_count": 26,
     "metadata": {},
     "output_type": "execute_result"
    }
   ],
   "source": [
    "rand_tree_mechanism(Float64, [QuaternionFloating; [Revolute{Float64} for i = 1 : 10]]...)"
   ]
  }
 ],
 "metadata": {
  "kernelspec": {
   "display_name": "Julia 0.4.5",
   "language": "julia",
   "name": "julia-0.4"
  },
  "language_info": {
   "file_extension": ".jl",
   "mimetype": "application/julia",
   "name": "julia",
   "version": "0.4.5"
  }
 },
 "nbformat": 4,
 "nbformat_minor": 0
}
