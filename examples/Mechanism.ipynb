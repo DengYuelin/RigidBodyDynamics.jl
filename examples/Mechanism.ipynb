{
 "cells": [
  {
   "cell_type": "code",
   "execution_count": 1,
   "metadata": {
    "collapsed": false
   },
   "outputs": [],
   "source": [
    "push!(LOAD_PATH, \"../src\")\n",
    "using Quaternions\n",
    "using FixedSizeArrays\n",
    "using RigidBodyDynamics"
   ]
  },
  {
   "cell_type": "code",
   "execution_count": 2,
   "metadata": {
    "collapsed": false
   },
   "outputs": [
    {
     "data": {
      "text/plain": [
       "RigidBody: \"world\""
      ]
     },
     "execution_count": 2,
     "metadata": {},
     "output_type": "execute_result"
    }
   ],
   "source": [
    "mechanism = Mechanism{Float64}(\"world\")\n",
    "world = root_body(mechanism)"
   ]
  },
  {
   "cell_type": "code",
   "execution_count": 3,
   "metadata": {
    "collapsed": false
   },
   "outputs": [],
   "source": [
    "body1 = RigidBody(rand(SpatialInertia{Float64}, CartesianFrame3D(\"body1\")));\n",
    "joint1 = Joint(\"1\", QuaternionFloating());\n",
    "joint1ToWorld = rand(Transform3D{Float64}, joint1.frameBefore, world.frame)\n",
    "body1ToJoint1 = rand(Transform3D{Float64}, body1.frame, joint1.frameAfter)\n",
    "attach!(mechanism, world, joint1, joint1ToWorld, body1, body1ToJoint1);"
   ]
  },
  {
   "cell_type": "code",
   "execution_count": 4,
   "metadata": {
    "collapsed": false
   },
   "outputs": [],
   "source": [
    "joint2 = Joint(\"2\", Revolute(rand(Vec{3, Float64})));\n",
    "joint2ToBody1 = rand(Transform3D{Float64}, joint2.frameBefore, body1.frame)\n",
    "body2frame = CartesianFrame3D(\"body2\")\n",
    "body2 = RigidBody(rand(SpatialInertia{Float64}, body2frame));\n",
    "body2ToJoint2 = rand(Transform3D{Float64}, body2frame, joint2.frameAfter)\n",
    "attach!(mechanism, body1, joint2, joint2ToBody1, body2, body2ToJoint2);"
   ]
  },
  {
   "cell_type": "code",
   "execution_count": 5,
   "metadata": {
    "collapsed": false
   },
   "outputs": [
    {
     "data": {
      "text/plain": [
       "Vertex: world (root)\n",
       "  Vertex: body1, Edge: 1\n",
       "    Vertex: b2, Edge: 2"
      ]
     },
     "execution_count": 5,
     "metadata": {},
     "output_type": "execute_result"
    }
   ],
   "source": [
    "mechanism"
   ]
  },
  {
   "cell_type": "code",
   "execution_count": 6,
   "metadata": {
    "collapsed": false
   },
   "outputs": [],
   "source": [
    "x = MechanismState{Float64}(mechanism);"
   ]
  },
  {
   "cell_type": "code",
   "execution_count": 7,
   "metadata": {
    "collapsed": false
   },
   "outputs": [
    {
     "data": {
      "text/plain": [
       "DataStructures.OrderedDict{RigidBodyDynamics.Joint,Array{Float64,1}} with 2 entries:\n",
       "  Joint \"1\": Quaternion f… => [0.5800426833926333,0.7150999217912095,0.78465196…\n",
       "  Joint \"2\": Revolute joi… => [0.9091247344514048]"
      ]
     },
     "execution_count": 7,
     "metadata": {},
     "output_type": "execute_result"
    }
   ],
   "source": [
    "rand!(x)\n",
    "x.v"
   ]
  },
  {
   "cell_type": "code",
   "execution_count": 8,
   "metadata": {
    "collapsed": false
   },
   "outputs": [
    {
     "data": {
      "text/plain": [
       "8"
      ]
     },
     "execution_count": 8,
     "metadata": {},
     "output_type": "execute_result"
    }
   ],
   "source": [
    "num_positions(x)"
   ]
  },
  {
   "cell_type": "code",
   "execution_count": 9,
   "metadata": {
    "collapsed": false
   },
   "outputs": [
    {
     "data": {
      "text/plain": [
       "7"
      ]
     },
     "execution_count": 9,
     "metadata": {},
     "output_type": "execute_result"
    }
   ],
   "source": [
    "num_velocities(x)"
   ]
  },
  {
   "cell_type": "code",
   "execution_count": 10,
   "metadata": {
    "collapsed": false
   },
   "outputs": [],
   "source": [
    "cache = MechanismStateCache(mechanism, x);"
   ]
  },
  {
   "cell_type": "code",
   "execution_count": 11,
   "metadata": {
    "collapsed": false
   },
   "outputs": [
    {
     "data": {
      "text/plain": [
       "Transform3D from \"after_2\" to \"body1\":\n",
       "rotation: 2.999916405772899 rad about [0.9310323375075998,-0.04731865785534665,0.3618559535697918], translation: Vec(0.20318229105230978,0.6366707084659566,0.6657360431301618)\n"
      ]
     },
     "execution_count": 11,
     "metadata": {},
     "output_type": "execute_result"
    }
   ],
   "source": [
    "relative_transform(cache, joint2.frameAfter, body1.frame)"
   ]
  },
  {
   "cell_type": "code",
   "execution_count": 12,
   "metadata": {
    "collapsed": false
   },
   "outputs": [
    {
     "data": {
      "text/plain": [
       "Point3D in \"world\": Vec(2.2171403490308483,0.45014096848793633,1.6058602248011975)"
      ]
     },
     "execution_count": 12,
     "metadata": {},
     "output_type": "execute_result"
    }
   ],
   "source": [
    "center_of_mass(cache)"
   ]
  },
  {
   "cell_type": "code",
   "execution_count": 13,
   "metadata": {
    "collapsed": false
   },
   "outputs": [
    {
     "data": {
      "text/plain": [
       "0.74036036504049"
      ]
     },
     "execution_count": 13,
     "metadata": {},
     "output_type": "execute_result"
    }
   ],
   "source": [
    "mass(mechanism)"
   ]
  },
  {
   "cell_type": "code",
   "execution_count": 14,
   "metadata": {
    "collapsed": false
   },
   "outputs": [
    {
     "data": {
      "text/plain": [
       "Point3D in \"world\": Vec(1.189008484377002,0.8585463268571039,0.09822619504609323)"
      ]
     },
     "execution_count": 14,
     "metadata": {},
     "output_type": "execute_result"
    }
   ],
   "source": [
    "transform(cache, Point3D{Float64}(joint2.frameAfter), root_frame(mechanism))"
   ]
  },
  {
   "cell_type": "code",
   "execution_count": 15,
   "metadata": {
    "collapsed": false
   },
   "outputs": [
    {
     "data": {
      "text/plain": [
       "Twist of \"after_2\" w.r.t \"after_1\" in \"world\":\n",
       "angular: Vec(-0.5534731190821882,-0.19117666451875165,0.7249188133585568), linear: Vec(0.6411549408158799,-0.9163001781155691,0.24787163727446565)"
      ]
     },
     "execution_count": 15,
     "metadata": {},
     "output_type": "execute_result"
    }
   ],
   "source": [
    "relative_twist(cache, body2, body1)"
   ]
  },
  {
   "cell_type": "code",
   "execution_count": 16,
   "metadata": {
    "collapsed": false
   },
   "outputs": [
    {
     "data": {
      "text/plain": [
       "Twist of \"world\" w.r.t \"world\" in \"world\":\n",
       "angular: Vec(0.0,0.0,0.0), linear: Vec(0.0,0.0,0.0)"
      ]
     },
     "execution_count": 16,
     "metadata": {},
     "output_type": "execute_result"
    }
   ],
   "source": [
    "relative_twist(cache, body1, world) + relative_twist(cache, body2, body1) + relative_twist(cache, world, body2)"
   ]
  },
  {
   "cell_type": "code",
   "execution_count": 17,
   "metadata": {
    "collapsed": false
   },
   "outputs": [
    {
     "data": {
      "text/plain": [
       "GeometricJacobian: body: \"world\", base: \"after_2\", expressed in \"world\":\n",
       "6x7 Array{Float64,2}:\n",
       "  0.608798  -0.757152  -0.235601  -0.609273   -0.0       -0.0       -0.0     \n",
       "  0.210287  -0.523799  -0.338341   0.781767   -0.0       -0.0       -0.0     \n",
       " -0.797381   0.390327  -0.911053  -0.132768   -0.0       -0.0       -0.0     \n",
       " -0.705244   0.166816  -0.43889   -0.0375894  -0.757152  -0.235601  -0.609273\n",
       "  1.00789   -0.570554   1.39527    0.221576   -0.523799  -0.338341   0.781767\n",
       " -0.272649  -0.442068  -0.404668   1.47718     0.390327  -0.911053  -0.132768"
      ]
     },
     "execution_count": 17,
     "metadata": {},
     "output_type": "execute_result"
    }
   ],
   "source": [
    "geometric_jacobian(cache, path(mechanism, body2, world))"
   ]
  },
  {
   "cell_type": "code",
   "execution_count": 29,
   "metadata": {
    "collapsed": false
   },
   "outputs": [
    {
     "name": "stdout",
     "output_type": "stream",
     "text": [
      "[-0.2903726639020933 -0.10304840588126288 -0.6506119570414497 0.36248129322319367 -0.14510161294572818 -0.165132369345565 1.5967220394450097\n",
      " 0.33500930314776983 0.16819738867359532 1.1839126237208253 -0.2915129294943822 0.6804914432984182 -0.11489666168221893 1.7425556059855563\n",
      " 0.5826341605553947 0.008027956871968441 0.34731448911471247 -0.10635118791462966 -0.036832564806965104 0.7395338327026063 -4.4980513789230105\n",
      " 0.7787118050385747 0.36244259511553467 0.8306878638987872 6.938893903907228e-18 -0.07532461638796542 0.20646783563830595 -3.396783947834983\n",
      " -0.07278931924388937 0.12927274705095249 0.04170178076829463 0.07532461638796542 0.0 -0.2967407615976061 1.3321858791163181\n",
      " 0.5109904099506535 0.261980815609549 1.1753622322281165 -0.20646783563830595 0.29674076159760615 0.0 -0.6360373702291596\n",
      " 1.5967220394450097 1.7425556059855563 -4.4980513789230105 -3.396783947834983 1.3321858791163181 -0.6360373702291596 -0.358541253178548]"
     ]
    }
   ],
   "source": [
    "showall(mass_matrix(cache))"
   ]
  },
  {
   "cell_type": "code",
   "execution_count": 19,
   "metadata": {
    "collapsed": false
   },
   "outputs": [
    {
     "data": {
      "text/plain": [
       "MomentumMatrix expressed in \"world\":\n",
       "6x7 Array{Float64,2}:\n",
       "  0.0714151  -0.0273816  -0.0781603  …   0.051739    0.133799     0.0014952\n",
       " -0.0615988  -0.0349701  -0.0564072      0.0743012  -0.17168      1.2032   \n",
       "  0.0558677   0.020068    0.0265402      0.200071    0.0291565    0.318452 \n",
       "  0.883786    0.464499    1.3549         0.123764    0.0864151   -2.00276  \n",
       " -0.0162142   0.0287776  -0.469636      -0.271437    0.00774815  -0.837365 \n",
       " -0.302424    0.0110859  -0.130197   …   0.0687989  -0.350937     2.16576  "
      ]
     },
     "execution_count": 19,
     "metadata": {},
     "output_type": "execute_result"
    }
   ],
   "source": [
    "A = momentum_matrix(cache)"
   ]
  },
  {
   "cell_type": "code",
   "execution_count": 20,
   "metadata": {
    "collapsed": false
   },
   "outputs": [
    {
     "data": {
      "text/plain": [
       "Momentum expressed in \"world\":\n",
       "angular: Vec(0.0732113720666739,0.8950027951761239,0.39616654156137343), linear: Vec(0.15193686009636842,-1.1336777684494157,1.4784935342471766)"
      ]
     },
     "execution_count": 20,
     "metadata": {},
     "output_type": "execute_result"
    }
   ],
   "source": [
    "A * velocity_vector(x)"
   ]
  },
  {
   "cell_type": "code",
   "execution_count": 21,
   "metadata": {
    "collapsed": false
   },
   "outputs": [
    {
     "data": {
      "text/plain": [
       "SpatialAcceleration of \"after_2\" w.r.t \"world\" in \"world\":\n",
       "angular: Vec(0.2130463732019949,-0.012742862107630204,0.9985306298688836), linear: Vec(1.0219080166023022,-1.6825083416949664,1.3056382018167283)"
      ]
     },
     "execution_count": 21,
     "metadata": {},
     "output_type": "execute_result"
    }
   ],
   "source": [
    "accel = SpatialAcceleration(joint2.frameAfter, world.frame, joint2.frameAfter, rand(Vec{3, Float64}), rand(Vec{3, Float64}))\n",
    "transform(cache, accel, world.frame)"
   ]
  },
  {
   "cell_type": "code",
   "execution_count": 22,
   "metadata": {
    "collapsed": false
   },
   "outputs": [
    {
     "data": {
      "text/plain": [
       "SpatialAcceleration of \"after_2\" w.r.t \"world\" in \"world\":\n",
       "angular: Vec(0.0521485441182436,-1.0799964691815598,-0.24500302934418716), linear: Vec(-0.5342900666439648,-0.23510293705214474,-1.7973989814664317)"
      ]
     },
     "execution_count": 22,
     "metadata": {},
     "output_type": "execute_result"
    }
   ],
   "source": [
    "bias_acceleration(cache, body2)"
   ]
  },
  {
   "cell_type": "code",
   "execution_count": 23,
   "metadata": {
    "collapsed": false
   },
   "outputs": [
    {
     "data": {
      "text/plain": [
       "SpatialInertia expressed in \"b2\":\n",
       "mass: 0.5207557973418298\n",
       "center of mass: Vec(0.6234800140340824,0.7260160004737968,0.8597582577125844)\n",
       "moment of inertia:\n",
       "FixedSizeArrays.Mat{3,3,Float64}(\n",
       "    0.6055125593768358 0.35191203136633176 0.7261087435013003\n",
       "    0.3998324077471602 0.3644042970645538 0.19315300451201156\n",
       "    0.6153809242440376 0.8394583281482726 0.6733075044077661\n",
       ")\n"
      ]
     },
     "execution_count": 23,
     "metadata": {},
     "output_type": "execute_result"
    }
   ],
   "source": [
    "body2.inertia"
   ]
  }
 ],
 "metadata": {
  "kernelspec": {
   "display_name": "Julia 0.4.5",
   "language": "julia",
   "name": "julia-0.4"
  },
  "language_info": {
   "file_extension": ".jl",
   "mimetype": "application/julia",
   "name": "julia",
   "version": "0.4.5"
  }
 },
 "nbformat": 4,
 "nbformat_minor": 0
}
