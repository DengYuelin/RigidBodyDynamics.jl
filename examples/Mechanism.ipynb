{
 "cells": [
  {
   "cell_type": "code",
   "execution_count": 1,
   "metadata": {
    "collapsed": false
   },
   "outputs": [],
   "source": [
    "push!(LOAD_PATH, \"../src\")\n",
    "using Quaternions\n",
    "using FixedSizeArrays\n",
    "using RigidBodyDynamics"
   ]
  },
  {
   "cell_type": "code",
   "execution_count": 2,
   "metadata": {
    "collapsed": false
   },
   "outputs": [
    {
     "data": {
      "text/plain": [
       "RigidBodyDynamics.RigidBody{Float64}(RigidBodyDynamics.CartesianFrame3D(\"world\"),#undef)"
      ]
     },
     "execution_count": 2,
     "metadata": {},
     "output_type": "execute_result"
    }
   ],
   "source": [
    "mechanism = Mechanism{Float64}(\"world\");\n",
    "world = root(mechanism)"
   ]
  },
  {
   "cell_type": "code",
   "execution_count": 3,
   "metadata": {
    "collapsed": false
   },
   "outputs": [],
   "source": [
    "body1 = RigidBody(rand(SpatialInertia{Float64}, CartesianFrame3D(\"body1\")));\n",
    "joint1 = Joint(\"1\", QuaternionFloating());\n",
    "joint1ToWorld = rand(Transform3D{Float64}, joint1.frameBefore, world.frame)\n",
    "body1ToJoint1 = rand(Transform3D{Float64}, body1.frame, joint1.frameAfter)\n",
    "attach!(mechanism, world, joint1, joint1ToWorld, body1, body1ToJoint1);"
   ]
  },
  {
   "cell_type": "code",
   "execution_count": 4,
   "metadata": {
    "collapsed": false
   },
   "outputs": [],
   "source": [
    "joint2 = Joint(\"2\", Revolute(rand(Vec{3, Float64})));\n",
    "joint2ToBody1 = rand(Transform3D{Float64}, joint2.frameBefore, body1.frame)\n",
    "body2frame = CartesianFrame3D(\"b2\")\n",
    "body2 = RigidBody(rand(SpatialInertia{Float64}, body2frame));\n",
    "body2ToJoint2 = rand(Transform3D{Float64}, body2frame, joint2.frameAfter)\n",
    "attach!(mechanism, body1, joint2, joint2ToBody1, body2, body2ToJoint2);"
   ]
  },
  {
   "cell_type": "code",
   "execution_count": 5,
   "metadata": {
    "collapsed": false
   },
   "outputs": [],
   "source": [
    "x = MechanismState{Float64}(mechanism);"
   ]
  },
  {
   "cell_type": "code",
   "execution_count": 6,
   "metadata": {
    "collapsed": false
   },
   "outputs": [
    {
     "data": {
      "text/plain": [
       "DataStructures.OrderedDict{RigidBodyDynamics.Joint,Array{Float64,1}} with 2 entries:\n",
       "  RigidBodyDynamics.Joint… => [0.4178499277227168,0.10229415024901356,0.2242149…\n",
       "  RigidBodyDynamics.Joint… => [0.5179766326522544]"
      ]
     },
     "execution_count": 6,
     "metadata": {},
     "output_type": "execute_result"
    }
   ],
   "source": [
    "rand!(x)\n",
    "x.v"
   ]
  },
  {
   "cell_type": "code",
   "execution_count": 7,
   "metadata": {
    "collapsed": false
   },
   "outputs": [
    {
     "data": {
      "text/plain": [
       "8"
      ]
     },
     "execution_count": 7,
     "metadata": {},
     "output_type": "execute_result"
    }
   ],
   "source": [
    "num_positions(x)"
   ]
  },
  {
   "cell_type": "code",
   "execution_count": 8,
   "metadata": {
    "collapsed": false
   },
   "outputs": [
    {
     "data": {
      "text/plain": [
       "7"
      ]
     },
     "execution_count": 8,
     "metadata": {},
     "output_type": "execute_result"
    }
   ],
   "source": [
    "num_velocities(x)"
   ]
  },
  {
   "cell_type": "code",
   "execution_count": 9,
   "metadata": {
    "collapsed": false
   },
   "outputs": [],
   "source": [
    "cache = MechanismStateCache(mechanism, x);"
   ]
  },
  {
   "cell_type": "code",
   "execution_count": 10,
   "metadata": {
    "collapsed": false
   },
   "outputs": [
    {
     "data": {
      "text/plain": [
       "RigidBodyDynamics.Transform3D{Float64}(RigidBodyDynamics.CartesianFrame3D(\"after_2\"),RigidBodyDynamics.CartesianFrame3D(\"body1\"),-0.9599046518939521 + 0.25384857822659695im + 0.0050783968649733jm + 0.11881989938544585km,Vec(0.4502791911670121,0.7045075769912708,0.47617947361085666))"
      ]
     },
     "execution_count": 10,
     "metadata": {},
     "output_type": "execute_result"
    }
   ],
   "source": [
    "relative_transform(cache, joint2.frameAfter, body1.frame)"
   ]
  },
  {
   "cell_type": "code",
   "execution_count": 11,
   "metadata": {
    "collapsed": false
   },
   "outputs": [
    {
     "data": {
      "text/plain": [
       "RigidBodyDynamics.Point3D{Float64}(RigidBodyDynamics.CartesianFrame3D(\"world\"),Vec(-1.7369891398601902,-0.09983057607092022,4.3919200983471445))"
      ]
     },
     "execution_count": 11,
     "metadata": {},
     "output_type": "execute_result"
    }
   ],
   "source": [
    "center_of_mass(mechanism, cache)"
   ]
  },
  {
   "cell_type": "code",
   "execution_count": 12,
   "metadata": {
    "collapsed": false
   },
   "outputs": [
    {
     "data": {
      "text/plain": [
       "0.22626327399700208"
      ]
     },
     "execution_count": 12,
     "metadata": {},
     "output_type": "execute_result"
    }
   ],
   "source": [
    "mass(mechanism)"
   ]
  },
  {
   "cell_type": "code",
   "execution_count": 13,
   "metadata": {
    "collapsed": false
   },
   "outputs": [
    {
     "data": {
      "text/plain": [
       "RigidBodyDynamics.Point3D{Float64}(RigidBodyDynamics.CartesianFrame3D(\"world\"),Vec(-2.068664326784159,-0.18878756522418305,2.970086680693991))"
      ]
     },
     "execution_count": 13,
     "metadata": {},
     "output_type": "execute_result"
    }
   ],
   "source": [
    "transform(cache, Point3D{Float64}(joint2.frameAfter), root(mechanism).frame)"
   ]
  },
  {
   "cell_type": "code",
   "execution_count": 14,
   "metadata": {
    "collapsed": false
   },
   "outputs": [
    {
     "data": {
      "text/plain": [
       "RigidBodyDynamics.Twist{Float64}(RigidBodyDynamics.CartesianFrame3D(\"after_2\"),RigidBodyDynamics.CartesianFrame3D(\"after_1\"),RigidBodyDynamics.CartesianFrame3D(\"world\"),Vec(-0.032032466932445935,-0.24248161004257252,0.2698750770835567),Vec(0.6692423415833856,0.4631417412650504,0.49556572515595665))"
      ]
     },
     "execution_count": 14,
     "metadata": {},
     "output_type": "execute_result"
    }
   ],
   "source": [
    "relative_twist(cache, body2, body1)"
   ]
  },
  {
   "cell_type": "code",
   "execution_count": 15,
   "metadata": {
    "collapsed": false
   },
   "outputs": [
    {
     "data": {
      "text/plain": [
       "RigidBodyDynamics.Twist{Float64}(RigidBodyDynamics.CartesianFrame3D(\"world\"),RigidBodyDynamics.CartesianFrame3D(\"world\"),RigidBodyDynamics.CartesianFrame3D(\"world\"),Vec(0.0,0.0,0.0),Vec(0.0,0.0,0.0))"
      ]
     },
     "execution_count": 15,
     "metadata": {},
     "output_type": "execute_result"
    }
   ],
   "source": [
    "relative_twist(cache, body1, world) + relative_twist(cache, body2, body1) + relative_twist(cache, world, body2)"
   ]
  },
  {
   "cell_type": "code",
   "execution_count": 16,
   "metadata": {
    "collapsed": false
   },
   "outputs": [
    {
     "data": {
      "text/plain": [
       "RigidBodyDynamics.GeometricJacobian{Float64}(RigidBodyDynamics.CartesianFrame3D(\"before_1\"),RigidBodyDynamics.CartesianFrame3D(\"after_2\"),RigidBodyDynamics.CartesianFrame3D(\"world\"),6x7 Array{Float64,2}:\n",
       " -0.0618415  -0.609381  -0.189337  …  -0.0       -0.0       -0.0      \n",
       " -0.468132   -0.688984  -0.354102     -0.0       -0.0       -0.0      \n",
       " -0.521018   -0.392371  -0.91584      -0.0       -0.0       -0.0      \n",
       " -1.29203    -0.633077  -0.452048     -0.609381  -0.189337  -0.769939 \n",
       " -0.894136   -0.218791  -1.07429      -0.688984  -0.354102  -0.632387 \n",
       " -0.956734   -0.59903   -0.32191   …  -0.392371  -0.91584   -0.0853329)"
      ]
     },
     "execution_count": 16,
     "metadata": {},
     "output_type": "execute_result"
    }
   ],
   "source": [
    "geometric_jacobian(cache, path(mechanism, body2, world))"
   ]
  },
  {
   "cell_type": "code",
   "execution_count": null,
   "metadata": {
    "collapsed": true
   },
   "outputs": [],
   "source": []
  }
 ],
 "metadata": {
  "kernelspec": {
   "display_name": "Julia 0.4.5",
   "language": "julia",
   "name": "julia-0.4"
  },
  "language_info": {
   "file_extension": ".jl",
   "mimetype": "application/julia",
   "name": "julia",
   "version": "0.4.5"
  }
 },
 "nbformat": 4,
 "nbformat_minor": 0
}
