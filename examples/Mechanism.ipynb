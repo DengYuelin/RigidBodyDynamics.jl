{
 "cells": [
  {
   "cell_type": "code",
   "execution_count": 1,
   "metadata": {
    "collapsed": false
   },
   "outputs": [],
   "source": [
    "push!(LOAD_PATH, \"../src\")\n",
    "using Quaternions\n",
    "using FixedSizeArrays\n",
    "using RigidBodyDynamics"
   ]
  },
  {
   "cell_type": "code",
   "execution_count": 2,
   "metadata": {
    "collapsed": false
   },
   "outputs": [
    {
     "data": {
      "text/plain": [
       "RigidBody: \"world\""
      ]
     },
     "execution_count": 2,
     "metadata": {},
     "output_type": "execute_result"
    }
   ],
   "source": [
    "mechanism = Mechanism{Float64}(\"world\")\n",
    "world = root_body(mechanism)"
   ]
  },
  {
   "cell_type": "code",
   "execution_count": 3,
   "metadata": {
    "collapsed": false
   },
   "outputs": [],
   "source": [
    "body1 = RigidBody(rand(SpatialInertia{Float64}, CartesianFrame3D(\"body1\")));\n",
    "joint1 = Joint(\"joint1\", QuaternionFloating());\n",
    "joint1ToWorld = rand(Transform3D{Float64}, joint1.frameBefore, world.frame)\n",
    "body1ToJoint1 = rand(Transform3D{Float64}, body1.frame, joint1.frameAfter)\n",
    "attach!(mechanism, world, joint1, joint1ToWorld, body1, body1ToJoint1);"
   ]
  },
  {
   "cell_type": "code",
   "execution_count": 4,
   "metadata": {
    "collapsed": false
   },
   "outputs": [],
   "source": [
    "joint2 = Joint(\"joint2\", Revolute(rand(Vec{3, Float64})));\n",
    "joint2ToBody1 = rand(Transform3D{Float64}, joint2.frameBefore, body1.frame)\n",
    "body2frame = CartesianFrame3D(\"body2\")\n",
    "body2 = RigidBody(rand(SpatialInertia{Float64}, body2frame));\n",
    "body2ToJoint2 = rand(Transform3D{Float64}, body2frame, joint2.frameAfter)\n",
    "attach!(mechanism, body1, joint2, joint2ToBody1, body2, body2ToJoint2);"
   ]
  },
  {
   "cell_type": "code",
   "execution_count": 5,
   "metadata": {
    "collapsed": false
   },
   "outputs": [
    {
     "data": {
      "text/plain": [
       "Vertex: world (root)\n",
       "  Vertex: body1, Edge: joint1\n",
       "    Vertex: body2, Edge: joint2"
      ]
     },
     "execution_count": 5,
     "metadata": {},
     "output_type": "execute_result"
    }
   ],
   "source": [
    "mechanism"
   ]
  },
  {
   "cell_type": "code",
   "execution_count": 6,
   "metadata": {
    "collapsed": false
   },
   "outputs": [],
   "source": [
    "x = MechanismState(Float64, mechanism);"
   ]
  },
  {
   "cell_type": "code",
   "execution_count": 7,
   "metadata": {
    "collapsed": false
   },
   "outputs": [
    {
     "data": {
      "text/plain": [
       "7-element Array{Float64,1}:\n",
       "  0.306798\n",
       " -0.795949\n",
       " -0.350005\n",
       "  0.387087\n",
       "  0.400136\n",
       "  0.959721\n",
       "  0.142376"
      ]
     },
     "execution_count": 7,
     "metadata": {},
     "output_type": "execute_result"
    }
   ],
   "source": [
    "rand!(x)\n",
    "setdirty!(x)\n",
    "x.q[joint1]"
   ]
  },
  {
   "cell_type": "code",
   "execution_count": 8,
   "metadata": {
    "collapsed": false
   },
   "outputs": [
    {
     "data": {
      "text/plain": [
       "8"
      ]
     },
     "execution_count": 8,
     "metadata": {},
     "output_type": "execute_result"
    }
   ],
   "source": [
    "num_positions(x)"
   ]
  },
  {
   "cell_type": "code",
   "execution_count": 9,
   "metadata": {
    "collapsed": false
   },
   "outputs": [
    {
     "data": {
      "text/plain": [
       "7"
      ]
     },
     "execution_count": 9,
     "metadata": {},
     "output_type": "execute_result"
    }
   ],
   "source": [
    "num_velocities(x)"
   ]
  },
  {
   "cell_type": "code",
   "execution_count": 10,
   "metadata": {
    "collapsed": false
   },
   "outputs": [
    {
     "data": {
      "text/plain": [
       "Transform3D from \"after_joint2\" to \"body1\":\n",
       "rotation: 1.7879338790737147 rad about [-0.30214160744162194,-0.9262890716763049,0.22516439493321777], translation: Vec(0.2670294977673644,0.3386398060824638,0.9719616586017255)\n"
      ]
     },
     "execution_count": 10,
     "metadata": {},
     "output_type": "execute_result"
    }
   ],
   "source": [
    "relative_transform(x, joint2.frameAfter, body1.frame)"
   ]
  },
  {
   "cell_type": "code",
   "execution_count": 11,
   "metadata": {
    "collapsed": false
   },
   "outputs": [
    {
     "data": {
      "text/plain": [
       "Point3D in \"world\": Vec(1.1825793413205135,0.5615072575759832,2.4599470074361625)"
      ]
     },
     "execution_count": 11,
     "metadata": {},
     "output_type": "execute_result"
    }
   ],
   "source": [
    "center_of_mass(x)"
   ]
  },
  {
   "cell_type": "code",
   "execution_count": 12,
   "metadata": {
    "collapsed": false
   },
   "outputs": [
    {
     "data": {
      "text/plain": [
       "0.6857156240727806"
      ]
     },
     "execution_count": 12,
     "metadata": {},
     "output_type": "execute_result"
    }
   ],
   "source": [
    "mass(mechanism)"
   ]
  },
  {
   "cell_type": "code",
   "execution_count": 13,
   "metadata": {
    "collapsed": false
   },
   "outputs": [
    {
     "data": {
      "text/plain": [
       "Point3D in \"world\": Vec(1.5960437153594493,0.7631841043897759,2.3715515868973602)"
      ]
     },
     "execution_count": 13,
     "metadata": {},
     "output_type": "execute_result"
    }
   ],
   "source": [
    "transform(x, Point3D{Float64}(joint2.frameAfter), root_frame(mechanism))"
   ]
  },
  {
   "cell_type": "code",
   "execution_count": 14,
   "metadata": {
    "collapsed": false
   },
   "outputs": [
    {
     "data": {
      "text/plain": [
       "Twist of \"after_joint2\" w.r.t \"after_joint1\" in \"world\":\n",
       "angular: Vec(0.03346700443095907,-0.11971582670001646,-0.024429090133831044), linear: Vec(0.2652683655123085,0.11835862324699253,-0.21661317863687235)"
      ]
     },
     "execution_count": 14,
     "metadata": {},
     "output_type": "execute_result"
    }
   ],
   "source": [
    "relative_twist(x, body2, body1)"
   ]
  },
  {
   "cell_type": "code",
   "execution_count": 15,
   "metadata": {
    "collapsed": false
   },
   "outputs": [
    {
     "data": {
      "text/plain": [
       "Twist of \"world\" w.r.t \"world\" in \"world\":\n",
       "angular: Vec(0.0,0.0,0.0), linear: Vec(0.0,0.0,0.0)"
      ]
     },
     "execution_count": 15,
     "metadata": {},
     "output_type": "execute_result"
    }
   ],
   "source": [
    "relative_twist(x, body1, world) + relative_twist(x, body2, body1) + relative_twist(x, world, body2)"
   ]
  },
  {
   "cell_type": "code",
   "execution_count": 16,
   "metadata": {
    "collapsed": false
   },
   "outputs": [
    {
     "data": {
      "text/plain": [
       "GeometricJacobian: body: \"world\", base: \"after_joint2\", expressed in \"world\":\n",
       "6x7 Array{Float64,2}:\n",
       " -0.196664  -0.802101  -0.0854609  …  -0.0       -0.0        -0.0     \n",
       "  0.703492  -0.414788   0.791748      -0.0       -0.0        -0.0     \n",
       "  0.143554  -0.429634  -0.60484       -0.0       -0.0        -0.0     \n",
       " -1.55881   -0.26864   -1.55511       -0.802101  -0.0854609  -0.591042\n",
       " -0.695517  -0.38076    0.356897      -0.414788   0.791748    0.448425\n",
       "  1.27289    0.869137   0.686915   …  -0.429634  -0.60484     0.67051 "
      ]
     },
     "execution_count": 16,
     "metadata": {},
     "output_type": "execute_result"
    }
   ],
   "source": [
    "p = path(mechanism, body2, world)\n",
    "J = geometric_jacobian(x, p)"
   ]
  },
  {
   "cell_type": "code",
   "execution_count": 17,
   "metadata": {
    "collapsed": false
   },
   "outputs": [
    {
     "data": {
      "text/plain": [
       "Twist of \"world\" w.r.t \"after_joint2\" in \"world\":\n",
       "angular: Vec(-0.6574288285000551,1.1078485112733094,0.17893420650871633), linear: Vec(-1.5059157713789495,-0.6245363390596695,1.2482704628793926)"
      ]
     },
     "execution_count": 17,
     "metadata": {},
     "output_type": "execute_result"
    }
   ],
   "source": [
    "Twist(J, velocity_vector(x, p))"
   ]
  },
  {
   "cell_type": "code",
   "execution_count": 18,
   "metadata": {
    "collapsed": false
   },
   "outputs": [
    {
     "data": {
      "text/plain": [
       "7x7 Array{Float64,2}:\n",
       "  2.92147      -0.934469    1.57084      …   1.17612       0.368275 \n",
       " -0.934469      0.5301      0.0921608       -0.47902      -0.105865 \n",
       "  1.57084       0.0921608   7.27895          0.0           1.92944  \n",
       "  5.55112e-17  -0.272958   -1.17612          2.77556e-17  -0.246225 \n",
       "  0.272958      0.0         0.47902          5.55112e-17  -0.113861 \n",
       "  1.17612      -0.47902    -8.32667e-17  …   0.685716      0.0137373\n",
       "  0.368275     -0.105865    1.92944          0.0137373     0.744892 "
      ]
     },
     "execution_count": 18,
     "metadata": {},
     "output_type": "execute_result"
    }
   ],
   "source": [
    "mass_matrix(x)"
   ]
  },
  {
   "cell_type": "code",
   "execution_count": 19,
   "metadata": {
    "collapsed": false
   },
   "outputs": [
    {
     "data": {
      "text/plain": [
       "MomentumMatrix expressed in \"world\":\n",
       "6x7 Array{Float64,2}:\n",
       "  2.92313   -0.440744   5.99899   …   1.56842     0.498245   1.17542  \n",
       "  2.30518   -1.42313   -3.30425      -0.346315    1.54071   -0.668256 \n",
       " -1.93456    0.658178  -3.45682      -0.674945   -0.591206  -0.923463 \n",
       "  0.718461  -0.502061  -0.902426      0.0586019   0.405287  -0.199108 \n",
       " -0.743515   0.101585  -0.867102     -0.542914   -0.307492  -0.0181422\n",
       " -0.623502   0.203916  -0.215569  …   0.414748   -0.459779  -0.183865 "
      ]
     },
     "execution_count": 19,
     "metadata": {},
     "output_type": "execute_result"
    }
   ],
   "source": [
    "A = momentum_matrix(x)"
   ]
  },
  {
   "cell_type": "code",
   "execution_count": 20,
   "metadata": {
    "collapsed": false
   },
   "outputs": [
    {
     "data": {
      "text/plain": [
       "Momentum expressed in \"world\":\n",
       "angular: Vec(5.889558108862749,-3.5615187774559005,-3.2302076663913697), linear: Vec(-0.7904679438070757,-0.833797424434303,0.3028239911360766)"
      ]
     },
     "execution_count": 20,
     "metadata": {},
     "output_type": "execute_result"
    }
   ],
   "source": [
    "Momentum(A, velocity_vector(x))"
   ]
  },
  {
   "cell_type": "code",
   "execution_count": 21,
   "metadata": {
    "collapsed": false
   },
   "outputs": [
    {
     "data": {
      "text/plain": [
       "SpatialAcceleration of \"after_joint2\" w.r.t \"world\" in \"world\":\n",
       "angular: Vec(-0.3387362759202282,-0.7908612224929841,-0.28728934561778097), linear: Vec(1.4938512818417682,-0.9966154312373974,-1.023685655925873)"
      ]
     },
     "execution_count": 21,
     "metadata": {},
     "output_type": "execute_result"
    }
   ],
   "source": [
    "accel = SpatialAcceleration(joint2.frameAfter, world.frame, joint2.frameAfter, rand(Vec{3, Float64}), rand(Vec{3, Float64}))\n",
    "transform(x, accel, world.frame)"
   ]
  },
  {
   "cell_type": "code",
   "execution_count": 22,
   "metadata": {
    "collapsed": false
   },
   "outputs": [
    {
     "data": {
      "text/plain": [
       "SpatialAcceleration of \"after_joint2\" w.r.t \"world\" in \"world\":\n",
       "angular: Vec(0.005642474679423766,0.010071996225929436,-0.04162826466469219), linear: Vec(0.09645840888164293,0.0899544427748572,0.17050622290703588)"
      ]
     },
     "execution_count": 22,
     "metadata": {},
     "output_type": "execute_result"
    }
   ],
   "source": [
    "bias_acceleration(x, body2)"
   ]
  },
  {
   "cell_type": "code",
   "execution_count": 23,
   "metadata": {
    "collapsed": false
   },
   "outputs": [
    {
     "data": {
      "text/plain": [
       "7-element Array{Float64,1}:\n",
       "  1.98948  \n",
       "  2.02722  \n",
       "  0.0834082\n",
       "  2.09249  \n",
       "  4.09711  \n",
       " -2.56799  \n",
       " -1.33484  "
      ]
     },
     "execution_count": 23,
     "metadata": {},
     "output_type": "execute_result"
    }
   ],
   "source": [
    "v̇ = [j::Joint => rand(num_velocities(j))::Vector{Float64} for j in joints(mechanism)]\n",
    "τ = inverse_dynamics(x, v̇)"
   ]
  },
  {
   "cell_type": "code",
   "execution_count": 24,
   "metadata": {
    "collapsed": false
   },
   "outputs": [
    {
     "data": {
      "text/plain": [
       "Vertex: world (root)\n",
       "  Vertex: body1, Edge: joint1\n",
       "    Vertex: body2, Edge: joint2\n",
       "      Vertex: body3, Edge: joint3"
      ]
     },
     "execution_count": 24,
     "metadata": {},
     "output_type": "execute_result"
    }
   ],
   "source": [
    "rand_chain_mechanism(Float64, QuaternionFloating, Revolute{Float64}, Revolute{Float64})"
   ]
  },
  {
   "cell_type": "code",
   "execution_count": 25,
   "metadata": {
    "collapsed": false
   },
   "outputs": [
    {
     "data": {
      "text/plain": [
       "Vertex: world (root)\n",
       "  Vertex: body1, Edge: joint1\n",
       "    Vertex: body9, Edge: joint9\n",
       "  Vertex: body2, Edge: joint2\n",
       "    Vertex: body3, Edge: joint3\n",
       "      Vertex: body5, Edge: joint5\n",
       "        Vertex: body8, Edge: joint8\n",
       "  Vertex: body4, Edge: joint4\n",
       "    Vertex: body6, Edge: joint6\n",
       "  Vertex: body7, Edge: joint7\n",
       "  Vertex: body10, Edge: joint10\n",
       "  Vertex: body11, Edge: joint11"
      ]
     },
     "execution_count": 25,
     "metadata": {},
     "output_type": "execute_result"
    }
   ],
   "source": [
    "rand_tree_mechanism(Float64, [QuaternionFloating; [Revolute{Float64} for i = 1 : 10]]...)"
   ]
  },
  {
   "cell_type": "code",
   "execution_count": 26,
   "metadata": {
    "collapsed": true
   },
   "outputs": [],
   "source": []
  }
 ],
 "metadata": {
  "kernelspec": {
   "display_name": "Julia 0.4.5",
   "language": "julia",
   "name": "julia-0.4"
  },
  "language_info": {
   "file_extension": ".jl",
   "mimetype": "application/julia",
   "name": "julia",
   "version": "0.4.5"
  }
 },
 "nbformat": 4,
 "nbformat_minor": 0
}
