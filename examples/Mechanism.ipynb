{
 "cells": [
  {
   "cell_type": "code",
   "execution_count": 1,
   "metadata": {
    "collapsed": false
   },
   "outputs": [],
   "source": [
    "push!(LOAD_PATH, \"../src\")\n",
    "using Quaternions\n",
    "using FixedSizeArrays\n",
    "using RigidBodyDynamics"
   ]
  },
  {
   "cell_type": "code",
   "execution_count": 2,
   "metadata": {
    "collapsed": false
   },
   "outputs": [
    {
     "data": {
      "text/plain": [
       "RigidBody: \"world\""
      ]
     },
     "execution_count": 2,
     "metadata": {},
     "output_type": "execute_result"
    }
   ],
   "source": [
    "mechanism = Mechanism{Float64}(\"world\")\n",
    "world = root_body(mechanism)"
   ]
  },
  {
   "cell_type": "code",
   "execution_count": 3,
   "metadata": {
    "collapsed": false
   },
   "outputs": [],
   "source": [
    "body1 = RigidBody(rand(SpatialInertia{Float64}, CartesianFrame3D(\"body1\")));\n",
    "joint1 = Joint(\"1\", QuaternionFloating());\n",
    "joint1ToWorld = rand(Transform3D{Float64}, joint1.frameBefore, world.frame)\n",
    "body1ToJoint1 = rand(Transform3D{Float64}, body1.frame, joint1.frameAfter)\n",
    "attach!(mechanism, world, joint1, joint1ToWorld, body1, body1ToJoint1);"
   ]
  },
  {
   "cell_type": "code",
   "execution_count": 4,
   "metadata": {
    "collapsed": false
   },
   "outputs": [],
   "source": [
    "joint2 = Joint(\"2\", Revolute(rand(Vec{3, Float64})));\n",
    "joint2ToBody1 = rand(Transform3D{Float64}, joint2.frameBefore, body1.frame)\n",
    "body2frame = CartesianFrame3D(\"body2\")\n",
    "body2 = RigidBody(rand(SpatialInertia{Float64}, body2frame));\n",
    "body2ToJoint2 = rand(Transform3D{Float64}, body2frame, joint2.frameAfter)\n",
    "attach!(mechanism, body1, joint2, joint2ToBody1, body2, body2ToJoint2);"
   ]
  },
  {
   "cell_type": "code",
   "execution_count": 5,
   "metadata": {
    "collapsed": false
   },
   "outputs": [
    {
     "data": {
      "text/plain": [
       "Vertex: world (root)\n",
       "  Vertex: body1, Edge: 1\n",
       "    Vertex: body2, Edge: 2"
      ]
     },
     "execution_count": 5,
     "metadata": {},
     "output_type": "execute_result"
    }
   ],
   "source": [
    "mechanism"
   ]
  },
  {
   "cell_type": "code",
   "execution_count": 6,
   "metadata": {
    "collapsed": false
   },
   "outputs": [],
   "source": [
    "x = MechanismState{Float64}(mechanism);"
   ]
  },
  {
   "cell_type": "code",
   "execution_count": 7,
   "metadata": {
    "collapsed": false
   },
   "outputs": [
    {
     "data": {
      "text/plain": [
       "DataStructures.OrderedDict{RigidBodyDynamics.Joint,Array{Float64,1}} with 2 entries:\n",
       "  Joint \"1\": Quaternion f… => [0.4622783520757443,0.35095641849642467,0.3979410…\n",
       "  Joint \"2\": Revolute joi… => [0.1091996633351211]"
      ]
     },
     "execution_count": 7,
     "metadata": {},
     "output_type": "execute_result"
    }
   ],
   "source": [
    "rand!(x)\n",
    "x.v"
   ]
  },
  {
   "cell_type": "code",
   "execution_count": 8,
   "metadata": {
    "collapsed": false
   },
   "outputs": [
    {
     "data": {
      "text/plain": [
       "8"
      ]
     },
     "execution_count": 8,
     "metadata": {},
     "output_type": "execute_result"
    }
   ],
   "source": [
    "num_positions(x)"
   ]
  },
  {
   "cell_type": "code",
   "execution_count": 9,
   "metadata": {
    "collapsed": false
   },
   "outputs": [
    {
     "data": {
      "text/plain": [
       "7"
      ]
     },
     "execution_count": 9,
     "metadata": {},
     "output_type": "execute_result"
    }
   ],
   "source": [
    "num_velocities(x)"
   ]
  },
  {
   "cell_type": "code",
   "execution_count": 10,
   "metadata": {
    "collapsed": false
   },
   "outputs": [],
   "source": [
    "cache = MechanismStateCache(mechanism, x);"
   ]
  },
  {
   "cell_type": "code",
   "execution_count": 11,
   "metadata": {
    "collapsed": false
   },
   "outputs": [
    {
     "data": {
      "text/plain": [
       "Transform3D from \"after_2\" to \"body1\":\n",
       "rotation: 1.8022680547849568 rad about [-0.6261660807166802,0.7569762845378246,-0.18682329621121246], translation: Vec(0.06041630208937121,0.4121887769843865,0.549931407476038)\n"
      ]
     },
     "execution_count": 11,
     "metadata": {},
     "output_type": "execute_result"
    }
   ],
   "source": [
    "relative_transform(cache, joint2.frameAfter, body1.frame)"
   ]
  },
  {
   "cell_type": "code",
   "execution_count": 12,
   "metadata": {
    "collapsed": false
   },
   "outputs": [
    {
     "data": {
      "text/plain": [
       "Point3D in \"world\": Vec(0.23422452021113332,-0.9330895087013807,-0.012199150848194949)"
      ]
     },
     "execution_count": 12,
     "metadata": {},
     "output_type": "execute_result"
    }
   ],
   "source": [
    "center_of_mass(cache)"
   ]
  },
  {
   "cell_type": "code",
   "execution_count": 13,
   "metadata": {
    "collapsed": false
   },
   "outputs": [
    {
     "data": {
      "text/plain": [
       "0.3169488774459739"
      ]
     },
     "execution_count": 13,
     "metadata": {},
     "output_type": "execute_result"
    }
   ],
   "source": [
    "mass(mechanism)"
   ]
  },
  {
   "cell_type": "code",
   "execution_count": 14,
   "metadata": {
    "collapsed": false
   },
   "outputs": [
    {
     "data": {
      "text/plain": [
       "Point3D in \"world\": Vec(0.5861844517597731,-1.2264928871804217,0.639372620417482)"
      ]
     },
     "execution_count": 14,
     "metadata": {},
     "output_type": "execute_result"
    }
   ],
   "source": [
    "transform(cache, Point3D{Float64}(joint2.frameAfter), root_frame(mechanism))"
   ]
  },
  {
   "cell_type": "code",
   "execution_count": 15,
   "metadata": {
    "collapsed": false
   },
   "outputs": [
    {
     "data": {
      "text/plain": [
       "Twist of \"after_2\" w.r.t \"after_1\" in \"world\":\n",
       "angular: Vec(-0.024024947249948303,0.053636136373954674,-0.08109522370409566), linear: Vec(0.06516923799489366,0.03217586576873023,0.0019742422779325253)"
      ]
     },
     "execution_count": 15,
     "metadata": {},
     "output_type": "execute_result"
    }
   ],
   "source": [
    "relative_twist(cache, body2, body1)"
   ]
  },
  {
   "cell_type": "code",
   "execution_count": 16,
   "metadata": {
    "collapsed": false
   },
   "outputs": [
    {
     "data": {
      "text/plain": [
       "Twist of \"world\" w.r.t \"world\" in \"world\":\n",
       "angular: Vec(0.0,0.0,0.0), linear: Vec(0.0,0.0,0.0)"
      ]
     },
     "execution_count": 16,
     "metadata": {},
     "output_type": "execute_result"
    }
   ],
   "source": [
    "relative_twist(cache, body1, world) + relative_twist(cache, body2, body1) + relative_twist(cache, world, body2)"
   ]
  },
  {
   "cell_type": "code",
   "execution_count": 17,
   "metadata": {
    "collapsed": false
   },
   "outputs": [
    {
     "data": {
      "text/plain": [
       "GeometricJacobian: body: \"world\", base: \"after_2\", expressed in \"world\":\n",
       "6x7 Array{Float64,2}:\n",
       "  0.220009    0.577714    0.121913  …  -0.0        -0.0       -0.0     \n",
       " -0.491175   -0.811987    0.186632     -0.0        -0.0       -0.0     \n",
       "  0.742633    0.0832059   0.974836     -0.0        -0.0       -0.0     \n",
       " -0.59679     0.239881   -0.552669      0.577714    0.121913   0.807083\n",
       " -0.294652    0.115448   -0.951891     -0.811987    0.186632   0.553033\n",
       " -0.0180792  -0.538905    0.251356  …   0.0832059   0.974836  -0.206812"
      ]
     },
     "execution_count": 17,
     "metadata": {},
     "output_type": "execute_result"
    }
   ],
   "source": [
    "geometric_jacobian(cache, path(mechanism, body2, world))"
   ]
  },
  {
   "cell_type": "code",
   "execution_count": 18,
   "metadata": {
    "collapsed": false
   },
   "outputs": [
    {
     "data": {
      "text/plain": [
       "7x7 Array{Float64,2}:\n",
       "  1.21283     0.0193577    -0.858681     …   0.166837      0.587689 \n",
       "  0.0193577   0.470599      0.69064         -0.041997      0.0210213\n",
       " -0.858681    0.69064       3.18548          0.0          -0.641422 \n",
       "  0.0         0.253249     -0.166837         3.1225e-17   -0.0385941\n",
       " -0.253249   -6.93889e-18   0.041997         9.71445e-17   0.0417142\n",
       "  0.166837   -0.041997      8.67362e-19  …   0.316949      0.0194269\n",
       "  0.587689    0.0210213    -0.641422         0.0194269     0.550441 "
      ]
     },
     "execution_count": 18,
     "metadata": {},
     "output_type": "execute_result"
    }
   ],
   "source": [
    "mass_matrix(cache)"
   ]
  },
  {
   "cell_type": "code",
   "execution_count": 19,
   "metadata": {
    "collapsed": false
   },
   "outputs": [
    {
     "data": {
      "text/plain": [
       "MomentumMatrix expressed in \"world\":\n",
       "6x7 Array{Float64,2}:\n",
       " -0.135247  -0.690414   -2.09584    …   0.287578   -0.0633011   0.209628  \n",
       "  1.13313   -0.462685   -2.52857        0.0728405  -0.0122325   0.86263   \n",
       " -0.395211  -0.140406   -0.0434839     -0.0499097  -0.279744   -0.252134  \n",
       " -0.103777  -0.11241     0.0912641     -0.0386401  -0.255804    0.00153169\n",
       " -0.045002   0.22886    -0.143307      -0.0591528  -0.175283   -0.0498668 \n",
       "  0.28138   -0.0297573  -0.0270584  …  -0.308973    0.0655487  -0.0334355 "
      ]
     },
     "execution_count": 19,
     "metadata": {},
     "output_type": "execute_result"
    }
   ],
   "source": [
    "A = momentum_matrix(cache)"
   ]
  },
  {
   "cell_type": "code",
   "execution_count": 20,
   "metadata": {
    "collapsed": false
   },
   "outputs": [
    {
     "data": {
      "text/plain": [
       "Momentum expressed in \"world\":\n",
       "angular: Vec(-0.9675748577497181,-0.5125026508832913,-0.3406167600411281), linear: Vec(-0.11745479389735165,-0.01039360131617528,-0.05390770174332112)"
      ]
     },
     "execution_count": 20,
     "metadata": {},
     "output_type": "execute_result"
    }
   ],
   "source": [
    "A * velocity_vector(x)"
   ]
  },
  {
   "cell_type": "code",
   "execution_count": 21,
   "metadata": {
    "collapsed": false
   },
   "outputs": [
    {
     "data": {
      "text/plain": [
       "SpatialAcceleration of \"after_2\" w.r.t \"world\" in \"world\":\n",
       "angular: Vec(-0.18086615825264782,0.15852549700145835,-0.7847600665341297), linear: Vec(0.35958664142329255,0.374917868724429,-0.8688854441688401)"
      ]
     },
     "execution_count": 21,
     "metadata": {},
     "output_type": "execute_result"
    }
   ],
   "source": [
    "accel = SpatialAcceleration(joint2.frameAfter, world.frame, joint2.frameAfter, rand(Vec{3, Float64}), rand(Vec{3, Float64}))\n",
    "transform(cache, accel, world.frame)"
   ]
  },
  {
   "cell_type": "code",
   "execution_count": 22,
   "metadata": {
    "collapsed": false
   },
   "outputs": [
    {
     "data": {
      "text/plain": [
       "SpatialAcceleration of \"after_2\" w.r.t \"after_1\" in \"world\":\n",
       "angular: Vec(0.008717627775600367,-0.04400649338280775,-0.03168841160423989), linear: Vec(0.043708626142588775,-0.008178289640613522,-0.029584180831111598)"
      ]
     },
     "execution_count": 22,
     "metadata": {},
     "output_type": "execute_result"
    }
   ],
   "source": [
    "bias_acceleration(cache, body2)"
   ]
  },
  {
   "cell_type": "code",
   "execution_count": 23,
   "metadata": {
    "collapsed": false
   },
   "outputs": [
    {
     "data": {
      "text/plain": [
       "7-element Array{Float64,1}:\n",
       " -2.50813 \n",
       "  0.619299\n",
       "  2.33788 \n",
       "  0.301742\n",
       "  3.22355 \n",
       " -0.524155\n",
       "  0.391491"
      ]
     },
     "execution_count": 23,
     "metadata": {},
     "output_type": "execute_result"
    }
   ],
   "source": [
    "v̇ = [j::Joint => rand(num_velocities(j))::Vector{Float64} for j in joints(mechanism)]\n",
    "τ = inverse_dynamics(cache, v̇)"
   ]
  },
  {
   "cell_type": "code",
   "execution_count": 24,
   "metadata": {
    "collapsed": false
   },
   "outputs": [
    {
     "data": {
      "text/plain": [
       "Vertex: world (root)\n",
       "  Vertex: body1, Edge: joint1\n",
       "    Vertex: body2, Edge: joint2\n",
       "      Vertex: body3, Edge: joint3"
      ]
     },
     "execution_count": 24,
     "metadata": {},
     "output_type": "execute_result"
    }
   ],
   "source": [
    "rand_chain_mechanism(Float64, QuaternionFloating, Revolute{Float64}, Revolute{Float64})"
   ]
  },
  {
   "cell_type": "code",
   "execution_count": 25,
   "metadata": {
    "collapsed": false
   },
   "outputs": [
    {
     "data": {
      "text/plain": [
       "Vertex: world (root)\n",
       "  Vertex: body1, Edge: joint1\n",
       "    Vertex: body2, Edge: joint2\n",
       "      Vertex: body7, Edge: joint7\n",
       "    Vertex: body9, Edge: joint9\n",
       "  Vertex: body3, Edge: joint3\n",
       "    Vertex: body5, Edge: joint5\n",
       "      Vertex: body6, Edge: joint6\n",
       "      Vertex: body8, Edge: joint8\n",
       "    Vertex: body10, Edge: joint10\n",
       "  Vertex: body4, Edge: joint4\n",
       "    Vertex: body11, Edge: joint11"
      ]
     },
     "execution_count": 25,
     "metadata": {},
     "output_type": "execute_result"
    }
   ],
   "source": [
    "rand_tree_mechanism(Float64, [QuaternionFloating; [Revolute{Float64} for i = 1 : 10]]...)"
   ]
  }
 ],
 "metadata": {
  "kernelspec": {
   "display_name": "Julia 0.4.5",
   "language": "julia",
   "name": "julia-0.4"
  },
  "language_info": {
   "file_extension": ".jl",
   "mimetype": "application/julia",
   "name": "julia",
   "version": "0.4.5"
  }
 },
 "nbformat": 4,
 "nbformat_minor": 0
}
