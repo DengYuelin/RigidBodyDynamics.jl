{
 "cells": [
  {
   "cell_type": "code",
   "execution_count": 1,
   "metadata": {
    "collapsed": false
   },
   "outputs": [],
   "source": [
    "push!(LOAD_PATH, \"../src\")\n",
    "using Quaternions\n",
    "using FixedSizeArrays\n",
    "using RigidBodyDynamics"
   ]
  },
  {
   "cell_type": "code",
   "execution_count": 2,
   "metadata": {
    "collapsed": false
   },
   "outputs": [
    {
     "data": {
      "text/plain": [
       "RigidBody: \"world\""
      ]
     },
     "execution_count": 2,
     "metadata": {},
     "output_type": "execute_result"
    }
   ],
   "source": [
    "mechanism = Mechanism{Float64}(\"world\")\n",
    "world = root_body(mechanism)"
   ]
  },
  {
   "cell_type": "code",
   "execution_count": 3,
   "metadata": {
    "collapsed": false
   },
   "outputs": [],
   "source": [
    "body1 = RigidBody(rand(SpatialInertia{Float64}, CartesianFrame3D(\"body1\")));\n",
    "joint1 = Joint(\"joint1\", QuaternionFloating());\n",
    "joint1ToWorld = rand(Transform3D{Float64}, joint1.frameBefore, world.frame)\n",
    "body1ToJoint1 = rand(Transform3D{Float64}, body1.frame, joint1.frameAfter)\n",
    "attach!(mechanism, world, joint1, joint1ToWorld, body1, body1ToJoint1);"
   ]
  },
  {
   "cell_type": "code",
   "execution_count": 4,
   "metadata": {
    "collapsed": false
   },
   "outputs": [],
   "source": [
    "joint2 = Joint(\"joint2\", Revolute(rand(Vec{3, Float64})));\n",
    "joint2ToBody1 = rand(Transform3D{Float64}, joint2.frameBefore, body1.frame)\n",
    "body2frame = CartesianFrame3D(\"body2\")\n",
    "body2 = RigidBody(rand(SpatialInertia{Float64}, body2frame));\n",
    "body2ToJoint2 = rand(Transform3D{Float64}, body2frame, joint2.frameAfter)\n",
    "attach!(mechanism, body1, joint2, joint2ToBody1, body2, body2ToJoint2);"
   ]
  },
  {
   "cell_type": "code",
   "execution_count": 5,
   "metadata": {
    "collapsed": false
   },
   "outputs": [
    {
     "data": {
      "text/plain": [
       "Vertex: world (root)\n",
       "  Vertex: body1, Edge: joint1\n",
       "    Vertex: body2, Edge: joint2"
      ]
     },
     "execution_count": 5,
     "metadata": {},
     "output_type": "execute_result"
    }
   ],
   "source": [
    "mechanism"
   ]
  },
  {
   "cell_type": "code",
   "execution_count": 6,
   "metadata": {
    "collapsed": false
   },
   "outputs": [],
   "source": [
    "x = MechanismState(Float64, mechanism);"
   ]
  },
  {
   "cell_type": "code",
   "execution_count": 7,
   "metadata": {
    "collapsed": false
   },
   "outputs": [
    {
     "data": {
      "text/plain": [
       "7-element Array{Float64,1}:\n",
       "  0.515233 \n",
       " -0.476383 \n",
       "  0.711903 \n",
       " -0.0280851\n",
       "  0.852427 \n",
       "  0.11959  \n",
       "  0.290369 "
      ]
     },
     "execution_count": 7,
     "metadata": {},
     "output_type": "execute_result"
    }
   ],
   "source": [
    "rand!(x)\n",
    "setdirty!(x)\n",
    "x.q[joint1]"
   ]
  },
  {
   "cell_type": "code",
   "execution_count": 8,
   "metadata": {
    "collapsed": false
   },
   "outputs": [
    {
     "data": {
      "text/plain": [
       "8"
      ]
     },
     "execution_count": 8,
     "metadata": {},
     "output_type": "execute_result"
    }
   ],
   "source": [
    "num_positions(x)"
   ]
  },
  {
   "cell_type": "code",
   "execution_count": 9,
   "metadata": {
    "collapsed": false
   },
   "outputs": [
    {
     "data": {
      "text/plain": [
       "7"
      ]
     },
     "execution_count": 9,
     "metadata": {},
     "output_type": "execute_result"
    }
   ],
   "source": [
    "num_velocities(x)"
   ]
  },
  {
   "cell_type": "code",
   "execution_count": 10,
   "metadata": {
    "collapsed": false
   },
   "outputs": [
    {
     "data": {
      "text/plain": [
       "Transform3D from \"after_joint2\" to \"body1\":\n",
       "rotation: 2.654164118767531 rad about [0.01711590111450171,0.48462351865789466,0.8745553676541468], translation: Vec(0.7786311610638958,0.595382446928555,0.5128880153022659)\n"
      ]
     },
     "execution_count": 10,
     "metadata": {},
     "output_type": "execute_result"
    }
   ],
   "source": [
    "relative_transform(x, joint2.frameAfter, body1.frame)"
   ]
  },
  {
   "cell_type": "code",
   "execution_count": 11,
   "metadata": {
    "collapsed": false
   },
   "outputs": [
    {
     "data": {
      "text/plain": [
       "Point3D in \"world\": Vec(0.7770554286905658,0.508064330817523,1.3091735156023834)"
      ]
     },
     "execution_count": 11,
     "metadata": {},
     "output_type": "execute_result"
    }
   ],
   "source": [
    "center_of_mass(x)"
   ]
  },
  {
   "cell_type": "code",
   "execution_count": 12,
   "metadata": {
    "collapsed": false
   },
   "outputs": [
    {
     "data": {
      "text/plain": [
       "0.9864701841356995"
      ]
     },
     "execution_count": 12,
     "metadata": {},
     "output_type": "execute_result"
    }
   ],
   "source": [
    "mass(mechanism)"
   ]
  },
  {
   "cell_type": "code",
   "execution_count": 13,
   "metadata": {
    "collapsed": false
   },
   "outputs": [
    {
     "data": {
      "text/plain": [
       "Point3D in \"world\": Vec(0.5815418117397658,0.2090143498442637,1.6070218399302552)"
      ]
     },
     "execution_count": 13,
     "metadata": {},
     "output_type": "execute_result"
    }
   ],
   "source": [
    "transform(x, Point3D{Float64}(joint2.frameAfter), root_frame(mechanism))"
   ]
  },
  {
   "cell_type": "code",
   "execution_count": 14,
   "metadata": {
    "collapsed": false
   },
   "outputs": [
    {
     "data": {
      "text/plain": [
       "Twist of \"after_joint2\" w.r.t \"after_joint1\" in \"world\":\n",
       "angular: Vec(0.18604788833401087,-0.560022703452804,0.7282868499088617), linear: Vec(1.0521911177392687,-0.12454623433658552,-0.3645632960013767)"
      ]
     },
     "execution_count": 14,
     "metadata": {},
     "output_type": "execute_result"
    }
   ],
   "source": [
    "relative_twist(x, body2, body1)"
   ]
  },
  {
   "cell_type": "code",
   "execution_count": 15,
   "metadata": {
    "collapsed": false
   },
   "outputs": [
    {
     "data": {
      "text/plain": [
       "Twist of \"world\" w.r.t \"world\" in \"world\":\n",
       "angular: Vec(0.0,0.0,0.0), linear: Vec(0.0,0.0,0.0)"
      ]
     },
     "execution_count": 15,
     "metadata": {},
     "output_type": "execute_result"
    }
   ],
   "source": [
    "relative_twist(x, body1, world) + relative_twist(x, body2, body1) + relative_twist(x, world, body2)"
   ]
  },
  {
   "cell_type": "code",
   "execution_count": 16,
   "metadata": {
    "collapsed": false
   },
   "outputs": [
    {
     "data": {
      "text/plain": [
       "GeometricJacobian: body: \"world\", base: \"after_joint2\", expressed in \"world\":\n",
       "6x7 Array{Float64,2}:\n",
       " -0.25067   -0.176184   0.23889   …  -0.0       -0.0       -0.0       \n",
       "  0.754542   0.811152   0.584826     -0.0       -0.0       -0.0       \n",
       " -0.981251  -0.557667   0.775184     -0.0       -0.0       -0.0       \n",
       " -1.41766   -1.29268    0.286223     -0.176184   0.23889   -0.95493   \n",
       "  0.167806   0.361021  -0.507143      0.811152   0.584826  -0.00335412\n",
       "  0.491191   0.933519   0.294401  …  -0.557667   0.775184   0.296813  "
      ]
     },
     "execution_count": 16,
     "metadata": {},
     "output_type": "execute_result"
    }
   ],
   "source": [
    "geometric_jacobian(x, path(mechanism, body2, world))"
   ]
  },
  {
   "cell_type": "code",
   "execution_count": 17,
   "metadata": {
    "collapsed": false
   },
   "outputs": [
    {
     "data": {
      "text/plain": [
       "7x7 Array{Float64,2}:\n",
       "  0.830204     -1.12623     -0.936676     …   0.012505      1.07023    \n",
       " -1.12623       1.87081      2.36519         -0.630463     -0.599313   \n",
       " -0.936676      2.36519      3.3346           5.55112e-17  -0.968177   \n",
       " -8.32667e-17  -0.267153    -0.012505        -3.33067e-16   0.000765185\n",
       "  0.267153     -1.2837e-16   0.630463         1.94289e-16   0.00682552 \n",
       "  0.012505     -0.630463     2.77556e-17  …   0.98647      -0.0306541  \n",
       "  1.07023      -0.599313    -0.968177        -0.0306541     1.57554    "
      ]
     },
     "execution_count": 17,
     "metadata": {},
     "output_type": "execute_result"
    }
   ],
   "source": [
    "mass_matrix(x)"
   ]
  },
  {
   "cell_type": "code",
   "execution_count": 18,
   "metadata": {
    "collapsed": false
   },
   "outputs": [
    {
     "data": {
      "text/plain": [
       "MomentumMatrix expressed in \"world\":\n",
       "6x7 Array{Float64,2}:\n",
       " -0.559489    1.46341     2.25764   …   0.366765  -0.153091    -0.584272  \n",
       "  0.131544   -0.780604   -0.288003      0.285694   1.46077     -0.551941  \n",
       "  1.52306    -1.90987    -3.5195       -0.328564  -0.47603      1.37625   \n",
       " -0.0518788  -0.649116   -0.152814     -0.235658   0.94201     -0.0307683 \n",
       " -0.156196    0.214587   -0.358568     -0.576913   0.00330874  -0.00471524\n",
       " -0.210805    0.0381471  -0.495698  …  -0.764696  -0.292797     0.00423423"
      ]
     },
     "execution_count": 18,
     "metadata": {},
     "output_type": "execute_result"
    }
   ],
   "source": [
    "A = momentum_matrix(x)"
   ]
  },
  {
   "cell_type": "code",
   "execution_count": 19,
   "metadata": {
    "collapsed": false
   },
   "outputs": [
    {
     "data": {
      "text/plain": [
       "Momentum expressed in \"world\":\n",
       "angular: Vec(1.90250345676739,-0.29373766319311817,-0.9756742846430437), linear: Vec(-0.18284274724980085,-1.1100254449680353,-0.5283810178664314)"
      ]
     },
     "execution_count": 19,
     "metadata": {},
     "output_type": "execute_result"
    }
   ],
   "source": [
    "A * velocity_vector(x)"
   ]
  },
  {
   "cell_type": "code",
   "execution_count": 20,
   "metadata": {
    "collapsed": false
   },
   "outputs": [
    {
     "data": {
      "text/plain": [
       "SpatialAcceleration of \"after_joint2\" w.r.t \"world\" in \"world\":\n",
       "angular: Vec(0.39740489126249534,-0.5654523251610813,0.4987156727102909), linear: Vec(1.2082098956259908,0.45726669691470173,0.6095183011820076)"
      ]
     },
     "execution_count": 20,
     "metadata": {},
     "output_type": "execute_result"
    }
   ],
   "source": [
    "accel = SpatialAcceleration(joint2.frameAfter, world.frame, joint2.frameAfter, rand(Vec{3, Float64}), rand(Vec{3, Float64}))\n",
    "transform(x, accel, world.frame)"
   ]
  },
  {
   "cell_type": "code",
   "execution_count": 21,
   "metadata": {
    "collapsed": false
   },
   "outputs": [
    {
     "data": {
      "text/plain": [
       "SpatialAcceleration of \"after_joint2\" w.r.t \"after_joint1\" in \"world\":\n",
       "angular: Vec(-0.7584358529287257,-0.2746732440307963,-0.017462712412940146), linear: Vec(-0.9125962029363397,-1.0159130469008213,0.49197086439166454)"
      ]
     },
     "execution_count": 21,
     "metadata": {},
     "output_type": "execute_result"
    }
   ],
   "source": [
    "bias_acceleration(x, body2)"
   ]
  },
  {
   "cell_type": "code",
   "execution_count": 22,
   "metadata": {
    "collapsed": false
   },
   "outputs": [
    {
     "data": {
      "text/plain": [
       "7-element Array{Float64,1}:\n",
       "  3.08046 \n",
       " -0.462364\n",
       "  5.76816 \n",
       " -5.21536 \n",
       "  8.5445  \n",
       "  3.44151 \n",
       "  0.638276"
      ]
     },
     "execution_count": 22,
     "metadata": {},
     "output_type": "execute_result"
    }
   ],
   "source": [
    "v̇ = [j::Joint => rand(num_velocities(j))::Vector{Float64} for j in joints(mechanism)]\n",
    "τ = inverse_dynamics(x, v̇)"
   ]
  },
  {
   "cell_type": "code",
   "execution_count": 23,
   "metadata": {
    "collapsed": false
   },
   "outputs": [
    {
     "data": {
      "text/plain": [
       "Vertex: world (root)\n",
       "  Vertex: body1, Edge: joint1\n",
       "    Vertex: body2, Edge: joint2\n",
       "      Vertex: body3, Edge: joint3"
      ]
     },
     "execution_count": 23,
     "metadata": {},
     "output_type": "execute_result"
    }
   ],
   "source": [
    "rand_chain_mechanism(Float64, QuaternionFloating, Revolute{Float64}, Revolute{Float64})"
   ]
  },
  {
   "cell_type": "code",
   "execution_count": 24,
   "metadata": {
    "collapsed": false
   },
   "outputs": [
    {
     "data": {
      "text/plain": [
       "Vertex: world (root)\n",
       "  Vertex: body1, Edge: joint1\n",
       "    Vertex: body3, Edge: joint3\n",
       "      Vertex: body4, Edge: joint4\n",
       "        Vertex: body8, Edge: joint8\n",
       "          Vertex: body10, Edge: joint10\n",
       "      Vertex: body6, Edge: joint6\n",
       "  Vertex: body2, Edge: joint2\n",
       "    Vertex: body5, Edge: joint5\n",
       "      Vertex: body9, Edge: joint9\n",
       "      Vertex: body11, Edge: joint11\n",
       "    Vertex: body7, Edge: joint7"
      ]
     },
     "execution_count": 24,
     "metadata": {},
     "output_type": "execute_result"
    }
   ],
   "source": [
    "rand_tree_mechanism(Float64, [QuaternionFloating; [Revolute{Float64} for i = 1 : 10]]...)"
   ]
  },
  {
   "cell_type": "code",
   "execution_count": 25,
   "metadata": {
    "collapsed": true
   },
   "outputs": [],
   "source": []
  }
 ],
 "metadata": {
  "kernelspec": {
   "display_name": "Julia 0.4.5",
   "language": "julia",
   "name": "julia-0.4"
  },
  "language_info": {
   "file_extension": ".jl",
   "mimetype": "application/julia",
   "name": "julia",
   "version": "0.4.5"
  }
 },
 "nbformat": 4,
 "nbformat_minor": 0
}
