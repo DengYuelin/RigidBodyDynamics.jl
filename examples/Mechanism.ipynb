{
 "cells": [
  {
   "cell_type": "code",
   "execution_count": 1,
   "metadata": {
    "collapsed": false
   },
   "outputs": [],
   "source": [
    "push!(LOAD_PATH, \"../src\")\n",
    "using Quaternions\n",
    "using FixedSizeArrays\n",
    "using RigidBodyDynamics"
   ]
  },
  {
   "cell_type": "code",
   "execution_count": 2,
   "metadata": {
    "collapsed": false
   },
   "outputs": [
    {
     "data": {
      "text/plain": [
       "RigidBody: \"world\""
      ]
     },
     "execution_count": 2,
     "metadata": {},
     "output_type": "execute_result"
    }
   ],
   "source": [
    "mechanism = Mechanism{Float64}(\"world\")\n",
    "world = root_body(mechanism)"
   ]
  },
  {
   "cell_type": "code",
   "execution_count": 3,
   "metadata": {
    "collapsed": false
   },
   "outputs": [],
   "source": [
    "body1 = RigidBody(rand(SpatialInertia{Float64}, CartesianFrame3D(\"body1\")));\n",
    "joint1 = Joint(\"joint1\", QuaternionFloating());\n",
    "joint1ToWorld = rand(Transform3D{Float64}, joint1.frameBefore, world.frame)\n",
    "body1ToJoint1 = rand(Transform3D{Float64}, body1.frame, joint1.frameAfter)\n",
    "attach!(mechanism, world, joint1, joint1ToWorld, body1, body1ToJoint1);"
   ]
  },
  {
   "cell_type": "code",
   "execution_count": 4,
   "metadata": {
    "collapsed": false
   },
   "outputs": [],
   "source": [
    "joint2 = Joint(\"joint2\", Revolute(rand(Vec{3, Float64})));\n",
    "joint2ToBody1 = rand(Transform3D{Float64}, joint2.frameBefore, body1.frame)\n",
    "body2frame = CartesianFrame3D(\"body2\")\n",
    "body2 = RigidBody(rand(SpatialInertia{Float64}, body2frame));\n",
    "body2ToJoint2 = rand(Transform3D{Float64}, body2frame, joint2.frameAfter)\n",
    "attach!(mechanism, body1, joint2, joint2ToBody1, body2, body2ToJoint2);"
   ]
  },
  {
   "cell_type": "code",
   "execution_count": 5,
   "metadata": {
    "collapsed": false
   },
   "outputs": [
    {
     "data": {
      "text/plain": [
       "Vertex: world (root)\n",
       "  Vertex: body1, Edge: joint1\n",
       "    Vertex: body2, Edge: joint2"
      ]
     },
     "execution_count": 5,
     "metadata": {},
     "output_type": "execute_result"
    }
   ],
   "source": [
    "mechanism"
   ]
  },
  {
   "cell_type": "code",
   "execution_count": 6,
   "metadata": {
    "collapsed": false
   },
   "outputs": [],
   "source": [
    "x = MechanismState(Float64, mechanism);"
   ]
  },
  {
   "cell_type": "code",
   "execution_count": 7,
   "metadata": {
    "collapsed": false
   },
   "outputs": [
    {
     "data": {
      "text/plain": [
       "7-element Array{Float64,1}:\n",
       " 0.713825\n",
       " 0.196429\n",
       " 0.449078\n",
       " 0.500198\n",
       " 0.987024\n",
       " 0.745708\n",
       " 0.964063"
      ]
     },
     "execution_count": 7,
     "metadata": {},
     "output_type": "execute_result"
    }
   ],
   "source": [
    "rand!(x)\n",
    "setdirty!(x)\n",
    "x.q[joint1]"
   ]
  },
  {
   "cell_type": "code",
   "execution_count": 8,
   "metadata": {
    "collapsed": false
   },
   "outputs": [
    {
     "data": {
      "text/plain": [
       "8"
      ]
     },
     "execution_count": 8,
     "metadata": {},
     "output_type": "execute_result"
    }
   ],
   "source": [
    "num_positions(x)"
   ]
  },
  {
   "cell_type": "code",
   "execution_count": 9,
   "metadata": {
    "collapsed": false
   },
   "outputs": [
    {
     "data": {
      "text/plain": [
       "7"
      ]
     },
     "execution_count": 9,
     "metadata": {},
     "output_type": "execute_result"
    }
   ],
   "source": [
    "num_velocities(x)"
   ]
  },
  {
   "cell_type": "code",
   "execution_count": 10,
   "metadata": {
    "collapsed": false
   },
   "outputs": [
    {
     "data": {
      "text/plain": [
       "Transform3D from \"after_joint2\" to \"body1\":\n",
       "rotation: 2.4910179488517166 rad about [0.07030232384199758,-0.32292825284800697,0.9438087342120481], translation: Vec(0.3096386810558378,0.9555377460234,0.5790172111932055)\n"
      ]
     },
     "execution_count": 10,
     "metadata": {},
     "output_type": "execute_result"
    }
   ],
   "source": [
    "relative_transform(x, joint2.frameAfter, body1.frame)"
   ]
  },
  {
   "cell_type": "code",
   "execution_count": 11,
   "metadata": {
    "collapsed": false
   },
   "outputs": [
    {
     "data": {
      "text/plain": [
       "Point3D in \"world\": Vec(1.7857715019360747,2.983706266514492,1.4200300906645418)"
      ]
     },
     "execution_count": 11,
     "metadata": {},
     "output_type": "execute_result"
    }
   ],
   "source": [
    "center_of_mass(x)"
   ]
  },
  {
   "cell_type": "code",
   "execution_count": 12,
   "metadata": {
    "collapsed": false
   },
   "outputs": [
    {
     "data": {
      "text/plain": [
       "0.2789018422850955"
      ]
     },
     "execution_count": 12,
     "metadata": {},
     "output_type": "execute_result"
    }
   ],
   "source": [
    "mass(mechanism)"
   ]
  },
  {
   "cell_type": "code",
   "execution_count": 13,
   "metadata": {
    "collapsed": false
   },
   "outputs": [
    {
     "data": {
      "text/plain": [
       "Point3D in \"world\": Vec(0.9453600986104389,2.604266191589542,1.1308069408306305)"
      ]
     },
     "execution_count": 13,
     "metadata": {},
     "output_type": "execute_result"
    }
   ],
   "source": [
    "transform(x, Point3D{Float64}(joint2.frameAfter), root_frame(mechanism))"
   ]
  },
  {
   "cell_type": "code",
   "execution_count": 14,
   "metadata": {
    "collapsed": false
   },
   "outputs": [
    {
     "data": {
      "text/plain": [
       "Twist of \"after_joint2\" w.r.t \"after_joint1\" in \"world\":\n",
       "angular: Vec(0.46784312907743253,-0.1948719271727295,-0.09643538925954553), linear: Vec(-0.03078089610144799,0.6202064266806213,-1.4026121883122376)"
      ]
     },
     "execution_count": 14,
     "metadata": {},
     "output_type": "execute_result"
    }
   ],
   "source": [
    "relative_twist(x, body2, body1)"
   ]
  },
  {
   "cell_type": "code",
   "execution_count": 15,
   "metadata": {
    "collapsed": false
   },
   "outputs": [
    {
     "data": {
      "text/plain": [
       "Twist of \"world\" w.r.t \"world\" in \"world\":\n",
       "angular: Vec(0.0,0.0,0.0), linear: Vec(0.0,0.0,0.0)"
      ]
     },
     "execution_count": 15,
     "metadata": {},
     "output_type": "execute_result"
    }
   ],
   "source": [
    "relative_twist(x, body1, world) + relative_twist(x, body2, body1) + relative_twist(x, world, body2)"
   ]
  },
  {
   "cell_type": "code",
   "execution_count": 16,
   "metadata": {
    "collapsed": false
   },
   "outputs": [
    {
     "data": {
      "text/plain": [
       "GeometricJacobian: body: \"world\", base: \"after_joint2\", expressed in \"world\":\n",
       "6x7 Array{Float64,2}:\n",
       " -0.60461     0.454519  -0.870539  -0.188612  -0.0       -0.0       -0.0     \n",
       "  0.25184    -0.542411  -0.10254   -0.833832  -0.0       -0.0       -0.0     \n",
       "  0.124627   -0.706543  -0.481298   0.518796  -0.0       -0.0       -0.0     \n",
       "  0.0397792  -1.48023   -1.09166    1.47147    0.454519  -0.870539  -0.188612\n",
       " -0.801514    1.22418    0.465544  -0.85358   -0.542411  -0.10254   -0.833832\n",
       "  1.81264    -1.89203    1.87533   -0.836947  -0.706543  -0.481298   0.518796"
      ]
     },
     "execution_count": 16,
     "metadata": {},
     "output_type": "execute_result"
    }
   ],
   "source": [
    "p = path(mechanism, body2, world)\n",
    "J = geometric_jacobian(x, p)"
   ]
  },
  {
   "cell_type": "code",
   "execution_count": 17,
   "metadata": {
    "collapsed": false
   },
   "outputs": [
    {
     "data": {
      "text/plain": [
       "Twist of \"world\" w.r.t \"after_joint2\" in \"world\":\n",
       "angular: Vec(-0.9130860882045293,-0.3024885894618244,-0.05341214693575047), linear: Vec(-0.03381610759390795,-1.4827377098829775,1.2242204694869692)"
      ]
     },
     "execution_count": 17,
     "metadata": {},
     "output_type": "execute_result"
    }
   ],
   "source": [
    "Twist(J, velocity_vector(x, p))"
   ]
  },
  {
   "cell_type": "code",
   "execution_count": 18,
   "metadata": {
    "collapsed": false
   },
   "outputs": [
    {
     "data": {
      "text/plain": [
       "7x7 Array{Float64,2}:\n",
       "  1.39026      -1.31766     -1.35752      …   0.228936     -0.351461  \n",
       " -1.31766       3.55713      1.3327          -0.284316      1.06016   \n",
       " -1.35752       1.3327       2.00143          0.0           0.675253  \n",
       " -2.77556e-17   0.00399594  -0.228936         9.71445e-17   0.00504227\n",
       " -0.00399594    0.0          0.284316         5.55112e-17   0.00361359\n",
       "  0.228936     -0.284316     3.64292e-17  …   0.278902     -0.0296021 \n",
       " -0.351461      1.06016      0.675253        -0.0296021     0.611205  "
      ]
     },
     "execution_count": 18,
     "metadata": {},
     "output_type": "execute_result"
    }
   ],
   "source": [
    "mass_matrix(x)"
   ]
  },
  {
   "cell_type": "code",
   "execution_count": 19,
   "metadata": {
    "collapsed": false
   },
   "outputs": [
    {
     "data": {
      "text/plain": [
       "MomentumMatrix expressed in \"world\":\n",
       "6x7 Array{Float64,2}:\n",
       " -2.37625     4.37116     2.12618    …   0.359907   -0.76196     1.26499   \n",
       " -0.315694    0.513705    1.21708        0.105063    0.333089    0.447998  \n",
       "  1.25147    -0.140743   -2.32239       -0.673358    0.258338   -0.110398  \n",
       "  0.0397015  -0.0554417   0.351563       0.242795    0.0526044  -0.00472936\n",
       "  0.190484   -0.234904   -0.0950235      0.0285985   0.232557   -0.0215776 \n",
       " -0.120694    0.150325   -0.0249124  …   0.134235   -0.144693    0.0206592 "
      ]
     },
     "execution_count": 19,
     "metadata": {},
     "output_type": "execute_result"
    }
   ],
   "source": [
    "A = momentum_matrix(x)"
   ]
  },
  {
   "cell_type": "code",
   "execution_count": 20,
   "metadata": {
    "collapsed": false
   },
   "outputs": [
    {
     "data": {
      "text/plain": [
       "Momentum expressed in \"world\":\n",
       "angular: Vec(3.6965591868277894,0.7880453164035877,-0.3351988107268776), linear: Vec(0.08663851482558117,0.12215919745483934,0.1885407817701067)"
      ]
     },
     "execution_count": 20,
     "metadata": {},
     "output_type": "execute_result"
    }
   ],
   "source": [
    "Momentum(A, velocity_vector(x))"
   ]
  },
  {
   "cell_type": "code",
   "execution_count": 21,
   "metadata": {
    "collapsed": false
   },
   "outputs": [
    {
     "data": {
      "text/plain": [
       "SpatialAcceleration of \"after_joint2\" w.r.t \"world\" in \"world\":\n",
       "angular: Vec(1.2235710262077952,-0.5901644916398131,0.4950344026100619), linear: Vec(2.329911350401585,0.14103487124968894,-3.4949172834044266)"
      ]
     },
     "execution_count": 21,
     "metadata": {},
     "output_type": "execute_result"
    }
   ],
   "source": [
    "accel = SpatialAcceleration(joint2.frameAfter, world.frame, joint2.frameAfter, rand(Vec{3, Float64}), rand(Vec{3, Float64}))\n",
    "transform(x, accel, world.frame)"
   ]
  },
  {
   "cell_type": "code",
   "execution_count": 22,
   "metadata": {
    "collapsed": false
   },
   "outputs": [
    {
     "data": {
      "text/plain": [
       "SpatialAcceleration of \"after_joint2\" w.r.t \"world\" in \"world\":\n",
       "angular: Vec(-0.018762076863519238,0.11304231829664455,-0.3194520538870642), linear: Vec(-0.8389553295924949,0.7095795369222647,-0.12466572998784797)"
      ]
     },
     "execution_count": 22,
     "metadata": {},
     "output_type": "execute_result"
    }
   ],
   "source": [
    "bias_acceleration(x, body2)"
   ]
  },
  {
   "cell_type": "code",
   "execution_count": 23,
   "metadata": {
    "collapsed": false
   },
   "outputs": [
    {
     "data": {
      "text/plain": [
       "7-element Array{Float64,1}:\n",
       " -1.56747\n",
       "  3.65742\n",
       "  1.13159\n",
       "  2.09567\n",
       "  1.63368\n",
       " -1.3787 \n",
       "  1.02628"
      ]
     },
     "execution_count": 23,
     "metadata": {},
     "output_type": "execute_result"
    }
   ],
   "source": [
    "v̇ = [j::Joint => rand(num_velocities(j))::Vector{Float64} for j in joints(mechanism)]\n",
    "τ = inverse_dynamics(x, v̇)"
   ]
  },
  {
   "cell_type": "code",
   "execution_count": 27,
   "metadata": {
    "collapsed": false
   },
   "outputs": [
    {
     "data": {
      "text/plain": [
       "SpatialAcceleration of \"after_joint1\" w.r.t \"after_joint2\" in \"world\":\n",
       "angular: Vec(-0.12333262784620072,-0.053855237784364476,0.3487416967368453), linear: Vec(0.8483041947791244,-0.8979504749160285,0.5506712697368239)"
      ]
     },
     "execution_count": 27,
     "metadata": {},
     "output_type": "execute_result"
    }
   ],
   "source": [
    "relative_acceleration(x, body1, body2, v̇)"
   ]
  },
  {
   "cell_type": "code",
   "execution_count": 24,
   "metadata": {
    "collapsed": false
   },
   "outputs": [
    {
     "data": {
      "text/plain": [
       "Vertex: world (root)\n",
       "  Vertex: body1, Edge: joint1\n",
       "    Vertex: body2, Edge: joint2\n",
       "      Vertex: body3, Edge: joint3"
      ]
     },
     "execution_count": 24,
     "metadata": {},
     "output_type": "execute_result"
    }
   ],
   "source": [
    "rand_chain_mechanism(Float64, QuaternionFloating, Revolute{Float64}, Revolute{Float64})"
   ]
  },
  {
   "cell_type": "code",
   "execution_count": 25,
   "metadata": {
    "collapsed": false
   },
   "outputs": [
    {
     "data": {
      "text/plain": [
       "Vertex: world (root)\n",
       "  Vertex: body1, Edge: joint1\n",
       "    Vertex: body3, Edge: joint3\n",
       "      Vertex: body4, Edge: joint4\n",
       "        Vertex: body7, Edge: joint7\n",
       "      Vertex: body6, Edge: joint6\n",
       "        Vertex: body8, Edge: joint8\n",
       "          Vertex: body9, Edge: joint9\n",
       "        Vertex: body10, Edge: joint10\n",
       "  Vertex: body2, Edge: joint2\n",
       "    Vertex: body5, Edge: joint5\n",
       "      Vertex: body11, Edge: joint11"
      ]
     },
     "execution_count": 25,
     "metadata": {},
     "output_type": "execute_result"
    }
   ],
   "source": [
    "rand_tree_mechanism(Float64, [QuaternionFloating; [Revolute{Float64} for i = 1 : 10]]...)"
   ]
  }
 ],
 "metadata": {
  "kernelspec": {
   "display_name": "Julia 0.4.5",
   "language": "julia",
   "name": "julia-0.4"
  },
  "language_info": {
   "file_extension": ".jl",
   "mimetype": "application/julia",
   "name": "julia",
   "version": "0.4.5"
  }
 },
 "nbformat": 4,
 "nbformat_minor": 0
}
