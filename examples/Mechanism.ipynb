{
 "cells": [
  {
   "cell_type": "code",
   "execution_count": 1,
   "metadata": {
    "collapsed": false
   },
   "outputs": [],
   "source": [
    "push!(LOAD_PATH, \"../src\")\n",
    "using Quaternions\n",
    "using FixedSizeArrays\n",
    "using RigidBodyDynamics"
   ]
  },
  {
   "cell_type": "code",
   "execution_count": 2,
   "metadata": {
    "collapsed": false
   },
   "outputs": [
    {
     "data": {
      "text/plain": [
       "RigidBodyDynamics.RigidBody{Float64}(RigidBodyDynamics.CartesianFrame3D(\"world\"),#undef)"
      ]
     },
     "execution_count": 2,
     "metadata": {},
     "output_type": "execute_result"
    }
   ],
   "source": [
    "mechanism = Mechanism{Float64}(\"world\");\n",
    "world = root_body(mechanism)"
   ]
  },
  {
   "cell_type": "code",
   "execution_count": 3,
   "metadata": {
    "collapsed": false
   },
   "outputs": [],
   "source": [
    "body1 = RigidBody(rand(SpatialInertia{Float64}, CartesianFrame3D(\"body1\")));\n",
    "joint1 = Joint(\"1\", QuaternionFloating());\n",
    "joint1ToWorld = rand(Transform3D{Float64}, joint1.frameBefore, world.frame)\n",
    "body1ToJoint1 = rand(Transform3D{Float64}, body1.frame, joint1.frameAfter)\n",
    "attach!(mechanism, world, joint1, joint1ToWorld, body1, body1ToJoint1);"
   ]
  },
  {
   "cell_type": "code",
   "execution_count": 4,
   "metadata": {
    "collapsed": false
   },
   "outputs": [],
   "source": [
    "joint2 = Joint(\"2\", Revolute(rand(Vec{3, Float64})));\n",
    "joint2ToBody1 = rand(Transform3D{Float64}, joint2.frameBefore, body1.frame)\n",
    "body2frame = CartesianFrame3D(\"b2\")\n",
    "body2 = RigidBody(rand(SpatialInertia{Float64}, body2frame));\n",
    "body2ToJoint2 = rand(Transform3D{Float64}, body2frame, joint2.frameAfter)\n",
    "attach!(mechanism, body1, joint2, joint2ToBody1, body2, body2ToJoint2);"
   ]
  },
  {
   "cell_type": "code",
   "execution_count": 5,
   "metadata": {
    "collapsed": false
   },
   "outputs": [],
   "source": [
    "x = MechanismState{Float64}(mechanism);"
   ]
  },
  {
   "cell_type": "code",
   "execution_count": 6,
   "metadata": {
    "collapsed": false
   },
   "outputs": [
    {
     "data": {
      "text/plain": [
       "DataStructures.OrderedDict{RigidBodyDynamics.Joint,Array{Float64,1}} with 2 entries:\n",
       "  RigidBodyDynamics.Joint… => [0.7306928931363796,0.7848672038378661,0.14700280…\n",
       "  RigidBodyDynamics.Joint… => [0.05925801585523671]"
      ]
     },
     "execution_count": 6,
     "metadata": {},
     "output_type": "execute_result"
    }
   ],
   "source": [
    "rand!(x)\n",
    "x.v"
   ]
  },
  {
   "cell_type": "code",
   "execution_count": 7,
   "metadata": {
    "collapsed": false
   },
   "outputs": [
    {
     "data": {
      "text/plain": [
       "8"
      ]
     },
     "execution_count": 7,
     "metadata": {},
     "output_type": "execute_result"
    }
   ],
   "source": [
    "num_positions(x)"
   ]
  },
  {
   "cell_type": "code",
   "execution_count": 8,
   "metadata": {
    "collapsed": false
   },
   "outputs": [
    {
     "data": {
      "text/plain": [
       "7"
      ]
     },
     "execution_count": 8,
     "metadata": {},
     "output_type": "execute_result"
    }
   ],
   "source": [
    "num_velocities(x)"
   ]
  },
  {
   "cell_type": "code",
   "execution_count": 9,
   "metadata": {
    "collapsed": false
   },
   "outputs": [
    {
     "name": "stdout",
     "output_type": "stream",
     "text": [
      "RigidBodyDynamics.CartesianFrame3D(\"world\")\n",
      "RigidBodyDynamics.CartesianFrame3D(\"after_1\")\n"
     ]
    }
   ],
   "source": [
    "cache = MechanismStateCache(mechanism, x);"
   ]
  },
  {
   "cell_type": "code",
   "execution_count": 10,
   "metadata": {
    "collapsed": false
   },
   "outputs": [
    {
     "data": {
      "text/plain": [
       "RigidBodyDynamics.Transform3D{Float64}(RigidBodyDynamics.CartesianFrame3D(\"after_2\"),RigidBodyDynamics.CartesianFrame3D(\"body1\"),-0.2812998862624654 + 0.08232380006473256im + 0.9343074583220061jm + 0.20288602528389768km,Vec(0.6899115564849716,0.272084151458476,0.6082573818677589))"
      ]
     },
     "execution_count": 10,
     "metadata": {},
     "output_type": "execute_result"
    }
   ],
   "source": [
    "relative_transform(cache, joint2.frameAfter, body1.frame)"
   ]
  },
  {
   "cell_type": "code",
   "execution_count": 11,
   "metadata": {
    "collapsed": false
   },
   "outputs": [
    {
     "data": {
      "text/plain": [
       "RigidBodyDynamics.Point3D{Float64}(RigidBodyDynamics.CartesianFrame3D(\"world\"),Vec(1.2248955179124694,0.36493535073200234,0.8054958742094717))"
      ]
     },
     "execution_count": 11,
     "metadata": {},
     "output_type": "execute_result"
    }
   ],
   "source": [
    "center_of_mass(cache)"
   ]
  },
  {
   "cell_type": "code",
   "execution_count": 12,
   "metadata": {
    "collapsed": false
   },
   "outputs": [
    {
     "data": {
      "text/plain": [
       "1.4756578583275417"
      ]
     },
     "execution_count": 12,
     "metadata": {},
     "output_type": "execute_result"
    }
   ],
   "source": [
    "mass(mechanism)"
   ]
  },
  {
   "cell_type": "code",
   "execution_count": 13,
   "metadata": {
    "collapsed": false
   },
   "outputs": [
    {
     "data": {
      "text/plain": [
       "RigidBodyDynamics.Point3D{Float64}(RigidBodyDynamics.CartesianFrame3D(\"world\"),Vec(1.625301683095627,0.016147740140022543,0.7649497396076184))"
      ]
     },
     "execution_count": 13,
     "metadata": {},
     "output_type": "execute_result"
    }
   ],
   "source": [
    "transform(cache, Point3D{Float64}(joint2.frameAfter), root_frame(mechanism))"
   ]
  },
  {
   "cell_type": "code",
   "execution_count": 14,
   "metadata": {
    "collapsed": false
   },
   "outputs": [
    {
     "data": {
      "text/plain": [
       "RigidBodyDynamics.Twist{Float64}(RigidBodyDynamics.CartesianFrame3D(\"after_2\"),RigidBodyDynamics.CartesianFrame3D(\"after_1\"),RigidBodyDynamics.CartesianFrame3D(\"world\"),Vec(-0.026575475627624856,0.015366169853575392,0.001866604773344327),Vec(-0.011724206179434815,-0.023362699041091006,0.025403795600281776))"
      ]
     },
     "execution_count": 14,
     "metadata": {},
     "output_type": "execute_result"
    }
   ],
   "source": [
    "relative_twist(cache, body2, body1)"
   ]
  },
  {
   "cell_type": "code",
   "execution_count": 15,
   "metadata": {
    "collapsed": false
   },
   "outputs": [
    {
     "data": {
      "text/plain": [
       "RigidBodyDynamics.Twist{Float64}(RigidBodyDynamics.CartesianFrame3D(\"world\"),RigidBodyDynamics.CartesianFrame3D(\"world\"),RigidBodyDynamics.CartesianFrame3D(\"world\"),Vec(0.0,0.0,0.0),Vec(0.0,0.0,0.0))"
      ]
     },
     "execution_count": 15,
     "metadata": {},
     "output_type": "execute_result"
    }
   ],
   "source": [
    "relative_twist(cache, body1, world) + relative_twist(cache, body2, body1) + relative_twist(cache, world, body2)"
   ]
  },
  {
   "cell_type": "code",
   "execution_count": 16,
   "metadata": {
    "collapsed": false
   },
   "outputs": [
    {
     "data": {
      "text/plain": [
       "RigidBodyDynamics.GeometricJacobian{Float64}(RigidBodyDynamics.CartesianFrame3D(\"world\"),RigidBodyDynamics.CartesianFrame3D(\"after_2\"),RigidBodyDynamics.CartesianFrame3D(\"world\"),6x7 Array{Float64,2}:\n",
       "  0.448471   -0.381886  -0.723763   …  -0.0       -0.0       -0.0     \n",
       " -0.25931    -0.588421   0.669953      -0.0       -0.0       -0.0     \n",
       " -0.0314996  -0.712688  -0.165318      -0.0       -0.0       -0.0     \n",
       "  0.19785    -0.270755   0.0603874     -0.381886  -0.723763  -0.574744\n",
       "  0.394254    0.736703   0.267918      -0.588421   0.669953  -0.452685\n",
       " -0.428698   -0.463168   0.821368   …  -0.712688  -0.165318   0.681723)"
      ]
     },
     "execution_count": 16,
     "metadata": {},
     "output_type": "execute_result"
    }
   ],
   "source": [
    "geometric_jacobian(cache, path(mechanism, body2, world))"
   ]
  },
  {
   "cell_type": "code",
   "execution_count": 17,
   "metadata": {
    "collapsed": false
   },
   "outputs": [
    {
     "data": {
      "text/plain": [
       "7x7 Array{Float64,2}:\n",
       "  0.35349     0.00236167  -1.29167    1.48672   …  -0.97525      -0.0908289\n",
       " -0.331202    0.91297      3.17484   -0.218282     -0.413966     -0.200257 \n",
       "  0.210991   -1.5709      -0.829279  -0.223426      1.57725       0.194262 \n",
       " -0.184023   -1.02889     -1.88107    0.0           0.540363      0.252786 \n",
       " -0.38254     0.276359    -0.245755   0.553095     -1.27302      -0.0328033\n",
       " -1.30978     0.308812     1.93687   -0.540363  …   2.77556e-17   0.0303056\n",
       " -0.0908289  -0.200257     0.194262   0.252786      0.0303056    -0.0245132"
      ]
     },
     "execution_count": 17,
     "metadata": {},
     "output_type": "execute_result"
    }
   ],
   "source": [
    "mass_matrix(cache)"
   ]
  },
  {
   "cell_type": "code",
   "execution_count": 18,
   "metadata": {
    "collapsed": false
   },
   "outputs": [
    {
     "data": {
      "text/plain": [
       "RigidBodyDynamics.MomentumMatrix{Float64}(RigidBodyDynamics.CartesianFrame3D(\"world\"),6x7 Array{Float64,2}:\n",
       "  0.125853   -0.568528    0.632313   …   0.576307   0.457648   0.0162691 \n",
       "  0.0285512  -0.46416    -0.724048      -0.53346    0.360457   0.00665842\n",
       " -0.09101     0.608008    0.052298       0.131637  -0.542832   0.176815  \n",
       " -1.09993    -0.0154135   0.216986       0.520444  -0.715012  -0.189637  \n",
       " -0.444918   -0.650776   -0.0654222      0.250826   1.17083    0.0880427 \n",
       "  0.698518   -0.898117   -2.70165    …  -1.26203    0.174656  -0.367903  )"
      ]
     },
     "execution_count": 18,
     "metadata": {},
     "output_type": "execute_result"
    }
   ],
   "source": [
    "A = momentum_matrix(cache)"
   ]
  },
  {
   "cell_type": "code",
   "execution_count": 19,
   "metadata": {
    "collapsed": false
   },
   "outputs": [
    {
     "data": {
      "text/plain": [
       "RigidBodyDynamics.Momentum{Float64}(RigidBodyDynamics.CartesianFrame3D(\"world\"),Vec(0.38799494306485066,-0.6205666152710565,0.38114484198627324),Vec(-0.7002449641611648,-0.2641906416814828,-1.3892488245443542))"
      ]
     },
     "execution_count": 19,
     "metadata": {},
     "output_type": "execute_result"
    }
   ],
   "source": [
    "A * velocity_vector(x)"
   ]
  },
  {
   "cell_type": "code",
   "execution_count": null,
   "metadata": {
    "collapsed": false
   },
   "outputs": [
    {
     "data": {
      "text/plain": [
       "RigidBodyDynamics.SpatialAcceleration{Float64}(RigidBodyDynamics.CartesianFrame3D(\"after_2\"),RigidBodyDynamics.CartesianFrame3D(\"world\"),RigidBodyDynamics.CartesianFrame3D(\"world\"),Vec(-0.8148494409858584,-0.041556086910988665,-0.5330777686243846),Vec(-0.081408832385965,0.317690488185878,-0.10391521269933167))"
      ]
     },
     "execution_count": 20,
     "metadata": {},
     "output_type": "execute_result"
    }
   ],
   "source": [
    "accel = SpatialAcceleration(joint2.frameAfter, world.frame, joint2.frameAfter, rand(Vec{3, Float64}), rand(Vec{3, Float64}))\n",
    "transform(cache, accel, world.frame)"
   ]
  },
  {
   "cell_type": "code",
   "execution_count": null,
   "metadata": {
    "collapsed": false
   },
   "outputs": [],
   "source": [
    "bias_acceleration(joint1, x.q[joint1], x.v[joint1])"
   ]
  }
 ],
 "metadata": {
  "kernelspec": {
   "display_name": "Julia 0.4.5",
   "language": "julia",
   "name": "julia-0.4"
  },
  "language_info": {
   "file_extension": ".jl",
   "mimetype": "application/julia",
   "name": "julia",
   "version": "0.4.5"
  }
 },
 "nbformat": 4,
 "nbformat_minor": 0
}
