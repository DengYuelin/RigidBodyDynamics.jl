{
 "cells": [
  {
   "cell_type": "code",
   "execution_count": 1,
   "metadata": {
    "collapsed": false
   },
   "outputs": [],
   "source": [
    "push!(LOAD_PATH, \"../src\")\n",
    "using Quaternions\n",
    "using FixedSizeArrays\n",
    "using RigidBodyDynamics"
   ]
  },
  {
   "cell_type": "code",
   "execution_count": 2,
   "metadata": {
    "collapsed": false
   },
   "outputs": [
    {
     "data": {
      "text/plain": [
       "RigidBodyDynamics.CartesianFrame3D(\"4\")"
      ]
     },
     "execution_count": 2,
     "metadata": {},
     "output_type": "execute_result"
    }
   ],
   "source": [
    "f1 = CartesianFrame3D(\"1\")\n",
    "f2 = CartesianFrame3D(\"2\")\n",
    "f3 = CartesianFrame3D(\"3\")\n",
    "f4 = CartesianFrame3D(\"4\")"
   ]
  },
  {
   "cell_type": "code",
   "execution_count": 3,
   "metadata": {
    "collapsed": false
   },
   "outputs": [
    {
     "data": {
      "text/plain": [
       "RigidBodyDynamics.Point3D{Float64}(RigidBodyDynamics.CartesianFrame3D(\"1\"),FixedSizeArrays.Vec{3,Float64}((0.9215700990275344,0.9586593342576321,0.7842561872790675)))"
      ]
     },
     "execution_count": 3,
     "metadata": {},
     "output_type": "execute_result"
    }
   ],
   "source": [
    "t1 = rand(Transform3D{Float64}, f2, f1)\n",
    "v = rand(Point3D{Float64}, f2)\n",
    "w = t1 * v"
   ]
  },
  {
   "cell_type": "code",
   "execution_count": 4,
   "metadata": {
    "collapsed": false
   },
   "outputs": [
    {
     "data": {
      "text/plain": [
       "RigidBodyDynamics.Transform3D{Float64}(RigidBodyDynamics.CartesianFrame3D(\"3\"),RigidBodyDynamics.CartesianFrame3D(\"1\"),0.23126435219221905 - 0.07589594403982197im + 0.5934136899876846jm + 0.7672136583889897km,FixedSizeArrays.Vec{3,Float64}((1.4249147492136407,1.227539812205587,1.0883062743752667)))"
      ]
     },
     "execution_count": 4,
     "metadata": {},
     "output_type": "execute_result"
    }
   ],
   "source": [
    "t2 = rand(Transform3D{Float64}, f3, f2)\n",
    "t3 = t1 * t2"
   ]
  },
  {
   "cell_type": "code",
   "execution_count": 5,
   "metadata": {
    "collapsed": false
   },
   "outputs": [
    {
     "data": {
      "text/plain": [
       "RigidBodyDynamics.Transform3D{Float64}(RigidBodyDynamics.CartesianFrame3D(\"4\"),RigidBodyDynamics.CartesianFrame3D(\"1\"),0.23126435219221905 - 0.07589594403982197im + 0.5934136899876846jm + 0.7672136583889897km,FixedSizeArrays.Vec{3,Float64}((0.12757625769422942,3.951777485625185,3.3008708354996448)))"
      ]
     },
     "execution_count": 5,
     "metadata": {},
     "output_type": "execute_result"
    }
   ],
   "source": [
    "t4 = Transform3D(f4, f3, Vec(1.0, 2.0, 3.0))\n",
    "t5 = t3 * t4"
   ]
  },
  {
   "cell_type": "code",
   "execution_count": 6,
   "metadata": {
    "collapsed": false
   },
   "outputs": [
    {
     "data": {
      "text/plain": [
       "RigidBodyDynamics.Transform3D{Float64}(RigidBodyDynamics.CartesianFrame3D(\"4\"),RigidBodyDynamics.CartesianFrame3D(\"4\"),1.0 + 5.551115123125783e-17im + 6.938893903907228e-18jm - 2.7755575615628914e-17km,FixedSizeArrays.Vec{3,Float64}((0.0,0.0,0.0)))"
      ]
     },
     "execution_count": 6,
     "metadata": {},
     "output_type": "execute_result"
    }
   ],
   "source": [
    "inv(t5) * t5"
   ]
  }
 ],
 "metadata": {
  "kernelspec": {
   "display_name": "Julia 0.4.5",
   "language": "julia",
   "name": "julia-0.4"
  },
  "language_info": {
   "file_extension": ".jl",
   "mimetype": "application/julia",
   "name": "julia",
   "version": "0.4.5"
  }
 },
 "nbformat": 4,
 "nbformat_minor": 0
}
