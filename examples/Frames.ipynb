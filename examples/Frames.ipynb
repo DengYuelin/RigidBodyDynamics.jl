{
 "cells": [
  {
   "cell_type": "code",
   "execution_count": 1,
   "metadata": {
    "collapsed": false
   },
   "outputs": [],
   "source": [
    "push!(LOAD_PATH, \"../src\")\n",
    "using Quaternions\n",
    "using FixedSizeArrays\n",
    "using RigidBodyDynamics"
   ]
  },
  {
   "cell_type": "code",
   "execution_count": 2,
   "metadata": {
    "collapsed": false
   },
   "outputs": [
    {
     "data": {
      "text/plain": [
       "CartesianFrame3D: \"4\""
      ]
     },
     "execution_count": 2,
     "metadata": {},
     "output_type": "execute_result"
    }
   ],
   "source": [
    "f1 = CartesianFrame3D(\"1\")\n",
    "f2 = CartesianFrame3D(\"2\")\n",
    "f3 = CartesianFrame3D(\"3\")\n",
    "f4 = CartesianFrame3D(\"4\")"
   ]
  },
  {
   "cell_type": "code",
   "execution_count": 3,
   "metadata": {
    "collapsed": false
   },
   "outputs": [
    {
     "data": {
      "text/plain": [
       "Point3D in \"1\": Vec(-0.1895541087369932,0.12860655692172634,1.4682187144933043)"
      ]
     },
     "execution_count": 3,
     "metadata": {},
     "output_type": "execute_result"
    }
   ],
   "source": [
    "t1 = rand(Transform3D{Float64}, f2, f1)\n",
    "v = rand(Point3D{Float64}, f2)\n",
    "w = t1 * v"
   ]
  },
  {
   "cell_type": "code",
   "execution_count": 4,
   "metadata": {
    "collapsed": false
   },
   "outputs": [
    {
     "data": {
      "text/plain": [
       "Transform3D from \"3\" to \"1\":\n",
       "rotation: 3.273636480515525 rad about [-0.10165581756200973,-0.9484084429952523,-0.3003123707260835], translation: Vec(0.22583609629026608,-0.7186611394852835,1.4143698463109147)\n"
      ]
     },
     "execution_count": 4,
     "metadata": {},
     "output_type": "execute_result"
    }
   ],
   "source": [
    "t2 = rand(Transform3D{Float64}, f3, f2)\n",
    "t3 = t1 * t2"
   ]
  },
  {
   "cell_type": "code",
   "execution_count": 5,
   "metadata": {
    "collapsed": false
   },
   "outputs": [
    {
     "data": {
      "text/plain": [
       "Transform3D from \"4\" to \"1\":\n",
       "rotation: 3.273636480515525 rad about [-0.10165581756200973,-0.9484084429952523,-0.3003123707260835], translation: Vec(0.11698433470822495,2.7738481486590807,0.07626291253251538)\n"
      ]
     },
     "execution_count": 5,
     "metadata": {},
     "output_type": "execute_result"
    }
   ],
   "source": [
    "t4 = Transform3D(f4, f3, Vec(1.0, 2.0, 3.0))\n",
    "t5 = t3 * t4"
   ]
  },
  {
   "cell_type": "code",
   "execution_count": 6,
   "metadata": {
    "collapsed": false
   },
   "outputs": [
    {
     "data": {
      "text/plain": [
       "Transform3D from \"4\" to \"4\":\n",
       "rotation: 1.3877787807814457e-17 rad about [0.0,0.0,-1.0], translation: Vec(0.0,0.0,0.0)\n"
      ]
     },
     "execution_count": 6,
     "metadata": {},
     "output_type": "execute_result"
    }
   ],
   "source": [
    "inv(t5) * t5"
   ]
  }
 ],
 "metadata": {
  "kernelspec": {
   "display_name": "Julia 0.4.5",
   "language": "julia",
   "name": "julia-0.4"
  },
  "language_info": {
   "file_extension": ".jl",
   "mimetype": "application/julia",
   "name": "julia",
   "version": "0.4.5"
  }
 },
 "nbformat": 4,
 "nbformat_minor": 0
}
