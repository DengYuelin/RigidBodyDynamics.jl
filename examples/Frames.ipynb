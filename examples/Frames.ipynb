{
 "cells": [
  {
   "cell_type": "code",
   "execution_count": 1,
   "metadata": {
    "collapsed": false
   },
   "outputs": [],
   "source": [
    "push!(LOAD_PATH, \"../src\")\n",
    "using Quaternions\n",
    "using FixedSizeArrays\n",
    "using RigidBodyDynamics"
   ]
  },
  {
   "cell_type": "code",
   "execution_count": 2,
   "metadata": {
    "collapsed": false
   },
   "outputs": [
    {
     "data": {
      "text/plain": [
       "CartesianFrame3D: \"4\""
      ]
     },
     "execution_count": 2,
     "metadata": {},
     "output_type": "execute_result"
    }
   ],
   "source": [
    "f1 = CartesianFrame3D(\"1\")\n",
    "f2 = CartesianFrame3D(\"2\")\n",
    "f3 = CartesianFrame3D(\"3\")\n",
    "f4 = CartesianFrame3D(\"4\")"
   ]
  },
  {
   "cell_type": "code",
   "execution_count": 3,
   "metadata": {
    "collapsed": false
   },
   "outputs": [
    {
     "data": {
      "text/plain": [
       "Point3D in \"1\": Vec(-0.06986319479143238,1.4116980968289092,-0.007340156857892174)"
      ]
     },
     "execution_count": 3,
     "metadata": {},
     "output_type": "execute_result"
    }
   ],
   "source": [
    "t1 = rand(Transform3D{Float64}, f2, f1)\n",
    "v = rand(Point3D{Float64}, f2)\n",
    "w = t1 * v"
   ]
  },
  {
   "cell_type": "code",
   "execution_count": 4,
   "metadata": {
    "collapsed": false
   },
   "outputs": [
    {
     "data": {
      "text/plain": [
       "Transform3D from \"3\" to \"1\":\n",
       "rotation: 3.6588080003064256 rad about [0.6117324841289746,0.7371827604376464,-0.28695809027613295], translation: Vec(-0.005855959453717974,1.4573755867512452,0.3691213921886449)\n"
      ]
     },
     "execution_count": 4,
     "metadata": {},
     "output_type": "execute_result"
    }
   ],
   "source": [
    "t2 = rand(Transform3D{Float64}, f3, f2)\n",
    "t3 = t1 * t2"
   ]
  },
  {
   "cell_type": "code",
   "execution_count": 5,
   "metadata": {
    "collapsed": false
   },
   "outputs": [
    {
     "data": {
      "text/plain": [
       "Transform3D from \"4\" to \"1\":\n",
       "rotation: 3.6588080003064256 rad about [0.6117324841289747,0.7371827604376465,-0.286958090276133], translation: Vec(-0.8513786261974756,2.4565879574881055,-3.1361127024459687)\n"
      ]
     },
     "execution_count": 5,
     "metadata": {},
     "output_type": "execute_result"
    }
   ],
   "source": [
    "t4 = Transform3D(f4, f3, Vec(1.0, 2.0, 3.0))\n",
    "t5 = t3 * t4"
   ]
  },
  {
   "cell_type": "code",
   "execution_count": 6,
   "metadata": {
    "collapsed": false
   },
   "outputs": [
    {
     "data": {
      "text/plain": [
       "Transform3D from \"4\" to \"4\":\n",
       "rotation: 0.0 rad about [1.0,0.0,0.0], translation: Vec(0.0,0.0,0.0)\n"
      ]
     },
     "execution_count": 6,
     "metadata": {},
     "output_type": "execute_result"
    }
   ],
   "source": [
    "inv(t5) * t5"
   ]
  }
 ],
 "metadata": {
  "kernelspec": {
   "display_name": "Julia 0.4.5",
   "language": "julia",
   "name": "julia-0.4"
  },
  "language_info": {
   "file_extension": ".jl",
   "mimetype": "application/julia",
   "name": "julia",
   "version": "0.4.5"
  }
 },
 "nbformat": 4,
 "nbformat_minor": 0
}
