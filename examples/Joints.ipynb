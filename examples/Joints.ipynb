{
 "cells": [
  {
   "cell_type": "code",
   "execution_count": 1,
   "metadata": {
    "collapsed": false
   },
   "outputs": [],
   "source": [
    "push!(LOAD_PATH, \"../src\")\n",
    "using Quaternions\n",
    "using FixedSizeArrays\n",
    "using RigidBodyDynamics"
   ]
  },
  {
   "cell_type": "code",
   "execution_count": 2,
   "metadata": {
    "collapsed": false
   },
   "outputs": [
    {
     "data": {
      "text/plain": [
       "RigidBodyDynamics.Joint(\"1\",RigidBodyDynamics.CartesianFrame3D(\"before_1\"),RigidBodyDynamics.CartesianFrame3D(\"after_1\"),RigidBodyDynamics.QuaternionFloating())"
      ]
     },
     "execution_count": 2,
     "metadata": {},
     "output_type": "execute_result"
    }
   ],
   "source": [
    "j1 = Joint(\"1\", QuaternionFloating())"
   ]
  },
  {
   "cell_type": "code",
   "execution_count": 3,
   "metadata": {
    "collapsed": false
   },
   "outputs": [
    {
     "data": {
      "text/plain": [
       "RigidBodyDynamics.Transform3D{Float64}(RigidBodyDynamics.CartesianFrame3D(\"after_1\"),RigidBodyDynamics.CartesianFrame3D(\"before_1\"),1.0 + 2.0im + 3.0jm + 4.0km,FixedSizeArrays.Vec{3,Float64}((5.0,6.0,7.0)))"
      ]
     },
     "execution_count": 3,
     "metadata": {},
     "output_type": "execute_result"
    }
   ],
   "source": [
    "joint_transform(j1, collect(1.0 : 1.0 : 7.0))"
   ]
  },
  {
   "cell_type": "code",
   "execution_count": 4,
   "metadata": {
    "collapsed": false
   },
   "outputs": [
    {
     "data": {
      "text/plain": [
       "RigidBodyDynamics.Joint(\"2\",RigidBodyDynamics.CartesianFrame3D(\"before_2\"),RigidBodyDynamics.CartesianFrame3D(\"after_2\"),RigidBodyDynamics.Revolute{Float64}(FixedSizeArrays.Vec{3,Float64}((1.0,2.0,3.0))))"
      ]
     },
     "execution_count": 4,
     "metadata": {},
     "output_type": "execute_result"
    }
   ],
   "source": [
    "j2 = Joint(\"2\", Revolute(Vec(1.0, 2.0, 3.0)))"
   ]
  },
  {
   "cell_type": "code",
   "execution_count": 5,
   "metadata": {
    "collapsed": false
   },
   "outputs": [
    {
     "data": {
      "text/plain": [
       "RigidBodyDynamics.Transform3D{Float64}(RigidBodyDynamics.CartesianFrame3D(\"after_2\"),RigidBodyDynamics.CartesianFrame3D(\"before_2\"),0.0707372016677029 + 0.26659174892121673im + 0.5331834978424335jm + 0.7997752467636502km,FixedSizeArrays.Vec{3,Float64}((0.0,0.0,0.0)))"
      ]
     },
     "execution_count": 5,
     "metadata": {},
     "output_type": "execute_result"
    }
   ],
   "source": [
    "joint_transform(j2, [3.0])"
   ]
  },
  {
   "cell_type": "code",
   "execution_count": 6,
   "metadata": {
    "collapsed": false
   },
   "outputs": [
    {
     "data": {
      "text/plain": [
       "7-element Array{Float64,1}:\n",
       " 1.0\n",
       " 0.0\n",
       " 0.0\n",
       " 0.0\n",
       " 0.0\n",
       " 0.0\n",
       " 0.0"
      ]
     },
     "execution_count": 6,
     "metadata": {},
     "output_type": "execute_result"
    }
   ],
   "source": [
    "q = Vector{Float64}(num_positions(j1))\n",
    "zero_configuration!(j1, q)\n",
    "q"
   ]
  },
  {
   "cell_type": "code",
   "execution_count": 7,
   "metadata": {
    "collapsed": false
   },
   "outputs": [
    {
     "data": {
      "text/plain": [
       "1-element Array{Float64,1}:\n",
       " 0.0"
      ]
     },
     "execution_count": 7,
     "metadata": {},
     "output_type": "execute_result"
    }
   ],
   "source": [
    "q = Vector{Float64}(num_positions(j2))\n",
    "zero_configuration!(j2, q)"
   ]
  }
 ],
 "metadata": {
  "kernelspec": {
   "display_name": "Julia 0.4.5",
   "language": "julia",
   "name": "julia-0.4"
  },
  "language_info": {
   "file_extension": ".jl",
   "mimetype": "application/julia",
   "name": "julia",
   "version": "0.4.5"
  }
 },
 "nbformat": 4,
 "nbformat_minor": 0
}
