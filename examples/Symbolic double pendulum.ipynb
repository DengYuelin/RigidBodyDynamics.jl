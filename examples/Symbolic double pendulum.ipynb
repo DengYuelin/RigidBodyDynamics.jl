{
 "cells": [
  {
   "cell_type": "markdown",
   "metadata": {},
   "source": [
    "## Setup"
   ]
  },
  {
   "cell_type": "code",
   "execution_count": 1,
   "metadata": {
    "collapsed": false
   },
   "outputs": [],
   "source": [
    "# Install SymPy if it isn't installed already\n",
    "# Ensure that PyCall uses the Conda.jl package's Miniconda distribution within Julia\n",
    "# Otherwise the sympy Python module won't be imported properly.\n",
    "ENV[\"PYTHON\"]=\"\"\n",
    "\n",
    "if !isdir(Pkg.dir(\"PyCall\"))\n",
    "    Pkg.add(\"PyCall\")\n",
    "end\n",
    "\n",
    "if !isdir(Pkg.dir(\"SymPy\"))\n",
    "    # Add SymPy\n",
    "    Pkg.build(\"PyCall\")\n",
    "    Pkg.add(\"SymPy\")\n",
    "end"
   ]
  },
  {
   "cell_type": "code",
   "execution_count": null,
   "metadata": {
    "collapsed": false
   },
   "outputs": [
    {
     "name": "stderr",
     "output_type": "stream",
     "text": [
      "\u001b[1m\u001b[34mINFO: Recompiling stale cache file /Users/twan/code/julia/RigidBodyDynamics/lib/v0.5/PyCall.ji for module PyCall.\n",
      "\u001b[0m\u001b[1m\u001b[34mINFO: Recompiling stale cache file /Users/twan/code/julia/RigidBodyDynamics/lib/v0.5/SymPy.ji for module SymPy.\n",
      "\u001b[0m\u001b[1m\u001b[34mINFO: Installing sympy via the Conda sympy package...\n",
      "\u001b[0m"
     ]
    },
    {
     "name": "stdout",
     "output_type": "stream",
     "text": [
      "Fetching package metadata .........\n",
      "Solving package specifications: .\n",
      "\n",
      "Package plan for installation in environment /Users/twan/code/julia/RigidBodyDynamics/v0.5/Conda/deps/usr:\n",
      "\n",
      "The following NEW packages will be INSTALLED:\n",
      "\n",
      "    mpmath: 0.19-py27_1\n",
      "    sympy:  1.0-py27_0 \n",
      "\n",
      "mpmath-0.19-py 100% |###############################| ETA:  0:00:00  27.39 MB/smpmath-0.19-py   3% |#                              | ETA:  0:00:00  13.39 MB/smpmath-0.19-py   7% |##                             | ETA:  0:00:00  15.09 MB/smpmath-0.19-py  10% |###                            | ETA:  0:00:00  17.91 MB/smpmath-0.19-py  14% |####                           | ETA:  0:00:00  19.17 MB/smpmath-0.19-py  18% |#####                          | ETA:  0:00:00  20.68 MB/smpmath-0.19-py  21% |######                         | ETA:  0:00:00  21.90 MB/smpmath-0.19-py  25% |#######                        | ETA:  0:00:00  20.89 MB/smpmath-0.19-py  29% |#########                      | ETA:  0:00:00  21.74 MB/smpmath-0.19-py  32% |##########                     | ETA:  0:00:00  21.29 MB/smpmath-0.19-py  36% |###########                    | ETA:  0:00:00  21.85 MB/smpmath-0.19-py  40% |############                   | ETA:  0:00:00  22.46 MB/smpmath-0.19-py  43% |#############                  | ETA:  0:00:00  22.84 MB/smpmath-0.19-py  47% |##############                 | ETA:  0:00:00  23.07 MB/smpmath-0.19-py  51% |###############                | ETA:  0:00:00  23.44 MB/smpmath-0.19-py  54% |#################              | ETA:  0:00:00  24.00 MB/smpmath-0.19-py  58% |##################             | ETA:  0:00:00  24.59 MB/smpmath-0.19-py  62% |###################            | ETA:  0:00:00  24.83 MB/smpmath-0.19-py  65% |####################           | ETA:  0:00:00  24.98 MB/smpmath-0.19-py  69% |#####################          | ETA:  0:00:00  25.22 MB/smpmath-0.19-py  73% |######################         | ETA:  0:00:00  25.68 MB/smpmath-0.19-py  76% |#######################        | ETA:  0:00:00  25.97 MB/smpmath-0.19-py  80% |########################       | ETA:  0:00:00  26.25 MB/smpmath-0.19-py  84% |##########################     | ETA:  0:00:00  26.07 MB/smpmath-0.19-py  87% |###########################    | ETA:  0:00:00  26.22 MB/smpmath-0.19-py  91% |############################   | ETA:  0:00:00  26.88 MB/smpmath-0.19-py  95% |#############################  | ETA:  0:00:00  26.66 MB/smpmath-0.19-py  98% |############################## | ETA:  0:00:00  27.27 MB/smpmath-0.19-py 100% |###############################| Time: 0:00:00  27.20 MB/s\n",
      "sympy-1.0-py27  96% |#############################  | Time: 0:00:00  61.61 MB/ssympy-1.0-py27   0% |                               | Time: 0:00:00  49.56 MB/ssympy-1.0-py27   1% |                               | Time: 0:00:00  55.35 MB/ssympy-1.0-py27   1% |                               | Time: 0:00:00  53.42 MB/ssympy-1.0-py27   2% |                               | Time: 0:00:00  55.85 MB/ssympy-1.0-py27   2% |                               | Time: 0:00:00  53.98 MB/ssympy-1.0-py27   3% |#                              | Time: 0:00:00  51.49 MB/ssympy-1.0-py27   3% |#                              | Time: 0:00:00  53.21 MB/ssympy-1.0-py27   4% |#                              | Time: 0:00:00  48.14 MB/ssympy-1.0-py27   4% |#                              | Time: 0:00:00  49.12 MB/ssympy-1.0-py27   5% |#                              | Time: 0:00:00  45.65 MB/ssympy-1.0-py27   6% |#                              | Time: 0:00:00  46.32 MB/ssympy-1.0-py27   6% |##                             | Time: 0:00:00  46.49 MB/ssympy-1.0-py27   7% |##                             | Time: 0:00:00  47.49 MB/ssympy-1.0-py27   7% |##                             | Time: 0:00:00  45.67 MB/ssympy-1.0-py27   8% |##                             | Time: 0:00:00  46.59 MB/ssympy-1.0-py27   8% |##                             | Time: 0:00:00  45.50 MB/ssympy-1.0-py27   9% |##                             | Time: 0:00:00  46.45 MB/ssympy-1.0-py27   9% |###                            | Time: 0:00:00  45.52 MB/ssympy-1.0-py27  10% |###                            | Time: 0:00:00  46.36 MB/ssympy-1.0-py27  11% |###                            | Time: 0:00:00  46.86 MB/ssympy-1.0-py27  11% |###                            | Time: 0:00:00  47.10 MB/ssympy-1.0-py27  12% |###                            | Time: 0:00:00  47.76 MB/ssympy-1.0-py27  12% |###                            | Time: 0:00:00  47.80 MB/ssympy-1.0-py27  13% |####                           | Time: 0:00:00  48.21 MB/ssympy-1.0-py27  13% |####                           | Time: 0:00:00  48.65 MB/ssympy-1.0-py27  14% |####                           | Time: 0:00:00  48.72 MB/ssympy-1.0-py27  14% |####                           | Time: 0:00:00  49.28 MB/ssympy-1.0-py27  15% |####                           | Time: 0:00:00  49.84 MB/ssympy-1.0-py27  16% |####                           | Time: 0:00:00  50.38 MB/ssympy-1.0-py27  16% |#####                          | Time: 0:00:00  49.99 MB/ssympy-1.0-py27  17% |#####                          | Time: 0:00:00  50.28 MB/ssympy-1.0-py27  17% |#####                          | Time: 0:00:00  50.62 MB/ssympy-1.0-py27  18% |#####                          | Time: 0:00:00  50.80 MB/ssympy-1.0-py27  18% |#####                          | Time: 0:00:00  51.19 MB/ssympy-1.0-py27  19% |######                         | Time: 0:00:00  51.49 MB/ssympy-1.0-py27  19% |######                         | Time: 0:00:00  51.87 MB/ssympy-1.0-py27  20% |######                         | Time: 0:00:00  52.27 MB/ssympy-1.0-py27  21% |######                         | Time: 0:00:00  52.65 MB/ssympy-1.0-py27  21% |######                         | Time: 0:00:00  52.92 MB/ssympy-1.0-py27  22% |######                         | Time: 0:00:00  53.22 MB/ssympy-1.0-py27  22% |#######                        | Time: 0:00:00  53.57 MB/ssympy-1.0-py27  23% |#######                        | Time: 0:00:00  53.90 MB/ssympy-1.0-py27  23% |#######                        | Time: 0:00:00  54.24 MB/ssympy-1.0-py27  24% |#######                        | Time: 0:00:00  54.56 MB/ssympy-1.0-py27  24% |#######                        | Time: 0:00:00  54.79 MB/ssympy-1.0-py27  25% |#######                        | Time: 0:00:00  55.04 MB/ssympy-1.0-py27  26% |########                       | Time: 0:00:00  55.31 MB/ssympy-1.0-py27  26% |########                       | Time: 0:00:00  55.56 MB/ssympy-1.0-py27  27% |########                       | Time: 0:00:00  55.83 MB/ssympy-1.0-py27  27% |########                       | Time: 0:00:00  56.08 MB/ssympy-1.0-py27  28% |########                       | Time: 0:00:00  56.33 MB/ssympy-1.0-py27  28% |########                       | Time: 0:00:00  56.58 MB/ssympy-1.0-py27  29% |#########                      | Time: 0:00:00  56.82 MB/ssympy-1.0-py27  29% |#########                      | Time: 0:00:00  57.07 MB/ssympy-1.0-py27  30% |#########                      | Time: 0:00:00  57.30 MB/ssympy-1.0-py27  31% |#########                      | Time: 0:00:00  57.53 MB/ssympy-1.0-py27  31% |#########                      | Time: 0:00:00  57.75 MB/ssympy-1.0-py27  32% |#########                      | Time: 0:00:00  57.97 MB/ssympy-1.0-py27  32% |##########                     | Time: 0:00:00  58.18 MB/ssympy-1.0-py27  33% |##########                     | Time: 0:00:00  58.39 MB/ssympy-1.0-py27  33% |##########                     | Time: 0:00:00  58.59 MB/ssympy-1.0-py27  34% |##########                     | Time: 0:00:00  58.79 MB/ssympy-1.0-py27  34% |##########                     | Time: 0:00:00  58.98 MB/ssympy-1.0-py27  35% |###########                    | Time: 0:00:00  59.17 MB/ssympy-1.0-py27  36% |###########                    | Time: 0:00:00  59.36 MB/ssympy-1.0-py27  36% |###########                    | Time: 0:00:00  59.54 MB/ssympy-1.0-py27  37% |###########                    | Time: 0:00:00  59.72 MB/ssympy-1.0-py27  37% |###########                    | Time: 0:00:00  59.89 MB/ssympy-1.0-py27  38% |###########                    | Time: 0:00:00  60.07 MB/ssympy-1.0-py27  38% |############                   | Time: 0:00:00  60.23 MB/ssympy-1.0-py27  39% |############                   | Time: 0:00:00  60.39 MB/ssympy-1.0-py27  39% |############                   | Time: 0:00:00  60.55 MB/s% |############                   | Time: 0:00:00  60.62 MB/ssympy-1.0-py27  40% |############                   | Time: 0:00:00  60.51 MB/ssympy-1.0-py27  41% |############                   | Time: 0:00:00  60.59 MB/ssympy-1.0-py27  41% |############                   | Time: 0:00:00  60.54 MB/ssympy-1.0-py27  42% |#############                  | Time: 0:00:00  60.63 MB/ssympy-1.0-py27  43% |#############                  | Time: 0:00:00  60.59 MB/ssympy-1.0-py27  43% |#############                  | Time: 0:00:00  60.70 MB/ssympy-1.0-py27  44% |#############                  | Time: 0:00:00  60.64 MB/ssympy-1.0-py27  44% |#############                  | Time: 0:00:00  60.72 MB/ssympy-1.0-py27  45% |##############                 | Time: 0:00:00  60.82 MB/ssympy-1.0-py27  45% |##############                 | Time: 0:00:00  60.92 MB/ssympy-1.0-py27  46% |##############                 | Time: 0:00:00  61.03 MB/ssympy-1.0-py27  46% |##############                 | Time: 0:00:00  61.14 MB/ssympy-1.0-py27  47% |##############                 | Time: 0:00:00  61.26 MB/ssympy-1.0-py27  48% |##############                 | Time: 0:00:00  61.37 MB/ssympy-1.0-py27  48% |###############                | Time: 0:00:00  61.48 MB/ssympy-1.0-py27  49% |###############                | Time: 0:00:00  61.59 MB/ssympy-1.0-py27  49% |###############                | Time: 0:00:00  61.69 MB/ssympy-1.0-py27  50% |###############                | Time: 0:00:00  61.80 MB/ssympy-1.0-py27  50% |###############                | Time: 0:00:00  61.90 MB/ssympy-1.0-py27  51% |###############                | Time: 0:00:00  62.01 MB/ssympy-1.0-py27  51% |################               | Time: 0:00:00  61.87 MB/ssympy-1.0-py27  52% |################               | Time: 0:00:00  61.87 MB/ssympy-1.0-py27  53% |################               | Time: 0:00:00  61.96 MB/ssympy-1.0-py27  53% |################               | Time: 0:00:00  62.05 MB/ssympy-1.0-py27  54% |################               | Time: 0:00:00  62.14 MB/ssympy-1.0-py27  54% |################               | Time: 0:00:00  62.24 MB/ssympy-1.0-py27  55% |#################              | Time: 0:00:00  62.33 MB/ssympy-1.0-py27  55% |#################              | Time: 0:00:00  62.33 MB/ssympy-1.0-py27  56% |#################              | Time: 0:00:00  62.35 MB/ssympy-1.0-py27  56% |#################              | Time: 0:00:00  62.41 MB/ssympy-1.0-py27  57% |#################              | Time: 0:00:00  62.38 MB/ssympy-1.0-py27  58% |#################              | Time: 0:00:00  62.36 MB/ssympy-1.0-py27  58% |##################             | Time: 0:00:00  62.39 MB/ssympy-1.0-py27  59% |##################             | Time: 0:00:00  62.06 MB/ssympy-1.0-py27  59% |##################             | Time: 0:00:00  62.00 MB/ssympy-1.0-py27  60% |##################             | Time: 0:00:00  62.04 MB/ssympy-1.0-py27  60% |##################             | Time: 0:00:00  62.10 MB/ssympy-1.0-py27  61% |###################            | Time: 0:00:00  62.08 MB/ssympy-1.0-py27  61% |###################            | Time: 0:00:00  62.08 MB/ssympy-1.0-py27  62% |###################            | Time: 0:00:00  62.12 MB/ssympy-1.0-py27  63% |###################            | Time: 0:00:00  62.03 MB/ssympy-1.0-py27  63% |###################            | Time: 0:00:00  62.10 MB/ssympy-1.0-py27  64% |###################            | Time: 0:00:00  62.16 MB/ssympy-1.0-py27  64% |####################           | Time: 0:00:00  62.21 MB/ssympy-1.0-py27  65% |####################           | Time: 0:00:00  62.19 MB/ssympy-1.0-py27  65% |####################           | Time: 0:00:00  62.23 MB/ssympy-1.0-py27  66% |####################           | Time: 0:00:00  62.29 MB/ssympy-1.0-py27  66% |####################           | Time: 0:00:00  62.25 MB/ssympy-1.0-py27  67% |####################           | Time: 0:00:00  62.13 MB/ssympy-1.0-py27  68% |#####################          | Time: 0:00:00  62.16 MB/ssympy-1.0-py27  68% |#####################          | Time: 0:00:00  62.08 MB/ssympy-1.0-py27  69% |#####################          | Time: 0:00:00  61.89 MB/ssympy-1.0-py27  69% |#####################          | Time: 0:00:00  61.64 MB/ssympy-1.0-py27  70% |#####################          | Time: 0:00:00  61.54 MB/ssympy-1.0-py27  70% |#####################          | Time: 0:00:00  61.42 MB/ssympy-1.0-py27  71% |######################         | Time: 0:00:00  61.37 MB/ssympy-1.0-py27  71% |######################         | Time: 0:00:00  61.28 MB/ssympy-1.0-py27  72% |######################         | Time: 0:00:00  61.29 MB/ssympy-1.0-py27  73% |######################         | Time: 0:00:00  61.07 MB/ssympy-1.0-py27  73% |######################         | Time: 0:00:00  61.06 MB/ssympy-1.0-py27  74% |######################         | Time: 0:00:00  61.02 MB/ssympy-1.0-py27  74% |#######################        | Time: 0:00:00  60.94 MB/ssympy-1.0-py27  75% |#######################        | Time: 0:00:00  60.79 MB/ssympy-1.0-py27  75% |#######################        | Time: 0:00:00  60.74 MB/ssympy-1.0-py27  76% |#######################        | Time: 0:00:00  60.76 MB/ssympy-1.0-py27  76% |#######################        | Time: 0:00:00  60.83 MB/ssympy-1.0-py27  77% |########################       | Time: 0:00:00  60.89 MB/ssympy-1.0-py27  78% |########################       | Time: 0:00:00  60.88 MB/ssympy-1.0-py27  78% |########################       | Time: 0:00:00  60.92 MB/ssympy-1.0-py27  79% |########################       | Time: 0:00:00  60.97 MB/ssympy-1.0-py27  79% |########################       | Time: 0:00:00  60.90 MB/ssympy-1.0-py27  80% |########################       | Time: 0:00:00  60.87 MB/ssympy-1.0-py27  80% |#########################      | Time: 0:00:00  60.88 MB/ssympy-1.0-py27  81% |#########################      | Time: 0:00:00  60.91 MB/ssympy-1.0-py27  81% |#########################      | Time: 0:00:00  60.94 MB/ssympy-1.0-py27  82% |#########################      | Time: 0:00:00  60.98 MB/ssympy-1.0-py27  83% |#########################      | Time: 0:00:00  60.82 MB/ssympy-1.0-py27  83% |#########################      | Time: 0:00:00  60.72 MB/ssympy-1.0-py27  84% |##########################     | Time: 0:00:00  60.62 MB/ssympy-1.0-py27  84% |##########################     | Time: 0:00:00  60.63 MB/ssympy-1.0-py27  85% |##########################     | Time: 0:00:00  60.63 MB/ssympy-1.0-py27  85% |##########################     | Time: 0:00:00  60.64 MB/ssympy-1.0-py27  86% |##########################     | Time: 0:00:00  60.65 MB/ssympy-1.0-py27  86% |##########################     | Time: 0:00:00  60.66 MB/ssympy-1.0-py27  87% |###########################    | Time: 0:00:00  60.67 MB/ssympy-1.0-py27  88% |###########################    | Time: 0:00:00  60.69 MB/ssympy-1.0-py27  88% |###########################    | Time: 0:00:00  60.71 MB/ssympy-1.0-py27  89% |###########################    | Time: 0:00:00  60.77 MB/ssympy-1.0-py27  89% |###########################    | Time: 0:00:00  60.83 MB/ssympy-1.0-py27  90% |###########################    | Time: 0:00:00  60.89 MB/ssympy-1.0-py27  90% |############################   | Time: 0:00:00  60.95 MB/ssympy-1.0-py27  91% |############################   | Time: 0:00:00  61.01 MB/ssympy-1.0-py27  91% |############################   | Time: 0:00:00  61.07 MB/ssympy-1.0-py27  92% |############################   | Time: 0:00:00  61.14 MB/ssympy-1.0-py27  93% |############################   | Time: 0:00:00  61.18 MB/ssympy-1.0-py27  93% |#############################  | Time: 0:00:00  61.25 MB/ssympy-1.0-py27  94% |#############################  | Time: 0:00:00  61.31 MB/ssympy-1.0-py27  94% |#############################  | Time: 0:00:00  61.36 MB/ssympy-1.0-py27  95% |#############################  | Time: 0:00:00  61.43 MB/ssympy-1.0-py27  95% |#############################  | Time: 0:00:00  61.50 MB/ssympy-1.0-py27  96% |#############################  | Time: 0:00:00  61.57 MB/ssympy-1.0-py27  96% |############################## | Time: 0:00:00  61.65 MB/s"
     ]
    }
   ],
   "source": [
    "using RigidBodyDynamics\n",
    "using StaticArrays\n",
    "using SymPy"
   ]
  },
  {
   "cell_type": "markdown",
   "metadata": {},
   "source": [
    "## Create symbolic parameters\n",
    "* Masses: $m_1, m_2$\n",
    "* Mass moments of inertia (about center of mass): $I_1, I_2$\n",
    "* Link lengths: $l_1, l_2$\n",
    "* Center of mass locations (w.r.t. preceding joint axis): $c_1, c_2$\n",
    "* Gravitational acceleration: $g$"
   ]
  },
  {
   "cell_type": "code",
   "execution_count": null,
   "metadata": {
    "collapsed": false
   },
   "outputs": [],
   "source": [
    "inertias = @syms m_1 m_2 I_1 I_2 positive = true\n",
    "lengths = @syms l_1 l_2 c_1 c_2 real = true\n",
    "gravitationalAcceleration = @syms g real = true\n",
    "params = [inertias..., lengths..., gravitationalAcceleration...]"
   ]
  },
  {
   "cell_type": "markdown",
   "metadata": {},
   "source": [
    "## Create double pendulum `Mechanism`\n",
    "\n",
    "A `Mechanism` contains the joint layout and inertia parameters, but no state information."
   ]
  },
  {
   "cell_type": "code",
   "execution_count": null,
   "metadata": {
    "collapsed": false
   },
   "outputs": [],
   "source": [
    "T = Sym # the 'scalar type' of the Mechanism we'll construct\n",
    "axis = SVector(zero(T), one(T), zero(T)) # axis of rotation for each of the joints\n",
    "doublePendulum = Mechanism(RigidBody{T}(\"world\"); gravity = SVector(0, 0, g))\n",
    "world = root_body(doublePendulum) # the fixed 'world' rigid body\n",
    "\n",
    "# Attach the first (upper) link to the world via a revolute joint named 'shoulder'\n",
    "inertia1 = SpatialInertia(CartesianFrame3D(\"upper_link\"), I_1 * axis * axis', SVector(0, 0, c_1), m_1)\n",
    "body1 = RigidBody(inertia1)\n",
    "joint1 = Joint(\"shoulder\", Revolute(axis))\n",
    "joint1ToWorld = Transform3D{T}(joint1.frameBefore, default_frame(world))\n",
    "attach!(doublePendulum, world, joint1, joint1ToWorld, body1)\n",
    "\n",
    "# Attach the second (lower) link to the world via a revolute joint named 'elbow'\n",
    "inertia2 = SpatialInertia(CartesianFrame3D(\"lower_link\"), I_2 * axis * axis', SVector(0, 0, c_2), m_2)\n",
    "body2 = RigidBody(inertia2)\n",
    "joint2 = Joint(\"elbow\", Revolute(axis))\n",
    "joint2ToBody1 = Transform3D(joint2.frameBefore, default_frame(body1), SVector(0, 0, l_1))\n",
    "attach!(doublePendulum, body1, joint2, joint2ToBody1, body2)"
   ]
  },
  {
   "cell_type": "markdown",
   "metadata": {},
   "source": [
    "## Create `MechanismState` associated with the double pendulum `Mechanism`\n",
    "\n",
    "A `MechanismState` stores all state-dependent information associated with a `Mechanism`."
   ]
  },
  {
   "cell_type": "code",
   "execution_count": null,
   "metadata": {
    "collapsed": false
   },
   "outputs": [],
   "source": [
    "x = MechanismState(T, doublePendulum);"
   ]
  },
  {
   "cell_type": "code",
   "execution_count": null,
   "metadata": {
    "collapsed": false
   },
   "outputs": [],
   "source": [
    "# Set the joint configuration vector of the MechanismState to a new vector of symbolic variables\n",
    "q = configuration_vector(x)[:] = [symbols(\"q_$i\", real = true) for i = 1 : num_positions(x)]"
   ]
  },
  {
   "cell_type": "code",
   "execution_count": null,
   "metadata": {
    "collapsed": false
   },
   "outputs": [],
   "source": [
    "# Set the joint velocity vector of the MechanismState to a new vector of symbolic variables\n",
    "v = velocity_vector(x)[:] = [symbols(\"v_$i\", real = true) for i = 1 : num_positions(x)]"
   ]
  },
  {
   "cell_type": "markdown",
   "metadata": {},
   "source": [
    "## Compute dynamical quantities in symbolic form"
   ]
  },
  {
   "cell_type": "code",
   "execution_count": null,
   "metadata": {
    "collapsed": false
   },
   "outputs": [],
   "source": [
    "# Mass matrix\n",
    "M = mass_matrix(x)\n",
    "function simplify!(a::Array{SymPy.Sym})\n",
    "    for i in eachindex(a)\n",
    "        a[i] = simplify(a[i])\n",
    "    end\n",
    "    a\n",
    "end\n",
    "simplify!(M.data) # Note: M is a Symmetric matrix type; need to simplify the underlying data\n",
    "full(M) # convert to full form so that it is pretty-printed (minor bug in SymPy.jl)"
   ]
  },
  {
   "cell_type": "code",
   "execution_count": null,
   "metadata": {
    "collapsed": false
   },
   "outputs": [],
   "source": [
    "# Kinetic energy\n",
    "simplify(kinetic_energy(x))"
   ]
  },
  {
   "cell_type": "code",
   "execution_count": null,
   "metadata": {
    "collapsed": false
   },
   "outputs": [],
   "source": [
    "# Potential energy\n",
    "simplify(potential_energy(x))"
   ]
  }
 ],
 "metadata": {
  "kernelspec": {
   "display_name": "Julia 0.5.0",
   "language": "julia",
   "name": "julia-0.5"
  },
  "language_info": {
   "file_extension": ".jl",
   "mimetype": "application/julia",
   "name": "julia",
   "version": "0.5.0"
  }
 },
 "nbformat": 4,
 "nbformat_minor": 1
}
