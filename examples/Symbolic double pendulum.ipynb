{
 "cells": [
  {
   "cell_type": "markdown",
   "metadata": {},
   "source": [
    "## Setup"
   ]
  },
  {
   "cell_type": "code",
   "execution_count": 3,
   "metadata": {
    "collapsed": false
   },
   "outputs": [],
   "source": [
    "# Install SymPy if  it isn't installed already\n",
    "if !isdir(Pkg.dir(\"SymPy\"))\n",
    "    # Ensure that PyCall uses the Conda.jl package's Miniconda distribution within Julia\n",
    "    # Otherwise the sympy Python module won't be imported properly.\n",
    "    ENV[\"PYTHON\"]=\"\"\n",
    "    Pkg.build(\"PyCall\")\n",
    "\n",
    "    # Add SymPy\n",
    "    Pkg.add(\"SymPy\")\n",
    "end"
   ]
  },
  {
   "cell_type": "code",
   "execution_count": 2,
   "metadata": {
    "collapsed": false
   },
   "outputs": [
    {
     "ename": "LoadError",
     "evalue": "InitError: Failed to import required Python module sympy.\n\nFor automated sympy installation, try configuring PyCall to use the Conda.jl package's Python \"Miniconda\" distribution within Julia. Relaunch Julia and run:\n    ENV[\"PYTHON\"]=\"\"\n    Pkg.build(\"PyCall\")\nbefore trying again.\n\nThe pyimport exception was: PyError (:PyImport_ImportModule) <type 'exceptions.ImportError'>\nImportError('No module named sympy',)\n\n\nduring initialization of module SymPy",
     "output_type": "error",
     "traceback": [
      "InitError: Failed to import required Python module sympy.\n\nFor automated sympy installation, try configuring PyCall to use the Conda.jl package's Python \"Miniconda\" distribution within Julia. Relaunch Julia and run:\n    ENV[\"PYTHON\"]=\"\"\n    Pkg.build(\"PyCall\")\nbefore trying again.\n\nThe pyimport exception was: PyError (:PyImport_ImportModule) <type 'exceptions.ImportError'>\nImportError('No module named sympy',)\n\n\nduring initialization of module SymPy",
      "",
      " in pyimport_conda(::String, ::String, ::String) at /Users/twan/code/julia/RigidBodyDynamics/v0.5/PyCall/src/PyCall.jl:502",
      " in __init__() at /Users/twan/code/julia/RigidBodyDynamics/v0.5/SymPy/src/SymPy.jl:207",
      " in _include_from_serialized(::String) at ./loading.jl:150",
      " in _require_from_serialized(::Int64, ::Symbol, ::String, ::Bool) at ./loading.jl:187",
      " in _require_search_from_serialized(::Int64, ::Symbol, ::String, ::Bool) at ./loading.jl:217",
      " in _require_search_from_serialized(::Int64, ::Symbol, ::String, ::Bool) at /Applications/Julia-0.5.app/Contents/Resources/julia/lib/julia/sys.dylib:?",
      " in require(::Symbol) at ./loading.jl:371",
      " in require(::Symbol) at /Applications/Julia-0.5.app/Contents/Resources/julia/lib/julia/sys.dylib:?"
     ]
    }
   ],
   "source": [
    "using RigidBodyDynamics\n",
    "using StaticArrays\n",
    "using SymPy"
   ]
  },
  {
   "cell_type": "markdown",
   "metadata": {},
   "source": [
    "## Create symbolic parameters\n",
    "* Masses: $m_1, m_2$\n",
    "* Mass moments of inertia (about center of mass): $I_1, I_2$\n",
    "* Link lengths: $l_1, l_2$\n",
    "* Center of mass locations (w.r.t. preceding joint axis): $c_1, c_2$\n",
    "* Gravitational acceleration: $g$"
   ]
  },
  {
   "cell_type": "code",
   "execution_count": 3,
   "metadata": {
    "collapsed": false
   },
   "outputs": [
    {
     "ename": "LoadError",
     "evalue": "UndefVarError: @syms not defined",
     "output_type": "error",
     "traceback": [
      "UndefVarError: @syms not defined",
      ""
     ]
    }
   ],
   "source": [
    "inertias = @syms m_1 m_2 I_1 I_2 positive = true\n",
    "lengths = @syms l_1 l_2 c_1 c_2 real = true\n",
    "gravitationalAcceleration = @syms g real = true\n",
    "params = [inertias..., lengths..., gravitationalAcceleration...]"
   ]
  },
  {
   "cell_type": "markdown",
   "metadata": {},
   "source": [
    "## Create double pendulum `Mechanism`\n",
    "\n",
    "A `Mechanism` contains the joint layout and inertia parameters, but no state information."
   ]
  },
  {
   "cell_type": "code",
   "execution_count": 4,
   "metadata": {
    "collapsed": false
   },
   "outputs": [
    {
     "ename": "LoadError",
     "evalue": "UndefVarError: Sym not defined",
     "output_type": "error",
     "traceback": [
      "UndefVarError: Sym not defined",
      ""
     ]
    }
   ],
   "source": [
    "T = Sym # the 'scalar type' of the Mechanism we'll construct\n",
    "axis = SVector(zero(T), one(T), zero(T)) # axis of rotation for each of the joints\n",
    "doublePendulum = Mechanism(RigidBody{T}(\"world\"); gravity = SVector(0, 0, g))\n",
    "world = root_body(doublePendulum) # the fixed 'world' rigid body\n",
    "\n",
    "# Attach the first (upper) link to the world via a revolute joint named 'shoulder'\n",
    "inertia1 = SpatialInertia(CartesianFrame3D(\"upper_link\"), I_1 * axis * axis', SVector(0, 0, c_1), m_1)\n",
    "body1 = RigidBody(inertia1)\n",
    "joint1 = Joint(\"shoulder\", Revolute(axis))\n",
    "joint1ToWorld = Transform3D{T}(joint1.frameBefore, default_frame(world))\n",
    "attach!(doublePendulum, world, joint1, joint1ToWorld, body1)\n",
    "\n",
    "# Attach the second (lower) link to the world via a revolute joint named 'elbow'\n",
    "inertia2 = SpatialInertia(CartesianFrame3D(\"lower_link\"), I_2 * axis * axis', SVector(0, 0, c_2), m_2)\n",
    "body2 = RigidBody(inertia2)\n",
    "joint2 = Joint(\"elbow\", Revolute(axis))\n",
    "joint2ToBody1 = Transform3D(joint2.frameBefore, default_frame(body1), SVector(0, 0, l_1))\n",
    "attach!(doublePendulum, body1, joint2, joint2ToBody1, body2)"
   ]
  },
  {
   "cell_type": "markdown",
   "metadata": {},
   "source": [
    "## Create `MechanismState` associated with the double pendulum `Mechanism`\n",
    "\n",
    "A `MechanismState` stores all state-dependent information associated with a `Mechanism`."
   ]
  },
  {
   "cell_type": "code",
   "execution_count": 5,
   "metadata": {
    "collapsed": false
   },
   "outputs": [
    {
     "ename": "LoadError",
     "evalue": "UndefVarError: T not defined",
     "output_type": "error",
     "traceback": [
      "UndefVarError: T not defined",
      ""
     ]
    }
   ],
   "source": [
    "x = MechanismState(T, doublePendulum);"
   ]
  },
  {
   "cell_type": "code",
   "execution_count": 6,
   "metadata": {
    "collapsed": false
   },
   "outputs": [
    {
     "ename": "LoadError",
     "evalue": "UndefVarError: x not defined",
     "output_type": "error",
     "traceback": [
      "UndefVarError: x not defined",
      ""
     ]
    }
   ],
   "source": [
    "# Set the joint configuration vector of the MechanismState to a new vector of symbolic variables\n",
    "q = configuration_vector(x)[:] = [symbols(\"q_$i\", real = true) for i = 1 : num_positions(x)]"
   ]
  },
  {
   "cell_type": "code",
   "execution_count": 7,
   "metadata": {
    "collapsed": false
   },
   "outputs": [
    {
     "ename": "LoadError",
     "evalue": "UndefVarError: x not defined",
     "output_type": "error",
     "traceback": [
      "UndefVarError: x not defined",
      ""
     ]
    }
   ],
   "source": [
    "# Set the joint velocity vector of the MechanismState to a new vector of symbolic variables\n",
    "v = velocity_vector(x)[:] = [symbols(\"v_$i\", real = true) for i = 1 : num_positions(x)]"
   ]
  },
  {
   "cell_type": "markdown",
   "metadata": {},
   "source": [
    "## Compute dynamical quantities in symbolic form"
   ]
  },
  {
   "cell_type": "code",
   "execution_count": 8,
   "metadata": {
    "collapsed": false
   },
   "outputs": [
    {
     "ename": "LoadError",
     "evalue": "UndefVarError: x not defined",
     "output_type": "error",
     "traceback": [
      "UndefVarError: x not defined",
      ""
     ]
    }
   ],
   "source": [
    "# Mass matrix\n",
    "M = mass_matrix(x)\n",
    "function simplify!(a::Array{SymPy.Sym})\n",
    "    for i in eachindex(a)\n",
    "        a[i] = simplify(a[i])\n",
    "    end\n",
    "    a\n",
    "end\n",
    "simplify!(M.data) # Note: M is a Symmetric matrix type; need to simplify the underlying data\n",
    "full(M) # convert to full form so that it is pretty-printed (minor bug in SymPy.jl)"
   ]
  },
  {
   "cell_type": "code",
   "execution_count": 9,
   "metadata": {
    "collapsed": false
   },
   "outputs": [
    {
     "ename": "LoadError",
     "evalue": "UndefVarError: simplify not defined",
     "output_type": "error",
     "traceback": [
      "UndefVarError: simplify not defined",
      ""
     ]
    }
   ],
   "source": [
    "# Kinetic energy\n",
    "simplify(kinetic_energy(x))"
   ]
  },
  {
   "cell_type": "code",
   "execution_count": 10,
   "metadata": {
    "collapsed": false
   },
   "outputs": [
    {
     "ename": "LoadError",
     "evalue": "UndefVarError: simplify not defined",
     "output_type": "error",
     "traceback": [
      "UndefVarError: simplify not defined",
      ""
     ]
    }
   ],
   "source": [
    "# Potential energy\n",
    "simplify(potential_energy(x))"
   ]
  }
 ],
 "metadata": {
  "kernelspec": {
   "display_name": "Julia 0.5.0",
   "language": "julia",
   "name": "julia-0.5"
  },
  "language_info": {
   "file_extension": ".jl",
   "mimetype": "application/julia",
   "name": "julia",
   "version": "0.5.0"
  }
 },
 "nbformat": 4,
 "nbformat_minor": 1
}
