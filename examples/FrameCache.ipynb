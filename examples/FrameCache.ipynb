{
 "cells": [
  {
   "cell_type": "code",
   "execution_count": 1,
   "metadata": {
    "collapsed": false
   },
   "outputs": [],
   "source": [
    "push!(LOAD_PATH, \"../src\")\n",
    "using Quaternions\n",
    "using FixedSizeArrays\n",
    "using RigidBodyDynamics"
   ]
  },
  {
   "cell_type": "code",
   "execution_count": 10,
   "metadata": {
    "collapsed": false
   },
   "outputs": [],
   "source": [
    "root = CartesianFrame3D(\"root\")\n",
    "cache = FrameCache{Float64}(root)\n",
    "f1 = CartesianFrame3D(\"f1\")\n",
    "t1 = rand(Transform3D{Float64}, f1, root)\n",
    "add_frame!(cache, t1)\n",
    "f2 = CartesianFrame3D(\"f2\")\n",
    "add_frame!(cache, () -> rand(Transform3D{Float64}, f2, f1));"
   ]
  },
  {
   "cell_type": "code",
   "execution_count": 11,
   "metadata": {
    "collapsed": false
   },
   "outputs": [
    {
     "data": {
      "text/plain": [
       "RigidBodyDynamics.Transform3D{Float64}(RigidBodyDynamics.CartesianFrame3D(\"f1\"),RigidBodyDynamics.CartesianFrame3D(\"root\"),0.944344549479578 - 0.23957271320189075im - 0.2245499229820238jm - 0.019890174611207692km,FixedSizeArrays.Vec{3,Float64}((0.08233229894245864,0.31141026671441474,0.2391047559156747)))"
      ]
     },
     "execution_count": 11,
     "metadata": {},
     "output_type": "execute_result"
    }
   ],
   "source": [
    "transform_to_parent(cache, f1)"
   ]
  },
  {
   "cell_type": "code",
   "execution_count": 12,
   "metadata": {
    "collapsed": false
   },
   "outputs": [
    {
     "data": {
      "text/plain": [
       "RigidBodyDynamics.Transform3D{Float64}(RigidBodyDynamics.CartesianFrame3D(\"f1\"),RigidBodyDynamics.CartesianFrame3D(\"root\"),0.944344549479578 - 0.23957271320189075im - 0.2245499229820238jm - 0.019890174611207692km,FixedSizeArrays.Vec{3,Float64}((0.08233229894245864,0.31141026671441474,0.2391047559156747)))"
      ]
     },
     "execution_count": 12,
     "metadata": {},
     "output_type": "execute_result"
    }
   ],
   "source": [
    "transform_to_root(cache, f1)"
   ]
  },
  {
   "cell_type": "code",
   "execution_count": 13,
   "metadata": {
    "collapsed": false
   },
   "outputs": [
    {
     "data": {
      "text/plain": [
       "RigidBodyDynamics.Transform3D{Float64}(RigidBodyDynamics.CartesianFrame3D(\"root\"),RigidBodyDynamics.CartesianFrame3D(\"f1\"),0.9443445494795782 + 0.2395727132018908im + 0.22454992298202386jm + 0.019890174611207696km,FixedSizeArrays.Vec{3,Float64}((-0.1994553092824669,-0.1813143707206345,-0.29710052934150666)))"
      ]
     },
     "execution_count": 13,
     "metadata": {},
     "output_type": "execute_result"
    }
   ],
   "source": [
    "relative_transform(cache, root, f1)"
   ]
  },
  {
   "cell_type": "code",
   "execution_count": 14,
   "metadata": {
    "collapsed": false
   },
   "outputs": [
    {
     "data": {
      "text/plain": [
       "RigidBodyDynamics.Transform3D{Float64}(RigidBodyDynamics.CartesianFrame3D(\"root\"),RigidBodyDynamics.CartesianFrame3D(\"f2\"),-0.6356545553522741 + 0.6206792401637673im - 0.4574675135936383jm + 0.03773646904634669km,FixedSizeArrays.Vec{3,Float64}((0.45705730935231326,-0.5798385085387732,1.146293485181857)))"
      ]
     },
     "execution_count": 14,
     "metadata": {},
     "output_type": "execute_result"
    }
   ],
   "source": [
    "relative_transform(cache, root, f2)"
   ]
  },
  {
   "cell_type": "code",
   "execution_count": 15,
   "metadata": {
    "collapsed": false
   },
   "outputs": [],
   "source": [
    "RigidBodyDynamics.setdirty!(cache)"
   ]
  },
  {
   "cell_type": "code",
   "execution_count": 16,
   "metadata": {
    "collapsed": false
   },
   "outputs": [],
   "source": [
    "RigidBodyDynamics.setdirty!(cache, cache.transformsToRoot[f1])"
   ]
  },
  {
   "cell_type": "code",
   "execution_count": null,
   "metadata": {
    "collapsed": true
   },
   "outputs": [],
   "source": []
  }
 ],
 "metadata": {
  "kernelspec": {
   "display_name": "Julia 0.4.5",
   "language": "julia",
   "name": "julia-0.4"
  },
  "language_info": {
   "file_extension": ".jl",
   "mimetype": "application/julia",
   "name": "julia",
   "version": "0.4.5"
  }
 },
 "nbformat": 4,
 "nbformat_minor": 0
}
