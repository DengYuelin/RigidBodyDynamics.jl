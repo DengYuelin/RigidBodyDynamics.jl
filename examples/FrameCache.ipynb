{
 "cells": [
  {
   "cell_type": "code",
   "execution_count": 1,
   "metadata": {
    "collapsed": false
   },
   "outputs": [],
   "source": [
    "push!(LOAD_PATH, \"../src\")\n",
    "using Quaternions\n",
    "using FixedSizeArrays\n",
    "using RigidBodyDynamics"
   ]
  },
  {
   "cell_type": "code",
   "execution_count": 2,
   "metadata": {
    "collapsed": false
   },
   "outputs": [],
   "source": [
    "root = CartesianFrame3D(\"root\")\n",
    "cache = FrameCache{Float64}(root)\n",
    "f1 = CartesianFrame3D(\"f1\")\n",
    "t1 = rand(Transform3D{Float64}, f1, root)\n",
    "add_frame!(cache, t1)\n",
    "f2 = CartesianFrame3D(\"f2\")\n",
    "add_frame!(cache, () -> rand(Transform3D{Float64}, f2, f1));"
   ]
  },
  {
   "cell_type": "code",
   "execution_count": 3,
   "metadata": {
    "collapsed": false
   },
   "outputs": [
    {
     "data": {
      "text/plain": [
       "RigidBodyDynamics.Transform3D{Float64}(RigidBodyDynamics.CartesianFrame3D(\"f1\"),RigidBodyDynamics.CartesianFrame3D(\"root\"),0.3201117753644653 - 0.7097714071873644im + 0.30656133290039667jm - 0.5475154335565443km,FixedSizeArrays.Vec{3,Float64}((0.3560059555945245,0.6123735171125848,0.7186920054295038)))"
      ]
     },
     "execution_count": 3,
     "metadata": {},
     "output_type": "execute_result"
    }
   ],
   "source": [
    "transform_to_parent(cache, f1)"
   ]
  },
  {
   "cell_type": "code",
   "execution_count": 4,
   "metadata": {
    "collapsed": false
   },
   "outputs": [
    {
     "data": {
      "text/plain": [
       "RigidBodyDynamics.Transform3D{Float64}(RigidBodyDynamics.CartesianFrame3D(\"f1\"),RigidBodyDynamics.CartesianFrame3D(\"root\"),0.3201117753644653 - 0.7097714071873644im + 0.30656133290039667jm - 0.5475154335565443km,FixedSizeArrays.Vec{3,Float64}((0.3560059555945245,0.6123735171125848,0.7186920054295038)))"
      ]
     },
     "execution_count": 4,
     "metadata": {},
     "output_type": "execute_result"
    }
   ],
   "source": [
    "transform_to_root(cache, f1)"
   ]
  },
  {
   "cell_type": "code",
   "execution_count": 5,
   "metadata": {
    "collapsed": false
   },
   "outputs": [
    {
     "data": {
      "text/plain": [
       "RigidBodyDynamics.Transform3D{Float64}(RigidBodyDynamics.CartesianFrame3D(\"root\"),RigidBodyDynamics.CartesianFrame3D(\"f1\"),0.32011177536446533 + 0.7097714071873645im - 0.3065613329003967jm + 0.5475154335565444km,FixedSizeArrays.Vec{3,Float64}((-0.012028477158211204,0.9697474717809376,-0.27875602282215217)))"
      ]
     },
     "execution_count": 5,
     "metadata": {},
     "output_type": "execute_result"
    }
   ],
   "source": [
    "relative_transform(cache, root, f1)"
   ]
  },
  {
   "cell_type": "code",
   "execution_count": 6,
   "metadata": {
    "collapsed": false
   },
   "outputs": [
    {
     "data": {
      "text/plain": [
       "RigidBodyDynamics.Transform3D{Float64}(RigidBodyDynamics.CartesianFrame3D(\"root\"),RigidBodyDynamics.CartesianFrame3D(\"f2\"),0.169487493794505 + 0.8548993346181607im - 0.31784090825981454jm - 0.3733607828270935km,FixedSizeArrays.Vec{3,Float64}((0.28066026159640234,0.8131584481456177,0.599167605030045)))"
      ]
     },
     "execution_count": 6,
     "metadata": {},
     "output_type": "execute_result"
    }
   ],
   "source": [
    "relative_transform(cache, root, f2)"
   ]
  },
  {
   "cell_type": "code",
   "execution_count": 7,
   "metadata": {
    "collapsed": false
   },
   "outputs": [],
   "source": [
    "RigidBodyDynamics.setdirty!(cache)"
   ]
  },
  {
   "cell_type": "code",
   "execution_count": 8,
   "metadata": {
    "collapsed": false
   },
   "outputs": [],
   "source": [
    "RigidBodyDynamics.setdirty!(cache, cache.transformsToRoot[f1])"
   ]
  },
  {
   "cell_type": "code",
   "execution_count": 9,
   "metadata": {
    "collapsed": true
   },
   "outputs": [],
   "source": []
  }
 ],
 "metadata": {
  "kernelspec": {
   "display_name": "Julia 0.4.5",
   "language": "julia",
   "name": "julia-0.4"
  },
  "language_info": {
   "file_extension": ".jl",
   "mimetype": "application/julia",
   "name": "julia",
   "version": "0.4.5"
  }
 },
 "nbformat": 4,
 "nbformat_minor": 0
}
