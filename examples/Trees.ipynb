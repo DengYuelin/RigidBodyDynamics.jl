{
 "cells": [
  {
   "cell_type": "code",
   "execution_count": 1,
   "metadata": {
    "collapsed": true
   },
   "outputs": [],
   "source": [
    "push!(LOAD_PATH, \"../src\")\n",
    "using Quaternions\n",
    "using FixedSizeArrays\n",
    "using RigidBodyDynamics\n",
    "import RigidBodyDynamics: Tree, insert!, toposort, leaves, least_common_ancestor"
   ]
  },
  {
   "cell_type": "code",
   "execution_count": 2,
   "metadata": {
    "collapsed": false
   },
   "outputs": [
    {
     "data": {
      "text/plain": [
       "RigidBodyDynamics.TreeVertex{Int64,Int32}(1,RigidBodyDynamics.TreeVertex{Int64,Int32}[],RigidBodyDynamics.TreeVertex{Int64,Int32}(0,[RigidBodyDynamics.TreeVertex{Int64,Int32}(#= circular reference =#)],#undef,0),1)"
      ]
     },
     "execution_count": 2,
     "metadata": {},
     "output_type": "execute_result"
    }
   ],
   "source": [
    "v1 = Tree{Int64, Int32}(0);\n",
    "v2 = insert!(v1, 1, Int32(1), 0)"
   ]
  },
  {
   "cell_type": "code",
   "execution_count": 3,
   "metadata": {
    "collapsed": false
   },
   "outputs": [
    {
     "data": {
      "text/plain": [
       "2-element Array{RigidBodyDynamics.TreeVertex{Int64,Int32},1}:\n",
       " RigidBodyDynamics.TreeVertex{Int64,Int32}(0,[RigidBodyDynamics.TreeVertex{Int64,Int32}(1,RigidBodyDynamics.TreeVertex{Int64,Int32}[],RigidBodyDynamics.TreeVertex{Int64,Int32}(#= circular reference =#),1)],#undef,0)\n",
       " RigidBodyDynamics.TreeVertex{Int64,Int32}(1,RigidBodyDynamics.TreeVertex{Int64,Int32}[],RigidBodyDynamics.TreeVertex{Int64,Int32}(0,[RigidBodyDynamics.TreeVertex{Int64,Int32}(#= circular reference =#)],#undef,0),1)"
      ]
     },
     "execution_count": 3,
     "metadata": {},
     "output_type": "execute_result"
    }
   ],
   "source": [
    "toposort(v1)"
   ]
  },
  {
   "cell_type": "code",
   "execution_count": 4,
   "metadata": {
    "collapsed": false
   },
   "outputs": [
    {
     "data": {
      "text/plain": [
       "1-element Array{RigidBodyDynamics.TreeVertex{Int64,Int32},1}:\n",
       " RigidBodyDynamics.TreeVertex{Int64,Int32}(1,RigidBodyDynamics.TreeVertex{Int64,Int32}[],RigidBodyDynamics.TreeVertex{Int64,Int32}(0,[RigidBodyDynamics.TreeVertex{Int64,Int32}(#= circular reference =#)],#undef,0),1)"
      ]
     },
     "execution_count": 4,
     "metadata": {},
     "output_type": "execute_result"
    }
   ],
   "source": [
    "leaves(v1)"
   ]
  },
  {
   "cell_type": "code",
   "execution_count": 5,
   "metadata": {
    "collapsed": false
   },
   "outputs": [
    {
     "data": {
      "text/plain": [
       "RigidBodyDynamics.TreeVertex{Int64,Int32}(1,RigidBodyDynamics.TreeVertex{Int64,Int32}[],RigidBodyDynamics.TreeVertex{Int64,Int32}(0,[RigidBodyDynamics.TreeVertex{Int64,Int32}(#= circular reference =#)],#undef,0),1)"
      ]
     },
     "execution_count": 5,
     "metadata": {},
     "output_type": "execute_result"
    }
   ],
   "source": [
    "least_common_ancestor(v2, v1)"
   ]
  },
  {
   "cell_type": "code",
   "execution_count": null,
   "metadata": {
    "collapsed": true
   },
   "outputs": [],
   "source": []
  }
 ],
 "metadata": {
  "kernelspec": {
   "display_name": "Julia 0.4.5",
   "language": "julia",
   "name": "julia-0.4"
  },
  "language_info": {
   "file_extension": ".jl",
   "mimetype": "application/julia",
   "name": "julia",
   "version": "0.4.5"
  }
 },
 "nbformat": 4,
 "nbformat_minor": 0
}
