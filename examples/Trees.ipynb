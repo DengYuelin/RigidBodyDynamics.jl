{
 "cells": [
  {
   "cell_type": "code",
   "execution_count": 1,
   "metadata": {
    "collapsed": false
   },
   "outputs": [],
   "source": [
    "push!(LOAD_PATH, \"../src\")\n",
    "using Quaternions\n",
    "using FixedSizeArrays\n",
    "using RigidBodyDynamics\n",
    "import RigidBodyDynamics: Tree, insert!, toposort, leaves, ancestors, path"
   ]
  },
  {
   "cell_type": "code",
   "execution_count": 2,
   "metadata": {
    "collapsed": false
   },
   "outputs": [
    {
     "data": {
      "text/plain": [
       "Vertex: 6, Edge: 6"
      ]
     },
     "execution_count": 2,
     "metadata": {},
     "output_type": "execute_result"
    }
   ],
   "source": [
    "tree = v1 = Tree{Int64, Int32}(1);\n",
    "v2 = insert!(v1, 2, Int32(2), 1)\n",
    "v3 = insert!(v1, 3, Int32(3), 1)\n",
    "v4 = insert!(v1, 4, Int32(4), 3)\n",
    "v5 = insert!(v1, 5, Int32(5), 4)\n",
    "v6 = insert!(v1, 6, Int32(6), 3)"
   ]
  },
  {
   "cell_type": "code",
   "execution_count": 3,
   "metadata": {
    "collapsed": false
   },
   "outputs": [
    {
     "data": {
      "text/plain": [
       "Vertex: 1 (root)\n",
       "  Vertex: 2, Edge: 2\n",
       "  Vertex: 3, Edge: 3\n",
       "    Vertex: 4, Edge: 4\n",
       "      Vertex: 5, Edge: 5\n",
       "    Vertex: 6, Edge: 6"
      ]
     },
     "execution_count": 3,
     "metadata": {},
     "output_type": "execute_result"
    }
   ],
   "source": [
    "tree"
   ]
  },
  {
   "cell_type": "code",
   "execution_count": 4,
   "metadata": {
    "collapsed": false
   },
   "outputs": [
    {
     "data": {
      "text/plain": [
       "6-element Array{RigidBodyDynamics.TreeVertex{Int64,Int32},1}:\n",
       " Vertex: 1 (root)  \n",
       " Vertex: 2, Edge: 2\n",
       " Vertex: 3, Edge: 3\n",
       " Vertex: 4, Edge: 4\n",
       " Vertex: 5, Edge: 5\n",
       " Vertex: 6, Edge: 6"
      ]
     },
     "execution_count": 4,
     "metadata": {},
     "output_type": "execute_result"
    }
   ],
   "source": [
    "toposort(tree)"
   ]
  },
  {
   "cell_type": "code",
   "execution_count": 5,
   "metadata": {
    "collapsed": false
   },
   "outputs": [
    {
     "data": {
      "text/plain": [
       "3-element Array{RigidBodyDynamics.TreeVertex{Int64,Int32},1}:\n",
       " Vertex: 2, Edge: 2\n",
       " Vertex: 5, Edge: 5\n",
       " Vertex: 6, Edge: 6"
      ]
     },
     "execution_count": 5,
     "metadata": {},
     "output_type": "execute_result"
    }
   ],
   "source": [
    "leaves(v1)"
   ]
  },
  {
   "cell_type": "code",
   "execution_count": 6,
   "metadata": {
    "collapsed": false
   },
   "outputs": [
    {
     "data": {
      "text/plain": [
       "Path:\n",
       "Vertices: [5,4,3,6]\n",
       "Edges: Int32[5,4,6]\n",
       "Directions: [-1,-1,1]"
      ]
     },
     "execution_count": 6,
     "metadata": {},
     "output_type": "execute_result"
    }
   ],
   "source": [
    "path(v5, v6)"
   ]
  },
  {
   "cell_type": "code",
   "execution_count": 7,
   "metadata": {
    "collapsed": false
   },
   "outputs": [
    {
     "data": {
      "text/plain": [
       "Path:\n",
       "Vertices: [5]\n",
       "Edges: Int32[]\n",
       "Directions: Int64[]"
      ]
     },
     "execution_count": 7,
     "metadata": {},
     "output_type": "execute_result"
    }
   ],
   "source": [
    "path(v5, v5)"
   ]
  },
  {
   "cell_type": "code",
   "execution_count": 8,
   "metadata": {
    "collapsed": false
   },
   "outputs": [
    {
     "data": {
      "text/plain": [
       "Path:\n",
       "Vertices: [2,1,3,6]\n",
       "Edges: Int32[2,3,6]\n",
       "Directions: [-1,1,1]"
      ]
     },
     "execution_count": 8,
     "metadata": {},
     "output_type": "execute_result"
    }
   ],
   "source": [
    "path(v2, v6)"
   ]
  },
  {
   "cell_type": "code",
   "execution_count": null,
   "metadata": {
    "collapsed": true
   },
   "outputs": [],
   "source": []
  }
 ],
 "metadata": {
  "kernelspec": {
   "display_name": "Julia 0.4.5",
   "language": "julia",
   "name": "julia-0.4"
  },
  "language_info": {
   "file_extension": ".jl",
   "mimetype": "application/julia",
   "name": "julia",
   "version": "0.4.5"
  }
 },
 "nbformat": 4,
 "nbformat_minor": 0
}
