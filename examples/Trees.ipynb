{
 "cells": [
  {
   "cell_type": "code",
   "execution_count": 1,
   "metadata": {
    "collapsed": false
   },
   "outputs": [],
   "source": [
    "push!(LOAD_PATH, \"../src\")\n",
    "using Quaternions\n",
    "using FixedSizeArrays\n",
    "using RigidBodyDynamics\n",
    "import RigidBodyDynamics: Tree, insert!, toposort, leaves, ancestors, path"
   ]
  },
  {
   "cell_type": "code",
   "execution_count": 2,
   "metadata": {
    "collapsed": false
   },
   "outputs": [
    {
     "data": {
      "text/plain": [
       "RigidBodyDynamics.TreeVertex{Int64,Int32}(6,RigidBodyDynamics.TreeVertex{Int64,Int32}[],RigidBodyDynamics.TreeVertex{Int64,Int32}(3,[RigidBodyDynamics.TreeVertex{Int64,Int32}(4,[RigidBodyDynamics.TreeVertex{Int64,Int32}(5,RigidBodyDynamics.TreeVertex{Int64,Int32}[],RigidBodyDynamics.TreeVertex{Int64,Int32}(#= circular reference =#),5)],RigidBodyDynamics.TreeVertex{Int64,Int32}(#= circular reference =#),4),RigidBodyDynamics.TreeVertex{Int64,Int32}(#= circular reference =#)],RigidBodyDynamics.TreeVertex{Int64,Int32}(1,[RigidBodyDynamics.TreeVertex{Int64,Int32}(2,RigidBodyDynamics.TreeVertex{Int64,Int32}[],RigidBodyDynamics.TreeVertex{Int64,Int32}(#= circular reference =#),2),RigidBodyDynamics.TreeVertex{Int64,Int32}(#= circular reference =#)],#undef,0),3),6)"
      ]
     },
     "execution_count": 2,
     "metadata": {},
     "output_type": "execute_result"
    }
   ],
   "source": [
    "v1 = Tree{Int64, Int32}(1);\n",
    "v2 = insert!(v1, 2, Int32(2), 1)\n",
    "v3 = insert!(v1, 3, Int32(3), 1)\n",
    "v4 = insert!(v1, 4, Int32(4), 3)\n",
    "v5 = insert!(v1, 5, Int32(5), 4)\n",
    "v6 = insert!(v1, 6, Int32(6), 3)"
   ]
  },
  {
   "cell_type": "code",
   "execution_count": 3,
   "metadata": {
    "collapsed": false
   },
   "outputs": [
    {
     "data": {
      "text/plain": [
       "6-element Array{RigidBodyDynamics.TreeVertex{Int64,Int32},1}:\n",
       " RigidBodyDynamics.TreeVertex{Int64,Int32}(1,[RigidBodyDynamics.TreeVertex{Int64,Int32}(2,RigidBodyDynamics.TreeVertex{Int64,Int32}[],RigidBodyDynamics.TreeVertex{Int64,Int32}(#= circular reference =#),2),RigidBodyDynamics.TreeVertex{Int64,Int32}(3,[RigidBodyDynamics.TreeVertex{Int64,Int32}(4,[RigidBodyDynamics.TreeVertex{Int64,Int32}(5,RigidBodyDynamics.TreeVertex{Int64,Int32}[],RigidBodyDynamics.TreeVertex{Int64,Int32}(#= circular reference =#),5)],RigidBodyDynamics.TreeVertex{Int64,Int32}(#= circular reference =#),4),RigidBodyDynamics.TreeVertex{Int64,Int32}(6,RigidBodyDynamics.TreeVertex{Int64,Int32}[],RigidBodyDynamics.TreeVertex{Int64,Int32}(#= circular reference =#),6)],RigidBodyDynamics.TreeVertex{Int64,Int32}(#= circular reference =#),3)],#undef,0)\n",
       " RigidBodyDynamics.TreeVertex{Int64,Int32}(2,RigidBodyDynamics.TreeVertex{Int64,Int32}[],RigidBodyDynamics.TreeVertex{Int64,Int32}(1,[RigidBodyDynamics.TreeVertex{Int64,Int32}(#= circular reference =#),RigidBodyDynamics.TreeVertex{Int64,Int32}(3,[RigidBodyDynamics.TreeVertex{Int64,Int32}(4,[RigidBodyDynamics.TreeVertex{Int64,Int32}(5,RigidBodyDynamics.TreeVertex{Int64,Int32}[],RigidBodyDynamics.TreeVertex{Int64,Int32}(#= circular reference =#),5)],RigidBodyDynamics.TreeVertex{Int64,Int32}(#= circular reference =#),4),RigidBodyDynamics.TreeVertex{Int64,Int32}(6,RigidBodyDynamics.TreeVertex{Int64,Int32}[],RigidBodyDynamics.TreeVertex{Int64,Int32}(#= circular reference =#),6)],RigidBodyDynamics.TreeVertex{Int64,Int32}(#= circular reference =#),3)],#undef,0),2)\n",
       " RigidBodyDynamics.TreeVertex{Int64,Int32}(3,[RigidBodyDynamics.TreeVertex{Int64,Int32}(4,[RigidBodyDynamics.TreeVertex{Int64,Int32}(5,RigidBodyDynamics.TreeVertex{Int64,Int32}[],RigidBodyDynamics.TreeVertex{Int64,Int32}(#= circular reference =#),5)],RigidBodyDynamics.TreeVertex{Int64,Int32}(#= circular reference =#),4),RigidBodyDynamics.TreeVertex{Int64,Int32}(6,RigidBodyDynamics.TreeVertex{Int64,Int32}[],RigidBodyDynamics.TreeVertex{Int64,Int32}(#= circular reference =#),6)],RigidBodyDynamics.TreeVertex{Int64,Int32}(1,[RigidBodyDynamics.TreeVertex{Int64,Int32}(2,RigidBodyDynamics.TreeVertex{Int64,Int32}[],RigidBodyDynamics.TreeVertex{Int64,Int32}(#= circular reference =#),2),RigidBodyDynamics.TreeVertex{Int64,Int32}(#= circular reference =#)],#undef,0),3)\n",
       " RigidBodyDynamics.TreeVertex{Int64,Int32}(4,[RigidBodyDynamics.TreeVertex{Int64,Int32}(5,RigidBodyDynamics.TreeVertex{Int64,Int32}[],RigidBodyDynamics.TreeVertex{Int64,Int32}(#= circular reference =#),5)],RigidBodyDynamics.TreeVertex{Int64,Int32}(3,[RigidBodyDynamics.TreeVertex{Int64,Int32}(#= circular reference =#),RigidBodyDynamics.TreeVertex{Int64,Int32}(6,RigidBodyDynamics.TreeVertex{Int64,Int32}[],RigidBodyDynamics.TreeVertex{Int64,Int32}(#= circular reference =#),6)],RigidBodyDynamics.TreeVertex{Int64,Int32}(1,[RigidBodyDynamics.TreeVertex{Int64,Int32}(2,RigidBodyDynamics.TreeVertex{Int64,Int32}[],RigidBodyDynamics.TreeVertex{Int64,Int32}(#= circular reference =#),2),RigidBodyDynamics.TreeVertex{Int64,Int32}(#= circular reference =#)],#undef,0),3),4)\n",
       " RigidBodyDynamics.TreeVertex{Int64,Int32}(5,RigidBodyDynamics.TreeVertex{Int64,Int32}[],RigidBodyDynamics.TreeVertex{Int64,Int32}(4,[RigidBodyDynamics.TreeVertex{Int64,Int32}(#= circular reference =#)],RigidBodyDynamics.TreeVertex{Int64,Int32}(3,[RigidBodyDynamics.TreeVertex{Int64,Int32}(#= circular reference =#),RigidBodyDynamics.TreeVertex{Int64,Int32}(6,RigidBodyDynamics.TreeVertex{Int64,Int32}[],RigidBodyDynamics.TreeVertex{Int64,Int32}(#= circular reference =#),6)],RigidBodyDynamics.TreeVertex{Int64,Int32}(1,[RigidBodyDynamics.TreeVertex{Int64,Int32}(2,RigidBodyDynamics.TreeVertex{Int64,Int32}[],RigidBodyDynamics.TreeVertex{Int64,Int32}(#= circular reference =#),2),RigidBodyDynamics.TreeVertex{Int64,Int32}(#= circular reference =#)],#undef,0),3),4),5)\n",
       " RigidBodyDynamics.TreeVertex{Int64,Int32}(6,RigidBodyDynamics.TreeVertex{Int64,Int32}[],RigidBodyDynamics.TreeVertex{Int64,Int32}(3,[RigidBodyDynamics.TreeVertex{Int64,Int32}(4,[RigidBodyDynamics.TreeVertex{Int64,Int32}(5,RigidBodyDynamics.TreeVertex{Int64,Int32}[],RigidBodyDynamics.TreeVertex{Int64,Int32}(#= circular reference =#),5)],RigidBodyDynamics.TreeVertex{Int64,Int32}(#= circular reference =#),4),RigidBodyDynamics.TreeVertex{Int64,Int32}(#= circular reference =#)],RigidBodyDynamics.TreeVertex{Int64,Int32}(1,[RigidBodyDynamics.TreeVertex{Int64,Int32}(2,RigidBodyDynamics.TreeVertex{Int64,Int32}[],RigidBodyDynamics.TreeVertex{Int64,Int32}(#= circular reference =#),2),RigidBodyDynamics.TreeVertex{Int64,Int32}(#= circular reference =#)],#undef,0),3),6)"
      ]
     },
     "execution_count": 3,
     "metadata": {},
     "output_type": "execute_result"
    }
   ],
   "source": [
    "toposort(v1)"
   ]
  },
  {
   "cell_type": "code",
   "execution_count": 4,
   "metadata": {
    "collapsed": false
   },
   "outputs": [
    {
     "data": {
      "text/plain": [
       "3-element Array{RigidBodyDynamics.TreeVertex{Int64,Int32},1}:\n",
       " RigidBodyDynamics.TreeVertex{Int64,Int32}(2,RigidBodyDynamics.TreeVertex{Int64,Int32}[],RigidBodyDynamics.TreeVertex{Int64,Int32}(1,[RigidBodyDynamics.TreeVertex{Int64,Int32}(#= circular reference =#),RigidBodyDynamics.TreeVertex{Int64,Int32}(3,[RigidBodyDynamics.TreeVertex{Int64,Int32}(4,[RigidBodyDynamics.TreeVertex{Int64,Int32}(5,RigidBodyDynamics.TreeVertex{Int64,Int32}[],RigidBodyDynamics.TreeVertex{Int64,Int32}(#= circular reference =#),5)],RigidBodyDynamics.TreeVertex{Int64,Int32}(#= circular reference =#),4),RigidBodyDynamics.TreeVertex{Int64,Int32}(6,RigidBodyDynamics.TreeVertex{Int64,Int32}[],RigidBodyDynamics.TreeVertex{Int64,Int32}(#= circular reference =#),6)],RigidBodyDynamics.TreeVertex{Int64,Int32}(#= circular reference =#),3)],#undef,0),2)\n",
       " RigidBodyDynamics.TreeVertex{Int64,Int32}(5,RigidBodyDynamics.TreeVertex{Int64,Int32}[],RigidBodyDynamics.TreeVertex{Int64,Int32}(4,[RigidBodyDynamics.TreeVertex{Int64,Int32}(#= circular reference =#)],RigidBodyDynamics.TreeVertex{Int64,Int32}(3,[RigidBodyDynamics.TreeVertex{Int64,Int32}(#= circular reference =#),RigidBodyDynamics.TreeVertex{Int64,Int32}(6,RigidBodyDynamics.TreeVertex{Int64,Int32}[],RigidBodyDynamics.TreeVertex{Int64,Int32}(#= circular reference =#),6)],RigidBodyDynamics.TreeVertex{Int64,Int32}(1,[RigidBodyDynamics.TreeVertex{Int64,Int32}(2,RigidBodyDynamics.TreeVertex{Int64,Int32}[],RigidBodyDynamics.TreeVertex{Int64,Int32}(#= circular reference =#),2),RigidBodyDynamics.TreeVertex{Int64,Int32}(#= circular reference =#)],#undef,0),3),4),5)\n",
       " RigidBodyDynamics.TreeVertex{Int64,Int32}(6,RigidBodyDynamics.TreeVertex{Int64,Int32}[],RigidBodyDynamics.TreeVertex{Int64,Int32}(3,[RigidBodyDynamics.TreeVertex{Int64,Int32}(4,[RigidBodyDynamics.TreeVertex{Int64,Int32}(5,RigidBodyDynamics.TreeVertex{Int64,Int32}[],RigidBodyDynamics.TreeVertex{Int64,Int32}(#= circular reference =#),5)],RigidBodyDynamics.TreeVertex{Int64,Int32}(#= circular reference =#),4),RigidBodyDynamics.TreeVertex{Int64,Int32}(#= circular reference =#)],RigidBodyDynamics.TreeVertex{Int64,Int32}(1,[RigidBodyDynamics.TreeVertex{Int64,Int32}(2,RigidBodyDynamics.TreeVertex{Int64,Int32}[],RigidBodyDynamics.TreeVertex{Int64,Int32}(#= circular reference =#),2),RigidBodyDynamics.TreeVertex{Int64,Int32}(#= circular reference =#)],#undef,0),3),6)"
      ]
     },
     "execution_count": 4,
     "metadata": {},
     "output_type": "execute_result"
    }
   ],
   "source": [
    "leaves(v1)"
   ]
  },
  {
   "cell_type": "code",
   "execution_count": 5,
   "metadata": {
    "collapsed": false
   },
   "outputs": [
    {
     "name": "stdout",
     "output_type": "stream",
     "text": [
      "3\n"
     ]
    },
    {
     "data": {
      "text/plain": [
       "RigidBodyDynamics.Path{Int64,Int32}([5,4,3,6],Int32[5,4,6],[-1,-1,1])"
      ]
     },
     "execution_count": 5,
     "metadata": {},
     "output_type": "execute_result"
    }
   ],
   "source": [
    "path(v5, v6)"
   ]
  },
  {
   "cell_type": "code",
   "execution_count": 6,
   "metadata": {
    "collapsed": false
   },
   "outputs": [
    {
     "name": "stdout",
     "output_type": "stream",
     "text": [
      "4\n"
     ]
    },
    {
     "data": {
      "text/plain": [
       "RigidBodyDynamics.Path{Int64,Int32}([5],Int32[],Int64[])"
      ]
     },
     "execution_count": 6,
     "metadata": {},
     "output_type": "execute_result"
    }
   ],
   "source": [
    "path(v5, v5)"
   ]
  },
  {
   "cell_type": "code",
   "execution_count": 7,
   "metadata": {
    "collapsed": false
   },
   "outputs": [
    {
     "name": "stdout",
     "output_type": "stream",
     "text": [
      "2\n"
     ]
    },
    {
     "data": {
      "text/plain": [
       "RigidBodyDynamics.Path{Int64,Int32}([2,1,3,6],Int32[2,3,6],[-1,1,1])"
      ]
     },
     "execution_count": 7,
     "metadata": {},
     "output_type": "execute_result"
    }
   ],
   "source": [
    "path(v2, v6)"
   ]
  },
  {
   "cell_type": "code",
   "execution_count": null,
   "metadata": {
    "collapsed": true
   },
   "outputs": [],
   "source": []
  }
 ],
 "metadata": {
  "kernelspec": {
   "display_name": "Julia 0.4.5",
   "language": "julia",
   "name": "julia-0.4"
  },
  "language_info": {
   "file_extension": ".jl",
   "mimetype": "application/julia",
   "name": "julia",
   "version": "0.4.5"
  }
 },
 "nbformat": 4,
 "nbformat_minor": 0
}
