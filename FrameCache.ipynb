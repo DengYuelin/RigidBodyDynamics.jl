{
 "cells": [
  {
   "cell_type": "code",
   "execution_count": 1,
   "metadata": {
    "collapsed": false
   },
   "outputs": [],
   "source": [
    "importall Base"
   ]
  },
  {
   "cell_type": "code",
   "execution_count": 2,
   "metadata": {
    "collapsed": false
   },
   "outputs": [
    {
     "data": {
      "text/plain": [
       "relative_transform (generic function with 1 method)"
      ]
     },
     "execution_count": 2,
     "metadata": {},
     "output_type": "execute_result"
    }
   ],
   "source": [
    "include(\"cache_element.jl\")\n",
    "include(\"frames.jl\")\n",
    "include(\"frame_cache.jl\")"
   ]
  },
  {
   "cell_type": "code",
   "execution_count": 3,
   "metadata": {
    "collapsed": false
   },
   "outputs": [],
   "source": [
    "root = CartesianFrame3D(\"root\")\n",
    "cache = FrameCache{Float64}(root)\n",
    "f1 = CartesianFrame3D(\"f1\")\n",
    "t1 = Transform3D(f1, root, nquatrand(), rand(Vec{3, Float64}))\n",
    "add_frame!(cache, t1)\n",
    "f2 = CartesianFrame3D(\"f2\")\n",
    "add_frame!(cache, () -> Transform3D(f2, f1, nquatrand(), rand(Vec{3, Float64})));"
   ]
  },
  {
   "cell_type": "code",
   "execution_count": 4,
   "metadata": {
    "collapsed": false
   },
   "outputs": [
    {
     "data": {
      "text/plain": [
       "Transform3D{Float64}(CartesianFrame3D(\"f1\"),CartesianFrame3D(\"root\"),-0.22755669795586397 - 0.7590213639265242im - 0.03264013295253853jm + 0.6091298219914891km,FixedSizeArrays.Vec{3,Float64}((0.7435291865336551,0.003029804434863781,0.9072339581515974)))"
      ]
     },
     "execution_count": 4,
     "metadata": {},
     "output_type": "execute_result"
    }
   ],
   "source": [
    "transform_to_parent(cache, f1)"
   ]
  },
  {
   "cell_type": "code",
   "execution_count": 6,
   "metadata": {
    "collapsed": false
   },
   "outputs": [
    {
     "data": {
      "text/plain": [
       "Transform3D{Float64}(CartesianFrame3D(\"f1\"),CartesianFrame3D(\"root\"),-0.22755669795586397 - 0.7590213639265242im - 0.03264013295253853jm + 0.6091298219914891km,FixedSizeArrays.Vec{3,Float64}((0.7435291865336551,0.003029804434863781,0.9072339581515974)))"
      ]
     },
     "execution_count": 6,
     "metadata": {},
     "output_type": "execute_result"
    }
   ],
   "source": [
    "transform_to_root(cache, f1)"
   ]
  },
  {
   "cell_type": "code",
   "execution_count": 7,
   "metadata": {
    "collapsed": false
   },
   "outputs": [
    {
     "data": {
      "text/plain": [
       "Transform3D{Float64}(CartesianFrame3D(\"root\"),CartesianFrame3D(\"f1\"),-0.22755669795586397 + 0.7590213639265242im + 0.03264013295253853jm - 0.6091298219914891km,FixedSizeArrays.Vec{3,Float64}((0.6628844068329751,-0.5175753640691526,0.8176908287684934)))"
      ]
     },
     "execution_count": 7,
     "metadata": {},
     "output_type": "execute_result"
    }
   ],
   "source": [
    "relative_transform(cache, root, f1)"
   ]
  },
  {
   "cell_type": "code",
   "execution_count": 11,
   "metadata": {
    "collapsed": false
   },
   "outputs": [
    {
     "data": {
      "text/plain": [
       "Transform3D{Float64}(CartesianFrame3D(\"root\"),CartesianFrame3D(\"f2\"),0.7431212055545757 + 0.015194709272593181im - 0.6689639207902786jm - 0.005221814448380434km,FixedSizeArrays.Vec{3,Float64}((0.8550014361789515,0.8400849385212308,-0.2874645571562044)))"
      ]
     },
     "execution_count": 11,
     "metadata": {},
     "output_type": "execute_result"
    }
   ],
   "source": [
    "relative_transform(cache, root, f2)"
   ]
  },
  {
   "cell_type": "code",
   "execution_count": null,
   "metadata": {
    "collapsed": false
   },
   "outputs": [],
   "source": [
    "setdirty!(cache)"
   ]
  },
  {
   "cell_type": "code",
   "execution_count": 9,
   "metadata": {
    "collapsed": false
   },
   "outputs": [],
   "source": [
    "setdirty!(cache, cache.transformsToRoot[f1])"
   ]
  },
  {
   "cell_type": "code",
   "execution_count": null,
   "metadata": {
    "collapsed": false
   },
   "outputs": [],
   "source": [
    "# J = rand(Mat{3, 3, Float64}); J = J * J'\n",
    "# c = rand(Vec{3, Float64})\n",
    "# m = rand()\n",
    "# inertia = SpatialInertia(f3, J, c, m)\n",
    "# m = Mechanism()\n",
    "# world = add_body!(m, RigidBody(\"world\"))\n",
    "# body = add_body!(m, RigidBody(\"body\", inertia))\n",
    "# add_joint!(m, QuaternionFloatingJoint(\"joint\"), world, body)"
   ]
  },
  {
   "cell_type": "code",
   "execution_count": null,
   "metadata": {
    "collapsed": false
   },
   "outputs": [],
   "source": [
    "# transform(inertia, t3)"
   ]
  }
 ],
 "metadata": {
  "kernelspec": {
   "display_name": "Julia 0.4.5",
   "language": "julia",
   "name": "julia-0.4"
  },
  "language_info": {
   "file_extension": ".jl",
   "mimetype": "application/julia",
   "name": "julia",
   "version": "0.4.5"
  }
 },
 "nbformat": 4,
 "nbformat_minor": 0
}
