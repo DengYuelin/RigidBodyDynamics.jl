{
 "cells": [
  {
   "cell_type": "code",
   "execution_count": 1,
   "metadata": {
    "collapsed": false
   },
   "outputs": [],
   "source": [
    "importall Base"
   ]
  },
  {
   "cell_type": "code",
   "execution_count": 2,
   "metadata": {
    "collapsed": false
   },
   "outputs": [],
   "source": [
    "include(\"frames.jl\");"
   ]
  },
  {
   "cell_type": "code",
   "execution_count": 3,
   "metadata": {
    "collapsed": false
   },
   "outputs": [
    {
     "data": {
      "text/plain": [
       "setdirty! (generic function with 2 methods)"
      ]
     },
     "execution_count": 3,
     "metadata": {},
     "output_type": "execute_result"
    }
   ],
   "source": [
    "abstract CacheElement{T}\n",
    "\n",
    "immutable ImmutableCacheElement{T} <: CacheElement{T}\n",
    "    data::T\n",
    "end\n",
    "\n",
    "get{T}(element::ImmutableCacheElement{T}) = element.data\n",
    "function setdirty!{T}(element::ImmutableCacheElement{T})\n",
    "end\n",
    "\n",
    "type MutableCacheElement{T} <: CacheElement{T}\n",
    "    data::T\n",
    "    updateFunction::Function\n",
    "    dirty::Bool\n",
    "    \n",
    "    MutableCacheElement(data::T, updateFunction::Function) = new(data, updateFunction, true)\n",
    "end\n",
    "MutableCacheElement{T}(data::T, updateFunction::Function) = MutableCacheElement{T}(data, updateFunction)\n",
    "MutableCacheElement(updateFunction::Function) = MutableCacheElement(updateFunction(), updateFunction)\n",
    "\n",
    "function get{T}(element::MutableCacheElement{T})\n",
    "    if element.dirty\n",
    "        element.data = element.updateFunction()\n",
    "        element.dirty = false\n",
    "    end\n",
    "    return element.data\n",
    "end\n",
    "function setdirty!{T}(element::MutableCacheElement{T})\n",
    "    element.dirty = true\n",
    "end"
   ]
  },
  {
   "cell_type": "code",
   "execution_count": 4,
   "metadata": {
    "collapsed": false
   },
   "outputs": [],
   "source": [
    "type FrameCache{T}\n",
    "    root::CartesianFrame3D\n",
    "    transformsToParent::Dict{CartesianFrame3D, CacheElement{Transform3D{T}}}\n",
    "    transformsToWorld::Dict{CartesianFrame3D, CacheElement{Transform3D{T}}}\n",
    "    dependencies::Dict{CacheElement{Transform3D{T}}, Vector{CacheElement{Transform3D{T}}}}\n",
    "    \n",
    "    function FrameCache(root::CartesianFrame3D)\n",
    "        transformsToParent = Dict{CartesianFrame3D, CacheElement{Transform3D{T}}}()\n",
    "        transformsToWorld = Dict{CartesianFrame3D, CacheElement{Transform3D{T}}}(root => ImmutableCacheElement(Transform3D{T}(root, root)))\n",
    "        dependencies = Dict{CacheElement{Transform3D{T}}, Vector{CacheElement{Transform3D{T}}}}()\n",
    "        new(root, transformsToParent, transformsToWorld, dependencies)\n",
    "    end\n",
    "end"
   ]
  },
  {
   "cell_type": "code",
   "execution_count": 55,
   "metadata": {
    "collapsed": false
   },
   "outputs": [
    {
     "data": {
      "text/plain": [
       "relative_transform (generic function with 1 method)"
      ]
     },
     "execution_count": 55,
     "metadata": {},
     "output_type": "execute_result"
    }
   ],
   "source": [
    "function add_frame!{T}(cache::FrameCache{T}, t::Transform3D{T})\n",
    "    # for fixed frames\n",
    "    to_parent = ImmutableCacheElement(t)\n",
    "    cache.dependencies[to_parent] = []\n",
    "    parent_to_world = cache.transformsToWorld[t.to]\n",
    "    cache.transformsToParent[t.from] = to_parent\n",
    "\n",
    "    updateTransformToWorld = () -> begin println(\"updating world 1\"); get(parent_to_world) * get(to_parent) end\n",
    "    to_world = MutableCacheElement(updateTransformToWorld)\n",
    "    cache.dependencies[to_world] = [parent_to_world]\n",
    "    cache.transformsToWorld[t.from] = to_world\n",
    "    return cache\n",
    "end\n",
    "\n",
    "function add_frame!{T}(cache::FrameCache{T}, updateTransformToParent::Function, dependencies...)\n",
    "    # for non-fixed frames\n",
    "    to_parent = MutableCacheElement(() -> begin println(\"updating parent\"); updateTransformToParent() end)\n",
    "    cache.dependencies[to_parent] = [cache.transformsToWorld[x] for x in dependencies]\n",
    "    t = to_parent.data\n",
    "    parent_to_world = cache.transformsToWorld[t.to]\n",
    "    cache.transformsToParent[t.from] = to_parent\n",
    "    \n",
    "    updateTransformToWorld = () -> begin println(\"updating world 2\"); get(parent_to_world) * get(to_parent) end\n",
    "    to_world = MutableCacheElement(updateTransformToWorld)\n",
    "    cache.dependencies[to_world] = [to_parent, parent_to_world]\n",
    "    cache.transformsToWorld[t.from] = to_world\n",
    "    return cache\n",
    "end\n",
    "\n",
    "function setdirty!{T}(cache::FrameCache{T}, element::CacheElement{Transform3D{T}})\n",
    "    setdirty!(element)\n",
    "    for dependent in cache.dependencies\n",
    "        setdirty!(cache, element)\n",
    "    end\n",
    "end\n",
    "\n",
    "function setdirty!{T}(cache::FrameCache{T})\n",
    "    for element in values(cache.transformsToParent)\n",
    "        setdirty!(element)\n",
    "    end\n",
    "    for element in values(cache.transformsToWorld)\n",
    "        setdirty!(element)\n",
    "    end\n",
    "end\n",
    "\n",
    "function transform_to_parent{T}(cache::FrameCache{T}, frame::CartesianFrame3D)\n",
    "    frame == cache.root && error(\"frame has no parent\")\n",
    "    return get(cache.transformsToParent[frame])\n",
    "end\n",
    "\n",
    "transform_to_world{T}(cache::FrameCache{T}, frame::CartesianFrame3D) = get(cache.transformsToWorld[frame])\n",
    "\n",
    "function relative_transform{T}(cache::FrameCache{T}, from::CartesianFrame3D, to::CartesianFrame3D)\n",
    "    return inv(transform_to_world(cache, to)) * transform_to_world(cache, from)\n",
    "end"
   ]
  },
  {
   "cell_type": "code",
   "execution_count": 56,
   "metadata": {
    "collapsed": false
   },
   "outputs": [
    {
     "name": "stdout",
     "output_type": "stream",
     "text": [
      "updating world 1\n",
      "updating parent\n",
      "updating world 2\n",
      "updating world 1\n",
      "updating parent\n"
     ]
    },
    {
     "data": {
      "text/plain": [
       "FrameCache{Float64}(CartesianFrame3D(\"root\"),Dict{CartesianFrame3D,CacheElement{Transform3D{Float64}}}(CartesianFrame3D(\"f2\")=>MutableCacheElement{Transform3D{Float64}}(Transform3D{Float64}(CartesianFrame3D(\"f2\"),CartesianFrame3D(\"f1\"),0.3263027384390807 + 0.7257185220062254im - 0.575483662713472jm + 0.18888542467364555km,FixedSizeArrays.Vec{3,Float64}((0.914163544345731,0.6743368132745888,0.5999454344908846))),(anonymous function),false),CartesianFrame3D(\"f1\")=>ImmutableCacheElement{Transform3D{Float64}}(Transform3D{Float64}(CartesianFrame3D(\"f1\"),CartesianFrame3D(\"root\"),-0.5770582320694566 - 0.5830858599631293im - 0.1762783673750573jm - 0.5440042407072903km,FixedSizeArrays.Vec{3,Float64}((0.05219971236289034,0.7910946792126832,0.7926672482707788))))),Dict{CartesianFrame3D,CacheElement{Transform3D{Float64}}}(CartesianFrame3D(\"f2\")=>MutableCacheElement{Transform3D{Float64}}(Transform3D{Float64}(CartesianFrame3D(\"f2\"),CartesianFrame3D(\"root\"),0.23616967864820457 - 0.9554063273963542im - 0.010090062262639976jm + 0.17697689990998924km,FixedSizeArrays.Vec{3,Float64}((0.5863821220094624,1.080979806706761,1.9244690922330765))),(anonymous function),true),CartesianFrame3D(\"root\")=>ImmutableCacheElement{Transform3D{Float64}}(Transform3D{Float64}(CartesianFrame3D(\"root\"),CartesianFrame3D(\"root\"),1.0 + 0.0im + 0.0jm + 0.0km,FixedSizeArrays.Vec{3,Float64}((0.0,0.0,0.0)))),CartesianFrame3D(\"f1\")=>MutableCacheElement{Transform3D{Float64}}(Transform3D{Float64}(CartesianFrame3D(\"f1\"),CartesianFrame3D(\"root\"),-0.5770582320694566 - 0.5830858599631293im - 0.1762783673750573jm - 0.5440042407072903km,FixedSizeArrays.Vec{3,Float64}((0.05219971236289034,0.7910946792126832,0.7926672482707788))),(anonymous function),false)),Dict{CacheElement{Transform3D{Float64}},Array{CacheElement{Transform3D{Float64}},1}}(MutableCacheElement{Transform3D{Float64}}(Transform3D{Float64}(CartesianFrame3D(\"f2\"),CartesianFrame3D(\"f1\"),0.3263027384390807 + 0.7257185220062254im - 0.575483662713472jm + 0.18888542467364555km,FixedSizeArrays.Vec{3,Float64}((0.914163544345731,0.6743368132745888,0.5999454344908846))),(anonymous function),false)=>CacheElement{Transform3D{Float64}}[],MutableCacheElement{Transform3D{Float64}}(Transform3D{Float64}(CartesianFrame3D(\"f1\"),CartesianFrame3D(\"root\"),-0.5770582320694566 - 0.5830858599631293im - 0.1762783673750573jm - 0.5440042407072903km,FixedSizeArrays.Vec{3,Float64}((0.05219971236289034,0.7910946792126832,0.7926672482707788))),(anonymous function),false)=>CacheElement{Transform3D{Float64}}[ImmutableCacheElement{Transform3D{Float64}}(Transform3D{Float64}(CartesianFrame3D(\"root\"),CartesianFrame3D(\"root\"),1.0 + 0.0im + 0.0jm + 0.0km,FixedSizeArrays.Vec{3,Float64}((0.0,0.0,0.0))))],ImmutableCacheElement{Transform3D{Float64}}(Transform3D{Float64}(CartesianFrame3D(\"f1\"),CartesianFrame3D(\"root\"),-0.5770582320694566 - 0.5830858599631293im - 0.1762783673750573jm - 0.5440042407072903km,FixedSizeArrays.Vec{3,Float64}((0.05219971236289034,0.7910946792126832,0.7926672482707788))))=>CacheElement{Transform3D{Float64}}[],MutableCacheElement{Transform3D{Float64}}(Transform3D{Float64}(CartesianFrame3D(\"f2\"),CartesianFrame3D(\"root\"),0.23616967864820457 - 0.9554063273963542im - 0.010090062262639976jm + 0.17697689990998924km,FixedSizeArrays.Vec{3,Float64}((0.5863821220094624,1.080979806706761,1.9244690922330765))),(anonymous function),true)=>CacheElement{Transform3D{Float64}}[MutableCacheElement{Transform3D{Float64}}(Transform3D{Float64}(CartesianFrame3D(\"f2\"),CartesianFrame3D(\"f1\"),0.3263027384390807 + 0.7257185220062254im - 0.575483662713472jm + 0.18888542467364555km,FixedSizeArrays.Vec{3,Float64}((0.914163544345731,0.6743368132745888,0.5999454344908846))),(anonymous function),false),MutableCacheElement{Transform3D{Float64}}(Transform3D{Float64}(CartesianFrame3D(\"f1\"),CartesianFrame3D(\"root\"),-0.5770582320694566 - 0.5830858599631293im - 0.1762783673750573jm - 0.5440042407072903km,FixedSizeArrays.Vec{3,Float64}((0.05219971236289034,0.7910946792126832,0.7926672482707788))),(anonymous function),false)]))"
      ]
     },
     "execution_count": 56,
     "metadata": {},
     "output_type": "execute_result"
    }
   ],
   "source": [
    "root = CartesianFrame3D(\"root\")\n",
    "cache = FrameCache{Float64}(root)\n",
    "f1 = CartesianFrame3D(\"f1\")\n",
    "t1 = Transform3D(f1, root, nquatrand(), rand(Vec{3, Float64}))\n",
    "add_frame!(cache, t1)\n",
    "f2 = CartesianFrame3D(\"f2\")\n",
    "add_frame!(cache, () -> Transform3D(f2, f1, nquatrand(), rand(Vec{3, Float64})))"
   ]
  },
  {
   "cell_type": "code",
   "execution_count": 74,
   "metadata": {
    "collapsed": false
   },
   "outputs": [
    {
     "data": {
      "text/plain": [
       "Transform3D{Float64}(CartesianFrame3D(\"f1\"),CartesianFrame3D(\"root\"),-0.5770582320694566 - 0.5830858599631293im - 0.1762783673750573jm - 0.5440042407072903km,FixedSizeArrays.Vec{3,Float64}((0.05219971236289034,0.7910946792126832,0.7926672482707788)))"
      ]
     },
     "execution_count": 74,
     "metadata": {},
     "output_type": "execute_result"
    }
   ],
   "source": [
    "transform_to_parent(cache, f1)"
   ]
  },
  {
   "cell_type": "code",
   "execution_count": 75,
   "metadata": {
    "collapsed": false
   },
   "outputs": [
    {
     "name": "stdout",
     "output_type": "stream",
     "text": [
      "updating world 1\n"
     ]
    },
    {
     "data": {
      "text/plain": [
       "Transform3D{Float64}(CartesianFrame3D(\"f1\"),CartesianFrame3D(\"root\"),-0.5770582320694566 - 0.5830858599631293im - 0.1762783673750573jm - 0.5440042407072903km,FixedSizeArrays.Vec{3,Float64}((0.05219971236289034,0.7910946792126832,0.7926672482707788)))"
      ]
     },
     "execution_count": 75,
     "metadata": {},
     "output_type": "execute_result"
    }
   ],
   "source": [
    "transform_to_world(cache, f1)"
   ]
  },
  {
   "cell_type": "code",
   "execution_count": 76,
   "metadata": {
    "collapsed": false
   },
   "outputs": [
    {
     "data": {
      "text/plain": [
       "Transform3D{Float64}(CartesianFrame3D(\"root\"),CartesianFrame3D(\"f1\"),-0.5770582320694566 + 0.5830858599631293im + 0.1762783673750573jm + 0.5440042407072903km,FixedSizeArrays.Vec{3,Float64}((-1.018974995809246,-0.44834301735470294,0.1324970363267902)))"
      ]
     },
     "execution_count": 76,
     "metadata": {},
     "output_type": "execute_result"
    }
   ],
   "source": [
    "relative_transform(cache, root, f1)"
   ]
  },
  {
   "cell_type": "code",
   "execution_count": 77,
   "metadata": {
    "collapsed": false
   },
   "outputs": [
    {
     "name": "stdout",
     "output_type": "stream",
     "text": [
      "updating world 2\n",
      "updating parent\n"
     ]
    },
    {
     "data": {
      "text/plain": [
       "Transform3D{Float64}(CartesianFrame3D(\"root\"),CartesianFrame3D(\"f2\"),-0.839318965096296 - 0.09498241208655235im - 0.3978017823869778jm + 0.3581560527949333km,FixedSizeArrays.Vec{3,Float64}((-2.1115276986230564,0.35820727869069435,-0.05780412133398116)))"
      ]
     },
     "execution_count": 77,
     "metadata": {},
     "output_type": "execute_result"
    }
   ],
   "source": [
    "relative_transform(cache, root, f2)"
   ]
  },
  {
   "cell_type": "code",
   "execution_count": 73,
   "metadata": {
    "collapsed": false
   },
   "outputs": [],
   "source": [
    "setdirty!(cache)"
   ]
  },
  {
   "cell_type": "code",
   "execution_count": null,
   "metadata": {
    "collapsed": false
   },
   "outputs": [],
   "source": [
    "# J = rand(Mat{3, 3, Float64}); J = J * J'\n",
    "# c = rand(Vec{3, Float64})\n",
    "# m = rand()\n",
    "# inertia = SpatialInertia(f3, J, c, m)\n",
    "# m = Mechanism()\n",
    "# world = add_body!(m, RigidBody(\"world\"))\n",
    "# body = add_body!(m, RigidBody(\"body\", inertia))\n",
    "# add_joint!(m, QuaternionFloatingJoint(\"joint\"), world, body)"
   ]
  },
  {
   "cell_type": "code",
   "execution_count": null,
   "metadata": {
    "collapsed": false
   },
   "outputs": [],
   "source": [
    "# transform(inertia, t3)"
   ]
  },
  {
   "cell_type": "code",
   "execution_count": 5,
   "metadata": {
    "collapsed": false
   },
   "outputs": [
    {
     "data": {
      "text/plain": [
       "1-element Array{Tuple{},1}:\n",
       " ()"
      ]
     },
     "execution_count": 5,
     "metadata": {},
     "output_type": "execute_result"
    }
   ],
   "source": [
    "[()]"
   ]
  },
  {
   "cell_type": "code",
   "execution_count": 6,
   "metadata": {
    "collapsed": false
   },
   "outputs": [
    {
     "data": {
      "text/plain": [
       "((1,2),3)"
      ]
     },
     "execution_count": 6,
     "metadata": {},
     "output_type": "execute_result"
    }
   ],
   "source": [
    "((1, 2), 3)"
   ]
  },
  {
   "cell_type": "code",
   "execution_count": 8,
   "metadata": {
    "collapsed": false
   },
   "outputs": [
    {
     "data": {
      "text/plain": [
       "(1,2,3)"
      ]
     },
     "execution_count": 8,
     "metadata": {},
     "output_type": "execute_result"
    }
   ],
   "source": [
    "tuple((1,2)...,(3)...)"
   ]
  },
  {
   "cell_type": "code",
   "execution_count": 12,
   "metadata": {
    "collapsed": false
   },
   "outputs": [
    {
     "data": {
      "text/plain": [
       "ImmutableCacheElement{Float64}(32.0)"
      ]
     },
     "execution_count": 12,
     "metadata": {},
     "output_type": "execute_result"
    }
   ],
   "source": [
    "ImmutableCacheElement(32.)"
   ]
  },
  {
   "cell_type": "code",
   "execution_count": 16,
   "metadata": {
    "collapsed": false
   },
   "outputs": [
    {
     "data": {
      "text/plain": [
       "(ImmutableCacheElement{Float64}(32.0),MutableCacheElement{Int64}(3,(anonymous function),true),MutableCacheElement{Int64}(3,(anonymous function),true))"
      ]
     },
     "execution_count": 16,
     "metadata": {},
     "output_type": "execute_result"
    }
   ],
   "source": [
    "dependencies = (ImmutableCacheElement(32.), MutableCacheElement(() -> 3), MutableCacheElement(() -> 3))"
   ]
  },
  {
   "cell_type": "code",
   "execution_count": 12,
   "metadata": {
    "collapsed": false
   },
   "outputs": [
    {
     "data": {
      "text/plain": [
       "2-element Array{CartesianFrame3D,1}:\n",
       " CartesianFrame3D(\"root\")\n",
       " CartesianFrame3D(\"f1\")  "
      ]
     },
     "execution_count": 12,
     "metadata": {},
     "output_type": "execute_result"
    }
   ],
   "source": [
    "[dependencies...]"
   ]
  },
  {
   "cell_type": "code",
   "execution_count": 17,
   "metadata": {
    "collapsed": false
   },
   "outputs": [
    {
     "data": {
      "text/plain": [
       "Tuple{ImmutableCacheElement{Float64},MutableCacheElement{Int64},MutableCacheElement{Int64}}"
      ]
     },
     "execution_count": 17,
     "metadata": {},
     "output_type": "execute_result"
    }
   ],
   "source": [
    "typeof(dependencies)"
   ]
  },
  {
   "cell_type": "code",
   "execution_count": 19,
   "metadata": {
    "collapsed": false
   },
   "outputs": [
    {
     "data": {
      "text/html": [
       "call<i>{T}</i>(::<b>Type{T}</b>, args...) at <a href=\"https://github.com/JuliaLang/julia/tree/2ac304dfba75fad148d4070ef4f8a2e400c305bb/base/essentials.jl#L57\" target=\"_blank\">essentials.jl:57</a>"
      ],
      "text/plain": [
       "call{T}(::Type{T}, args...) at essentials.jl:57"
      ]
     },
     "execution_count": 19,
     "metadata": {},
     "output_type": "execute_result"
    }
   ],
   "source": [
    "@which Tuple{}()"
   ]
  },
  {
   "cell_type": "code",
   "execution_count": null,
   "metadata": {
    "collapsed": true
   },
   "outputs": [],
   "source": []
  }
 ],
 "metadata": {
  "kernelspec": {
   "display_name": "Julia 0.4.5",
   "language": "julia",
   "name": "julia-0.4"
  },
  "language_info": {
   "file_extension": ".jl",
   "mimetype": "application/julia",
   "name": "julia",
   "version": "0.4.5"
  }
 },
 "nbformat": 4,
 "nbformat_minor": 0
}
