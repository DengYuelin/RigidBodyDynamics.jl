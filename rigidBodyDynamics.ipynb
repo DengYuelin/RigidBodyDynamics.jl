{
 "cells": [
  {
   "cell_type": "code",
   "execution_count": 1,
   "metadata": {
    "collapsed": false
   },
   "outputs": [],
   "source": [
    "importall Base"
   ]
  },
  {
   "cell_type": "code",
   "execution_count": 2,
   "metadata": {
    "collapsed": false
   },
   "outputs": [],
   "source": [
    "include(\"frames.jl\");"
   ]
  },
  {
   "cell_type": "code",
   "execution_count": 3,
   "metadata": {
    "collapsed": false
   },
   "outputs": [
    {
     "data": {
      "text/plain": [
       "setdirty! (generic function with 2 methods)"
      ]
     },
     "execution_count": 3,
     "metadata": {},
     "output_type": "execute_result"
    }
   ],
   "source": [
    "abstract CacheElement{T}\n",
    "\n",
    "immutable ImmutableCacheElement{T} <: CacheElement{T}\n",
    "    data::T\n",
    "end\n",
    "\n",
    "get{T}(element::ImmutableCacheElement{T}) = element.data\n",
    "function setdirty!{T}(element::ImmutableCacheElement{T})\n",
    "end\n",
    "\n",
    "type MutableCacheElement{T} <: CacheElement{T}\n",
    "    data::T\n",
    "    updateFunction::Function\n",
    "    dirty::Bool\n",
    "    \n",
    "    MutableCacheElement(data::T, updateFunction::Function) = new(data, updateFunction, true)\n",
    "end\n",
    "MutableCacheElement{T}(data::T, updateFunction::Function) = MutableCacheElement{T}(data, updateFunction)\n",
    "MutableCacheElement(updateFunction::Function) = MutableCacheElement(updateFunction(), updateFunction)\n",
    "\n",
    "function get{T}(element::MutableCacheElement{T})\n",
    "    if element.dirty\n",
    "        element.data = element.updateFunction()\n",
    "        element.dirty = false\n",
    "    end\n",
    "    return element.data\n",
    "end\n",
    "function setdirty!{T}(element::MutableCacheElement{T})\n",
    "    element.dirty = true\n",
    "end"
   ]
  },
  {
   "cell_type": "code",
   "execution_count": 4,
   "metadata": {
    "collapsed": false
   },
   "outputs": [],
   "source": [
    "type FrameCache{T}\n",
    "    root::CartesianFrame3D\n",
    "    transformsToParent::Dict{CartesianFrame3D, CacheElement{Transform3D{T}}}\n",
    "    transformsToRoot::Dict{CartesianFrame3D, CacheElement{Transform3D{T}}}\n",
    "    dependents::Dict{CacheElement{Transform3D{T}}, Vector{CacheElement{Transform3D{T}}}}\n",
    "    \n",
    "    function FrameCache(root::CartesianFrame3D)\n",
    "        transformsToParent = Dict{CartesianFrame3D, CacheElement{Transform3D{T}}}()\n",
    "        toRoot = ImmutableCacheElement(Transform3D{T}(root, root))\n",
    "        transformsToRoot = Dict{CartesianFrame3D, CacheElement{Transform3D{T}}}(root => toRoot)\n",
    "        dependents = Dict{CacheElement{Transform3D{T}}, Vector{CacheElement{Transform3D{T}}}}(toRoot => [])\n",
    "        new(root, transformsToParent, transformsToRoot, dependents)\n",
    "    end\n",
    "end"
   ]
  },
  {
   "cell_type": "code",
   "execution_count": 10,
   "metadata": {
    "collapsed": false
   },
   "outputs": [
    {
     "data": {
      "text/plain": [
       "relative_transform (generic function with 1 method)"
      ]
     },
     "execution_count": 10,
     "metadata": {},
     "output_type": "execute_result"
    }
   ],
   "source": [
    "function setdirty!{T}(cache::FrameCache{T}, element::CacheElement{Transform3D{T}})\n",
    "    setdirty!(element)\n",
    "    for dependent in cache.dependents[element]\n",
    "        setdirty!(cache, dependent)\n",
    "    end\n",
    "end\n",
    "\n",
    "function setdirty!{T}(cache::FrameCache{T})\n",
    "    for element in values(cache.transformsToParent)\n",
    "        setdirty!(element)\n",
    "    end\n",
    "    for element in values(cache.transformsToRoot)\n",
    "        setdirty!(element)\n",
    "    end\n",
    "end\n",
    "\n",
    "function add_frame!{T}(cache::FrameCache{T}, t::Transform3D{T})\n",
    "    # for fixed frames\n",
    "    to_parent = ImmutableCacheElement(t)\n",
    "    cache.dependents[to_parent] = []\n",
    "    parent_to_world = cache.transformsToRoot[t.to]\n",
    "    cache.transformsToParent[t.from] = to_parent\n",
    "\n",
    "    updateTransformToWorld = () -> begin println(\"updating world 1\"); get(parent_to_world) * get(to_parent) end\n",
    "    to_world = MutableCacheElement(updateTransformToWorld)\n",
    "    cache.dependents[to_world] = []\n",
    "    push!(cache.dependents[parent_to_world], to_world)\n",
    "    cache.transformsToRoot[t.from] = to_world\n",
    "\n",
    "    setdirty!(cache)\n",
    "    return cache\n",
    "end\n",
    "\n",
    "function add_frame!{T}(cache::FrameCache{T}, updateTransformToParent::Function, dependencies...)\n",
    "    # for non-fixed frames\n",
    "    to_parent = MutableCacheElement(() -> begin println(\"updating parent\"); updateTransformToParent() end)\n",
    "    cache.dependents[to_parent] = []\n",
    "    for dependency in dependencies\n",
    "        push!(cache.dependents[dependency], to_parent)\n",
    "    end\n",
    "    t = to_parent.data\n",
    "    parent_to_world = cache.transformsToRoot[t.to]\n",
    "    cache.transformsToParent[t.from] = to_parent\n",
    "    \n",
    "    updateTransformToWorld = () -> begin println(\"updating world 2\"); get(parent_to_world) * get(to_parent) end\n",
    "    to_world = MutableCacheElement(updateTransformToWorld)\n",
    "    cache.dependents[to_world] = []\n",
    "    push!(cache.dependents[to_parent], to_world)\n",
    "    push!(cache.dependents[parent_to_world], to_world)\n",
    "    cache.transformsToRoot[t.from] = to_world\n",
    "    \n",
    "    setdirty!(cache)\n",
    "    return cache\n",
    "end\n",
    "\n",
    "function transform_to_parent{T}(cache::FrameCache{T}, frame::CartesianFrame3D)\n",
    "    frame == cache.root && error(\"frame has no parent\")\n",
    "    return get(cache.transformsToParent[frame])\n",
    "end\n",
    "\n",
    "transform_to_world{T}(cache::FrameCache{T}, frame::CartesianFrame3D) = get(cache.transformsToRoot[frame])\n",
    "\n",
    "function relative_transform{T}(cache::FrameCache{T}, from::CartesianFrame3D, to::CartesianFrame3D)\n",
    "    return inv(transform_to_world(cache, to)) * transform_to_world(cache, from)\n",
    "end"
   ]
  },
  {
   "cell_type": "code",
   "execution_count": 11,
   "metadata": {
    "collapsed": false
   },
   "outputs": [
    {
     "name": "stdout",
     "output_type": "stream",
     "text": [
      "updating world 1\n",
      "updating parent\n",
      "updating world 2\n",
      "updating world 1\n",
      "updating parent\n"
     ]
    }
   ],
   "source": [
    "root = CartesianFrame3D(\"root\")\n",
    "cache = FrameCache{Float64}(root)\n",
    "f1 = CartesianFrame3D(\"f1\")\n",
    "t1 = Transform3D(f1, root, nquatrand(), rand(Vec{3, Float64}))\n",
    "add_frame!(cache, t1)\n",
    "f2 = CartesianFrame3D(\"f2\")\n",
    "add_frame!(cache, () -> Transform3D(f2, f1, nquatrand(), rand(Vec{3, Float64})));"
   ]
  },
  {
   "cell_type": "code",
   "execution_count": 12,
   "metadata": {
    "collapsed": false
   },
   "outputs": [
    {
     "data": {
      "text/plain": [
       "Transform3D{Float64}(CartesianFrame3D(\"f1\"),CartesianFrame3D(\"root\"),-0.49745978229620863 + 0.33545902760483476im + 0.47209568250761064jm - 0.6458534449500913km,FixedSizeArrays.Vec{3,Float64}((0.6870469773194985,0.7646969945415918,0.10387043519118011)))"
      ]
     },
     "execution_count": 12,
     "metadata": {},
     "output_type": "execute_result"
    }
   ],
   "source": [
    "transform_to_parent(cache, f1)"
   ]
  },
  {
   "cell_type": "code",
   "execution_count": 13,
   "metadata": {
    "collapsed": false
   },
   "outputs": [
    {
     "data": {
      "text/plain": [
       "Transform3D{Float64}(CartesianFrame3D(\"f1\"),CartesianFrame3D(\"root\"),-0.49745978229620863 + 0.33545902760483476im + 0.47209568250761064jm - 0.6458534449500913km,FixedSizeArrays.Vec{3,Float64}((0.6870469773194985,0.7646969945415918,0.10387043519118011)))"
      ]
     },
     "execution_count": 13,
     "metadata": {},
     "output_type": "execute_result"
    }
   ],
   "source": [
    "transform_to_world(cache, f1)"
   ]
  },
  {
   "cell_type": "code",
   "execution_count": 27,
   "metadata": {
    "collapsed": false
   },
   "outputs": [
    {
     "name": "stdout",
     "output_type": "stream",
     "text": [
      "updating world 1\n"
     ]
    },
    {
     "data": {
      "text/plain": [
       "Transform3D{Float64}(CartesianFrame3D(\"root\"),CartesianFrame3D(\"f1\"),-0.49745978229620863 - 0.33545902760483476im - 0.47209568250761064jm + 0.6458534449500913km,FixedSizeArrays.Vec{3,Float64}((-0.5449858088988054,0.3672331125199303,0.7973170128496235)))"
      ]
     },
     "execution_count": 27,
     "metadata": {},
     "output_type": "execute_result"
    }
   ],
   "source": [
    "relative_transform(cache, root, f1)"
   ]
  },
  {
   "cell_type": "code",
   "execution_count": 25,
   "metadata": {
    "collapsed": false
   },
   "outputs": [
    {
     "data": {
      "text/plain": [
       "Transform3D{Float64}(CartesianFrame3D(\"root\"),CartesianFrame3D(\"f2\"),-0.684108046456596 - 0.28579439467503065im + 0.38839718424483616jm + 0.5472342935309845km,FixedSizeArrays.Vec{3,Float64}((-0.748361376424191,-0.4387168024447599,-0.6695410224977999)))"
      ]
     },
     "execution_count": 25,
     "metadata": {},
     "output_type": "execute_result"
    }
   ],
   "source": [
    "relative_transform(cache, root, f2)"
   ]
  },
  {
   "cell_type": "code",
   "execution_count": 11,
   "metadata": {
    "collapsed": false
   },
   "outputs": [],
   "source": [
    "setdirty!(cache)"
   ]
  },
  {
   "cell_type": "code",
   "execution_count": 26,
   "metadata": {
    "collapsed": false
   },
   "outputs": [],
   "source": [
    "setdirty!(cache, cache.transformsToRoot[f1])"
   ]
  },
  {
   "cell_type": "code",
   "execution_count": 10,
   "metadata": {
    "collapsed": false
   },
   "outputs": [
    {
     "data": {
      "text/plain": [
       "MutableCacheElement{Transform3D{Float64}}(Transform3D{Float64}(CartesianFrame3D(\"f2\"),CartesianFrame3D(\"f1\"),0.7012510951021995 + 0.11703332118722075im - 0.5477846196071281jm + 0.44100126289130803km,FixedSizeArrays.Vec{3,Float64}((0.23487057833918423,0.22833329687282844,0.6611491081782601))),(anonymous function),false)"
      ]
     },
     "execution_count": 10,
     "metadata": {},
     "output_type": "execute_result"
    }
   ],
   "source": [
    "cache.transformsToParent[f2]"
   ]
  },
  {
   "cell_type": "code",
   "execution_count": 10,
   "metadata": {
    "collapsed": false
   },
   "outputs": [
    {
     "data": {
      "text/plain": [
       "0-element Array{CacheElement{Transform3D{Float64}},1}"
      ]
     },
     "execution_count": 10,
     "metadata": {},
     "output_type": "execute_result"
    }
   ],
   "source": [
    "cache.dependents[cache.dependents[cache.transformsToParent[f2]][1]]"
   ]
  },
  {
   "cell_type": "code",
   "execution_count": 9,
   "metadata": {
    "collapsed": false
   },
   "outputs": [
    {
     "data": {
      "text/plain": [
       "0-element Array{CacheElement{Transform3D{Float64}},1}"
      ]
     },
     "execution_count": 9,
     "metadata": {},
     "output_type": "execute_result"
    }
   ],
   "source": [
    "cache.dependents[cache.transformsToRoot[f2]]"
   ]
  },
  {
   "cell_type": "code",
   "execution_count": null,
   "metadata": {
    "collapsed": false
   },
   "outputs": [],
   "source": [
    "# J = rand(Mat{3, 3, Float64}); J = J * J'\n",
    "# c = rand(Vec{3, Float64})\n",
    "# m = rand()\n",
    "# inertia = SpatialInertia(f3, J, c, m)\n",
    "# m = Mechanism()\n",
    "# world = add_body!(m, RigidBody(\"world\"))\n",
    "# body = add_body!(m, RigidBody(\"body\", inertia))\n",
    "# add_joint!(m, QuaternionFloatingJoint(\"joint\"), world, body)"
   ]
  },
  {
   "cell_type": "code",
   "execution_count": null,
   "metadata": {
    "collapsed": false
   },
   "outputs": [],
   "source": [
    "# transform(inertia, t3)"
   ]
  }
 ],
 "metadata": {
  "kernelspec": {
   "display_name": "Julia 0.4.5",
   "language": "julia",
   "name": "julia-0.4"
  },
  "language_info": {
   "file_extension": ".jl",
   "mimetype": "application/julia",
   "name": "julia",
   "version": "0.4.5"
  }
 },
 "nbformat": 4,
 "nbformat_minor": 0
}
