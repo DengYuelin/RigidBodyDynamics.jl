{
 "cells": [
  {
   "cell_type": "code",
   "execution_count": 1,
   "metadata": {
    "collapsed": false
   },
   "outputs": [],
   "source": [
    "using FixedSizeArrays\n",
    "using LightGraphs\n",
    "using Quaternions"
   ]
  },
  {
   "cell_type": "code",
   "execution_count": 2,
   "metadata": {
    "collapsed": true
   },
   "outputs": [],
   "source": [
    "importall Base"
   ]
  },
  {
   "cell_type": "code",
   "execution_count": 3,
   "metadata": {
    "collapsed": true
   },
   "outputs": [],
   "source": [
    "immutable CartesianFrame3D\n",
    "    name::ASCIIString\n",
    "end\n",
    "typealias CF3D CartesianFrame3D\n",
    "\n",
    "immutable Point3D{T}\n",
    "    frame::CartesianFrame3D\n",
    "    v::Vec{3, T}\n",
    "end"
   ]
  },
  {
   "cell_type": "code",
   "execution_count": 4,
   "metadata": {
    "collapsed": false
   },
   "outputs": [
    {
     "data": {
      "text/plain": [
       "inv (generic function with 38 methods)"
      ]
     },
     "execution_count": 4,
     "metadata": {},
     "output_type": "execute_result"
    }
   ],
   "source": [
    "immutable Transform3D{T}\n",
    "    from::CartesianFrame3D\n",
    "    to::CartesianFrame3D\n",
    "    rot::Quaternion{T}\n",
    "    trans::Vec{3, T}\n",
    "end\n",
    "\n",
    "Transform3D(from::CF3D, to::CF3D, rot::Quaternion) = Transform3D(from, to, rot, zero(Vec{3, real(typeof(rot))}))\n",
    "Transform3D(from::CF3D, to::CF3D, trans::Vec{3}) = Transform3D(from, to, one(Quaternion{eltype(trans)}), trans)\n",
    "\n",
    "function *(t1::Transform3D, t2::Transform3D)\n",
    "    @assert t1.from == t2.to\n",
    "    return Transform3D(t2.from, t1.to, t1.rot * t2.rot, t1.trans + Mat(rotationmatrix(t1.rot)) * t2.trans)\n",
    "end\n",
    "\n",
    "function *(t::Transform3D, point::Point3D)\n",
    "    @assert t1.from == point.frame\n",
    "    return Point3D(t.to, Mat(rotationmatrix(t.rot)) * point.v + t.trans)\n",
    "end\n",
    "\n",
    "function inv{T}(t::Transform3D{T})\n",
    "    rotinv = inv(t.rot)\n",
    "    transinv = -Mat(rotationmatrix(rotinv)) * t.trans\n",
    "    return Transform3D(t.to, t.from, rotinv, transinv)\n",
    "end"
   ]
  },
  {
   "cell_type": "code",
   "execution_count": 5,
   "metadata": {
    "collapsed": false
   },
   "outputs": [
    {
     "data": {
      "text/plain": [
       "CartesianFrame3D(\"4\")"
      ]
     },
     "execution_count": 5,
     "metadata": {},
     "output_type": "execute_result"
    }
   ],
   "source": [
    "f1 = CF3D(\"1\")\n",
    "f2 = CF3D(\"2\")\n",
    "f3 = CF3D(\"3\")\n",
    "f4 = CF3D(\"4\")"
   ]
  },
  {
   "cell_type": "code",
   "execution_count": 6,
   "metadata": {
    "collapsed": false
   },
   "outputs": [
    {
     "data": {
      "text/plain": [
       "Point3D{Float64}(CartesianFrame3D(\"1\"),FixedSizeArrays.Vec{3,Float64}((0.2329775714340946,0.42269110678099353,0.15994330521858613)))"
      ]
     },
     "execution_count": 6,
     "metadata": {},
     "output_type": "execute_result"
    }
   ],
   "source": [
    "t1 = Transform3D(f2, f1, nquatrand(), rand(Vec{3, Float64}))\n",
    "v = Point3D(f2, rand(Vec{3, Float64}))\n",
    "w = t1 * v"
   ]
  },
  {
   "cell_type": "code",
   "execution_count": 7,
   "metadata": {
    "collapsed": false
   },
   "outputs": [
    {
     "data": {
      "text/plain": [
       "Transform3D{Float64}(CartesianFrame3D(\"3\"),CartesianFrame3D(\"1\"),-0.918680563408273 - 0.2211261682312591im - 0.25915916837277203jm - 0.19991439564861868km,FixedSizeArrays.Vec{3,Float64}((0.4869441529473808,0.8102239231159727,0.20910141594157627)))"
      ]
     },
     "execution_count": 7,
     "metadata": {},
     "output_type": "execute_result"
    }
   ],
   "source": [
    "t2 = Transform3D(f3, f2, nquatrand())\n",
    "t3 = t1 * t2"
   ]
  },
  {
   "cell_type": "code",
   "execution_count": 8,
   "metadata": {
    "collapsed": false
   },
   "outputs": [
    {
     "data": {
      "text/plain": [
       "Transform3D{Float64}(CartesianFrame3D(\"4\"),CartesianFrame3D(\"1\"),-0.918680563408273 - 0.2211261682312591im - 0.25915916837277203jm - 0.19991439564861868km,FixedSizeArrays.Vec{3,Float64}((2.4610280601974237,2.028694432885757,3.1447993472617872)))"
      ]
     },
     "execution_count": 8,
     "metadata": {},
     "output_type": "execute_result"
    }
   ],
   "source": [
    "t4 = Transform3D(f4, f3, Vec(1.0, 2.0, 3.0))\n",
    "t5 = t3 * t4"
   ]
  },
  {
   "cell_type": "code",
   "execution_count": 9,
   "metadata": {
    "collapsed": false
   },
   "outputs": [
    {
     "data": {
      "text/plain": [
       "Transform3D{Float64}(CartesianFrame3D(\"4\"),CartesianFrame3D(\"4\"),1.0 + 0.0im + 2.0816681711721685e-17jm + 0.0km,FixedSizeArrays.Vec{3,Float64}((0.0,0.0,0.0)))"
      ]
     },
     "execution_count": 9,
     "metadata": {},
     "output_type": "execute_result"
    }
   ],
   "source": [
    "inv(t5) * t5"
   ]
  },
  {
   "cell_type": "code",
   "execution_count": 10,
   "metadata": {
    "collapsed": false
   },
   "outputs": [
    {
     "data": {
      "text/plain": [
       "add_joint! (generic function with 1 method)"
      ]
     },
     "execution_count": 10,
     "metadata": {},
     "output_type": "execute_result"
    }
   ],
   "source": [
    "immutable SpatialInertia{T}\n",
    "    frame::CartesianFrame3D\n",
    "    moment::Mat{3, 3, T}\n",
    "    centerOfMass::Vec{3, T}\n",
    "    mass::T\n",
    "end\n",
    "\n",
    "immutable RigidBody\n",
    "    name::ASCIIString\n",
    "    inertia::Nullable{SpatialInertia{Float64}}\n",
    "end\n",
    "RigidBody(name::ASCIIString) = RigidBody(name, Nullable{SpatialInertia{Float64}}())\n",
    "\n",
    "immutable SpatialMotionMatrix{N, T}\n",
    "    body::RigidBody\n",
    "    base::RigidBody\n",
    "    frame::CartesianFrame3D\n",
    "    angular::Vec{N, T}\n",
    "    linear::Vec{N, T}\n",
    "end\n",
    "\n",
    "typealias SpatialMotionVector{T} SpatialMotionMatrix{1, T}\n",
    "\n",
    "abstract Joint\n",
    "\n",
    "immutable QuaternionFloatingJoint <: Joint\n",
    "    name::ASCIIString\n",
    "end\n",
    "\n",
    "joint_transform{T}(j::QuaternionFloatingJoint, q::Vector{T}) = Transform3D(Quaternion(q[1], q[2 : 4]))\n",
    "num_positions(joint::QuaternionFloatingJoint) = 7\n",
    "num_velocities(joint::QuaternionFloatingJoint) = 6\n",
    "\n",
    "immutable FixedAxisOneDoFJoint <: Joint\n",
    "    name::ASCIIString\n",
    "    axis::SpatialMotionVector{Float64}\n",
    "end\n",
    "\n",
    "joint_transform{T}(j::FixedAxisOneDoFJoint, q::Vector{T}) = Transform3D(qrotation(j.axis.angular, q[1]), q[1] * j.axis.linear)\n",
    "num_positions(joint::FixedAxisOneDoFJoint) = 1\n",
    "num_velocities(joint::FixedAxisOneDoFJoint) = 1\n",
    "\n",
    "type Mechanism\n",
    "    graph::DiGraph\n",
    "    indexToJoint::Dict{Pair{Int64,Int64}, Joint}\n",
    "    jointToIndex::Dict{Joint, Pair{Int64,Int64}}\n",
    "    joints::Vector{Joint}\n",
    "    bodies::Vector{RigidBody}\n",
    "    bodyToIndex::Dict{RigidBody, Int64}\n",
    "    \n",
    "    Mechanism() = new(DiGraph(), Dict(), Dict(), Vector(), Vector(), Dict())\n",
    "end\n",
    "\n",
    "function add_body!(m::Mechanism, b::RigidBody)\n",
    "    index = add_vertex!(m.graph)\n",
    "    push!(m.bodies, b)\n",
    "    m.bodyToIndex[b] = index\n",
    "    return b\n",
    "end\n",
    "\n",
    "function add_joint!(m::Mechanism, j::Joint, predecessor::RigidBody, successor::RigidBody)\n",
    "    index = add_edge!(m.graph, m.bodyToIndex[predecessor], m.bodyToIndex[successor])\n",
    "    push!(m.joints, j)\n",
    "    m.indexToJoint[index] = j\n",
    "    m.jointToIndex[j] = index\n",
    "    return j\n",
    "end"
   ]
  },
  {
   "cell_type": "code",
   "execution_count": 17,
   "metadata": {
    "collapsed": false
   },
   "outputs": [
    {
     "data": {
      "text/plain": [
       "transform (generic function with 1 method)"
      ]
     },
     "execution_count": 17,
     "metadata": {},
     "output_type": "execute_result"
    }
   ],
   "source": [
    "function transform{T}(inertia::SpatialInertia{T}, t::Transform3D{T})\n",
    "    @assert t.from == inertia.frame\n",
    "    \n",
    "    function vector_to_skew_symmetric_squared(a::Vec{3, T})\n",
    "        aSq = a .* a\n",
    "        b11 = -aSq[2] - aSq[3]\n",
    "        b12 = a[1] * a[2]\n",
    "        b13 = a[1] * a[3]\n",
    "        b22 = -aSq[1] - aSq[3]\n",
    "        b23 = a[2] * a[3]\n",
    "        b33 = -aSq[1] - aSq[2]\n",
    "        return @fsa([b11 b12 b13; b12 b22 b23; b13 b23 b33])\n",
    "    end\n",
    "\n",
    "    J = inertia.moment\n",
    "    m = inertia.mass\n",
    "    c = inertia.centerOfMass\n",
    "\n",
    "    R = Mat(rotationmatrix(t.rot))\n",
    "    p = t.trans\n",
    "    \n",
    "    cnew = R * (c * m)\n",
    "    Jnew = vector_to_skew_symmetric_squared(cnew)\n",
    "    cnew += m * p\n",
    "    Jnew -= vector_to_skew_symmetric_squared(cnew)\n",
    "    Jnew /= m\n",
    "    Jnew += R * J * R'\n",
    "    cnew /= m\n",
    "    \n",
    "    return SpatialInertia(t.to, Jnew, cnew, m)\n",
    "end"
   ]
  },
  {
   "cell_type": "code",
   "execution_count": 18,
   "metadata": {
    "collapsed": false
   },
   "outputs": [
    {
     "data": {
      "text/plain": [
       "QuaternionFloatingJoint(\"joint\")"
      ]
     },
     "execution_count": 18,
     "metadata": {},
     "output_type": "execute_result"
    }
   ],
   "source": [
    "J = rand(Mat{3, 3, Float64}); J = J * J'\n",
    "c = rand(Vec{3, Float64})\n",
    "m = rand()\n",
    "inertia = SpatialInertia(f3, J, c, m)\n",
    "m = Mechanism()\n",
    "world = add_body!(m, RigidBody(\"world\"))\n",
    "body = add_body!(m, RigidBody(\"body\", inertia))\n",
    "add_joint!(m, QuaternionFloatingJoint(\"joint\"), world, body)"
   ]
  },
  {
   "cell_type": "code",
   "execution_count": 19,
   "metadata": {
    "collapsed": false
   },
   "outputs": [
    {
     "data": {
      "text/plain": [
       "SpatialInertia{Float64}(CartesianFrame3D(\"1\"),FixedSizeArrays.Mat{3,3,Float64}(\n",
       "    2.1110507841654718 -0.15084207701833408 0.2291033371724545\n",
       "    -0.15084207701833408 1.6658917979997854 -0.19849543146361814\n",
       "    0.2291033371724545 -0.19849543146361837 2.4209042151855495\n",
       ")\n",
       ",FixedSizeArrays.Vec{3,Float64}((0.9679131177895178,1.4783241032192054,1.2543099427605198)),0.6484965169518915)"
      ]
     },
     "execution_count": 19,
     "metadata": {},
     "output_type": "execute_result"
    }
   ],
   "source": [
    "transform(inertia, t3)"
   ]
  },
  {
   "cell_type": "code",
   "execution_count": null,
   "metadata": {
    "collapsed": false
   },
   "outputs": [],
   "source": [
    "type MechanismState{T}\n",
    "    q::Vector{T}\n",
    "    v::Vector{T}\n",
    "end"
   ]
  },
  {
   "cell_type": "code",
   "execution_count": null,
   "metadata": {
    "collapsed": true
   },
   "outputs": [],
   "source": []
  }
 ],
 "metadata": {
  "kernelspec": {
   "display_name": "Julia 0.4.5",
   "language": "julia",
   "name": "julia-0.4"
  },
  "language_info": {
   "file_extension": ".jl",
   "mimetype": "application/julia",
   "name": "julia",
   "version": "0.4.5"
  }
 },
 "nbformat": 4,
 "nbformat_minor": 0
}
