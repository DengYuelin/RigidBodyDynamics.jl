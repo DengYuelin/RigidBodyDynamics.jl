{
 "cells": [
  {
   "cell_type": "code",
   "execution_count": 1,
   "metadata": {
    "collapsed": false
   },
   "outputs": [],
   "source": [
    "importall Base"
   ]
  },
  {
   "cell_type": "code",
   "execution_count": 2,
   "metadata": {
    "collapsed": false
   },
   "outputs": [],
   "source": [
    "include(\"frames.jl\");"
   ]
  },
  {
   "cell_type": "code",
   "execution_count": 3,
   "metadata": {
    "collapsed": false
   },
   "outputs": [
    {
     "data": {
      "text/plain": [
       "setdirty! (generic function with 2 methods)"
      ]
     },
     "execution_count": 3,
     "metadata": {},
     "output_type": "execute_result"
    }
   ],
   "source": [
    "abstract CacheElement{T}\n",
    "\n",
    "type ImmutableCacheElement{T} <: CacheElement{T}\n",
    "    data::T\n",
    "end\n",
    "\n",
    "get{T}(element::ImmutableCacheElement{T}) = element.data\n",
    "function setdirty!{T}(element::ImmutableCacheElement{T})\n",
    "end\n",
    "\n",
    "type MutableCacheElement{T} <: CacheElement{T}\n",
    "    data::T\n",
    "    updateFunction::Function\n",
    "    dirty::Bool\n",
    "    \n",
    "    MutableCacheElement(data::T, updateFunction::Function) = new(data, updateFunction, true)\n",
    "end\n",
    "MutableCacheElement{T}(data::T, updateFunction::Function) = MutableCacheElement{T}(data, updateFunction)\n",
    "\n",
    "function get{T}(element::MutableCacheElement{T})\n",
    "    if element.dirty\n",
    "        element.data = element.updateFunction()\n",
    "        element.dirty = false\n",
    "    end\n",
    "    return element.data\n",
    "end\n",
    "function setdirty!{T}(element::MutableCacheElement{T})\n",
    "    element.dirty = true\n",
    "end"
   ]
  },
  {
   "cell_type": "code",
   "execution_count": 4,
   "metadata": {
    "collapsed": false
   },
   "outputs": [],
   "source": [
    "type FrameCache{T}\n",
    "    root::CartesianFrame3D\n",
    "    transformsToParent::Dict{CartesianFrame3D, CacheElement{Transform3D{T}}}\n",
    "    transformsToWorld::Dict{CartesianFrame3D, CacheElement{Transform3D{T}}}\n",
    "    dependencies::Dict{CacheElement{Transform3D{T}}, Vector{CacheElement{Transform3D{T}}}}\n",
    "    \n",
    "    function FrameCache(root::CartesianFrame3D)\n",
    "        transformsToParent = Dict{CartesianFrame3D, CacheElement{Transform3D{T}}}()\n",
    "        transformsToWorld = Dict{CartesianFrame3D, CacheElement{Transform3D{T}}}(root => ImmutableCacheElement(Transform3D{T}(root, root)))\n",
    "        dependencies = Dict{CacheElement{Transform3D{T}}, Vector{CacheElement{Transform3D{T}}}}()\n",
    "        new(root, transformsToParent, transformsToWorld, dependencies)\n",
    "    end\n",
    "end"
   ]
  },
  {
   "cell_type": "code",
   "execution_count": 11,
   "metadata": {
    "collapsed": false
   },
   "outputs": [
    {
     "data": {
      "text/plain": [
       "relative_transform (generic function with 1 method)"
      ]
     },
     "execution_count": 11,
     "metadata": {},
     "output_type": "execute_result"
    }
   ],
   "source": [
    "function add_frame!{T}(cache::FrameCache{T}, t::Transform3D{T})\n",
    "    # for fixed frames\n",
    "    parent_to_world = cache.transformsToWorld[t.to]\n",
    "\n",
    "    to_parent = ImmutableCacheElement(t)\n",
    "    cache.transformsToParent[t.from] = to_parent\n",
    "\n",
    "    update_fun = () -> begin println(\"updating\"); get(parent_to_world) * get(to_parent) end\n",
    "    to_world = MutableCacheElement(Transform3D{T}(t.from, root), update_fun)\n",
    "    cache.transformsToWorld[t.from] = to_world\n",
    "    \n",
    "    cache.dependencies[to_world] = [parent_to_world]\n",
    "    return cache\n",
    "end\n",
    "\n",
    "function setdirty!{T}(cache::FrameCache{T}, element::CacheElement{Transform3D{T}})\n",
    "    setdirty!(element)\n",
    "    for dependent in cache.dependencies\n",
    "        setdirty!(cache, element)\n",
    "    end\n",
    "end\n",
    "\n",
    "function setdirty!{T}(cache::FrameCache{T})\n",
    "    for element in values(cache.transformsToParent)\n",
    "        setdirty!(element)\n",
    "    end\n",
    "end\n",
    "\n",
    "function transform_to_parent{T}(cache::FrameCache{T}, frame::CartesianFrame3D)\n",
    "    frame == cache.root && error(\"frame has no parent\")\n",
    "    return get(cache.transformsToParent[frame])\n",
    "end\n",
    "\n",
    "transform_to_world{T}(cache::FrameCache{T}, frame::CartesianFrame3D) = get(cache.transformsToWorld[frame])\n",
    "\n",
    "function relative_transform{T}(cache::FrameCache{T}, from::CartesianFrame3D, to::CartesianFrame3D)\n",
    "    return inv(transform_to_world(cache, to)) * transform_to_world(cache, from)\n",
    "end"
   ]
  },
  {
   "cell_type": "code",
   "execution_count": 12,
   "metadata": {
    "collapsed": false
   },
   "outputs": [
    {
     "data": {
      "text/plain": [
       "FrameCache{Float64}(TreeVertex{CartesianFrame3D,CacheElement{Transform3D{Float64}}}(CartesianFrame3D(\"root\"),Nullable{TreeVertex{CartesianFrame3D,CacheElement{Transform3D{Float64}}}}(),Nullable{CacheElement{Transform3D{Float64}}}(),[TreeVertex{CartesianFrame3D,CacheElement{Transform3D{Float64}}}(CartesianFrame3D(\"f1\"),Nullable(TreeVertex{CartesianFrame3D,CacheElement{Transform3D{Float64}}}(#= circular reference =#)),Nullable(ImmutableCacheElement{Transform3D{Float64}}(Transform3D{Float64}(CartesianFrame3D(\"f1\"),CartesianFrame3D(\"root\"),0.6715146146452259 - 0.4649069963259432im + 0.5140255924336238jm - 0.26212076874663176km,FixedSizeArrays.Vec{3,Float64}((0.8065669931258241,0.37159043518196366,0.6242239048416662))))),TreeVertex{CartesianFrame3D,CacheElement{Transform3D{Float64}}}[])]),Dict{CartesianFrame3D,CacheElement{Transform3D{Float64}}}(CartesianFrame3D(\"root\")=>ImmutableCacheElement{Transform3D{Float64}}(Transform3D{Float64}(CartesianFrame3D(\"root\"),CartesianFrame3D(\"root\"),1.0 + 0.0im + 0.0jm + 0.0km,FixedSizeArrays.Vec{3,Float64}((0.0,0.0,0.0)))),CartesianFrame3D(\"f1\")=>MutableCacheElement{Transform3D{Float64}}(Transform3D{Float64}(CartesianFrame3D(\"f1\"),CartesianFrame3D(\"root\"),1.0 + 0.0im + 0.0jm + 0.0km,FixedSizeArrays.Vec{3,Float64}((0.0,0.0,0.0))),(anonymous function),true)),Dict{CacheElement{Transform3D{Float64}},Array{CacheElement{Transform3D{Float64}},1}}(MutableCacheElement{Transform3D{Float64}}(Transform3D{Float64}(CartesianFrame3D(\"f1\"),CartesianFrame3D(\"root\"),1.0 + 0.0im + 0.0jm + 0.0km,FixedSizeArrays.Vec{3,Float64}((0.0,0.0,0.0))),(anonymous function),true)=>CacheElement{Transform3D{Float64}}[ImmutableCacheElement{Transform3D{Float64}}(Transform3D{Float64}(CartesianFrame3D(\"root\"),CartesianFrame3D(\"root\"),1.0 + 0.0im + 0.0jm + 0.0km,FixedSizeArrays.Vec{3,Float64}((0.0,0.0,0.0))))]))"
      ]
     },
     "execution_count": 12,
     "metadata": {},
     "output_type": "execute_result"
    }
   ],
   "source": [
    "root = CartesianFrame3D(\"root\")\n",
    "cache = FrameCache{Float64}(root)\n",
    "f1 = CartesianFrame3D(\"f1\")\n",
    "t1 = Transform3D(f1, root, nquatrand(), rand(Vec{3, Float64}))\n",
    "add_frame!(cache, t1)"
   ]
  },
  {
   "cell_type": "code",
   "execution_count": 13,
   "metadata": {
    "collapsed": false
   },
   "outputs": [
    {
     "data": {
      "text/plain": [
       "Transform3D{Float64}(CartesianFrame3D(\"f1\"),CartesianFrame3D(\"root\"),0.6715146146452259 - 0.4649069963259432im + 0.5140255924336238jm - 0.26212076874663176km,FixedSizeArrays.Vec{3,Float64}((0.8065669931258241,0.37159043518196366,0.6242239048416662)))"
      ]
     },
     "execution_count": 13,
     "metadata": {},
     "output_type": "execute_result"
    }
   ],
   "source": [
    "transform_to_parent(cache, f1)"
   ]
  },
  {
   "cell_type": "code",
   "execution_count": 14,
   "metadata": {
    "collapsed": false
   },
   "outputs": [
    {
     "name": "stdout",
     "output_type": "stream",
     "text": [
      "updating\n"
     ]
    },
    {
     "data": {
      "text/plain": [
       "Transform3D{Float64}(CartesianFrame3D(\"f1\"),CartesianFrame3D(\"root\"),0.6715146146452259 - 0.4649069963259432im + 0.5140255924336238jm - 0.26212076874663176km,FixedSizeArrays.Vec{3,Float64}((0.8065669931258241,0.37159043518196366,0.6242239048416662)))"
      ]
     },
     "execution_count": 14,
     "metadata": {},
     "output_type": "execute_result"
    }
   ],
   "source": [
    "transform_to_world(cache, f1)"
   ]
  },
  {
   "cell_type": "code",
   "execution_count": 17,
   "metadata": {
    "collapsed": false
   },
   "outputs": [
    {
     "data": {
      "text/plain": [
       "Transform3D{Float64}(CartesianFrame3D(\"root\"),CartesianFrame3D(\"f1\"),0.671514614645226 + 0.4649069963259433im - 0.5140255924336239jm + 0.2621207687466318km,FixedSizeArrays.Vec{3,Float64}((0.31770297485671434,0.4996253208511252,-0.9097937171832616)))"
      ]
     },
     "execution_count": 17,
     "metadata": {},
     "output_type": "execute_result"
    }
   ],
   "source": [
    "relative_transform(cache, root, f1)"
   ]
  },
  {
   "cell_type": "code",
   "execution_count": 16,
   "metadata": {
    "collapsed": false
   },
   "outputs": [
    {
     "data": {
      "text/plain": [
       "TreeVertex{CartesianFrame3D,CacheElement{Transform3D{Float64}}}(CartesianFrame3D(\"root\"),Nullable{TreeVertex{CartesianFrame3D,CacheElement{Transform3D{Float64}}}}(),Nullable{CacheElement{Transform3D{Float64}}}(),[TreeVertex{CartesianFrame3D,CacheElement{Transform3D{Float64}}}(CartesianFrame3D(\"f1\"),Nullable(TreeVertex{CartesianFrame3D,CacheElement{Transform3D{Float64}}}(#= circular reference =#)),Nullable(ImmutableCacheElement{Transform3D{Float64}}(Transform3D{Float64}(CartesianFrame3D(\"f1\"),CartesianFrame3D(\"root\"),0.6715146146452259 - 0.4649069963259432im + 0.5140255924336238jm - 0.26212076874663176km,FixedSizeArrays.Vec{3,Float64}((0.8065669931258241,0.37159043518196366,0.6242239048416662))))),TreeVertex{CartesianFrame3D,CacheElement{Transform3D{Float64}}}[])])"
      ]
     },
     "execution_count": 16,
     "metadata": {},
     "output_type": "execute_result"
    }
   ],
   "source": [
    "setdirty!(cache)"
   ]
  },
  {
   "cell_type": "code",
   "execution_count": null,
   "metadata": {
    "collapsed": false
   },
   "outputs": [],
   "source": [
    "# J = rand(Mat{3, 3, Float64}); J = J * J'\n",
    "# c = rand(Vec{3, Float64})\n",
    "# m = rand()\n",
    "# inertia = SpatialInertia(f3, J, c, m)\n",
    "# m = Mechanism()\n",
    "# world = add_body!(m, RigidBody(\"world\"))\n",
    "# body = add_body!(m, RigidBody(\"body\", inertia))\n",
    "# add_joint!(m, QuaternionFloatingJoint(\"joint\"), world, body)"
   ]
  },
  {
   "cell_type": "code",
   "execution_count": null,
   "metadata": {
    "collapsed": false
   },
   "outputs": [],
   "source": [
    "# transform(inertia, t3)"
   ]
  }
 ],
 "metadata": {
  "kernelspec": {
   "display_name": "Julia 0.4.5",
   "language": "julia",
   "name": "julia-0.4"
  },
  "language_info": {
   "file_extension": ".jl",
   "mimetype": "application/julia",
   "name": "julia",
   "version": "0.4.5"
  }
 },
 "nbformat": 4,
 "nbformat_minor": 0
}
