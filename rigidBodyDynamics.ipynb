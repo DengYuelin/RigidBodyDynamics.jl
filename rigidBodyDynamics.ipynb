{
 "cells": [
  {
   "cell_type": "code",
   "execution_count": null,
   "metadata": {
    "collapsed": false
   },
   "outputs": [],
   "source": [
    "using FixedSizeArrays\n",
    "using LightGraphs\n",
    "using Quaternions"
   ]
  },
  {
   "cell_type": "code",
   "execution_count": null,
   "metadata": {
    "collapsed": true
   },
   "outputs": [],
   "source": [
    "importall Base"
   ]
  },
  {
   "cell_type": "code",
   "execution_count": null,
   "metadata": {
    "collapsed": true
   },
   "outputs": [],
   "source": [
    "immutable CartesianFrame3D\n",
    "    name::ASCIIString\n",
    "end\n",
    "\n",
    "immutable Point3D{T}\n",
    "    frame::CartesianFrame3D\n",
    "    v::Vec{3, T}\n",
    "end"
   ]
  },
  {
   "cell_type": "code",
   "execution_count": null,
   "metadata": {
    "collapsed": false
   },
   "outputs": [],
   "source": [
    "function rotate{N, T}(x::Mat{3, N, T}, q::Quaternion{T})\n",
    "    # TODO: efficiency?\n",
    "    return Mat(rotationmatrix(q)) * x\n",
    "end\n",
    "\n",
    "immutable Transform3D{T}\n",
    "    from::CartesianFrame3D\n",
    "    to::CartesianFrame3D\n",
    "    rot::Quaternion{T}\n",
    "    trans::Vec{3, T}\n",
    "end\n",
    "\n",
    "Transform3D(from::CartesianFrame3D, to::CartesianFrame3D, rot::Quaternion) = Transform3D(from, to, rot, zero(Vec{3, real(typeof(rot))}))\n",
    "Transform3D(from::CartesianFrame3D, to::CartesianFrame3D, trans::Vec{3}) = Transform3D(from, to, one(Quaternion{eltype(trans)}), trans)\n",
    "\n",
    "function *(t1::Transform3D, t2::Transform3D)\n",
    "    @assert t1.from == t2.to\n",
    "    return Transform3D(t2.from, t1.to, t1.rot * t2.rot, t1.trans + rotate(t2.trans, t1.rot))\n",
    "end\n",
    "\n",
    "function *(t::Transform3D, point::Point3D)\n",
    "    @assert t1.from == point.frame\n",
    "    return Point3D(t.to, rotate(point.v, t.rot) + t.trans)\n",
    "end\n",
    "\n",
    "function inv{T}(t::Transform3D{T})\n",
    "    rotinv = inv(t.rot)\n",
    "    transinv = -rotate(t.trans, rotinv)\n",
    "    return Transform3D(t.to, t.from, rotinv, transinv)\n",
    "end"
   ]
  },
  {
   "cell_type": "code",
   "execution_count": null,
   "metadata": {
    "collapsed": false
   },
   "outputs": [],
   "source": [
    "f1 = CartesianFrame3D(\"1\")\n",
    "f2 = CartesianFrame3D(\"2\")\n",
    "f3 = CartesianFrame3D(\"3\")\n",
    "f4 = CartesianFrame3D(\"4\")"
   ]
  },
  {
   "cell_type": "code",
   "execution_count": null,
   "metadata": {
    "collapsed": false
   },
   "outputs": [],
   "source": [
    "t1 = Transform3D(f2, f1, nquatrand(), rand(Vec{3, Float64}))\n",
    "v = Point3D(f2, rand(Vec{3, Float64}))\n",
    "w = t1 * v"
   ]
  },
  {
   "cell_type": "code",
   "execution_count": null,
   "metadata": {
    "collapsed": false
   },
   "outputs": [],
   "source": [
    "t2 = Transform3D(f3, f2, nquatrand())\n",
    "t3 = t1 * t2"
   ]
  },
  {
   "cell_type": "code",
   "execution_count": null,
   "metadata": {
    "collapsed": false
   },
   "outputs": [],
   "source": [
    "t4 = Transform3D(f4, f3, Vec(1.0, 2.0, 3.0))\n",
    "t5 = t3 * t4"
   ]
  },
  {
   "cell_type": "code",
   "execution_count": null,
   "metadata": {
    "collapsed": false
   },
   "outputs": [],
   "source": [
    "inv(t5) * t5"
   ]
  },
  {
   "cell_type": "code",
   "execution_count": 1,
   "metadata": {
    "collapsed": false
   },
   "outputs": [
    {
     "data": {
      "text/plain": [
       "TreeVertex{V,E}"
      ]
     },
     "execution_count": 1,
     "metadata": {},
     "output_type": "execute_result"
    }
   ],
   "source": [
    "type TreeVertex{V, E}\n",
    "    vertexData::V\n",
    "    parent::Nullable{TreeVertex{V, E}}\n",
    "    edgeToParentData::Nullable{E}\n",
    "    children::Vector{TreeVertex{V, E}}\n",
    "    \n",
    "    TreeVertex{V}(vertexData::V) = new(vertexData, Nullable{TreeVertex{V, E}}(), Nullable{E}(), [])\n",
    "    TreeVertex{V, E}(vertexData::V, parent::TreeVertex{V, E}, edgeData::E) = new(vertexData, parent, edgeData, [])\n",
    "end\n",
    "typealias Tree{V, E} TreeVertex{V, E}"
   ]
  },
  {
   "cell_type": "code",
   "execution_count": 2,
   "metadata": {
    "collapsed": false
   },
   "outputs": [
    {
     "data": {
      "text/plain": [
       "find_ancestors (generic function with 2 methods)"
      ]
     },
     "execution_count": 2,
     "metadata": {},
     "output_type": "execute_result"
    }
   ],
   "source": [
    "isroot{V, E}(v::TreeVertex{V, E}) = isnull(v.parent)\n",
    "isleaf{V, E}(v::TreeVertex{V, E}) = isempty(v.children)\n",
    "\n",
    "function findfirst{V, E}(pred, tree::Tree{V, E})\n",
    "    # depth first search\n",
    "    root = tree\n",
    "    pred(root) && return root\n",
    "    \n",
    "    for child in root.children\n",
    "        vertex = findfirst(pred, child)\n",
    "        vertex != nothing && return vertex\n",
    "    end\n",
    "    return nothing\n",
    "end\n",
    "\n",
    "function find{V, E}(pred, tree::Tree{V, E}, result = Vector{TreeVertex{V, E}}())\n",
    "    root = tree\n",
    "    pred(root) && push!(result, root)\n",
    "    for child in root.children\n",
    "        find(pred, child, result)\n",
    "    end\n",
    "    return result\n",
    "end\n",
    "\n",
    "function toposort{V, E}(tree::Tree{V, E}, result = Vector{TreeVertex{V, E}}())\n",
    "    root = tree\n",
    "    push!(result, root)\n",
    "    for child in root.children\n",
    "        toposort(child, result)\n",
    "    end\n",
    "    return result\n",
    "end\n",
    "\n",
    "function insert!{V, E}(tree::Tree{V, E}, vertexData::V, parentData::V, edgeData::E)\n",
    "    parentVertex = findfirst(x -> x.vertexData == parentData, tree)\n",
    "    parentVertex == nothing && error(\"parent not found\")\n",
    "    vertex = TreeVertex{V, E}(vertexData, parentVertex, edgeData)\n",
    "    push!(parentVertex.children, vertex)\n",
    "    return vertex\n",
    "end\n",
    "\n",
    "function find_ancestors{V, E}(vertex::TreeVertex{V, E}, result = Vector{TreeVertex{V, E}}())\n",
    "    push!(result, vertex)\n",
    "    !isroot(vertex) && find_ancestors(get(vertex.parent), result)\n",
    "    return result\n",
    "end\n",
    "\n",
    "function least_common_ancestor{V, E}(v1::TreeVertex{V, E}, v2::TreeVertex{V, E})\n",
    "    ancestors1 = find_ancestors(v1);\n",
    "    ancestors2 = find_ancestors(v2);\n",
    "    for i = min(length(ancestors1), length(ancestors2)) : -1 : 2\n",
    "        ancestors1[i] != ancestors2[i] && return ancestors1[i + 1]\n",
    "    end\n",
    "    return ancestors1[1]\n",
    "end"
   ]
  },
  {
   "cell_type": "code",
   "execution_count": 14,
   "metadata": {
    "collapsed": false
   },
   "outputs": [
    {
     "data": {
      "text/plain": [
       "TreeVertex{Int64,Int32}(1,Nullable(TreeVertex{Int64,Int32}(0,Nullable{TreeVertex{Int64,Int32}}(),Nullable{Int32}(),[TreeVertex{Int64,Int32}(#= circular reference =#)])),Nullable(1),TreeVertex{Int64,Int32}[])"
      ]
     },
     "execution_count": 14,
     "metadata": {},
     "output_type": "execute_result"
    }
   ],
   "source": [
    "v1 = Tree{Int64, Int32}(0);\n",
    "v2 = insert!(v1, 1, 0, Int32(1))\n",
    "toposort(v1)\n",
    "find(x -> isempty(x.children), v1)\n",
    "least_common_ancestor(v2, v1)"
   ]
  },
  {
   "cell_type": "code",
   "execution_count": null,
   "metadata": {
    "collapsed": true
   },
   "outputs": [],
   "source": [
    "abstract CacheElement{T}\n",
    "\n",
    "immutable ImmutableCacheElement{T} <: CacheElement{T}\n",
    "    t::T\n",
    "    dependents::Vector{CacheElement{T}}\n",
    "end\n",
    "\n",
    "type MutableCacheElement{T} <: CacheElement{T}\n",
    "    t::T\n",
    "    dependents::Vector{CacheElement{T}}\n",
    "    dirty::Bool\n",
    "    updateFunction::Function\n",
    "end\n",
    "\n",
    "get{T}(element::ImmutableCacheElement{T}) = element.t\n",
    "setdirty{T}(element::ImmutableCacheElement{T}) = \n",
    "\n",
    "get{T}(element::MutableCacheElement{T}) = (element.dirty && updateFunction()) || return element.t\n",
    "\n",
    "\n",
    "type FrameCache\n",
    "    tree::Tree{CartesianFrame3D, CacheElement{Transform3D}}\n",
    "    # tree of frames + functions to compute transform to parent, rooted at world\n",
    "    # transforms on edges\n",
    "    # computing transform to parent frame can depend on other transforms, which will be computed on the fly;\n",
    "    # these dependencies will not be stored explicitly\n",
    "    # memoize all transforms that go up the tree (inverse is very easy to compute)\n",
    "    # dirty bit for each transform\n",
    "    # store all fixed transforms and have them never get dirty\n",
    "end\n",
    "\n",
    "function setCacheDirty(cache::FrameConfigurationCache)\n",
    "    # set dirty bit for all non-constant transforms\n",
    "end\n",
    "\n",
    "function computeTransform(cache::FrameConfigurationCache, from::CartesianFrame3D, to::CartesianFrame3D)\n",
    "    # find least common ancestor in dependency graph\n",
    "    # \n",
    "end"
   ]
  },
  {
   "cell_type": "code",
   "execution_count": null,
   "metadata": {
    "collapsed": false
   },
   "outputs": [],
   "source": [
    "immutable SpatialInertia{T}\n",
    "    frame::CartesianFrame3D\n",
    "    moment::Mat{3, 3, T}\n",
    "    centerOfMass::Vec{3, T}\n",
    "    mass::T\n",
    "end\n",
    "\n",
    "function transform{T}(inertia::SpatialInertia{T}, t::Transform3D{T})\n",
    "    @assert t.from == inertia.frame\n",
    "    \n",
    "    function vector_to_skew_symmetric_squared(a::Vec{3, T})\n",
    "        aSq = a .* a\n",
    "        b11 = -aSq[2] - aSq[3]\n",
    "        b12 = a[1] * a[2]\n",
    "        b13 = a[1] * a[3]\n",
    "        b22 = -aSq[1] - aSq[3]\n",
    "        b23 = a[2] * a[3]\n",
    "        b33 = -aSq[1] - aSq[2]\n",
    "        return @fsa([b11 b12 b13; b12 b22 b23; b13 b23 b33])\n",
    "    end\n",
    "\n",
    "    J = inertia.moment\n",
    "    m = inertia.mass\n",
    "    c = inertia.centerOfMass\n",
    "\n",
    "    R = Mat(rotationmatrix(t.rot))\n",
    "    p = t.trans\n",
    "    \n",
    "    cnew = R * (c * m)\n",
    "    Jnew = vector_to_skew_symmetric_squared(cnew)\n",
    "    cnew += m * p\n",
    "    Jnew -= vector_to_skew_symmetric_squared(cnew)\n",
    "    Jnew /= m\n",
    "    Jnew += R * J * R'\n",
    "    cnew /= m\n",
    "    \n",
    "    return SpatialInertia(t.to, Jnew, cnew, m)\n",
    "end"
   ]
  },
  {
   "cell_type": "code",
   "execution_count": null,
   "metadata": {
    "collapsed": true
   },
   "outputs": [],
   "source": [
    "immutable RigidBody\n",
    "    frame::CartesianFrame3D\n",
    "    inertia::Nullable{SpatialInertia{Float64}}\n",
    "\n",
    "    # world body\n",
    "    RigidBody(name::ASCIIString) = new(CartesianFrame3D(name), null)\n",
    "    \n",
    "    # other bodies\n",
    "    RigidBody(inertia::SpatialInertia{Float64}) = new(inertia.frame, inertia)\n",
    "end\n",
    "name(b::RigidBody) = b.frame.name\n",
    "isroot(b::RigidBody) = isnull(b.inertia)"
   ]
  },
  {
   "cell_type": "code",
   "execution_count": null,
   "metadata": {
    "collapsed": true
   },
   "outputs": [],
   "source": [
    "immutable SpatialMotionMatrix{N, T}\n",
    "    body::RigidBody\n",
    "    base::RigidBody\n",
    "    frame::CartesianFrame3D\n",
    "    angular::Mat{3, N, T}\n",
    "    linear::Mat{3, N, T}\n",
    "end\n",
    "typealias SpatialMotionVector{T} SpatialMotionMatrix{1, T}\n",
    "\n",
    "function transform{N, T}(m::SpatialMotionMatrix{N, T}, t::Transform3D{T})\n",
    "    @assert m.frame == t.from\n",
    "    angular = rotate(m.angular, t.rot)\n",
    "    linear = rotate(m.linear, t.rot)\n",
    "    for i = 1 : size(m.linear, 2)\n",
    "        linear(:, i) -= cross(angular(:, i), t.trans)\n",
    "    end\n",
    "    return SpatialMotionMatrix(m.body, m.base, t.to, angular, linear)\n",
    "end\n",
    "\n",
    "immutable SpatialForceMatrix{N, T}\n",
    "    body::RigidBody\n",
    "    base::RigidBody\n",
    "    frame::CartesianFrame3D\n",
    "    angular::Mat{3, N, T}\n",
    "    linear::Mat{3, N, T}\n",
    "end\n",
    "typealias SpatialForceVector{T} SpatialForceMatrix{1, T}\n",
    "\n",
    "function transform{N, T}(f::SpatialForceMatrix{N, T}, t::Transform3D{T})\n",
    "    @assert f.frame == t.from\n",
    "    linear = rotate(f.linear, t.rot)\n",
    "    angular = rotate(f.angular, t.rot)\n",
    "    for i = 1 : size(f.angular, 2)\n",
    "        angular(:, i) -= cross(linear(:, i), t.trans)\n",
    "    end\n",
    "    return SpatialForceMatrix(f.body, f.base, t.to, angular, linear)\n",
    "end\n"
   ]
  },
  {
   "cell_type": "code",
   "execution_count": null,
   "metadata": {
    "collapsed": false
   },
   "outputs": [],
   "source": [
    "abstract Joint\n",
    "\n",
    "immutable QuaternionFloatingJoint <: Joint\n",
    "    name::ASCIIString\n",
    "end\n",
    "joint_transform{T}(j::QuaternionFloatingJoint, q::Vector{T}, before::CartesianFrame3D, after::CartesianFrame3D) = Transform3D(Quaternion(q[1], q[2 : 4]))\n",
    "num_positions(joint::QuaternionFloatingJoint) = 7\n",
    "num_velocities(joint::QuaternionFloatingJoint) = 6\n",
    "\n",
    "immutable PrismaticJoint <: Joint\n",
    "    name::ASCIIString\n",
    "    translation_axis::Vec{3}\n",
    "end\n",
    "joint_transform{T}(j::PrismaticJoint, q::Vector{T}, before::CartesianFrame3D, after::CartesianFrame3D) = Transform3D(after, before, q[1] * j.axis.linear)\n",
    "num_positions(joint::PrismaticJoint) = 1\n",
    "num_velocities(joint::PrismaticJoint) = 1\n",
    "\n",
    "immutable RevoluteJoint <: Joint\n",
    "    name::ASCIIString\n",
    "    rotation_axis::Vec{3}\n",
    "end\n",
    "joint_transform{T}(j::RevoluteJoint, q::Vector{T}, before::CartesianFrame3D, after::CartesianFrame3D) = Transform3D(after, before, qrotation(j.axis.angular, q[1]))\n",
    "num_positions(joint::RevoluteJoint) = 1\n",
    "num_velocities(joint::RevoluteJoint) = 1"
   ]
  },
  {
   "cell_type": "code",
   "execution_count": null,
   "metadata": {
    "collapsed": true
   },
   "outputs": [],
   "source": [
    "# type Mechanism\n",
    "#     graph::DiGraph\n",
    "#     indexToJoint::Dict{Pair{Int64,Int64}, Joint}\n",
    "#     jointToIndex::Dict{Joint, Pair{Int64,Int64}}\n",
    "#     joints::Vector{Joint}\n",
    "#     bodies::Vector{RigidBody}\n",
    "#     bodyToIndex::Dict{RigidBody, Int64}\n",
    "    \n",
    "#     Mechanism() = new(DiGraph(), Dict(), Dict(), Vector(), Vector(), Dict())\n",
    "# end\n",
    "\n",
    "# function add_body!(m::Mechanism, b::RigidBody)\n",
    "#     index = add_vertex!(m.graph)\n",
    "#     push!(m.bodies, b)\n",
    "#     m.bodyToIndex[b] = index\n",
    "#     return b\n",
    "# end\n",
    "\n",
    "# function add_joint!(m::Mechanism, j::Joint, predecessor::RigidBody, successor::RigidBody)\n",
    "#     index = add_edge!(m.graph, m.bodyToIndex[predecessor], m.bodyToIndex[successor])\n",
    "#     push!(m.joints, j)\n",
    "#     m.indexToJoint[index] = j\n",
    "#     m.jointToIndex[j] = index\n",
    "#     return j\n",
    "# end"
   ]
  },
  {
   "cell_type": "code",
   "execution_count": null,
   "metadata": {
    "collapsed": false
   },
   "outputs": [],
   "source": [
    "J = rand(Mat{3, 3, Float64}); J = J * J'\n",
    "c = rand(Vec{3, Float64})\n",
    "m = rand()\n",
    "inertia = SpatialInertia(f3, J, c, m)\n",
    "m = Mechanism()\n",
    "world = add_body!(m, RigidBody(\"world\"))\n",
    "body = add_body!(m, RigidBody(\"body\", inertia))\n",
    "add_joint!(m, QuaternionFloatingJoint(\"joint\"), world, body)"
   ]
  },
  {
   "cell_type": "code",
   "execution_count": null,
   "metadata": {
    "collapsed": false
   },
   "outputs": [],
   "source": [
    "transform(inertia, t3)"
   ]
  },
  {
   "cell_type": "code",
   "execution_count": null,
   "metadata": {
    "collapsed": false
   },
   "outputs": [],
   "source": [
    "type MechanismState{T}\n",
    "    q::Vector{T}\n",
    "    v::Vector{T}\n",
    "end"
   ]
  },
  {
   "cell_type": "code",
   "execution_count": null,
   "metadata": {
    "collapsed": true
   },
   "outputs": [],
   "source": [
    "bla"
   ]
  }
 ],
 "metadata": {
  "kernelspec": {
   "display_name": "Julia 0.4.5",
   "language": "julia",
   "name": "julia-0.4"
  },
  "language_info": {
   "file_extension": ".jl",
   "mimetype": "application/julia",
   "name": "julia",
   "version": "0.4.5"
  }
 },
 "nbformat": 4,
 "nbformat_minor": 0
}
