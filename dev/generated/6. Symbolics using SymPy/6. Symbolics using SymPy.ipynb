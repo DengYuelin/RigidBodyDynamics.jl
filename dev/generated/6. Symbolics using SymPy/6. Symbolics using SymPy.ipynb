{
 "cells": [
  {
   "outputs": [],
   "cell_type": "markdown",
   "source": [
    "# 6. Symbolics using SymPy"
   ],
   "metadata": {}
  },
  {
   "outputs": [],
   "cell_type": "markdown",
   "source": [
    "## Setup"
   ],
   "metadata": {}
  },
  {
   "outputs": [
    {
     "name": "stdout",
     "output_type": "stream",
     "text": [
      "  Updating registry at `~/.julia/registries/General`\n",
      "  Updating git-repo `https://github.com/JuliaRegistries/General.git`\n",
      "\u001b[?25l\u001b[2K\u001b[?25h Installed VersionParsing ─ v1.1.3\n",
      " Installed Conda ────────── v1.2.0\n",
      " Installed PyCall ───────── v1.91.2\n",
      " Installed SymPy ────────── v1.0.3\n",
      "  Building Conda ─→ `~/.julia/packages/Conda/CpuvI/deps/build.log`\n",
      "  Building PyCall → `~/.julia/packages/PyCall/ttONZ/deps/build.log`\n",
      "┌ Info: Installing sympy via the Conda sympy package...\n",
      "└ @ PyCall /home/travis/.julia/packages/PyCall/ttONZ/src/PyCall.jl:705\n",
      "┌ Info: Running `conda install -q -y sympy` in root environment\n",
      "└ @ Conda /home/travis/.julia/packages/Conda/CpuvI/src/Conda.jl:112\n",
      "Collecting package metadata: ...working... done\n",
      "Solving environment: ...working... done\n",
      "\n",
      "## Package Plan ##\n",
      "\n",
      "  environment location: /home/travis/.julia/conda/3\n",
      "\n",
      "  added / updated specs:\n",
      "    - sympy\n",
      "\n",
      "\n",
      "The following packages will be downloaded:\n",
      "\n",
      "    package                    |            build\n",
      "    ---------------------------|-----------------\n",
      "    fastcache-1.1.0            |   py37h7b6447c_0          31 KB\n",
      "    gmp-6.1.2                  |       h6c8ec71_1         744 KB\n",
      "    gmpy2-2.0.8                |   py37h10f8cd9_2         165 KB\n",
      "    mpc-1.1.0                  |       h10f8cd9_1          94 KB\n",
      "    mpfr-4.0.1                 |       hdf1c602_3         575 KB\n",
      "    mpmath-1.1.0               |           py37_0         957 KB\n",
      "    sympy-1.4                  |           py37_0         9.7 MB\n",
      "    ------------------------------------------------------------\n",
      "                                           Total:        12.2 MB\n",
      "\n",
      "The following NEW packages will be INSTALLED:\n",
      "\n",
      "  fastcache          pkgs/main/linux-64::fastcache-1.1.0-py37h7b6447c_0\n",
      "  gmp                pkgs/main/linux-64::gmp-6.1.2-h6c8ec71_1\n",
      "  gmpy2              pkgs/main/linux-64::gmpy2-2.0.8-py37h10f8cd9_2\n",
      "  mpc                pkgs/main/linux-64::mpc-1.1.0-h10f8cd9_1\n",
      "  mpfr               pkgs/main/linux-64::mpfr-4.0.1-hdf1c602_3\n",
      "  mpmath             pkgs/main/linux-64::mpmath-1.1.0-py37_0\n",
      "  sympy              pkgs/main/linux-64::sympy-1.4-py37_0\n",
      "\n",
      "\n",
      "Preparing transaction: ...working... done\n",
      "Verifying transaction: ...working... done\n",
      "Executing transaction: ...working... done\n"
     ]
    }
   ],
   "cell_type": "code",
   "source": [
    "using Pkg # hide\n",
    "Pkg.activate(\"/home/travis/build/JuliaRobotics/RigidBodyDynamics.jl/docs/../examples/6. Symbolics using SymPy\") # hide\n",
    "Pkg.instantiate() # hide\n",
    "using RigidBodyDynamics\n",
    "using StaticArrays\n",
    "using SymPy"
   ],
   "metadata": {},
   "execution_count": 1
  },
  {
   "outputs": [],
   "cell_type": "markdown",
   "source": [
    "## Create symbolic parameters\n",
    "* Masses: $m_1, m_2$\n",
    "* Mass moments of inertia (about center of mass): $I_1, I_2$\n",
    "* Link lengths: $l_1, l_2$\n",
    "* Center of mass locations (w.r.t. preceding joint axis): $c_1, c_2$\n",
    "* Gravitational acceleration: $g$"
   ],
   "metadata": {}
  },
  {
   "outputs": [
    {
     "output_type": "execute_result",
     "data": {
      "text/plain": "1×9 LinearAlgebra.Transpose{SymPy.Sym,Array{SymPy.Sym,1}}:\n m_1  m_2  I_1  I_2  l_1  l_2  c_1  c_2  g",
      "text/latex": "\\[\\left[ \\begin{array}{rrrrrrrrr}m_{1}&m_{2}&I_{1}&I_{2}&l_{1}&l_{2}&c_{1}&c_{2}&g\\end{array}\\right]\\]"
     },
     "metadata": {},
     "execution_count": 2
    }
   ],
   "cell_type": "code",
   "source": [
    "inertias = @syms m_1 m_2 I_1 I_2 positive = true\n",
    "lengths = @syms l_1 l_2 c_1 c_2 real = true\n",
    "gravitational_acceleration = @syms g real = true\n",
    "params = [inertias..., lengths..., gravitational_acceleration...]\n",
    "transpose(params)"
   ],
   "metadata": {},
   "execution_count": 2
  },
  {
   "outputs": [],
   "cell_type": "markdown",
   "source": [
    "## Create double pendulum `Mechanism`\n",
    "A `Mechanism` contains the joint layout and inertia parameters, but no state information."
   ],
   "metadata": {}
  },
  {
   "outputs": [
    {
     "output_type": "execute_result",
     "data": {
      "text/plain": "RigidBody: \"world\""
     },
     "metadata": {},
     "execution_count": 3
    }
   ],
   "cell_type": "code",
   "source": [
    "T = Sym # the 'scalar type' of the Mechanism we'll construct\n",
    "axis = SVector(zero(T), one(T), zero(T)) # axis of rotation for each of the joints\n",
    "double_pendulum = Mechanism(RigidBody{T}(\"world\"); gravity = SVector(zero(T), zero(T), g))\n",
    "world = root_body(double_pendulum) # the fixed 'world' rigid body"
   ],
   "metadata": {},
   "execution_count": 3
  },
  {
   "outputs": [],
   "cell_type": "markdown",
   "source": [
    "Attach the first (upper) link to the world via a revolute joint named 'shoulder'"
   ],
   "metadata": {}
  },
  {
   "outputs": [],
   "cell_type": "code",
   "source": [
    "inertia1 = SpatialInertia(CartesianFrame3D(\"upper_link\"), moment=I_1 * axis * transpose(axis), com=SVector(zero(T), zero(T), c_1), mass=m_1)\n",
    "body1 = RigidBody(inertia1)\n",
    "joint1 = Joint(\"shoulder\", Revolute(axis))\n",
    "joint1_to_world = one(Transform3D{T}, frame_before(joint1), default_frame(world));\n",
    "attach!(double_pendulum, world, body1, joint1, joint_pose = joint1_to_world);"
   ],
   "metadata": {},
   "execution_count": 4
  },
  {
   "outputs": [],
   "cell_type": "markdown",
   "source": [
    "Attach the second (lower) link to the world via a revolute joint named 'elbow'"
   ],
   "metadata": {}
  },
  {
   "outputs": [
    {
     "output_type": "execute_result",
     "data": {
      "text/plain": "Spanning tree:\nVertex: world (root)\n  Vertex: upper_link, Edge: shoulder\n    Vertex: lower_link, Edge: elbow\nNo non-tree joints."
     },
     "metadata": {},
     "execution_count": 5
    }
   ],
   "cell_type": "code",
   "source": [
    "inertia2 = SpatialInertia(CartesianFrame3D(\"lower_link\"), moment=I_2 * axis * transpose(axis), com=SVector(zero(T), zero(T), c_2), mass=m_2)\n",
    "body2 = RigidBody(inertia2)\n",
    "joint2 = Joint(\"elbow\", Revolute(axis))\n",
    "joint2_to_body1 = Transform3D(frame_before(joint2), default_frame(body1), SVector(zero(T), zero(T), l_1))\n",
    "attach!(double_pendulum, body1, body2, joint2, joint_pose = joint2_to_body1)"
   ],
   "metadata": {},
   "execution_count": 5
  },
  {
   "outputs": [],
   "cell_type": "markdown",
   "source": [
    "## Create `MechanismState` associated with the double pendulum `Mechanism`\n",
    "A `MechanismState` stores all state-dependent information associated with a `Mechanism`."
   ],
   "metadata": {}
  },
  {
   "outputs": [],
   "cell_type": "code",
   "source": [
    "x = MechanismState(double_pendulum);"
   ],
   "metadata": {},
   "execution_count": 6
  },
  {
   "outputs": [],
   "cell_type": "markdown",
   "source": [
    "Set the joint configuration vector of the MechanismState to a new vector of symbolic variables"
   ],
   "metadata": {}
  },
  {
   "outputs": [],
   "cell_type": "code",
   "source": [
    "q = configuration(x)\n",
    "for i in eachindex(q)\n",
    "    q[i] = symbols(\"q_$i\", real = true)\n",
    "end"
   ],
   "metadata": {},
   "execution_count": 7
  },
  {
   "outputs": [],
   "cell_type": "markdown",
   "source": [
    "Set the joint velocity vector of the MechanismState to a new vector of symbolic variables"
   ],
   "metadata": {}
  },
  {
   "outputs": [],
   "cell_type": "code",
   "source": [
    "v = velocity(x)\n",
    "for i in eachindex(v)\n",
    "    v[i] = symbols(\"v_$i\", real = true)\n",
    "end"
   ],
   "metadata": {},
   "execution_count": 8
  },
  {
   "outputs": [],
   "cell_type": "markdown",
   "source": [
    "## Compute dynamical quantities in symbolic form"
   ],
   "metadata": {}
  },
  {
   "outputs": [],
   "cell_type": "markdown",
   "source": [
    "Mass matrix"
   ],
   "metadata": {}
  },
  {
   "outputs": [
    {
     "output_type": "execute_result",
     "data": {
      "text/plain": "2×2 Array{SymPy.Sym,2}:\n I_1 + I_2 + 2*c_2*l_1*m_2*cos(q_2) + l_1^2*m_2  I_2 + c_2*l_1*m_2*cos(q_2)\n                     I_2 + c_2*l_1*m_2*cos(q_2)                         I_2",
      "text/latex": "\\[\\left[ \\begin{array}{rr}I_{1} + I_{2} + 2 c_{2} l_{1} m_{2} \\cos{\\left(q_{2} \\right)} + l_{1}^{2} m_{2}&I_{2} + c_{2} l_{1} m_{2} \\cos{\\left(q_{2} \\right)}\\\\I_{2} + c_{2} l_{1} m_{2} \\cos{\\left(q_{2} \\right)}&I_{2}\\end{array}\\right]\\]"
     },
     "metadata": {},
     "execution_count": 9
    }
   ],
   "cell_type": "code",
   "source": [
    "simplify.(mass_matrix(x))"
   ],
   "metadata": {},
   "execution_count": 9
  },
  {
   "outputs": [],
   "cell_type": "markdown",
   "source": [
    "Kinetic energy"
   ],
   "metadata": {}
  },
  {
   "outputs": [
    {
     "output_type": "execute_result",
     "data": {
      "text/plain": "     2        2                   2                                           \nI₁⋅v₁    I₂⋅v₁               I₂⋅v₂               2                            \n────── + ────── + I₂⋅v₁⋅v₂ + ────── + c₂⋅l₁⋅m₂⋅v₁ ⋅cos(q₂) + c₂⋅l₁⋅m₂⋅v₁⋅v₂⋅co\n  2        2                   2                                              \n\n          2      2\n        l₁ ⋅m₂⋅v₁ \ns(q₂) + ──────────\n            2     ",
      "text/latex": "\\begin{equation*}\\frac{I_{1} v_{1}^{2}}{2} + \\frac{I_{2} v_{1}^{2}}{2} + I_{2} v_{1} v_{2} + \\frac{I_{2} v_{2}^{2}}{2} + c_{2} l_{1} m_{2} v_{1}^{2} \\cos{\\left(q_{2} \\right)} + c_{2} l_{1} m_{2} v_{1} v_{2} \\cos{\\left(q_{2} \\right)} + \\frac{l_{1}^{2} m_{2} v_{1}^{2}}{2}\\end{equation*}"
     },
     "metadata": {},
     "execution_count": 10
    }
   ],
   "cell_type": "code",
   "source": [
    "simplify(kinetic_energy(x))"
   ],
   "metadata": {},
   "execution_count": 10
  },
  {
   "outputs": [],
   "cell_type": "markdown",
   "source": [
    "Potential energy"
   ],
   "metadata": {}
  },
  {
   "outputs": [
    {
     "output_type": "execute_result",
     "data": {
      "text/plain": "-g⋅(c₁⋅m₁⋅cos(q₁) + c₂⋅m₂⋅cos(q₁ + q₂) + l₁⋅m₂⋅cos(q₁))",
      "text/latex": "\\begin{equation*}- g \\left(c_{1} m_{1} \\cos{\\left(q_{1} \\right)} + c_{2} m_{2} \\cos{\\left(q_{1} + q_{2} \\right)} + l_{1} m_{2} \\cos{\\left(q_{1} \\right)}\\right)\\end{equation*}"
     },
     "metadata": {},
     "execution_count": 11
    }
   ],
   "cell_type": "code",
   "source": [
    "simplify(gravitational_potential_energy(x))"
   ],
   "metadata": {},
   "execution_count": 11
  },
  {
   "outputs": [],
   "cell_type": "markdown",
   "source": [
    "*This notebook was generated using [Literate.jl](https://github.com/fredrikekre/Literate.jl).*"
   ],
   "metadata": {}
  }
 ],
 "nbformat_minor": 3,
 "metadata": {
  "language_info": {
   "file_extension": ".jl",
   "mimetype": "application/julia",
   "name": "julia",
   "version": "1.1.1"
  },
  "kernelspec": {
   "name": "julia-1.1",
   "display_name": "Julia 1.1.1",
   "language": "julia"
  }
 },
 "nbformat": 4
}
