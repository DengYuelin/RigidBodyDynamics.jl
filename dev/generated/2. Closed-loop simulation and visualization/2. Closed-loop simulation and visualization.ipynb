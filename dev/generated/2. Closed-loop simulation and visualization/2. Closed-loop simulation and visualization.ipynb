{
 "cells": [
  {
   "outputs": [],
   "cell_type": "markdown",
   "source": [
    "# 2. Closed-loop simulation and visualization"
   ],
   "metadata": {}
  },
  {
   "outputs": [],
   "cell_type": "markdown",
   "source": [
    "Please note that [RigidBodySim.jl](https://github.com/JuliaRobotics/RigidBodySim.jl) now provides a more capable simulation environment."
   ],
   "metadata": {}
  },
  {
   "outputs": [],
   "cell_type": "markdown",
   "source": [
    "## Setup"
   ],
   "metadata": {}
  },
  {
   "outputs": [
    {
     "name": "stdout",
     "output_type": "stream",
     "text": [
      "  Updating registry at `~/.julia/registries/General`\n",
      "  Updating git-repo `https://github.com/JuliaRegistries/General.git`\n",
      "\u001b[?25l\u001b[2K\u001b[?25h Installed IniFile ─────────────────── v0.5.0\n",
      " Installed Ratios ──────────────────── v0.3.1\n",
      " Installed CoordinateTransformations ─ v0.5.0\n",
      " Installed BinDeps ─────────────────── v0.8.10\n",
      " Installed HTTP ────────────────────── v0.8.0\n",
      " Installed WoodburyMatrices ────────── v0.4.1\n",
      " Installed URIParser ───────────────── v0.4.0\n",
      " Installed OrderedCollections ──────── v1.1.0\n",
      " Installed Observables ─────────────── v0.2.3\n",
      " Installed JSExpr ──────────────────── v0.5.0\n",
      " Installed Lazy ────────────────────── v0.13.2\n",
      " Installed MacroTools ──────────────── v0.5.0\n",
      " Installed Hiccup ──────────────────── v0.2.2\n",
      " Installed WebSockets ──────────────── v1.5.2\n",
      " Installed ColorTypes ──────────────── v0.8.0\n",
      " Installed Colors ──────────────────── v0.9.5\n",
      " Installed AxisAlgorithms ──────────── v1.0.0\n",
      " Installed CSSUtil ─────────────────── v0.1.0\n",
      " Installed IterTools ───────────────── v1.1.1\n",
      " Installed GeometryTypes ───────────── v0.7.4\n",
      " Installed Requires ────────────────── v0.5.2\n",
      " Installed MeshCatMechanisms ───────── v0.4.0\n",
      " Installed Interpolations ──────────── v0.12.1\n",
      " Installed OffsetArrays ────────────── v0.11.0\n",
      " Installed MeshCat ─────────────────── v0.6.0\n",
      " Installed Compat ──────────────────── v2.1.0\n",
      " Installed MbedTLS ─────────────────── v0.6.8\n",
      " Installed FileIO ──────────────────── v1.0.6\n",
      " Installed DataStructures ──────────── v0.15.0\n",
      " Installed Widgets ─────────────────── v0.6.1\n",
      " Installed Pidfile ─────────────────── v1.1.0\n",
      " Installed Measures ────────────────── v0.3.0\n",
      " Installed MeshIO ──────────────────── v0.3.1\n",
      " Installed AssetRegistry ───────────── v0.1.0\n",
      " Installed WebIO ───────────────────── v0.7.0\n",
      " Installed InteractBase ────────────── v0.10.1\n",
      " Installed Parameters ──────────────── v0.10.3\n",
      " Installed FixedPointNumbers ───────── v0.6.1\n",
      " Installed Tokenize ────────────────── v0.5.3\n",
      " Installed MechanismGeometries ─────── v0.3.0\n",
      " Installed MsgPack ─────────────────── v0.2.0\n",
      " Installed CSTParser ───────────────── v0.5.2\n",
      " Installed FunctionalCollections ───── v0.5.0\n",
      " Installed Mux ─────────────────────── v0.7.0\n",
      " Installed Knockout ────────────────── v0.2.2\n",
      "  Building MbedTLS ─────→ `~/.julia/packages/MbedTLS/X4xar/deps/build.log`\n",
      "  Building WebIO ───────→ `~/.julia/packages/WebIO/Rk8wc/deps/build.log`\n",
      "  Building MeshCat ─────→ `~/.julia/packages/MeshCat/WlA0B/deps/build.log`\n",
      "  Building Knockout ────→ `~/.julia/packages/Knockout/JE2Yq/deps/build.log`\n",
      "  Building InteractBase → `~/.julia/packages/InteractBase/R8JgH/deps/build.log`\n"
     ]
    }
   ],
   "cell_type": "code",
   "source": [
    "using Pkg # hide\n",
    "Pkg.activate(\"/home/travis/build/JuliaRobotics/RigidBodyDynamics.jl/docs/../examples/2. Closed-loop simulation and visualization\") # hide\n",
    "Pkg.instantiate() # hide\n",
    "using RigidBodyDynamics"
   ],
   "metadata": {},
   "execution_count": 1
  },
  {
   "outputs": [],
   "cell_type": "markdown",
   "source": [
    "## Model definition"
   ],
   "metadata": {}
  },
  {
   "outputs": [],
   "cell_type": "markdown",
   "source": [
    "We'll just use the double pendulum model, loaded from a URDF:"
   ],
   "metadata": {}
  },
  {
   "outputs": [
    {
     "output_type": "execute_result",
     "data": {
      "text/plain": "Spanning tree:\nVertex: world (root)\n  Vertex: upper_link, Edge: shoulder\n    Vertex: lower_link, Edge: elbow\nNo non-tree joints."
     },
     "metadata": {},
     "execution_count": 2
    }
   ],
   "cell_type": "code",
   "source": [
    "srcdir = dirname(pathof(RigidBodyDynamics))\n",
    "urdf = joinpath(srcdir, \"..\", \"test\", \"urdf\", \"Acrobot.urdf\")\n",
    "mechanism = parse_urdf(urdf)"
   ],
   "metadata": {},
   "execution_count": 2
  },
  {
   "outputs": [],
   "cell_type": "markdown",
   "source": [
    "## Controller"
   ],
   "metadata": {}
  },
  {
   "outputs": [],
   "cell_type": "markdown",
   "source": [
    "Let's write a simple controller that just applies $10 \\sin(t)$ at the elbow joint and adds some damping at the shoulder joint:"
   ],
   "metadata": {}
  },
  {
   "outputs": [],
   "cell_type": "code",
   "source": [
    "shoulder, elbow = joints(mechanism)\n",
    "function simple_control!(torques::AbstractVector, t, state::MechanismState)\n",
    "    torques[velocity_range(state, shoulder)] .= -1 .* velocity(state, shoulder)\n",
    "    torques[velocity_range(state, elbow)] .= 10 * sin(t)\n",
    "end;"
   ],
   "metadata": {},
   "execution_count": 3
  },
  {
   "outputs": [],
   "cell_type": "markdown",
   "source": [
    "## Simulation"
   ],
   "metadata": {}
  },
  {
   "outputs": [],
   "cell_type": "markdown",
   "source": [
    "Basic simulation can be done using the `simulate` function. We'll first create a `MechanismState` object, and set the initial joint configurations and velocities:"
   ],
   "metadata": {}
  },
  {
   "outputs": [],
   "cell_type": "code",
   "source": [
    "state = MechanismState(mechanism)\n",
    "zero_velocity!(state)\n",
    "set_configuration!(state, shoulder, 0.7)\n",
    "set_configuration!(state, elbow, -0.8);"
   ],
   "metadata": {},
   "execution_count": 4
  },
  {
   "outputs": [],
   "cell_type": "markdown",
   "source": [
    "Now we can simply call `simulate`, which will return a tuple consisting of:\n",
    "* simulation times (a `Vector` of numbers)\n",
    "* joint configuration vectors (a `Vector` of `Vector`s)\n",
    "* joint velocity vectors (a `Vector` of `Vector`s)"
   ],
   "metadata": {}
  },
  {
   "outputs": [],
   "cell_type": "code",
   "source": [
    "final_time = 10.\n",
    "ts, qs, vs = simulate(state, final_time, simple_control!; Δt = 1e-3);"
   ],
   "metadata": {},
   "execution_count": 5
  },
  {
   "outputs": [],
   "cell_type": "markdown",
   "source": [
    "For access to lower-level functionality, such as different ways of storing or visualizing the data generated during the simulation, it is advised to simply pattern match the basic `simulate` function."
   ],
   "metadata": {}
  },
  {
   "outputs": [],
   "cell_type": "markdown",
   "source": [
    "## Visualization"
   ],
   "metadata": {}
  },
  {
   "outputs": [],
   "cell_type": "markdown",
   "source": [
    "For visualization, we'll use [`MeshCatMechanisms`](https://github.com/JuliaRobotics/MeshCatMechanisms.jl), an external package based on RigidBodyDynamics.jl."
   ],
   "metadata": {}
  },
  {
   "outputs": [],
   "cell_type": "code",
   "source": [
    "using MeshCatMechanisms"
   ],
   "metadata": {},
   "execution_count": 6
  },
  {
   "outputs": [],
   "cell_type": "markdown",
   "source": [
    "Create a `MechanismVisualizer` and open it in a new browser tab\n",
    "(see [`MeshCat.jl`](https://github.com/rdeits/MeshCat.jl) for other options):"
   ],
   "metadata": {}
  },
  {
   "outputs": [],
   "cell_type": "code",
   "source": [
    "mvis = MechanismVisualizer(mechanism, URDFVisuals(urdf))\n",
    "OPEN_VISUALIZER = false\n",
    "OPEN_VISUALIZER && open(mvis);"
   ],
   "metadata": {},
   "execution_count": 7
  },
  {
   "outputs": [],
   "cell_type": "markdown",
   "source": [
    "And animate:"
   ],
   "metadata": {}
  },
  {
   "outputs": [],
   "cell_type": "code",
   "source": [
    "MeshCatMechanisms.animate(mvis, ts, qs; realtimerate = 1.);"
   ],
   "metadata": {},
   "execution_count": 8
  },
  {
   "outputs": [],
   "cell_type": "markdown",
   "source": [
    "*This notebook was generated using [Literate.jl](https://github.com/fredrikekre/Literate.jl).*"
   ],
   "metadata": {}
  }
 ],
 "nbformat_minor": 3,
 "metadata": {
  "language_info": {
   "file_extension": ".jl",
   "mimetype": "application/julia",
   "name": "julia",
   "version": "1.1.1"
  },
  "kernelspec": {
   "name": "julia-1.1",
   "display_name": "Julia 1.1.1",
   "language": "julia"
  }
 },
 "nbformat": 4
}
