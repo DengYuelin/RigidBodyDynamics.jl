{
 "cells": [
  {
   "outputs": [],
   "cell_type": "markdown",
   "source": [
    "# 3. Four-bar linkage"
   ],
   "metadata": {}
  },
  {
   "outputs": [],
   "cell_type": "markdown",
   "source": [
    "This example is a (slightly modified) contribution by [Aykut Satici](https://github.com/symplectomorphism)."
   ],
   "metadata": {}
  },
  {
   "outputs": [],
   "cell_type": "markdown",
   "source": [
    "## Setup"
   ],
   "metadata": {}
  },
  {
   "outputs": [
    {
     "name": "stdout",
     "output_type": "stream",
     "text": [
      "  Updating registry at `~/.julia/registries/General`\n",
      "  Updating git-repo `https://github.com/JuliaRegistries/General.git`\n",
      "\u001b[?25l\u001b[2K\u001b[?25h"
     ]
    }
   ],
   "cell_type": "code",
   "source": [
    "using Pkg # hide\n",
    "Pkg.activate(\"/home/travis/build/JuliaRobotics/RigidBodyDynamics.jl/docs/../examples/3. Four-bar linkage\") # hide\n",
    "Pkg.instantiate() # hide\n",
    "using LinearAlgebra\n",
    "using RigidBodyDynamics\n",
    "using StaticArrays"
   ],
   "metadata": {},
   "execution_count": 1
  },
  {
   "outputs": [],
   "cell_type": "markdown",
   "source": [
    "## Model definition"
   ],
   "metadata": {}
  },
  {
   "outputs": [],
   "cell_type": "markdown",
   "source": [
    "We're going to create a [four-bar linkage](https://en.wikipedia.org/wiki/Four-bar_linkage) that looks like this:\n",
    "![fourbar](fourbar.jpg)\n",
    "\n",
    "We'll 'cut' the mechanism at joint 4: joints 1, 2, and 3 will be part of the spanning tree of the mechanism, but joint 4 will be a 'loop joint' (see e.g. Featherstone's 'Rigid Body Dynamics Algorithms'), for which the dynamics will be enforced using Lagrange multipliers.\n",
    "\n",
    "First, we'll define some relevant constants:"
   ],
   "metadata": {}
  },
  {
   "outputs": [],
   "cell_type": "code",
   "source": [
    "# gravitational acceleration\n",
    "g = -9.81\n",
    "\n",
    "# link lengths\n",
    "l_0 = 1.10\n",
    "l_1 = 0.5\n",
    "l_2 = 1.20\n",
    "l_3 = 0.75\n",
    "\n",
    "# link masses\n",
    "m_1 = 0.5\n",
    "m_2 = 1.0\n",
    "m_3 = 0.75\n",
    "\n",
    "# link center of mass offsets from the preceding joint axes\n",
    "c_1 = 0.25\n",
    "c_2 = 0.60\n",
    "c_3 = 0.375\n",
    "\n",
    "# moments of inertia about the center of mass of each link\n",
    "I_1 = 0.333\n",
    "I_2 = 0.537\n",
    "I_3 = 0.4\n",
    "\n",
    "# Rotation axis: negative y-axis\n",
    "axis = SVector(0., -1., 0.);"
   ],
   "metadata": {},
   "execution_count": 2
  },
  {
   "outputs": [],
   "cell_type": "markdown",
   "source": [
    "Construct the world rigid body and create a new mechanism:"
   ],
   "metadata": {}
  },
  {
   "outputs": [
    {
     "output_type": "execute_result",
     "data": {
      "text/plain": "Spanning tree:\nVertex: world (root)\nNo non-tree joints."
     },
     "metadata": {},
     "execution_count": 3
    }
   ],
   "cell_type": "code",
   "source": [
    "world = RigidBody{Float64}(\"world\")\n",
    "fourbar = Mechanism(world; gravity = SVector(0., 0., g))"
   ],
   "metadata": {},
   "execution_count": 3
  },
  {
   "outputs": [],
   "cell_type": "markdown",
   "source": [
    "Next, we'll construct the spanning tree of the mechanism,\n",
    "consisting of bodies 1, 2, and 3 connected by joints 1, 2, and 3.\n",
    "Note the use of the `moment_about_com` keyword (as opposed to `moment`):"
   ],
   "metadata": {}
  },
  {
   "outputs": [],
   "cell_type": "markdown",
   "source": [
    "Link 1 and joint 1:"
   ],
   "metadata": {}
  },
  {
   "outputs": [
    {
     "output_type": "execute_result",
     "data": {
      "text/plain": "Spanning tree:\nVertex: world (root)\n  Vertex: after_joint1, Edge: joint1\n    Vertex: after_joint2, Edge: joint2\n  Vertex: after_joint3, Edge: joint3\nNo non-tree joints."
     },
     "metadata": {},
     "execution_count": 4
    }
   ],
   "cell_type": "code",
   "source": [
    "joint1 = Joint(\"joint1\", Revolute(axis))\n",
    "inertia1 = SpatialInertia(frame_after(joint1),\n",
    "    com=SVector(c_1, 0, 0),\n",
    "    moment_about_com=I_1*axis*transpose(axis),\n",
    "    mass=m_1)\n",
    "link1 = RigidBody(inertia1)\n",
    "before_joint1_to_world = one(Transform3D,\n",
    "    frame_before(joint1), default_frame(world))\n",
    "attach!(fourbar, world, link1, joint1,\n",
    "    joint_pose = before_joint1_to_world)\n",
    "# Link 2 and joint 2:\n",
    "joint2 = Joint(\"joint2\", Revolute(axis))\n",
    "inertia2 = SpatialInertia(frame_after(joint2),\n",
    "    com=SVector(c_2, 0, 0),\n",
    "    moment_about_com=I_2*axis*transpose(axis),\n",
    "    mass=m_2)\n",
    "link2 = RigidBody(inertia2)\n",
    "before_joint2_to_after_joint1 = Transform3D(\n",
    "    frame_before(joint2), frame_after(joint1), SVector(l_1, 0., 0.))\n",
    "attach!(fourbar, link1, link2, joint2,\n",
    "    joint_pose = before_joint2_to_after_joint1)\n",
    "# Link 3 and joint 3:\n",
    "joint3 = Joint(\"joint3\", Revolute(axis))\n",
    "inertia3 = SpatialInertia(frame_after(joint3),\n",
    "    com=SVector(l_0, 0., 0.),\n",
    "    moment_about_com=I_3*axis*transpose(axis),\n",
    "    mass=m_3)\n",
    "link3 = RigidBody(inertia3)\n",
    "before_joint3_to_world = Transform3D(frame_before(joint3),\n",
    "    default_frame(world), SVector(l_0, 0., 0.))\n",
    "attach!(fourbar, world, link3, joint3, joint_pose = before_joint3_to_world)"
   ],
   "metadata": {},
   "execution_count": 4
  },
  {
   "outputs": [],
   "cell_type": "markdown",
   "source": [
    "Finally, we'll add joint 4 in almost the same way we did the other joints,\n",
    "with the following exceptions:\n",
    "1. both `link2` and `link3` are already part of the `Mechanism`, so the `attach!`\n",
    "   function will figure out that `joint4` will be a loop joint.\n",
    "2. instead of using the default (identity) for the argument that specifies the\n",
    "   transform from the successor of joint 4 (i.e., link 3) to the frame directly after\n",
    "joint 4, we'll specify a transform that incorporates the $l_3$ offset."
   ],
   "metadata": {}
  },
  {
   "outputs": [],
   "cell_type": "code",
   "source": [
    "# joint between link2 and link3\n",
    "joint4 = Joint(\"joint4\", Revolute(axis))\n",
    "before_joint4_to_joint2 = Transform3D(\n",
    "    frame_before(joint4), frame_after(joint2), SVector(l_2, 0., 0.))\n",
    "joint3_to_after_joint4 = Transform3D(\n",
    "    frame_after(joint3), frame_after(joint4), SVector(-l_3, 0., 0.))\n",
    "attach!(fourbar, link2, link3, joint4,\n",
    "    joint_pose = before_joint4_to_joint2, successor_pose = joint3_to_after_joint4)\n",
    "# Note the additional non-tree joint in the printed `Mechanism` summary.\n",
    "# ## Simulation\n",
    "# As usual, we'll now construct a `MechanismState` and `DynamicsResult` for the\n",
    "# four-bar `Mechanism`. We'll set some initial conditions for a simulation, which\n",
    "# were solved for a priori using a nonlinear program (not shown here).\n",
    "state = MechanismState(fourbar)\n",
    "result = DynamicsResult(fourbar);\n",
    "\n",
    "set_configuration!(state, joint1, 1.6707963267948966) # θ\n",
    "set_configuration!(state, joint2, -1.4591054166649482) # γ\n",
    "set_configuration!(state, joint3, 1.5397303602625536) # ϕ\n",
    "\n",
    "set_velocity!(state, joint1, 0.5)\n",
    "set_velocity!(state, joint2, -0.47295)\n",
    "set_velocity!(state, joint3, 0.341)\n",
    "\n",
    "# Invalidate the cache variables\n",
    "setdirty!(state)"
   ],
   "metadata": {},
   "execution_count": 5
  },
  {
   "outputs": [],
   "cell_type": "markdown",
   "source": [
    "Next, we'll do a 3-second simulation:"
   ],
   "metadata": {}
  },
  {
   "outputs": [],
   "cell_type": "code",
   "source": [
    "ts, qs, vs = simulate(state, 3., Δt = 1e-2);"
   ],
   "metadata": {},
   "execution_count": 6
  },
  {
   "outputs": [],
   "cell_type": "markdown",
   "source": [
    "## Visualization"
   ],
   "metadata": {}
  },
  {
   "outputs": [],
   "cell_type": "markdown",
   "source": [
    "For visualization, we'll use [`MeshCatMechanisms`](https://github.com/JuliaRobotics/MeshCatMechanisms.jl),\n",
    "an external package based on RigidBodyDynamics.jl."
   ],
   "metadata": {}
  },
  {
   "outputs": [],
   "cell_type": "code",
   "source": [
    "using MeshCatMechanisms"
   ],
   "metadata": {},
   "execution_count": 7
  },
  {
   "outputs": [],
   "cell_type": "markdown",
   "source": [
    "Create a `MechanismVisualizer` for the four-bar linkage and open it in a new browser tab\n",
    "(see [`MeshCat.jl`](https://github.com/rdeits/MeshCat.jl) for other options):"
   ],
   "metadata": {}
  },
  {
   "outputs": [],
   "cell_type": "code",
   "source": [
    "mvis = MechanismVisualizer(fourbar, Skeleton(inertias=false))\n",
    "OPEN_VISUALIZER = false\n",
    "OPEN_VISUALIZER && open(mvis);"
   ],
   "metadata": {},
   "execution_count": 8
  },
  {
   "outputs": [],
   "cell_type": "markdown",
   "source": [
    "And animate:"
   ],
   "metadata": {}
  },
  {
   "outputs": [],
   "cell_type": "code",
   "source": [
    "MeshCatMechanisms.animate(mvis, ts, qs; realtimerate = 1.);"
   ],
   "metadata": {},
   "execution_count": 9
  },
  {
   "outputs": [],
   "cell_type": "markdown",
   "source": [
    "*This notebook was generated using [Literate.jl](https://github.com/fredrikekre/Literate.jl).*"
   ],
   "metadata": {}
  }
 ],
 "nbformat_minor": 3,
 "metadata": {
  "language_info": {
   "file_extension": ".jl",
   "mimetype": "application/julia",
   "name": "julia",
   "version": "1.1.1"
  },
  "kernelspec": {
   "name": "julia-1.1",
   "display_name": "Julia 1.1.1",
   "language": "julia"
  }
 },
 "nbformat": 4
}
