{
 "cells": [
  {
   "outputs": [],
   "cell_type": "markdown",
   "source": [
    "# 5. Derivatives and gradients using ForwardDiff"
   ],
   "metadata": {}
  },
  {
   "outputs": [],
   "cell_type": "markdown",
   "source": [
    "## Setup"
   ],
   "metadata": {}
  },
  {
   "outputs": [
    {
     "name": "stdout",
     "output_type": "stream",
     "text": [
      "  Updating registry at `~/.julia/registries/General`\n",
      "  Updating git-repo `https://github.com/JuliaRegistries/General.git`\n",
      "\u001b[?25l\u001b[2K\u001b[?25h Installed SpecialFunctions ───── v0.7.2\n",
      " Installed DiffResults ────────── v0.0.4\n",
      " Installed DiffRules ──────────── v0.0.10\n",
      " Installed CommonSubexpressions ─ v0.2.0\n",
      " Installed ForwardDiff ────────── v0.10.2\n",
      " Installed BenchmarkTools ─────── v0.4.2\n",
      "  Building SpecialFunctions → `~/.julia/packages/SpecialFunctions/fvheQ/deps/build.log`\n"
     ]
    }
   ],
   "cell_type": "code",
   "source": [
    "using Pkg # hide\n",
    "Pkg.activate(\"/home/travis/build/JuliaRobotics/RigidBodyDynamics.jl/docs/../examples/5. Derivatives and gradients using ForwardDiff\") # hide\n",
    "Pkg.instantiate() # hide\n",
    "using RigidBodyDynamics, StaticArrays, ForwardDiff\n",
    "using Test, Random\n",
    "Random.seed!(1); # to get repeatable results"
   ],
   "metadata": {},
   "execution_count": 1
  },
  {
   "outputs": [],
   "cell_type": "markdown",
   "source": [
    "## Jacobians with respect to $q$ and $v$ - the naive way"
   ],
   "metadata": {}
  },
  {
   "outputs": [],
   "cell_type": "markdown",
   "source": [
    "First, we'll load our trusty double pendulum from a URDF:"
   ],
   "metadata": {}
  },
  {
   "outputs": [
    {
     "output_type": "execute_result",
     "data": {
      "text/plain": "Spanning tree:\nVertex: world (root)\n  Vertex: upper_link, Edge: shoulder\n    Vertex: lower_link, Edge: elbow\nNo non-tree joints."
     },
     "metadata": {},
     "execution_count": 2
    }
   ],
   "cell_type": "code",
   "source": [
    "srcdir = dirname(pathof(RigidBodyDynamics))\n",
    "urdf = joinpath(srcdir, \"..\", \"test\", \"urdf\", \"Acrobot.urdf\")\n",
    "mechanism = parse_urdf(urdf)"
   ],
   "metadata": {},
   "execution_count": 2
  },
  {
   "outputs": [],
   "cell_type": "markdown",
   "source": [
    "Of course, we can create a `MechanismState` for the double pendulum, and compute its momentum in some random state:"
   ],
   "metadata": {}
  },
  {
   "outputs": [
    {
     "output_type": "execute_result",
     "data": {
      "text/plain": "Momentum expressed in \"world\":\nangular: [0.0801508, 1.43084, 0.159513], linear: [-0.697851, 0.0, 0.338924]"
     },
     "metadata": {},
     "execution_count": 3
    }
   ],
   "cell_type": "code",
   "source": [
    "float64state = MechanismState(mechanism)\n",
    "rand!(float64state)\n",
    "momentum(float64state)"
   ],
   "metadata": {},
   "execution_count": 3
  },
  {
   "outputs": [],
   "cell_type": "markdown",
   "source": [
    "But now suppose we want the Jacobian of momentum with respect to the joint velocity vector $v$.\n",
    "We can do this using the `ForwardDiff.Dual` type and the `ForwardDiff.jacobian` function.\n",
    "The ForwardDiff package implements forward-mode [automatic differentiation](https://en.wikipedia.org/wiki/Automatic_differentiation)."
   ],
   "metadata": {}
  },
  {
   "outputs": [],
   "cell_type": "markdown",
   "source": [
    "To use `ForwardDiff.jacobian` we'll create a function that maps `v` (as a `Vector`) to momentum (as a `Vector`):"
   ],
   "metadata": {}
  },
  {
   "outputs": [
    {
     "output_type": "execute_result",
     "data": {
      "text/plain": "momentum_vec (generic function with 1 method)"
     },
     "metadata": {},
     "execution_count": 4
    }
   ],
   "cell_type": "code",
   "source": [
    "q = configuration(float64state)\n",
    "function momentum_vec(v::AbstractVector{T}) where T\n",
    "    # create a `MechanismState` that can handle the element type of `v` (which will be some `ForwardDiff.Dual`):\n",
    "    state = MechanismState{T}(mechanism)\n",
    "\n",
    "    # set the state variables:\n",
    "    set_configuration!(state, q)\n",
    "    set_velocity!(state, v)\n",
    "\n",
    "    # return momentum converted to an `SVector` (as ForwardDiff expects an `AbstractVector`)\n",
    "    Vector(SVector(momentum(state)))\n",
    "end"
   ],
   "metadata": {},
   "execution_count": 4
  },
  {
   "outputs": [],
   "cell_type": "markdown",
   "source": [
    "Let's first check that the function returns the same thing we got from `float64state`:"
   ],
   "metadata": {}
  },
  {
   "outputs": [
    {
     "output_type": "execute_result",
     "data": {
      "text/plain": "\u001b[32m\u001b[1mTest Passed\u001b[22m\u001b[39m"
     },
     "metadata": {},
     "execution_count": 5
    }
   ],
   "cell_type": "code",
   "source": [
    "v = velocity(float64state)\n",
    "@test momentum_vec(v) == SVector(momentum(float64state))"
   ],
   "metadata": {},
   "execution_count": 5
  },
  {
   "outputs": [],
   "cell_type": "markdown",
   "source": [
    "That works, so now let's compute the Jacobian with `ForwardDiff`:"
   ],
   "metadata": {}
  },
  {
   "outputs": [
    {
     "output_type": "execute_result",
     "data": {
      "text/plain": "6×2 Array{Float64,2}:\n  0.252338   0.157137\n  4.51855    2.25777 \n  0.505187   0.194443\n -2.21197   -0.777771\n  0.0        0.0     \n  1.06794    0.628547"
     },
     "metadata": {},
     "execution_count": 6
    }
   ],
   "cell_type": "code",
   "source": [
    "J = ForwardDiff.jacobian(momentum_vec, v)"
   ],
   "metadata": {},
   "execution_count": 6
  },
  {
   "outputs": [],
   "cell_type": "markdown",
   "source": [
    "At this point we note that the matrix `J` is simply the momentum matrix (in world frame) of the `Mechanism`. In this case, RigidBodyDynamics.jl has a specialized algorithm for computing this matrix, so let's verify the results:"
   ],
   "metadata": {}
  },
  {
   "outputs": [
    {
     "output_type": "execute_result",
     "data": {
      "text/plain": "\u001b[32m\u001b[1mTest Passed\u001b[22m\u001b[39m"
     },
     "metadata": {},
     "execution_count": 7
    }
   ],
   "cell_type": "code",
   "source": [
    "A = momentum_matrix(float64state)\n",
    "@test J ≈ Array(A) atol = 1e-12"
   ],
   "metadata": {},
   "execution_count": 7
  },
  {
   "outputs": [],
   "cell_type": "markdown",
   "source": [
    "Gradients with respect to $q$ can be computed in similar fashion."
   ],
   "metadata": {}
  },
  {
   "outputs": [],
   "cell_type": "markdown",
   "source": [
    "## Improving performance"
   ],
   "metadata": {}
  },
  {
   "outputs": [],
   "cell_type": "markdown",
   "source": [
    "Ignoring the fact that we have a specialized method available, let's look at the performance of using `ForwardDiff.jacobian`."
   ],
   "metadata": {}
  },
  {
   "outputs": [
    {
     "output_type": "execute_result",
     "data": {
      "text/plain": "BenchmarkTools.Trial: \n  memory estimate:  35.66 KiB\n  allocs estimate:  468\n  --------------\n  minimum time:     42.897 μs (0.00% GC)\n  median time:      50.060 μs (0.00% GC)\n  mean time:        71.688 μs (19.84% GC)\n  maximum time:     9.776 ms (97.98% GC)\n  --------------\n  samples:          10000\n  evals/sample:     1"
     },
     "metadata": {},
     "execution_count": 8
    }
   ],
   "cell_type": "code",
   "source": [
    "using BenchmarkTools\n",
    "@benchmark ForwardDiff.jacobian($momentum_vec, $v)"
   ],
   "metadata": {},
   "execution_count": 8
  },
  {
   "outputs": [],
   "cell_type": "markdown",
   "source": [
    "That's not great. Note all the allocations. We can do better by making the following modifications:\n",
    "\n",
    "1. use an in-place version of the `jacobian` function, `ForwardDiff.jacobian!`\n",
    "2. reimplement our `momentum_vec` function to be in-place as well\n",
    "3. don't create a new `MechanismState` every time\n",
    "\n",
    "The third point is especially important; creating a `MechanismState` is expensive!\n",
    "\n",
    "Regarding the second point, we could also just stop converting momentum from a `StaticArrays.SVector` to a `Vector` to avoid allocations. However, the solution of making the function in-place also applies when the size of the output vector is not known statically (e.g., for `dynamics_bias!`)."
   ],
   "metadata": {}
  },
  {
   "outputs": [],
   "cell_type": "markdown",
   "source": [
    "To facillitate reuse of `MechanismState`s while keeping the code nice and generic, we can use a `StateCache` object.\n",
    "`StateCache` is a container that stores `MechanismState`s of various types (associated with one `Mechanism`), and will ease the process of using `ForwardDiff`.\n",
    "Creating one is easy:"
   ],
   "metadata": {}
  },
  {
   "outputs": [
    {
     "output_type": "execute_result",
     "data": {
      "text/plain": "StateCache{…}(…)"
     },
     "metadata": {},
     "execution_count": 9
    }
   ],
   "cell_type": "code",
   "source": [
    "const statecache = StateCache(mechanism)"
   ],
   "metadata": {},
   "execution_count": 9
  },
  {
   "outputs": [],
   "cell_type": "markdown",
   "source": [
    "`MechanismState`s of a given type can be accessed as follows (note that if a `MechanismState` of a certain type is already available, it will be reused):"
   ],
   "metadata": {}
  },
  {
   "outputs": [
    {
     "output_type": "execute_result",
     "data": {
      "text/plain": "\u001b[32m\u001b[1mTest Passed\u001b[22m\u001b[39m"
     },
     "metadata": {},
     "execution_count": 10
    }
   ],
   "cell_type": "code",
   "source": [
    "float32state = statecache[Float32]\n",
    "@test float32state === statecache[Float32]"
   ],
   "metadata": {},
   "execution_count": 10
  },
  {
   "outputs": [],
   "cell_type": "markdown",
   "source": [
    "Now we'll use the `StateCache` to reimplement `momentum_vec`, making it in-place as well:"
   ],
   "metadata": {}
  },
  {
   "outputs": [
    {
     "output_type": "execute_result",
     "data": {
      "text/plain": "momentum_vec! (generic function with 1 method)"
     },
     "metadata": {},
     "execution_count": 11
    }
   ],
   "cell_type": "code",
   "source": [
    "function momentum_vec!(out::AbstractVector, v::AbstractVector{T}) where T\n",
    "    # retrieve a `MechanismState` that can handle the element type of `v`:\n",
    "    state = statecache[T]\n",
    "\n",
    "    # set the state variables:\n",
    "    set_configuration!(state, q)\n",
    "    set_velocity!(state, v)\n",
    "\n",
    "    # compute momentum and store it in `out`\n",
    "    m = momentum(state)\n",
    "    copyto!(out, SVector(m))\n",
    "end"
   ],
   "metadata": {},
   "execution_count": 11
  },
  {
   "outputs": [],
   "cell_type": "markdown",
   "source": [
    "Check that the in-place version works as expected on `Float64` inputs:"
   ],
   "metadata": {}
  },
  {
   "outputs": [
    {
     "output_type": "execute_result",
     "data": {
      "text/plain": "\u001b[32m\u001b[1mTest Passed\u001b[22m\u001b[39m"
     },
     "metadata": {},
     "execution_count": 12
    }
   ],
   "cell_type": "code",
   "source": [
    "const out = zeros(6) # where we'll be storing our results\n",
    "momentum_vec!(out, v)\n",
    "@test out == SVector(momentum(float64state))"
   ],
   "metadata": {},
   "execution_count": 12
  },
  {
   "outputs": [],
   "cell_type": "markdown",
   "source": [
    "And use `ForwardDiff.jacobian!` to compute the Jacobian:"
   ],
   "metadata": {}
  },
  {
   "outputs": [
    {
     "output_type": "execute_result",
     "data": {
      "text/plain": "\u001b[32m\u001b[1mTest Passed\u001b[22m\u001b[39m"
     },
     "metadata": {},
     "execution_count": 13
    }
   ],
   "cell_type": "code",
   "source": [
    "const result = DiffResults.JacobianResult(out, v)\n",
    "const config = ForwardDiff.JacobianConfig(momentum_vec!, out, v)\n",
    "ForwardDiff.jacobian!(result, momentum_vec!, out, v, config)\n",
    "J = DiffResults.jacobian(result)\n",
    "@test J ≈ Array(A) atol = 1e-12"
   ],
   "metadata": {},
   "execution_count": 13
  },
  {
   "outputs": [],
   "cell_type": "markdown",
   "source": [
    "Let's check the performance again:"
   ],
   "metadata": {}
  },
  {
   "outputs": [
    {
     "output_type": "execute_result",
     "data": {
      "text/plain": "BenchmarkTools.Trial: \n  memory estimate:  0 bytes\n  allocs estimate:  0\n  --------------\n  minimum time:     1.652 μs (0.00% GC)\n  median time:      1.668 μs (0.00% GC)\n  mean time:        1.725 μs (0.00% GC)\n  maximum time:     14.346 μs (0.00% GC)\n  --------------\n  samples:          10000\n  evals/sample:     10"
     },
     "metadata": {},
     "execution_count": 14
    }
   ],
   "cell_type": "code",
   "source": [
    "@benchmark ForwardDiff.jacobian!($result, $momentum_vec!, $out, $v, $config)"
   ],
   "metadata": {},
   "execution_count": 14
  },
  {
   "outputs": [],
   "cell_type": "markdown",
   "source": [
    "That's much better. Do note that the specialized algorithm is still faster:"
   ],
   "metadata": {}
  },
  {
   "outputs": [
    {
     "output_type": "execute_result",
     "data": {
      "text/plain": "BenchmarkTools.Trial: \n  memory estimate:  0 bytes\n  allocs estimate:  0\n  --------------\n  minimum time:     465.258 ns (0.00% GC)\n  median time:      471.366 ns (0.00% GC)\n  mean time:        492.295 ns (0.00% GC)\n  maximum time:     18.848 μs (0.00% GC)\n  --------------\n  samples:          10000\n  evals/sample:     198"
     },
     "metadata": {},
     "execution_count": 15
    }
   ],
   "cell_type": "code",
   "source": [
    "q = copy(configuration(float64state))\n",
    "@benchmark begin\n",
    "    set_configuration!($float64state, $q)\n",
    "    momentum_matrix!($A, $float64state)\n",
    "end"
   ],
   "metadata": {},
   "execution_count": 15
  },
  {
   "outputs": [],
   "cell_type": "markdown",
   "source": [
    "## Time derivatives"
   ],
   "metadata": {}
  },
  {
   "outputs": [],
   "cell_type": "markdown",
   "source": [
    "We can also use ForwardDiff to compute time derivatives. Let's verify that energy is conserved for the double pendulum in the absence of nonconservative forces (like damping). That is, we expect that the time derivative of the pendulum's total energy is zero when its state evolves according to the passive dynamics."
   ],
   "metadata": {}
  },
  {
   "outputs": [],
   "cell_type": "markdown",
   "source": [
    "Let's first compute the joint acceleration vector $\\dot{v}$ using the passive dynamics:"
   ],
   "metadata": {}
  },
  {
   "outputs": [
    {
     "output_type": "execute_result",
     "data": {
      "text/plain": "2-element SegmentedVector{JointID,Float64,Base.OneTo{JointID},Array{Float64,1}}:\n  0.0796807679458064\n -4.798825359977611 "
     },
     "metadata": {},
     "execution_count": 16
    }
   ],
   "cell_type": "code",
   "source": [
    "dynamicsresult = DynamicsResult(mechanism)\n",
    "set_configuration!(float64state, q)\n",
    "set_velocity!(float64state, v)\n",
    "dynamics!(dynamicsresult, float64state)\n",
    "v̇ = dynamicsresult.v̇"
   ],
   "metadata": {},
   "execution_count": 16
  },
  {
   "outputs": [],
   "cell_type": "markdown",
   "source": [
    "Now for the time derivative of total energy. ForwardDiff has a `derivative` function that can be used to take derivatives of functions that map a scalar to a scalar. But in this example, we'll instead use ForwardDiff's `Dual` type directly. `ForwardDiff.Dual` represents a (potentially multidimensional) dual number, i.e., a type that stores both the value of a function evaluated at a certain point, as well as the partial derivatives of the function, again evaluated at the same point. See the [ForwardDiff documentation](http://www.juliadiff.org/ForwardDiff.jl/stable/dev/how_it_works.html) for more information."
   ],
   "metadata": {}
  },
  {
   "outputs": [],
   "cell_type": "markdown",
   "source": [
    "We'll create a vector of `Dual`s representing the value and derivative of $q(t)$:"
   ],
   "metadata": {}
  },
  {
   "outputs": [
    {
     "output_type": "execute_result",
     "data": {
      "text/plain": "2-element Array{ForwardDiff.Dual{Nothing,Float64,1},1}:\n Dual{Nothing}(0.2972879845354616,0.3127069683360675) \n Dual{Nothing}(0.3823959677906078,0.00790928339056074)"
     },
     "metadata": {},
     "execution_count": 17
    }
   ],
   "cell_type": "code",
   "source": [
    "q̇ = v\n",
    "q_dual = ForwardDiff.Dual.(q, q̇)"
   ],
   "metadata": {},
   "execution_count": 17
  },
  {
   "outputs": [],
   "cell_type": "markdown",
   "source": [
    "**Note**: for the double pendulum, $\\dot{q} = v$, but this is not the case in general for `Mechanism`s created using RigidBodyDynamics.jl. For example, the `QuaternionSpherical` joint type uses a unit quaternion to represent the joint configuration, but angular velocity (in body frame) to represent velocity. In general $\\dot{q}$ can be computed from the velocity vector $v$ stored in a `MechanismState` using\n",
    "\n",
    "```julia\n",
    "configuration_derivative(::MechanismState)\n",
    "```\n",
    "\n",
    "or its in-place variant, `configuration_derivative!`."
   ],
   "metadata": {}
  },
  {
   "outputs": [],
   "cell_type": "markdown",
   "source": [
    "We'll do the same thing for $v(t)$:"
   ],
   "metadata": {}
  },
  {
   "outputs": [
    {
     "output_type": "execute_result",
     "data": {
      "text/plain": "2-element Array{ForwardDiff.Dual{Nothing,Float64,1},1}:\n Dual{Nothing}(0.3127069683360675,0.0796807679458064) \n Dual{Nothing}(0.00790928339056074,-4.798825359977611)"
     },
     "metadata": {},
     "execution_count": 18
    }
   ],
   "cell_type": "code",
   "source": [
    "v_dual = ForwardDiff.Dual.(v, v̇)"
   ],
   "metadata": {},
   "execution_count": 18
  },
  {
   "outputs": [],
   "cell_type": "markdown",
   "source": [
    "Now we're ready to compute the total energy (kinetic + potential) using these `ForwardDiff.Dual` inputs. We'll use our `StateCache` again:"
   ],
   "metadata": {}
  },
  {
   "outputs": [
    {
     "output_type": "execute_result",
     "data": {
      "text/plain": "Dual{Nothing}(-21.472905435008563,4.440892098500626e-16)"
     },
     "metadata": {},
     "execution_count": 19
    }
   ],
   "cell_type": "code",
   "source": [
    "T = eltype(q_dual)\n",
    "state = statecache[T]\n",
    "set_configuration!(state, q_dual)\n",
    "set_velocity!(state, v_dual)\n",
    "energy_dual = kinetic_energy(state) + gravitational_potential_energy(state)"
   ],
   "metadata": {},
   "execution_count": 19
  },
  {
   "outputs": [],
   "cell_type": "markdown",
   "source": [
    "Note that the result type of `energy_dual` is again a `ForwardDiff.Dual`. We can extract the energy and its time derivative (mechanical power) from `energy_dual` as follows:"
   ],
   "metadata": {}
  },
  {
   "outputs": [],
   "cell_type": "code",
   "source": [
    "energy = ForwardDiff.value(energy_dual)\n",
    "partials = ForwardDiff.partials(energy_dual)\n",
    "power = partials[1];"
   ],
   "metadata": {},
   "execution_count": 20
  },
  {
   "outputs": [],
   "cell_type": "markdown",
   "source": [
    "So the total energy in the system is:"
   ],
   "metadata": {}
  },
  {
   "outputs": [
    {
     "output_type": "execute_result",
     "data": {
      "text/plain": "-21.472905435008563"
     },
     "metadata": {},
     "execution_count": 21
    }
   ],
   "cell_type": "code",
   "source": [
    "energy"
   ],
   "metadata": {},
   "execution_count": 21
  },
  {
   "outputs": [],
   "cell_type": "markdown",
   "source": [
    "**Note**: the total energy is negative because the origin of the world frame is used as a reference for computing gravitational potential energy, i.e., the center of mass of the double pendulum is somewhere below this origin."
   ],
   "metadata": {}
  },
  {
   "outputs": [],
   "cell_type": "markdown",
   "source": [
    "And we can verify that, indeed, there is no power flow into or out of the system:"
   ],
   "metadata": {}
  },
  {
   "outputs": [
    {
     "output_type": "execute_result",
     "data": {
      "text/plain": "\u001b[32m\u001b[1mTest Passed\u001b[22m\u001b[39m"
     },
     "metadata": {},
     "execution_count": 22
    }
   ],
   "cell_type": "code",
   "source": [
    "@test power ≈ 0 atol = 1e-14"
   ],
   "metadata": {},
   "execution_count": 22
  },
  {
   "outputs": [],
   "cell_type": "markdown",
   "source": [
    "*This notebook was generated using [Literate.jl](https://github.com/fredrikekre/Literate.jl).*"
   ],
   "metadata": {}
  }
 ],
 "nbformat_minor": 3,
 "metadata": {
  "language_info": {
   "file_extension": ".jl",
   "mimetype": "application/julia",
   "name": "julia",
   "version": "1.1.1"
  },
  "kernelspec": {
   "name": "julia-1.1",
   "display_name": "Julia 1.1.1",
   "language": "julia"
  }
 },
 "nbformat": 4
}
