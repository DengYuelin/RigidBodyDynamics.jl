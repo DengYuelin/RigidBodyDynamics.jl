{
 "cells": [
  {
   "cell_type": "code",
   "execution_count": 1,
   "metadata": {
    "collapsed": false
   },
   "outputs": [],
   "source": [
    "importall Base\n",
    "using DataStructures"
   ]
  },
  {
   "cell_type": "code",
   "execution_count": 2,
   "metadata": {
    "collapsed": false
   },
   "outputs": [
    {
     "data": {
      "text/plain": [
       "FrameCache{T}"
      ]
     },
     "execution_count": 2,
     "metadata": {},
     "output_type": "execute_result"
    }
   ],
   "source": [
    "include(\"frames.jl\")\n",
    "include(\"spatial_inertia.jl\")\n",
    "include(\"rigid_body.jl\")\n",
    "include(\"spatial_motion_force.jl\")\n",
    "include(\"joint.jl\")\n",
    "include(\"tree.jl\")\n",
    "include(\"cache_element.jl\")\n",
    "include(\"frame_cache.jl\")\n",
    "include(\"mechanism.jl\")"
   ]
  },
  {
   "cell_type": "code",
   "execution_count": 3,
   "metadata": {
    "collapsed": false
   },
   "outputs": [
    {
     "data": {
      "text/plain": [
       "RigidBody{Float64}(CartesianFrame3D(\"world\"),Nullable{SpatialInertia{Float64}}())"
      ]
     },
     "execution_count": 3,
     "metadata": {},
     "output_type": "execute_result"
    }
   ],
   "source": [
    "mechanism = Mechanism{Float64}(\"world\");\n",
    "world = root(mechanism)"
   ]
  },
  {
   "cell_type": "code",
   "execution_count": 4,
   "metadata": {
    "collapsed": false
   },
   "outputs": [],
   "source": [
    "J = rand(Mat{3, 3, Float64}); J = J * J'\n",
    "c = rand(Vec{3, Float64})\n",
    "m = rand()\n",
    "inertia1 = SpatialInertia(CartesianFrame3D(\"body1\"), J, c, m)\n",
    "body1 = RigidBody(inertia1);\n",
    "joint1 = Joint(\"1\", QuaternionFloating());\n",
    "joint1ToWorld = Transform3D(joint1.frameBefore, world.frame, nquatrand())\n",
    "body1ToJoint1 = Transform3D(inertia1.frame, joint1.frameAfter, nquatrand())\n",
    "attach!(mechanism, world, joint1, joint1ToWorld, body1, body1ToJoint1);"
   ]
  },
  {
   "cell_type": "code",
   "execution_count": 5,
   "metadata": {
    "collapsed": false
   },
   "outputs": [
    {
     "data": {
      "text/plain": [
       "1-element Array{Transform3D{Float64},1}:\n",
       " Transform3D{Float64}(CartesianFrame3D(\"body1\"),CartesianFrame3D(\"after_1\"),-0.11517067364834656 - 0.040648531096093045im + 0.2434044282769077jm + 0.9622046025385182km,FixedSizeArrays.Vec{3,Float64}((0.0,0.0,0.0)))"
      ]
     },
     "execution_count": 5,
     "metadata": {},
     "output_type": "execute_result"
    }
   ],
   "source": [
    "mechanism.bodyFixedFrameDefinitions[body1]"
   ]
  },
  {
   "cell_type": "code",
   "execution_count": 6,
   "metadata": {
    "collapsed": false
   },
   "outputs": [],
   "source": [
    "joint2 = Joint(\"2\", Revolute(rand(Vec{3, Float64})));\n",
    "inertia2 = SpatialInertia(joint2.frameAfter, J, c, m)\n",
    "body2 = RigidBody(inertia2)\n",
    "joint2ToBody1 = Transform3D(joint2.frameBefore, body1.frame, nquatrand(), rand(Vec{3, Float64}))\n",
    "attach!(mechanism, body1, joint2, joint2ToBody1, body2);"
   ]
  },
  {
   "cell_type": "code",
   "execution_count": 7,
   "metadata": {
    "collapsed": false
   },
   "outputs": [],
   "source": [
    "x = MechanismState{Float64}(mechanism);"
   ]
  },
  {
   "cell_type": "code",
   "execution_count": 8,
   "metadata": {
    "collapsed": false
   },
   "outputs": [
    {
     "data": {
      "text/plain": [
       "7-element Array{Float64,1}:\n",
       " 2.26211e-314\n",
       " 2.26211e-314\n",
       " 2.26562e-314\n",
       " 2.26562e-314\n",
       " 2.22821e-314\n",
       " 2.22827e-314\n",
       " 2.26562e-314"
      ]
     },
     "execution_count": 8,
     "metadata": {},
     "output_type": "execute_result"
    }
   ],
   "source": [
    "x.q[joint1]"
   ]
  },
  {
   "cell_type": "code",
   "execution_count": 9,
   "metadata": {
    "collapsed": false
   },
   "outputs": [
    {
     "data": {
      "text/plain": [
       "7"
      ]
     },
     "execution_count": 9,
     "metadata": {},
     "output_type": "execute_result"
    }
   ],
   "source": [
    "num_velocities(x)"
   ]
  },
  {
   "cell_type": "code",
   "execution_count": 10,
   "metadata": {
    "collapsed": false
   },
   "outputs": [
    {
     "data": {
      "text/plain": [
       "8-element Array{Float64,1}:\n",
       " 2.26211e-314\n",
       " 2.26211e-314\n",
       " 2.26562e-314\n",
       " 2.26562e-314\n",
       " 2.22821e-314\n",
       " 2.22827e-314\n",
       " 2.26562e-314\n",
       " 2.26629e-314"
      ]
     },
     "execution_count": 10,
     "metadata": {},
     "output_type": "execute_result"
    }
   ],
   "source": [
    "configuration_vector(x)"
   ]
  },
  {
   "cell_type": "code",
   "execution_count": 11,
   "metadata": {
    "collapsed": false
   },
   "outputs": [
    {
     "data": {
      "text/plain": [
       "7-element Array{Float64,1}:\n",
       " 1.0\n",
       " 0.0\n",
       " 0.0\n",
       " 0.0\n",
       " 0.0\n",
       " 0.0\n",
       " 0.0"
      ]
     },
     "execution_count": 11,
     "metadata": {},
     "output_type": "execute_result"
    }
   ],
   "source": [
    "zero_configuration!(joint1, x.q[joint1])"
   ]
  },
  {
   "cell_type": "code",
   "execution_count": 12,
   "metadata": {
    "collapsed": false
   },
   "outputs": [
    {
     "data": {
      "text/plain": [
       "DataStructures.OrderedDict{Joint,Array{Float64,1}} with 2 entries:\n",
       "  Joint(\"1\",CartesianFram… => [1.0,0.0,0.0,0.0,0.0,0.0,0.0]\n",
       "  Joint(\"2\",CartesianFram… => [2.266286074e-314]"
      ]
     },
     "execution_count": 12,
     "metadata": {},
     "output_type": "execute_result"
    }
   ],
   "source": [
    "x.q"
   ]
  },
  {
   "cell_type": "code",
   "execution_count": 13,
   "metadata": {
    "collapsed": false
   },
   "outputs": [],
   "source": [
    "zero_configuration!(x)"
   ]
  },
  {
   "cell_type": "code",
   "execution_count": 14,
   "metadata": {
    "collapsed": false
   },
   "outputs": [],
   "source": [
    "cache = FrameCache(mechanism, x);"
   ]
  },
  {
   "cell_type": "code",
   "execution_count": 18,
   "metadata": {
    "collapsed": false
   },
   "outputs": [
    {
     "data": {
      "text/plain": [
       "Transform3D{Float64}(CartesianFrame3D(\"after_2\"),CartesianFrame3D(\"body1\"),0.3666568554338118 - 0.9275545142677614im - 0.007274905496615303jm + 0.07178056265383523km,FixedSizeArrays.Vec{3,Float64}((0.8692503233445548,0.9581204367884678,0.8788938618479938)))"
      ]
     },
     "execution_count": 18,
     "metadata": {},
     "output_type": "execute_result"
    }
   ],
   "source": [
    "relative_transform(cache, joint2.frameAfter, body1.frame)"
   ]
  }
 ],
 "metadata": {
  "kernelspec": {
   "display_name": "Julia 0.4.5",
   "language": "julia",
   "name": "julia-0.4"
  },
  "language_info": {
   "file_extension": ".jl",
   "mimetype": "application/julia",
   "name": "julia",
   "version": "0.4.5"
  }
 },
 "nbformat": 4,
 "nbformat_minor": 0
}
